{
 "cells": [
  {
   "cell_type": "markdown",
   "id": "cc9aa602-fbf1-4f8c-9e63-2c939718a805",
   "metadata": {},
   "source": [
    "# Construct String With Repeat Limit\n",
    "\n",
    "You are given a string `s` and an integer `repeatLimit`. Construct a new string `repeatLimitedString` using the characters of `s` such that no letter appears **more than** `repeatLimit` times **in a row**. You do **not** have to use all characters from `s`.\n",
    "\n",
    "Return the **lexicographically largest** `repeatLimitedString` possible.\n",
    "\n",
    "A string `a` is **lexicographically larger** than a string `b` if in the first position where `a` and `b` differ, string `a` has a letter that appears later in the alphabet than the corresponding letter in `b`. If the first `min(a.length, b.length)` characters do not differ, then the longer string is the lexicographically larger one.\n",
    "\n",
    "**Example 1:**\n",
    "```\n",
    "Input: s = \"cczazcc\", repeatLimit = 3\n",
    "Output: \"zzcccac\"\n",
    "Explanation: We use all of the characters from s to construct the repeatLimitedString \"zzcccac\".\n",
    "The letter 'a' appears at most 1 time in a row.\n",
    "The letter 'c' appears at most 3 times in a row.\n",
    "The letter 'z' appears at most 2 times in a row.\n",
    "Hence, no letter appears more than repeatLimit times in a row and the string is a valid repeatLimitedString.\n",
    "The string is the lexicographically largest repeatLimitedString possible so we return \"zzcccac\".\n",
    "Note that the string \"zzcccca\" is lexicographically larger but the letter 'c' appears more than 3 times in a row, so it is not a valid repeatLimitedString.\n",
    "```\n",
    "\n",
    "**Example 2:**\n",
    "```\n",
    "Input: s = \"aababab\", repeatLimit = 2\n",
    "Output: \"bbabaa\"\n",
    "Explanation: We use only some of the characters from s to construct the repeatLimitedString \"bbabaa\". \n",
    "The letter 'a' appears at most 2 times in a row.\n",
    "The letter 'b' appears at most 2 times in a row.\n",
    "Hence, no letter appears more than repeatLimit times in a row and the string is a valid repeatLimitedString.\n",
    "The string is the lexicographically largest repeatLimitedString possible so we return \"bbabaa\".\n",
    "Note that the string \"bbabaaa\" is lexicographically larger but the letter 'a' appears more than 2 times in a row, so it is not a valid repeatLimitedString.\n",
    "```\n",
    "\n",
    "**Constraints:**\n",
    "\n",
    "- 1 <= repeatLimit <= s.length <= 105\n",
    "- s consists of lowercase English letters."
   ]
  },
  {
   "cell_type": "code",
   "execution_count": null,
   "id": "66c29a46-560e-4505-8b6e-b4ce258c7f7e",
   "metadata": {},
   "outputs": [],
   "source": []
  }
 ],
 "metadata": {
  "kernelspec": {
   "display_name": "Python 3 (ipykernel)",
   "language": "python",
   "name": "python3"
  },
  "language_info": {
   "codemirror_mode": {
    "name": "ipython",
    "version": 3
   },
   "file_extension": ".py",
   "mimetype": "text/x-python",
   "name": "python",
   "nbconvert_exporter": "python",
   "pygments_lexer": "ipython3",
   "version": "3.9.2"
  }
 },
 "nbformat": 4,
 "nbformat_minor": 5
}
