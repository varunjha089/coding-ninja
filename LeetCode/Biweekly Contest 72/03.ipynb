{
 "cells": [
  {
   "cell_type": "markdown",
   "id": "9d5c83e6-8945-4a45-a537-77413f25b722",
   "metadata": {},
   "source": [
    "# Maximum Split of Positive Even Integers\n",
    "\n",
    "You are given an integer `finalSum`. Split it into a sum of a **maximum** number of **unique** positive even integers.\n",
    "\n",
    "For example, given `finalSum = 12`, the following splits are **valid** (unique positive even integers summing up to `finalSum`): `(2 + 10), (2 + 4 + 6),` and `(4 + 8)`. Among them, `(2 + 4 + 6)` contains the maximum number of integers. Note that `finalSum` cannot be split into `(2 + 2 + 4 + 4)` as all the numbers should be unique.\n",
    "\n",
    "Return a list of integers that represent a valid split containing a **maximum** number of integers. If no valid split exists for `finalSum`, return an **empty** list. You may return the integers in **any** order.\n",
    "\n",
    "**Difficulty** :- Medium"
   ]
  },
  {
   "cell_type": "markdown",
   "id": "f13bf179-420e-4006-a41c-e4688a96922a",
   "metadata": {},
   "source": [
    "**Example 1:**\n",
    "```\n",
    "Input: finalSum = 12\n",
    "Output: [2,4,6]\n",
    "Explanation: The following are some valid splits: (2 + 10), (2 + 4 + 6), and (4 + 8).\n",
    "(2 + 4 + 6) has the maximum number of integers, which is 3. Thus, we return [2,4,6].\n",
    "Note that [2,6,4], [6,2,4], etc. are also accepted.\n",
    "```\n",
    "\n",
    "**Example 2:**\n",
    "```\n",
    "Input: finalSum = 7\n",
    "Output: []\n",
    "Explanation: There are no valid splits for the given finalSum.\n",
    "Thus, we return an empty array.\n",
    "```\n",
    "\n",
    "**Example 3:**\n",
    "```\n",
    "Input: finalSum = 28\n",
    "Output: [6,8,2,12]\n",
    "Explanation: The following are some valid splits: (2 + 26), (6 + 8 + 2 + 12), and (4 + 24). \n",
    "(6 + 8 + 2 + 12) has the maximum number of integers, which is 4. Thus, we return [6,8,2,12].\n",
    "Note that [10,2,4,12], [6,2,4,16], etc. are also accepted.\n",
    "```"
   ]
  },
  {
   "cell_type": "code",
   "execution_count": null,
   "id": "31276216-1d9c-4332-896c-36abf75baec0",
   "metadata": {},
   "outputs": [],
   "source": []
  }
 ],
 "metadata": {
  "kernelspec": {
   "display_name": "Python 3 (ipykernel)",
   "language": "python",
   "name": "python3"
  },
  "language_info": {
   "codemirror_mode": {
    "name": "ipython",
    "version": 3
   },
   "file_extension": ".py",
   "mimetype": "text/x-python",
   "name": "python",
   "nbconvert_exporter": "python",
   "pygments_lexer": "ipython3",
   "version": "3.9.2"
  }
 },
 "nbformat": 4,
 "nbformat_minor": 5
}
