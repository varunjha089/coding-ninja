{
 "cells": [
  {
   "cell_type": "markdown",
   "id": "bb13b4cd-6e15-477b-9b40-2b9f1d98e718",
   "metadata": {},
   "source": [
    "# Count Equal and Divisible Pairs in an Array\n",
    "\n",
    "Given a **0-indexed** integer array `nums` of length `n` and an integer `k`, return the **number of pairs** `(i, j)` *where* `0 <= i < j < n`, such that `nums[i] == nums[j]` and `(i * j)` is divisible by `k`.\n",
    "\n",
    "**Difficulty** :- Easy"
   ]
  },
  {
   "cell_type": "markdown",
   "id": "48b70410-c6a3-4d3b-b033-10e6dbd24a58",
   "metadata": {},
   "source": [
    "**Example 1:**\n",
    "```\n",
    "Input: nums = [3,1,2,2,2,1,3], k = 2\n",
    "Output: 4\n",
    "Explanation:\n",
    "There are 4 pairs that meet all the requirements:\n",
    "- nums[0] == nums[6], and 0 * 6 == 0, which is divisible by 2.\n",
    "- nums[2] == nums[3], and 2 * 3 == 6, which is divisible by 2.\n",
    "- nums[2] == nums[4], and 2 * 4 == 8, which is divisible by 2.\n",
    "- nums[3] == nums[4], and 3 * 4 == 12, which is divisible by 2.\n",
    "```"
   ]
  },
  {
   "cell_type": "markdown",
   "id": "bb7dfb2d-ff7a-4b8f-8556-72989e5ab749",
   "metadata": {},
   "source": [
    "**Example 2:**\n",
    "```\n",
    "Input: nums = [1,2,3,4], k = 1\n",
    "Output: 0\n",
    "Explanation: Since no value in nums is repeated, there are no pairs (i,j) that meet all the requirements.\n",
    "```"
   ]
  },
  {
   "cell_type": "code",
   "execution_count": 3,
   "id": "44673a36-8881-4fe7-a1ef-3f902877e720",
   "metadata": {},
   "outputs": [],
   "source": [
    "class Solution:\n",
    "    def countPairs(self, nums, k):\n",
    "        counter = 0\n",
    "        for i in range(len(nums)):\n",
    "            for j in range(i+1, len(nums)):\n",
    "                if nums[i] == nums[j] and i*j % k == 0:\n",
    "                    counter += 1\n",
    "        return counter"
   ]
  },
  {
   "cell_type": "code",
   "execution_count": null,
   "id": "ab9c6b54-d30a-4874-82e8-842da1e15bc8",
   "metadata": {},
   "outputs": [],
   "source": []
  }
 ],
 "metadata": {
  "kernelspec": {
   "display_name": "Python 3 (ipykernel)",
   "language": "python",
   "name": "python3"
  },
  "language_info": {
   "codemirror_mode": {
    "name": "ipython",
    "version": 3
   },
   "file_extension": ".py",
   "mimetype": "text/x-python",
   "name": "python",
   "nbconvert_exporter": "python",
   "pygments_lexer": "ipython3",
   "version": "3.9.2"
  }
 },
 "nbformat": 4,
 "nbformat_minor": 5
}
