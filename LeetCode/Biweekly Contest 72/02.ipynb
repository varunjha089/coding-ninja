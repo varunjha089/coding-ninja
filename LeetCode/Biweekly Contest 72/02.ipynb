{
 "cells": [
  {
   "cell_type": "markdown",
   "id": "94a38d36-b691-4a72-b3bb-fe254ccc7937",
   "metadata": {},
   "source": [
    "# Find Three Consecutive Integers That Sum to a Given Number\n",
    "\n",
    "Given an integer `num`, return three consecutive integers (as a sorted array) that **sum** to `num`. If num cannot be expressed as the sum of three consecutive integers, return an **empty** array.\n",
    "\n",
    "**Difficulty** :- Medium"
   ]
  },
  {
   "cell_type": "markdown",
   "id": "94ece975-809f-4757-9adb-6cfa25c86f1d",
   "metadata": {},
   "source": [
    "**Example 1:**\n",
    "```\n",
    "Input: num = 33\n",
    "Output: [10,11,12]\n",
    "Explanation: 33 can be expressed as 10 + 11 + 12 = 33.\n",
    "10, 11, 12 are 3 consecutive integers, so we return [10, 11, 12].\n",
    "```"
   ]
  },
  {
   "cell_type": "markdown",
   "id": "ffcc9a67-8332-4e1a-ac29-9ef489845179",
   "metadata": {},
   "source": [
    "**Example 2:**\n",
    "```\n",
    "Input: num = 4\n",
    "Output: []\n",
    "Explanation: There is no way to express 4 as the sum of 3 consecutive integers.\n",
    "```"
   ]
  },
  {
   "cell_type": "code",
   "execution_count": null,
   "id": "290b4c69-1496-46e2-8226-e2b480bfe1d9",
   "metadata": {},
   "outputs": [],
   "source": []
  }
 ],
 "metadata": {
  "kernelspec": {
   "display_name": "Python 3 (ipykernel)",
   "language": "python",
   "name": "python3"
  },
  "language_info": {
   "codemirror_mode": {
    "name": "ipython",
    "version": 3
   },
   "file_extension": ".py",
   "mimetype": "text/x-python",
   "name": "python",
   "nbconvert_exporter": "python",
   "pygments_lexer": "ipython3",
   "version": "3.9.2"
  }
 },
 "nbformat": 4,
 "nbformat_minor": 5
}
