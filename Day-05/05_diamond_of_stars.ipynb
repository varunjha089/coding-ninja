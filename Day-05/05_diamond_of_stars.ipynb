{
 "cells": [
  {
   "cell_type": "markdown",
   "id": "64545fe7-1511-4c8d-ba6b-5a59e0c04336",
   "metadata": {},
   "source": [
    "# Code : Diamond of stars\n",
    "\n",
    "Print the following pattern for the given number of rows.\n",
    "\n",
    "**Note: N is always odd.**\n",
    "\n",
    "\n",
    "**Pattern for N = 5**\n",
    "\n",
    "\n",
    "\n",
    "The dots represent spaces.\n",
    "\n",
    "### Input format :\n",
    "    N (Total no. of rows and can only be odd)\n",
    "\n",
    "### Output format :\n",
    "    Pattern in N lines\n",
    "\n",
    "### Constraints :\n",
    "    1 <= N <= 49\n",
    "\n",
    "### Sample Input 1:\n",
    "    5\n",
    "\n",
    "### Sample Output 1:\n",
    "      *\n",
    "     ***\n",
    "    *****\n",
    "     ***\n",
    "      *\n",
    "### Sample Input 2:\n",
    "    3\n",
    "\n",
    "### Sample Output 2:\n",
    "      *\n",
    "     ***\n",
    "      *"
   ]
  },
  {
   "cell_type": "code",
   "execution_count": 26,
   "id": "403c2a26-e3a1-44e5-91ea-f721d494faa7",
   "metadata": {},
   "outputs": [
    {
     "name": "stdin",
     "output_type": "stream",
     "text": [
      " 5\n"
     ]
    },
    {
     "name": "stdout",
     "output_type": "stream",
     "text": [
      "      *\n",
      "     ***\n",
      "    *****\n",
      "     ***\n",
      "      *\n"
     ]
    }
   ],
   "source": [
    "h = int(input())\n",
    "\n",
    "for x in range(h//2):\n",
    "    print(\" \" * (h - x), \"*\" * (2*x + 1))\n",
    "for x in range(h - 3, -1, -1):\n",
    "    print(\" \" * (h - x), \"*\" * (2*x + 1))"
   ]
  },
  {
   "cell_type": "code",
   "execution_count": 67,
   "id": "bdce5bb8-8d8c-4189-9ed0-c0d58ddfd4b9",
   "metadata": {},
   "outputs": [],
   "source": [
    "'''\n",
    "    Time Complexity : O(N^2)\n",
    "    Space Complexity : O(1)\n",
    "    \n",
    "    Where 'N' is the number given to us.\n",
    "'''\n",
    "def printPattern(n):\n",
    "    currRow = 1\n",
    "\n",
    "    # Upper half\n",
    "    while (currRow <= (n // 2) + 1):\n",
    "        # This tells us the number of spaces to give.\n",
    "        spaces = 1\n",
    "        while (spaces <= (n // 2) + 1 - currRow):\n",
    "            print(\" \", end = \"\", sep = '')\n",
    "            spaces += 1\n",
    "\n",
    "        currCol = 1\n",
    "        # This tells us the number of stars for current row.\n",
    "        while (currCol <= (2 * currRow) - 1):\n",
    "            print(\"*\", end = \"\", sep = '')\n",
    "            currCol += 1\n",
    "\n",
    "        print()\n",
    "        currRow += 1\n",
    "        \n",
    "    # for i in range(1, (n//2) + 2):\n",
    "    #     for j in range((n//2) + 2 - i):\n",
    "    #         print(\" \", end=\"\", sep=\"\")\n",
    "    #     for x in range((2*i) - 1):\n",
    "    #         print(\"*\", end=\"\", sep='')\n",
    "    #     print()\n",
    "\n",
    "    # Lower half\n",
    "    currRow = 1\n",
    "    while (currRow <= n // 2):\n",
    "\n",
    "        # This tells us the number of spaces to give.\n",
    "        spaces = 1\n",
    "        while (spaces <= currRow):\n",
    "            print(\" \", end = \"\", sep = '')\n",
    "            spaces += 1\n",
    "\n",
    "        currCol = 2 * ((n // 2) - currRow + 1) - 1\n",
    "\n",
    "        # This tells us the number of stars for current row.\n",
    "        while (currCol >= 1):\n",
    "            print(\"*\", end = \"\", sep = '')\n",
    "            currCol -= 1\n",
    "        print()\n",
    "        currRow += 1\n",
    "        \n",
    "    # for i in range(1, (n//2) + 2):\n",
    "    #     for j in range(i+1):\n",
    "    #         print(\" \", end = \"\", sep = '')\n",
    "    #     for x in range(2 * ((n // 2) - i + 1) - 1):\n",
    "    #         print(\"*\", end = \"\", sep = '')\n",
    "    #     print()\n",
    "        "
   ]
  },
  {
   "cell_type": "code",
   "execution_count": 61,
   "id": "4d5bd0ba-3057-4efa-ac05-999cabf0456f",
   "metadata": {},
   "outputs": [
    {
     "name": "stdout",
     "output_type": "stream",
     "text": [
      "   *\n",
      "  ***\n",
      " *****\n",
      "  ***\n",
      "   *\n",
      "    \n"
     ]
    }
   ],
   "source": [
    "printPattern(5)"
   ]
  },
  {
   "cell_type": "code",
   "execution_count": 62,
   "id": "8c902905-d4cd-4f7a-a1e1-8348fc605d63",
   "metadata": {},
   "outputs": [
    {
     "name": "stdin",
     "output_type": "stream",
     "text": [
      " 5\n"
     ]
    },
    {
     "name": "stdout",
     "output_type": "stream",
     "text": [
      "   *\n",
      "  ***\n",
      " *****\n",
      "  ***\n",
      "   *\n",
      "    \n"
     ]
    }
   ],
   "source": [
    "'''\n",
    "    Time Complexity : O(N^2)\n",
    "    Space Complexity : O(1)\n",
    "\n",
    "    Where 'N' is the number given to us.\n",
    "'''\n",
    "def printPattern(n):\n",
    "        \n",
    "    for i in range(1, (n//2) + 2):\n",
    "        for j in range((n//2) + 2 - i):\n",
    "            print(\" \", end=\"\", sep=\"\")\n",
    "        for x in range((2*i) - 1):\n",
    "            print(\"*\", end=\"\", sep='')\n",
    "        print()\n",
    "        \n",
    "    for i in range(1, (n//2) + 2):\n",
    "        for j in range(i+1):\n",
    "            print(\" \", end = \"\", sep = '')\n",
    "        for x in range(2 * ((n // 2) - i + 1) - 1):\n",
    "            print(\"*\", end = \"\", sep = '')\n",
    "        print()\n",
    "\n",
    "n = int(input())\n",
    "printPattern(n)"
   ]
  },
  {
   "cell_type": "code",
   "execution_count": null,
   "id": "9146e258-518f-4833-9a15-0f93ca5bfa85",
   "metadata": {},
   "outputs": [],
   "source": []
  }
 ],
 "metadata": {
  "kernelspec": {
   "display_name": "Python 3 (ipykernel)",
   "language": "python",
   "name": "python3"
  },
  "language_info": {
   "codemirror_mode": {
    "name": "ipython",
    "version": 3
   },
   "file_extension": ".py",
   "mimetype": "text/x-python",
   "name": "python",
   "nbconvert_exporter": "python",
   "pygments_lexer": "ipython3",
   "version": "3.9.2"
  }
 },
 "nbformat": 4,
 "nbformat_minor": 5
}
