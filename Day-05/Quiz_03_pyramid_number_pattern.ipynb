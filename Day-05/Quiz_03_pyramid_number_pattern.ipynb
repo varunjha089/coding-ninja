{
 "cells": [
  {
   "cell_type": "markdown",
   "id": "be89a5db-a16f-4590-83ae-28d0e0b04127",
   "metadata": {},
   "source": [
    "# Pyramid Number Pattern\n",
    "\n",
    "Print the following pattern for the given number of rows.\n",
    "\n",
    "**Pattern for N = 4**\n",
    "\n",
    "       1\n",
    "      212\n",
    "     32123\n",
    "    4321234\n",
    "\n",
    "**Input format : N (Total no. of rows)**\n",
    "\n",
    "### Output format : \n",
    "    Pattern in N lines\n",
    "\n",
    "### Sample Input :\n",
    "    5\n",
    "\n",
    "### Sample Output :\n",
    "        1\n",
    "       212\n",
    "      32123\n",
    "     4321234\n",
    "    543212345"
   ]
  },
  {
   "cell_type": "code",
   "execution_count": 2,
   "id": "91de4660-dfc7-41c9-bf13-2b564f447624",
   "metadata": {},
   "outputs": [
    {
     "name": "stdin",
     "output_type": "stream",
     "text": [
      " 6\n"
     ]
    },
    {
     "name": "stdout",
     "output_type": "stream",
     "text": [
      "     1\n",
      "    212\n",
      "   32123\n",
      "  4321234\n",
      " 543212345\n",
      "65432123456\n"
     ]
    }
   ],
   "source": [
    "n = int(input())\n",
    "\n",
    "for i in range(1, n+1):\n",
    "    for j in range(1, n-i+1):\n",
    "        print(end=\" \")\n",
    "    for j in range(i, 0, -1):\n",
    "        print(j, end=\"\")\n",
    "    for j in range(2, i+1):\n",
    "        print(j, end=\"\")\n",
    "    print()"
   ]
  },
  {
   "cell_type": "code",
   "execution_count": null,
   "id": "afca92de-4038-4a82-8fe9-527b4bd5a844",
   "metadata": {},
   "outputs": [],
   "source": []
  },
  {
   "cell_type": "code",
   "execution_count": null,
   "id": "84eace2b-1914-428a-b018-4bdf736515ca",
   "metadata": {},
   "outputs": [],
   "source": []
  }
 ],
 "metadata": {
  "kernelspec": {
   "display_name": "Python 3 (ipykernel)",
   "language": "python",
   "name": "python3"
  },
  "language_info": {
   "codemirror_mode": {
    "name": "ipython",
    "version": 3
   },
   "file_extension": ".py",
   "mimetype": "text/x-python",
   "name": "python",
   "nbconvert_exporter": "python",
   "pygments_lexer": "ipython3",
   "version": "3.9.2"
  }
 },
 "nbformat": 4,
 "nbformat_minor": 5
}
