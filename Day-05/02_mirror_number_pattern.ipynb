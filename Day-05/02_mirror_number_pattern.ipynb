{
 "cells": [
  {
   "cell_type": "markdown",
   "id": "9270b4bf-0534-4a32-a042-1f45912a3f2c",
   "metadata": {},
   "source": [
    "# Code : Mirror Number Pattern\n",
    "\n",
    "Print the following pattern for the given N number of rows.\n",
    "\n",
    "**Pattern for N = 4**\n",
    "\n",
    "    . . . 1\n",
    "    . . 1 2 \n",
    "    . 1 2 3 \n",
    "    1 2 3 4 \n",
    "\n",
    "*The dots represent spaces.*\n",
    "\n",
    "\n",
    "### Input format :\n",
    "    Integer N (Total no. of rows)\n",
    "\n",
    "### Output format :\n",
    "    Pattern in N lines\n",
    "\n",
    "### Constraints\n",
    "    0 <= N <= 50\n",
    "\n",
    "### Sample Input 1:\n",
    "    3\n",
    "\n",
    "### Sample Output 1:\n",
    "      1\n",
    "     12\n",
    "    123\n",
    "\n",
    "### Sample Input 2:\n",
    "    4\n",
    "\n",
    "### Sample Output 2:\n",
    "       1 \n",
    "      12\n",
    "     123\n",
    "    1234"
   ]
  },
  {
   "cell_type": "code",
   "execution_count": 1,
   "id": "0da74f63-8d95-4359-bcd3-124845b71497",
   "metadata": {},
   "outputs": [
    {
     "name": "stdin",
     "output_type": "stream",
     "text": [
      " 5\n"
     ]
    },
    {
     "name": "stdout",
     "output_type": "stream",
     "text": [
      "    *\n",
      "   **\n",
      "  ***\n",
      " ****\n",
      "*****\n"
     ]
    }
   ],
   "source": [
    "n = int(input())\n",
    "\n",
    "for i in range(1, n+1):\n",
    "    # print(i)\n",
    "    for j in range(1, n - i+1):\n",
    "        print(\" \", end='')\n",
    "    for x in range(1, i+1):\n",
    "        print(\"*\", end='')\n",
    "    print()"
   ]
  },
  {
   "cell_type": "code",
   "execution_count": 3,
   "id": "8a907390-0f93-4c40-9ed0-5a9f775819c9",
   "metadata": {},
   "outputs": [
    {
     "name": "stdin",
     "output_type": "stream",
     "text": [
      " 4\n"
     ]
    },
    {
     "name": "stdout",
     "output_type": "stream",
     "text": [
      "   1\n",
      "  12\n",
      " 123\n",
      "1234\n"
     ]
    }
   ],
   "source": [
    "n = int(input())\n",
    "\n",
    "for i in range(1, n+1):\n",
    "    # print(i)\n",
    "    for j in range(1, n - i+1):\n",
    "        print(\" \", end='')\n",
    "    for x in range(1, i+1):\n",
    "        print(x, end='')\n",
    "    print()"
   ]
  },
  {
   "cell_type": "code",
   "execution_count": null,
   "id": "28dc4228-7187-4b12-b1bd-a08d4bec3a3f",
   "metadata": {},
   "outputs": [],
   "source": []
  }
 ],
 "metadata": {
  "kernelspec": {
   "display_name": "Python 3 (ipykernel)",
   "language": "python",
   "name": "python3"
  },
  "language_info": {
   "codemirror_mode": {
    "name": "ipython",
    "version": 3
   },
   "file_extension": ".py",
   "mimetype": "text/x-python",
   "name": "python",
   "nbconvert_exporter": "python",
   "pygments_lexer": "ipython3",
   "version": "3.9.2"
  }
 },
 "nbformat": 4,
 "nbformat_minor": 5
}
