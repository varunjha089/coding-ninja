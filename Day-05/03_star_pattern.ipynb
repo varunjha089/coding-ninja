{
 "cells": [
  {
   "cell_type": "markdown",
   "id": "7a85aaec-2ead-49c6-af52-c62935fc3047",
   "metadata": {},
   "source": [
    "# Code : Star Pattern\n",
    "\n",
    "Print the following pattern\n",
    "\n",
    "**Pattern for N = 4**\n",
    "\n",
    "        *\n",
    "       *** \n",
    "      *****\n",
    "     *******\n",
    "\n",
    "The dots represent spaces.\n",
    "\n",
    "### Input Format :\n",
    "    N (Total no. of rows)\n",
    "\n",
    "### Output Format :\n",
    "    Pattern in N lines\n",
    "\n",
    "### Constraints :\n",
    "    0 <= N <= 50\n",
    "\n",
    "### Sample Input 1 :\n",
    "    3\n",
    "\n",
    "### Sample Output 1 :\n",
    "       *\n",
    "      *** \n",
    "     *****\n",
    "\n",
    "### Sample Input 2 :\n",
    "    4\n",
    "\n",
    "### Sample Output 2 :\n",
    "        *\n",
    "       *** \n",
    "      *****\n",
    "     *******"
   ]
  },
  {
   "cell_type": "code",
   "execution_count": 1,
   "id": "0f38fae6-0cca-4666-8bee-5882afccabb7",
   "metadata": {},
   "outputs": [
    {
     "name": "stdin",
     "output_type": "stream",
     "text": [
      " 4\n"
     ]
    },
    {
     "name": "stdout",
     "output_type": "stream",
     "text": [
      "   *\n",
      "  **\n",
      " ***\n",
      "****\n"
     ]
    }
   ],
   "source": [
    "n = int(input())\n",
    "\n",
    "for i in range(1, n+1):\n",
    "    # print(i)\n",
    "    for j in range(1, n - i+1):\n",
    "        print(\" \", end='')\n",
    "    for x in range(1, i+1):\n",
    "        print(\"*\", end='')\n",
    "    print()"
   ]
  },
  {
   "cell_type": "markdown",
   "id": "7f9717c3-4203-4639-b296-29ce3c81329a",
   "metadata": {},
   "source": [
    "### Now printing the other half"
   ]
  },
  {
   "cell_type": "code",
   "execution_count": 2,
   "id": "833f8592-6c86-429a-b690-abbe3181d5f0",
   "metadata": {},
   "outputs": [
    {
     "name": "stdin",
     "output_type": "stream",
     "text": [
      " 4\n"
     ]
    },
    {
     "name": "stdout",
     "output_type": "stream",
     "text": [
      "   *\n",
      "  ***\n",
      " *****\n",
      "*******\n"
     ]
    }
   ],
   "source": [
    "n = int(input())\n",
    "\n",
    "for i in range(1, n+1):\n",
    "    # print(i)\n",
    "    for j in range(1, n - i+1):\n",
    "        print(\" \", end='')\n",
    "    for x in range(1, i+1):\n",
    "        print(\"*\", end='')\n",
    "    for z in range(1, i):\n",
    "        print(\"*\", end='')\n",
    "    print()"
   ]
  },
  {
   "cell_type": "code",
   "execution_count": null,
   "id": "8968101e-91c8-4097-829c-ac49e5c7dfc8",
   "metadata": {},
   "outputs": [],
   "source": []
  }
 ],
 "metadata": {
  "kernelspec": {
   "display_name": "Python 3 (ipykernel)",
   "language": "python",
   "name": "python3"
  },
  "language_info": {
   "codemirror_mode": {
    "name": "ipython",
    "version": 3
   },
   "file_extension": ".py",
   "mimetype": "text/x-python",
   "name": "python",
   "nbconvert_exporter": "python",
   "pygments_lexer": "ipython3",
   "version": "3.9.2"
  },
  "toc-autonumbering": false,
  "toc-showcode": false,
  "toc-showmarkdowntxt": false
 },
 "nbformat": 4,
 "nbformat_minor": 5
}
