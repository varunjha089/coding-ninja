{
 "cells": [
  {
   "cell_type": "markdown",
   "id": "5cdf142d-92ea-424f-8c97-8a1132c7062e",
   "metadata": {},
   "source": [
    "# Number Pattern\n",
    "\n",
    "Print the following pattern for n number of rows.\n",
    "\n",
    "**For eg. N = 5**\n",
    "\n",
    "    1        1\n",
    "    12      21\n",
    "    123    321\n",
    "    1234  4321\n",
    "    1234554321\n",
    "\n",
    "### Sample Input 1 :\n",
    "    4\n",
    "\n",
    "### Sample Output 1 :\n",
    "    1      1\n",
    "    12    21\n",
    "    123  321\n",
    "    12344321"
   ]
  },
  {
   "cell_type": "code",
   "execution_count": 1,
   "id": "ba244874-eeba-4983-aa1d-f0a1c6051107",
   "metadata": {},
   "outputs": [
    {
     "name": "stdin",
     "output_type": "stream",
     "text": [
      " 4\n"
     ]
    },
    {
     "name": "stdout",
     "output_type": "stream",
     "text": [
      "1      1\n",
      "12    21\n",
      "123  321\n",
      "12344321\n"
     ]
    }
   ],
   "source": [
    "a=int(input())\n",
    "\n",
    "for k in range(1,a+1):\n",
    "    b='1'\n",
    "    for i in range(2,a+1):\n",
    "        c=str(i)\n",
    "        if k >= i:\n",
    "            b=b+c\n",
    "        else:\n",
    "            b=b+' '\n",
    "    for j in range(a,0,-1):\n",
    "        d=str(j)\n",
    "        if k >= j:\n",
    "            b=b+d\n",
    "        else:\n",
    "            b=b+' '\n",
    "    print(b)"
   ]
  },
  {
   "cell_type": "code",
   "execution_count": null,
   "id": "7a11d9d7-75c5-4ada-8741-5e6fda5f90f3",
   "metadata": {},
   "outputs": [],
   "source": []
  }
 ],
 "metadata": {
  "kernelspec": {
   "display_name": "Python 3 (ipykernel)",
   "language": "python",
   "name": "python3"
  },
  "language_info": {
   "codemirror_mode": {
    "name": "ipython",
    "version": 3
   },
   "file_extension": ".py",
   "mimetype": "text/x-python",
   "name": "python",
   "nbconvert_exporter": "python",
   "pygments_lexer": "ipython3",
   "version": "3.9.2"
  }
 },
 "nbformat": 4,
 "nbformat_minor": 5
}
