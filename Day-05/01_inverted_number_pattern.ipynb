{
 "cells": [
  {
   "cell_type": "markdown",
   "id": "1a3a48b8-b3e1-45b1-9987-2c570e06facd",
   "metadata": {},
   "source": [
    "# Code : Inverted Number Pattern\n",
    "\n",
    "Print the following pattern for the given N number of rows.\n",
    "\n",
    "### Pattern for N = 4\n",
    "    4444\n",
    "    333\n",
    "    22\n",
    "    1\n",
    "\n",
    "### Input format :\n",
    "    Integer N (Total no. of rows)\n",
    "\n",
    "### Output format :\n",
    "    Pattern in N lines\n",
    "\n",
    "### Constraints :\n",
    "    0 <= N <= 50\n",
    "\n",
    "### Sample Input 1:\n",
    "    5\n",
    "\n",
    "### Sample Output 1:\n",
    "    55555 \n",
    "    4444\n",
    "    333\n",
    "    22\n",
    "    1\n",
    "\n",
    "### Sample Input 2:\n",
    "    6\n",
    "\n",
    "### Sample Output 2:\n",
    "    666666\n",
    "    55555 \n",
    "    4444\n",
    "    333\n",
    "    22\n",
    "    1"
   ]
  },
  {
   "cell_type": "code",
   "execution_count": 9,
   "id": "8cf1f96c-1875-43c7-be7f-e041de1007f0",
   "metadata": {},
   "outputs": [
    {
     "name": "stdin",
     "output_type": "stream",
     "text": [
      " 6\n"
     ]
    },
    {
     "name": "stdout",
     "output_type": "stream",
     "text": [
      "666666\n",
      "55555\n",
      "4444\n",
      "333\n",
      "22\n",
      "1\n"
     ]
    }
   ],
   "source": [
    "n = int(input())\n",
    "\n",
    "for i in range(1, n+1):\n",
    "    # print(i)\n",
    "    for j in range(1, n - i + 2):\n",
    "        print(n - i + 1, end='')\n",
    "    print()"
   ]
  },
  {
   "cell_type": "code",
   "execution_count": null,
   "id": "e9cae55d-1c8d-4a10-ab1b-e3531bb02b22",
   "metadata": {},
   "outputs": [],
   "source": []
  }
 ],
 "metadata": {
  "kernelspec": {
   "display_name": "Python 3 (ipykernel)",
   "language": "python",
   "name": "python3"
  },
  "language_info": {
   "codemirror_mode": {
    "name": "ipython",
    "version": 3
   },
   "file_extension": ".py",
   "mimetype": "text/x-python",
   "name": "python",
   "nbconvert_exporter": "python",
   "pygments_lexer": "ipython3",
   "version": "3.9.2"
  }
 },
 "nbformat": 4,
 "nbformat_minor": 5
}
