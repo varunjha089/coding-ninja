{
 "cells": [
  {
   "cell_type": "markdown",
   "id": "2c4dc321-9cf8-4fd2-9f62-1ff607a2a2d7",
   "metadata": {},
   "source": [
    "# Arrow pattern\n",
    "\n",
    "Print the following pattern for the given number of rows.\n",
    "\n",
    "Assume N is always odd.\n",
    "\n",
    "**Note : There is space after every star.**\n",
    "**Pattern for N = 7**\n",
    "\n",
    "    *\n",
    "     * *\n",
    "       * * *\n",
    "         * * * *\n",
    "       * * *\n",
    "     * *\n",
    "    *\n",
    "\n",
    "### Input format :\n",
    "    Integer N (Total no. of rows)\n",
    "\n",
    "### Output format :\n",
    "    Pattern in N lines\n",
    "\n",
    "### Sample Input :\n",
    "    11\n",
    "\n",
    "### Sample Output :\n",
    "    *\n",
    "     * *\n",
    "       * * *\n",
    "         * * * *\n",
    "           * * * * *\n",
    "             * * * * * *\n",
    "           * * * * *\n",
    "         * * * *\n",
    "       * * *\n",
    "     * *\n",
    "    *"
   ]
  },
  {
   "cell_type": "code",
   "execution_count": 1,
   "id": "a4ab9946-421c-47bf-b570-7df5b693b8b3",
   "metadata": {},
   "outputs": [
    {
     "name": "stdin",
     "output_type": "stream",
     "text": [
      " 5\n"
     ]
    },
    {
     "name": "stdout",
     "output_type": "stream",
     "text": [
      "* \n",
      " * * \n",
      "  * * * \n",
      " * * \n",
      "* \n"
     ]
    }
   ],
   "source": [
    "n = int(input())\n",
    "n1 = (n+1)//2\n",
    "n2 = n-n1\n",
    "\n",
    "for i in range(1,n1+1):\n",
    "    for j in range(1,i):\n",
    "        print(' ',end='')\n",
    "    for k in range(1,i+1):\n",
    "        print('* ',end='')\n",
    "    print()    \n",
    "\n",
    "for i in range(n2,0,-1):\n",
    "    for j in range(1,i):\n",
    "        print(' ',end='')\n",
    "    for k in range(1,i+1):\n",
    "        print('* ',end='')\n",
    "    print()    "
   ]
  },
  {
   "cell_type": "code",
   "execution_count": null,
   "id": "ae693852-09c0-421b-ac89-0ea4702298ef",
   "metadata": {},
   "outputs": [],
   "source": []
  }
 ],
 "metadata": {
  "kernelspec": {
   "display_name": "Python 3 (ipykernel)",
   "language": "python",
   "name": "python3"
  },
  "language_info": {
   "codemirror_mode": {
    "name": "ipython",
    "version": 3
   },
   "file_extension": ".py",
   "mimetype": "text/x-python",
   "name": "python",
   "nbconvert_exporter": "python",
   "pygments_lexer": "ipython3",
   "version": "3.9.2"
  }
 },
 "nbformat": 4,
 "nbformat_minor": 5
}
