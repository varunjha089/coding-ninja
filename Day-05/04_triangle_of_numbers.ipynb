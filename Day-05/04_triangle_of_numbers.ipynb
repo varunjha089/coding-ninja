{
 "cells": [
  {
   "cell_type": "markdown",
   "id": "de46fa3b-4550-4085-8a97-ac30fba89cf2",
   "metadata": {
    "tags": []
   },
   "source": [
    "# Code : Triangle of Numbers\n",
    "\n",
    "Print the following pattern for the given number of rows.\n",
    "\n",
    "**Pattern for N = 4**\n",
    "\n",
    "       1\n",
    "      232\n",
    "     34543\n",
    "    4567654\n",
    "\n",
    "The dots represent spaces.\n",
    "\n",
    "\n",
    "\n",
    "### Input format :\n",
    "    Integer N (Total no. of rows)\n",
    "\n",
    "### Output format :\n",
    "    Pattern in N lines\n",
    "\n",
    "### Constraints :\n",
    "    0 <= N <= 50\n",
    "\n",
    "### Sample Input 1:\n",
    "    5\n",
    "\n",
    "### Sample Output 1:\n",
    "        1\n",
    "       232\n",
    "      34543\n",
    "     4567654\n",
    "    567898765\n",
    "\n",
    "### Sample Input 2:\n",
    "    4\n",
    "\n",
    "### Sample Output 2:\n",
    "       1\n",
    "      232\n",
    "     34543\n",
    "    4567654"
   ]
  },
  {
   "cell_type": "code",
   "execution_count": 46,
   "id": "dcb7c3f8-0d88-426b-82a1-d2920b75be93",
   "metadata": {},
   "outputs": [
    {
     "name": "stdin",
     "output_type": "stream",
     "text": [
      " 5\n"
     ]
    },
    {
     "name": "stdout",
     "output_type": "stream",
     "text": [
      "    1\n",
      "   232\n",
      "  34543\n",
      " 4567654\n",
      "567898765\n"
     ]
    }
   ],
   "source": [
    "n = int(input())\n",
    "# n = 4\n",
    "\n",
    "for i in range(1, n+1):\n",
    "    # print(i)\n",
    "    for j in range(1, n - i+1):\n",
    "        print(\" \", end='')\n",
    "    m = 0\n",
    "    for x in range(i):\n",
    "        print(i+x, end='')\n",
    "        # print(\"*\", end='')\n",
    "        m = i+x\n",
    "    # print()\n",
    "    # print(m)\n",
    "    for z in range(m-1, i-1, -1):\n",
    "        print(z, end='')\n",
    "    print()"
   ]
  },
  {
   "cell_type": "code",
   "execution_count": 47,
   "id": "ddd49346-2d99-49c9-a2d9-3d52ee2e0e03",
   "metadata": {},
   "outputs": [
    {
     "name": "stdout",
     "output_type": "stream",
     "text": [
      "    1\n",
      "   232\n",
      "  34543\n",
      " 4567654\n",
      "567898765\n"
     ]
    }
   ],
   "source": [
    "def trianglePattern(n):\n",
    "    for i in range(1, n+1):\n",
    "        for j in range(1, n - i+1):\n",
    "            print(\" \", end='')\n",
    "        m = 0\n",
    "        for x in range(i):\n",
    "            print(i+x, end='')\n",
    "            # print(\"*\", end='')\n",
    "            m = i+x\n",
    "        for z in range(m-1, i-1, -1):\n",
    "            print(z, end='')\n",
    "        print()\n",
    "        \n",
    "trianglePattern(5)"
   ]
  },
  {
   "cell_type": "code",
   "execution_count": null,
   "id": "3b9a4fa8-77fc-4e3c-ae71-379af687705f",
   "metadata": {},
   "outputs": [],
   "source": []
  }
 ],
 "metadata": {
  "kernelspec": {
   "display_name": "Python 3 (ipykernel)",
   "language": "python",
   "name": "python3"
  },
  "language_info": {
   "codemirror_mode": {
    "name": "ipython",
    "version": 3
   },
   "file_extension": ".py",
   "mimetype": "text/x-python",
   "name": "python",
   "nbconvert_exporter": "python",
   "pygments_lexer": "ipython3",
   "version": "3.9.2"
  }
 },
 "nbformat": 4,
 "nbformat_minor": 5
}
