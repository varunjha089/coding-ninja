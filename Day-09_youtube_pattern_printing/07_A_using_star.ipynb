{
 "cells": [
  {
   "cell_type": "markdown",
   "id": "a33b4fa5-b6aa-4c8c-a19f-960c0524e79b",
   "metadata": {},
   "source": [
    "## Letter 'A' using *\n",
    "\n",
    "Click on the image below to view the video\n",
    "\n",
    "[![IMAGE ALT TEXT HERE](https://img.youtube.com/vi/iDEh-5p_bi0/0.jpg)](https://www.youtube.com/watch?v=iDEh-5p_bi0)"
   ]
  },
  {
   "cell_type": "code",
   "execution_count": null,
   "id": "00daebd0-2c30-4b79-ada4-b014dd71c3a6",
   "metadata": {},
   "outputs": [],
   "source": []
  }
 ],
 "metadata": {
  "kernelspec": {
   "display_name": "Python 3 (ipykernel)",
   "language": "python",
   "name": "python3"
  },
  "language_info": {
   "codemirror_mode": {
    "name": "ipython",
    "version": 3
   },
   "file_extension": ".py",
   "mimetype": "text/x-python",
   "name": "python",
   "nbconvert_exporter": "python",
   "pygments_lexer": "ipython3",
   "version": "3.9.2"
  }
 },
 "nbformat": 4,
 "nbformat_minor": 5
}
