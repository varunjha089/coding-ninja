{
 "cells": [
  {
   "cell_type": "markdown",
   "id": "43bea12b-449e-44bb-b162-d4e0fd963669",
   "metadata": {},
   "source": [
    "## Letter 'C' using *\n",
    "\n",
    "Click on the image below to view the video\n",
    "\n",
    "[![IMAGE ALT TEXT HERE](https://img.youtube.com/vi/Y1ZvWsW3V1s/0.jpg)](https://www.youtube.com/watch?v=Y1ZvWsW3V1s)"
   ]
  },
  {
   "cell_type": "code",
   "execution_count": null,
   "id": "ba53c978-0f82-46c4-a1ef-398a77e8357c",
   "metadata": {},
   "outputs": [],
   "source": []
  }
 ],
 "metadata": {
  "kernelspec": {
   "display_name": "Python 3 (ipykernel)",
   "language": "python",
   "name": "python3"
  },
  "language_info": {
   "codemirror_mode": {
    "name": "ipython",
    "version": 3
   },
   "file_extension": ".py",
   "mimetype": "text/x-python",
   "name": "python",
   "nbconvert_exporter": "python",
   "pygments_lexer": "ipython3",
   "version": "3.9.2"
  }
 },
 "nbformat": 4,
 "nbformat_minor": 5
}
