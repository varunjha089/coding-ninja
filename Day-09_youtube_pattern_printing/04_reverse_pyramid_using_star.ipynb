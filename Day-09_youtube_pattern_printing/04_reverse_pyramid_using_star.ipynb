{
 "cells": [
  {
   "cell_type": "markdown",
   "id": "d1995d26-04aa-4299-a3f6-f1bcf1b8fc77",
   "metadata": {},
   "source": [
    "## Reverse Pyramid using *\n",
    "\n",
    "Click on the image below to view the video\n",
    "\n",
    "[![IMAGE ALT TEXT HERE](https://img.youtube.com/vi/pg7i7FPUJds/0.jpg)](https://www.youtube.com/watch?v=pg7i7FPUJds)\n"
   ]
  },
  {
   "cell_type": "code",
   "execution_count": 4,
   "id": "68cb6819-49e1-4cae-b45a-02927446d896",
   "metadata": {},
   "outputs": [
    {
     "name": "stdin",
     "output_type": "stream",
     "text": [
      " 4\n"
     ]
    },
    {
     "name": "stdout",
     "output_type": "stream",
     "text": [
      "* * * * \n",
      " * * * \n",
      "  * * \n",
      "   * \n"
     ]
    }
   ],
   "source": [
    "def pyramid(n):\n",
    "    for i in range(n, 0, -1):\n",
    "        for j in range(0, n-i):\n",
    "            print(end=\" \")\n",
    "        for m in range(0, i):\n",
    "            print(\"*\", end=\" \")\n",
    "        print()\n",
    "    \n",
    "if __name__ == \"__main__\":\n",
    "    n = int(input())\n",
    "    pyramid(n)"
   ]
  },
  {
   "cell_type": "code",
   "execution_count": null,
   "id": "69a09bd2-5cd9-4f25-b8b4-be189452b21c",
   "metadata": {},
   "outputs": [],
   "source": []
  }
 ],
 "metadata": {
  "kernelspec": {
   "display_name": "Python 3 (ipykernel)",
   "language": "python",
   "name": "python3"
  },
  "language_info": {
   "codemirror_mode": {
    "name": "ipython",
    "version": 3
   },
   "file_extension": ".py",
   "mimetype": "text/x-python",
   "name": "python",
   "nbconvert_exporter": "python",
   "pygments_lexer": "ipython3",
   "version": "3.9.2"
  }
 },
 "nbformat": 4,
 "nbformat_minor": 5
}
