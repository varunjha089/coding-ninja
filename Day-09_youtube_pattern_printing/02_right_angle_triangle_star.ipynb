{
 "cells": [
  {
   "cell_type": "markdown",
   "id": "e33c6bdf-6e74-434e-b436-95e9073e7a4b",
   "metadata": {},
   "source": [
    "## Right Angle Triangle using *\n",
    "\n",
    "Click on the image below to view the video\n",
    "\n",
    "[![IMAGE ALT TEXT HERE](https://img.youtube.com/vi/nkoBmTuuUx4/0.jpg)](https://www.youtube.com/watch?v=nkoBmTuuUx4)\n"
   ]
  },
  {
   "cell_type": "code",
   "execution_count": 16,
   "id": "b0d5cf03-e152-4dbc-ab02-0598c798025d",
   "metadata": {},
   "outputs": [
    {
     "name": "stdin",
     "output_type": "stream",
     "text": [
      " 5\n"
     ]
    },
    {
     "name": "stdout",
     "output_type": "stream",
     "text": [
      "\n",
      "*\n",
      "***\n",
      "*****\n",
      "*******\n"
     ]
    }
   ],
   "source": [
    "def right_angle_triangle(n):\n",
    "    for i in range(1, n + 3, 2):\n",
    "        for j in range(i):\n",
    "            print(\"*\", end=\"\")\n",
    "        print()\n",
    "\n",
    "if __name__ == \"__main__\":\n",
    "    n = int(input())\n",
    "    print()\n",
    "    right_angle_triangle(n)"
   ]
  },
  {
   "cell_type": "code",
   "execution_count": null,
   "id": "f8ce23e2-5fa4-4c15-bed9-75d6e364f058",
   "metadata": {},
   "outputs": [],
   "source": []
  }
 ],
 "metadata": {
  "kernelspec": {
   "display_name": "Python 3 (ipykernel)",
   "language": "python",
   "name": "python3"
  },
  "language_info": {
   "codemirror_mode": {
    "name": "ipython",
    "version": 3
   },
   "file_extension": ".py",
   "mimetype": "text/x-python",
   "name": "python",
   "nbconvert_exporter": "python",
   "pygments_lexer": "ipython3",
   "version": "3.9.2"
  }
 },
 "nbformat": 4,
 "nbformat_minor": 5
}
