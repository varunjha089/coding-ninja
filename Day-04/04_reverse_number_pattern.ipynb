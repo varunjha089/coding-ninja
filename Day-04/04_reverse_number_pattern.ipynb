{
 "cells": [
  {
   "cell_type": "markdown",
   "id": "2d2a6274-780a-4c47-beb5-0d49f5a4a3d4",
   "metadata": {},
   "source": [
    "# Code : Reverse Number Pattern\n",
    "\n",
    "Print the following pattern for the given N number of rows.\n",
    "\n",
    "### Pattern for N = 4\n",
    "    1\n",
    "    21\n",
    "    321\n",
    "    4321\n",
    "\n",
    "### Input format :\n",
    "    Integer N (Total no. of rows)\n",
    "\n",
    "### Output format :\n",
    "    Pattern in N lines\n",
    "\n",
    "### Constraints\n",
    "    0 <= N <= 50\n",
    "\n",
    "### Sample Input 1:\n",
    "    5\n",
    "\n",
    "### Sample Output 1:\n",
    "    1\n",
    "    21\n",
    "    321\n",
    "    4321\n",
    "    54321\n",
    "\n",
    "### Sample Input 2:\n",
    "    6\n",
    "\n",
    "### Sample Output 2:\n",
    "    1\n",
    "    21\n",
    "    321\n",
    "    4321\n",
    "    54321\n",
    "    654321"
   ]
  },
  {
   "cell_type": "code",
   "execution_count": 3,
   "id": "e77ed05c-6b2f-486f-a072-438f9af8bb9b",
   "metadata": {},
   "outputs": [
    {
     "name": "stdin",
     "output_type": "stream",
     "text": [
      " 5\n"
     ]
    },
    {
     "name": "stdout",
     "output_type": "stream",
     "text": [
      "1\n",
      "21\n",
      "321\n",
      "4321\n",
      "54321\n"
     ]
    }
   ],
   "source": [
    "n = int(input())\n",
    "\n",
    "for i in range(1, n+1):\n",
    "    text = \"\"\n",
    "    for j in range(1, i+1):\n",
    "        text = str(j) + text\n",
    "    print(text)"
   ]
  },
  {
   "cell_type": "code",
   "execution_count": null,
   "id": "89a8339f-c6e4-499c-8260-22e92cfbc186",
   "metadata": {},
   "outputs": [],
   "source": []
  }
 ],
 "metadata": {
  "kernelspec": {
   "display_name": "Python 3 (ipykernel)",
   "language": "python",
   "name": "python3"
  },
  "language_info": {
   "codemirror_mode": {
    "name": "ipython",
    "version": 3
   },
   "file_extension": ".py",
   "mimetype": "text/x-python",
   "name": "python",
   "nbconvert_exporter": "python",
   "pygments_lexer": "ipython3",
   "version": "3.9.2"
  }
 },
 "nbformat": 4,
 "nbformat_minor": 5
}
