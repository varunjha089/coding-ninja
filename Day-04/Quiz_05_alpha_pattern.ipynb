{
 "cells": [
  {
   "cell_type": "markdown",
   "id": "1792e3a0-e5d7-4578-adb0-8e3f439d4057",
   "metadata": {},
   "source": [
    "# Alpha Pattern\n",
    "\n",
    "Print the following pattern for the given N number of rows.\n",
    "\n",
    "### Pattern for N = 3\n",
    "     A\n",
    "     BB\n",
    "     CCC\n",
    "\n",
    "### Input format :\n",
    "    Integer N (Total no. of rows)\n",
    "\n",
    "### Output format :\n",
    "    Pattern in N lines\n",
    "    \n",
    "### Constraints\n",
    "    0 <= N <= 26\n",
    "\n",
    "### Sample Input :\n",
    "    7\n",
    "\n",
    "### Sample Output :\n",
    "    A\n",
    "    BB\n",
    "    CCC\n",
    "    DDDD\n",
    "    EEEEE\n",
    "    FFFFFF\n",
    "    GGGGGGG\n",
    "\n",
    "### Sample Input 2:\n",
    "    6\n",
    "\n",
    "### Sample Output 2:\n",
    "    A\n",
    "    BB\n",
    "    CCC\n",
    "    DDDD\n",
    "    EEEEE\n",
    "    FFFFFF"
   ]
  },
  {
   "cell_type": "code",
   "execution_count": 18,
   "id": "b42144a9-957a-4c46-9a6e-4c0c60f5a10b",
   "metadata": {},
   "outputs": [
    {
     "name": "stdin",
     "output_type": "stream",
     "text": [
      " 6\n"
     ]
    },
    {
     "name": "stdout",
     "output_type": "stream",
     "text": [
      "A\n",
      "BB\n",
      "CCC\n",
      "DDDD\n",
      "EEEEE\n",
      "FFFFFF\n"
     ]
    }
   ],
   "source": [
    "## Read input as specified in the question.\n",
    "## Print output as specified in the question.\n",
    "import string\n",
    "\n",
    "n = int(input())\n",
    "upper_case = string.ascii_uppercase[:n]\n",
    "for i in range(len(upper_case)):\n",
    "        for j in range(i+1):\n",
    "            print(upper_case[i], end=\"\")\n",
    "        print()"
   ]
  },
  {
   "cell_type": "code",
   "execution_count": null,
   "id": "42b2d5ee-645c-4729-a809-c279f4bd6c49",
   "metadata": {},
   "outputs": [],
   "source": []
  }
 ],
 "metadata": {
  "kernelspec": {
   "display_name": "Python 3 (ipykernel)",
   "language": "python",
   "name": "python3"
  },
  "language_info": {
   "codemirror_mode": {
    "name": "ipython",
    "version": 3
   },
   "file_extension": ".py",
   "mimetype": "text/x-python",
   "name": "python",
   "nbconvert_exporter": "python",
   "pygments_lexer": "ipython3",
   "version": "3.9.2"
  }
 },
 "nbformat": 4,
 "nbformat_minor": 5
}
