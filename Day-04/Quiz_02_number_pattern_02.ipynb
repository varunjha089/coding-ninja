{
 "cells": [
  {
   "cell_type": "markdown",
   "id": "60f73178-c028-4dc8-8679-8b6930c5c0df",
   "metadata": {},
   "source": [
    "# Number Pattern 2\n",
    "\n",
    "Print the following pattern for the given N number of rows.\n",
    "\n",
    "### Pattern for N = 4\n",
    "    1\n",
    "    11\n",
    "    202\n",
    "    3003\n",
    "\n",
    "### Input format :\n",
    "    Integer N (Total no. of rows)\n",
    "\n",
    "### Contraints:\n",
    "    1 <= n <= 50\n",
    "\n",
    "### Output format :\n",
    "    Pattern in N lines\n",
    "\n",
    "### Sample Input :\n",
    "    5\n",
    "\n",
    "### Sample Output :\n",
    "    1\n",
    "    11\n",
    "    202\n",
    "    3003\n",
    "    40004"
   ]
  },
  {
   "cell_type": "code",
   "execution_count": 11,
   "id": "c8e86db2-f903-4c1e-a24c-b040a73a202a",
   "metadata": {},
   "outputs": [
    {
     "name": "stdin",
     "output_type": "stream",
     "text": [
      " 5\n"
     ]
    },
    {
     "name": "stdout",
     "output_type": "stream",
     "text": [
      "1\n",
      "11\n",
      "202\n",
      "3003\n",
      "40004\n"
     ]
    }
   ],
   "source": [
    "n = int(input())\n",
    "for i in range(1, n+1):\n",
    "    for j in range(1, i+1):\n",
    "        if i >= 3:\n",
    "            if j == 1 or j == i:\n",
    "                print(i-1, end=\"\")\n",
    "            else:\n",
    "                print(0, end=\"\")\n",
    "        else:\n",
    "            print(1, end=\"\")\n",
    "    print()"
   ]
  },
  {
   "cell_type": "code",
   "execution_count": null,
   "id": "dbe52f90-95d0-4478-a801-3f0152f0f06a",
   "metadata": {},
   "outputs": [],
   "source": []
  }
 ],
 "metadata": {
  "kernelspec": {
   "display_name": "Python 3 (ipykernel)",
   "language": "python",
   "name": "python3"
  },
  "language_info": {
   "codemirror_mode": {
    "name": "ipython",
    "version": 3
   },
   "file_extension": ".py",
   "mimetype": "text/x-python",
   "name": "python",
   "nbconvert_exporter": "python",
   "pygments_lexer": "ipython3",
   "version": "3.9.2"
  }
 },
 "nbformat": 4,
 "nbformat_minor": 5
}
