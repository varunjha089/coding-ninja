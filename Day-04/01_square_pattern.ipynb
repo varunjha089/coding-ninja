{
 "cells": [
  {
   "cell_type": "markdown",
   "id": "cbe8a0ce-c627-4f52-b70d-44c7d990466c",
   "metadata": {},
   "source": [
    "# Square Pattern\n",
    "\n",
    "Print the following pattern for the given N number of rows.\n",
    "*Pattern for N = 4*\n",
    "\n",
    "    4444\n",
    "    4444\n",
    "    4444\n",
    "    4444\n",
    "\n",
    "### Input format :\n",
    "    Integer N (Total no. of rows)\n",
    "\n",
    "### Output format :\n",
    "    Pattern in N lines\n",
    "\n",
    "### Constraints\n",
    "    0 <= N <= 50\n",
    "\n",
    "### Sample Input 1:\n",
    "    7\n",
    "### Sample Output 1:\n",
    "    7777777\n",
    "    7777777\n",
    "    7777777\n",
    "    7777777\n",
    "    7777777\n",
    "    7777777\n",
    "    7777777\n",
    "\n",
    "### Sample Input 1:\n",
    "    6\n",
    "    \n",
    "### Sample Output 1:\n",
    "    666666\n",
    "    666666\n",
    "    666666\n",
    "    666666\n",
    "    666666\n",
    "    666666"
   ]
  },
  {
   "cell_type": "code",
   "execution_count": 3,
   "id": "43ffbe23-f352-4a55-8679-78fcd3b4c1ee",
   "metadata": {},
   "outputs": [
    {
     "name": "stdin",
     "output_type": "stream",
     "text": [
      " 8\n"
     ]
    },
    {
     "name": "stdout",
     "output_type": "stream",
     "text": [
      "88888888\n",
      "88888888\n",
      "88888888\n",
      "88888888\n",
      "88888888\n",
      "88888888\n",
      "88888888\n",
      "88888888\n"
     ]
    }
   ],
   "source": [
    "number = int(input())\n",
    "i = 1\n",
    "while i <= number:\n",
    "    j = 1\n",
    "    while j <= number:\n",
    "        print(str(number), end=\"\")\n",
    "        j += 1\n",
    "    print()\n",
    "    i += 1"
   ]
  },
  {
   "cell_type": "code",
   "execution_count": null,
   "id": "7a61f30c-4b66-4de8-b9b9-e37e8b21d105",
   "metadata": {},
   "outputs": [],
   "source": []
  }
 ],
 "metadata": {
  "kernelspec": {
   "display_name": "Python 3 (ipykernel)",
   "language": "python",
   "name": "python3"
  },
  "language_info": {
   "codemirror_mode": {
    "name": "ipython",
    "version": 3
   },
   "file_extension": ".py",
   "mimetype": "text/x-python",
   "name": "python",
   "nbconvert_exporter": "python",
   "pygments_lexer": "ipython3",
   "version": "3.9.2"
  }
 },
 "nbformat": 4,
 "nbformat_minor": 5
}
