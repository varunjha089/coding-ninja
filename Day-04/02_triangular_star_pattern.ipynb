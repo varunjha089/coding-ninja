{
 "cells": [
  {
   "cell_type": "markdown",
   "id": "422563a1-a910-47d8-bac6-3ea8fd71973a",
   "metadata": {
    "tags": []
   },
   "source": [
    "# Code : Triangular Star Pattern\n",
    "\n",
    "Print the following pattern for the given N number of rows.\n",
    "\n",
    "### Pattern for N = 4\n",
    "    *\n",
    "    **\n",
    "    ***\n",
    "    ****\n",
    "\n",
    "### Note : There are no spaces between the stars (*).\n",
    "\n",
    "### Input format :\n",
    "    Integer N (Total no. of rows)\n",
    "\n",
    "### Output format :\n",
    "    Pattern in N lines\n",
    "\n",
    "### Constraints\n",
    "    0 <= N <= 50\n",
    "\n",
    "### Sample Input 1:\n",
    "    5\n",
    "### Sample Output 1:\n",
    "    *\n",
    "    **\n",
    "    ***\n",
    "    ****\n",
    "    *****\n",
    "\n",
    "### Sample Input 2:\n",
    "    6\n",
    "\n",
    "### Sample Output 2:\n",
    "    *\n",
    "    **\n",
    "    ***\n",
    "    ****\n",
    "    *****\n",
    "    ******\n",
    "   "
   ]
  },
  {
   "cell_type": "code",
   "execution_count": 3,
   "id": "314e3221-a3cf-4df4-aec9-86ac963e6b68",
   "metadata": {},
   "outputs": [
    {
     "name": "stdin",
     "output_type": "stream",
     "text": [
      " 5\n"
     ]
    },
    {
     "name": "stdout",
     "output_type": "stream",
     "text": [
      "*\n",
      "**\n",
      "***\n",
      "****\n",
      "*****\n"
     ]
    }
   ],
   "source": [
    "n = int(input())\n",
    "for i in range(1, n+1):\n",
    "    for j in range(1, i+1):\n",
    "        print(\"*\", end=\"\")\n",
    "    print()"
   ]
  },
  {
   "cell_type": "code",
   "execution_count": null,
   "id": "1c41d8bc-51d7-4538-afe7-6f4a92d482fa",
   "metadata": {},
   "outputs": [],
   "source": []
  },
  {
   "cell_type": "code",
   "execution_count": null,
   "id": "688a6444-f9e0-49b6-aea0-a28a5cf9ad74",
   "metadata": {},
   "outputs": [],
   "source": []
  },
  {
   "cell_type": "code",
   "execution_count": null,
   "id": "31ef7eea-779a-48d4-af2d-00806f90aa0d",
   "metadata": {},
   "outputs": [],
   "source": []
  }
 ],
 "metadata": {
  "kernelspec": {
   "display_name": "Python 3 (ipykernel)",
   "language": "python",
   "name": "python3"
  },
  "language_info": {
   "codemirror_mode": {
    "name": "ipython",
    "version": 3
   },
   "file_extension": ".py",
   "mimetype": "text/x-python",
   "name": "python",
   "nbconvert_exporter": "python",
   "pygments_lexer": "ipython3",
   "version": "3.9.2"
  }
 },
 "nbformat": 4,
 "nbformat_minor": 5
}
