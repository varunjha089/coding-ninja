{
 "cells": [
  {
   "cell_type": "markdown",
   "id": "fb9341cd-aa6b-4ca7-a2a7-689351858e27",
   "metadata": {},
   "source": [
    "# Code : Triangle Number Pattern\n",
    "\n",
    "Print the following pattern for the given N number of rows.\n",
    "\n",
    "### Pattern for N = 4\n",
    "    1\n",
    "    22\n",
    "    333\n",
    "    4444\n",
    "\n",
    "### Input format :\n",
    "    Integer N (Total no. of rows)\n",
    "### Output format :\n",
    "    Pattern in N lines\n",
    "\n",
    "### Constraints\n",
    "    0 <= N <= 50\n",
    "\n",
    "### Sample Input 1:\n",
    "    5\n",
    "### Sample Output 1:\n",
    "    1\n",
    "    22\n",
    "    333\n",
    "    4444\n",
    "    55555\n",
    "\n",
    "### Sample Input 2:\n",
    "    6\n",
    "    \n",
    "### Sample Output 2:\n",
    "    1\n",
    "    22\n",
    "    333\n",
    "    4444\n",
    "    55555\n",
    "    666666\n"
   ]
  },
  {
   "cell_type": "code",
   "execution_count": 2,
   "id": "4cf09ba0-419c-43a3-9d3f-2cdc2be175bf",
   "metadata": {},
   "outputs": [
    {
     "name": "stdin",
     "output_type": "stream",
     "text": [
      " 5\n"
     ]
    },
    {
     "name": "stdout",
     "output_type": "stream",
     "text": [
      "1\n",
      "22\n",
      "333\n",
      "4444\n",
      "55555\n"
     ]
    }
   ],
   "source": [
    "n = int(input())\n",
    "for i in range(1, n+1):\n",
    "    for j in range(1, i+1):\n",
    "        print(i, end=\"\")\n",
    "    print()"
   ]
  },
  {
   "cell_type": "code",
   "execution_count": null,
   "id": "e4b36e41-aada-481a-b9c2-6ed8d95513e3",
   "metadata": {},
   "outputs": [],
   "source": []
  }
 ],
 "metadata": {
  "kernelspec": {
   "display_name": "Python 3 (ipykernel)",
   "language": "python",
   "name": "python3"
  },
  "language_info": {
   "codemirror_mode": {
    "name": "ipython",
    "version": 3
   },
   "file_extension": ".py",
   "mimetype": "text/x-python",
   "name": "python",
   "nbconvert_exporter": "python",
   "pygments_lexer": "ipython3",
   "version": "3.9.2"
  }
 },
 "nbformat": 4,
 "nbformat_minor": 5
}
