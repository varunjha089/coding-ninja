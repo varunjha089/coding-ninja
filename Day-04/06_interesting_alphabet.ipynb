{
 "cells": [
  {
   "cell_type": "markdown",
   "id": "8d38c194-931b-49dd-837e-ff6efa655e20",
   "metadata": {},
   "source": [
    "# Code : Interesting Alphabets\n",
    "\n",
    "Print the following pattern for the given number of rows.\n",
    "\n",
    "#### Pattern for N = 5\n",
    "    E\n",
    "    DE\n",
    "    CDE\n",
    "    BCDE\n",
    "    ABCDE\n",
    "\n",
    "### Input format :\n",
    "    N (Total no. of rows)\n",
    "\n",
    "### Output format :\n",
    "    Pattern in N lines\n",
    "\n",
    "### Constraints\n",
    "    0 <= N <= 26\n",
    "\n",
    "### Sample Input 1:\n",
    "    8\n",
    "\n",
    "### Sample Output 1:\n",
    "    H\n",
    "    GH\n",
    "    FGH\n",
    "    EFGH\n",
    "    DEFGH\n",
    "    CDEFGH\n",
    "    BCDEFGH\n",
    "    ABCDEFGH\n",
    "\n",
    "### Sample Input 2:\n",
    "    7\n",
    "\n",
    "### Sample Output 2:\n",
    "    G\n",
    "    FG\n",
    "    EFG\n",
    "    DEFG\n",
    "    CDEFG\n",
    "    BCDEFG\n",
    "    ABCDEFG"
   ]
  },
  {
   "cell_type": "code",
   "execution_count": 18,
   "id": "0f095c2f-1ee7-4010-9eec-1dae72981e9b",
   "metadata": {},
   "outputs": [
    {
     "name": "stdin",
     "output_type": "stream",
     "text": [
      " 5\n"
     ]
    },
    {
     "name": "stdout",
     "output_type": "stream",
     "text": [
      "E\n",
      "DE\n",
      "CDE\n",
      "BCDE\n",
      "ABCDE\n"
     ]
    }
   ],
   "source": [
    "import string\n",
    "\n",
    "n = int(input())\n",
    "upper_case = string.ascii_uppercase[:n]\n",
    "rev = upper_case[::-1]\n",
    "arr = []\n",
    "for i in range(len(upper_case)):\n",
    "    charc = \"\"\n",
    "    for j in range(i+1):\n",
    "        # print(upper_case[j], end=\"\")\n",
    "        charc += rev[j]\n",
    "    arr.append(charc)\n",
    "\n",
    "# arr.reverse()\n",
    "for i in arr:\n",
    "    print(i[::-1])"
   ]
  },
  {
   "cell_type": "code",
   "execution_count": null,
   "id": "71d062f0-cc07-42fc-83f8-791e8aa1783b",
   "metadata": {},
   "outputs": [],
   "source": []
  }
 ],
 "metadata": {
  "kernelspec": {
   "display_name": "Python 3 (ipykernel)",
   "language": "python",
   "name": "python3"
  },
  "language_info": {
   "codemirror_mode": {
    "name": "ipython",
    "version": 3
   },
   "file_extension": ".py",
   "mimetype": "text/x-python",
   "name": "python",
   "nbconvert_exporter": "python",
   "pygments_lexer": "ipython3",
   "version": "3.9.2"
  }
 },
 "nbformat": 4,
 "nbformat_minor": 5
}
