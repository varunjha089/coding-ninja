{
 "cells": [
  {
   "cell_type": "markdown",
   "id": "92a02577-c8e7-4724-9aee-528fb562b10b",
   "metadata": {},
   "source": [
    "# Number Pattern 1\n",
    "\n",
    "Print the following pattern for the given N number of rows.\n",
    "\n",
    "### Pattern for N = 4\n",
    "    1\n",
    "    11\n",
    "    111\n",
    "    1111\n",
    "\n",
    "### Input format :\n",
    "    Integer N (Total no. of rows)\n",
    "\n",
    "### Output format :\n",
    "    Pattern in N lines\n",
    "\n",
    "### Sample Input :\n",
    "    5\n",
    "\n",
    "### Sample Output :\n",
    "    1\n",
    "    11\n",
    "    111\n",
    "    1111\n",
    "    11111"
   ]
  },
  {
   "cell_type": "code",
   "execution_count": 3,
   "id": "362fb08b-1ebc-4357-ae32-54b042f79c82",
   "metadata": {},
   "outputs": [
    {
     "name": "stdin",
     "output_type": "stream",
     "text": [
      " 5\n"
     ]
    },
    {
     "name": "stdout",
     "output_type": "stream",
     "text": [
      "1\n",
      "11\n",
      "111\n",
      "1111\n",
      "11111\n"
     ]
    }
   ],
   "source": [
    "n = int(input())\n",
    "for i in range(1, n+1):\n",
    "    for j in range(1, i+1):\n",
    "        print(1, end=\"\")\n",
    "    print()"
   ]
  },
  {
   "cell_type": "code",
   "execution_count": null,
   "id": "f9546147-b1b1-40e3-90eb-49348fede676",
   "metadata": {},
   "outputs": [],
   "source": []
  }
 ],
 "metadata": {
  "kernelspec": {
   "display_name": "Python 3 (ipykernel)",
   "language": "python",
   "name": "python3"
  },
  "language_info": {
   "codemirror_mode": {
    "name": "ipython",
    "version": 3
   },
   "file_extension": ".py",
   "mimetype": "text/x-python",
   "name": "python",
   "nbconvert_exporter": "python",
   "pygments_lexer": "ipython3",
   "version": "3.9.2"
  }
 },
 "nbformat": 4,
 "nbformat_minor": 5
}
