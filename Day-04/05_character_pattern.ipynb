{
 "cells": [
  {
   "cell_type": "markdown",
   "id": "85442d0c-b254-41f8-b80f-b95602fa1ed4",
   "metadata": {},
   "source": []
  },
  {
   "cell_type": "code",
   "execution_count": 1,
   "id": "2b8be50a-5a26-499b-b1c3-42efd0ea6ba0",
   "metadata": {},
   "outputs": [
    {
     "name": "stdin",
     "output_type": "stream",
     "text": [
      " 2\n"
     ]
    },
    {
     "name": "stdout",
     "output_type": "stream",
     "text": [
      "A\n",
      "BB\n"
     ]
    }
   ],
   "source": [
    "import string\n",
    "\n",
    "n = int(input())\n",
    "upper_case = string.ascii_uppercase[:n]\n",
    "for i in range(len(upper_case)):\n",
    "        for j in range(i+1):\n",
    "            print(upper_case[i], end=\"\")\n",
    "        print()"
   ]
  },
  {
   "cell_type": "code",
   "execution_count": 7,
   "id": "ed73ac5e-2101-433c-90f9-bba4b60d72ab",
   "metadata": {},
   "outputs": [
    {
     "data": {
      "text/plain": [
       "'G'"
      ]
     },
     "execution_count": 12,
     "metadata": {},
     "output_type": "execute_result"
    }
   ],
   "source": [
    "chr(65)\n",
    "\n",
    "chr(90)"
   ]
  },
  {
   "cell_type": "code",
   "execution_count": 25,
   "id": "2d3419cc-ecbc-41bf-9c73-52270870607e",
   "metadata": {},
   "outputs": [
    {
     "name": "stdin",
     "output_type": "stream",
     "text": [
      " 6\n"
     ]
    },
    {
     "name": "stdout",
     "output_type": "stream",
     "text": [
      "asciiTarget: 70\n",
      "chr of asciiTarget: F\n"
     ]
    }
   ],
   "source": [
    "n = int(input())\n",
    "x = ord('A')\n",
    "asciiTarget = x + n - 1\n",
    "print(f\"asciiTarget: {asciiTarget}\")\n",
    "print(f\"chr of asciiTarget: {chr(asciiTarget)}\")\n",
    "# print(f\"x: {x}\")\n",
    "\n",
    "\n",
    "for i in range(1, n+1):\n",
    "    # print(chr(i))\n",
    "    for j in range(65, 65+n):\n",
    "        print(chr(j), end=\"\")\n",
    "    print()"
   ]
  },
  {
   "cell_type": "code",
   "execution_count": null,
   "id": "209faf44-9d31-4f4f-9b2b-97a8da2842ab",
   "metadata": {},
   "outputs": [],
   "source": []
  }
 ],
 "metadata": {
  "kernelspec": {
   "display_name": "Python 3 (ipykernel)",
   "language": "python",
   "name": "python3"
  },
  "language_info": {
   "codemirror_mode": {
    "name": "ipython",
    "version": 3
   },
   "file_extension": ".py",
   "mimetype": "text/x-python",
   "name": "python",
   "nbconvert_exporter": "python",
   "pygments_lexer": "ipython3",
   "version": "3.9.2"
  }
 },
 "nbformat": 4,
 "nbformat_minor": 5
}
