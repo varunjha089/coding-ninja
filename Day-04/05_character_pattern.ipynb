{
 "cells": [
  {
   "cell_type": "markdown",
   "id": "85442d0c-b254-41f8-b80f-b95602fa1ed4",
   "metadata": {},
   "source": [
    "# Code : Character Pattern\n",
    "\n",
    "Print the following pattern for the given N number of rows.\n",
    "\n",
    "### Pattern for N = 4\n",
    "    A\n",
    "    BC\n",
    "    CDE\n",
    "    DEFG\n",
    "\n",
    "### Input format :\n",
    "    Integer N (Total no. of rows)\n",
    "\n",
    "### Output format :\n",
    "    Pattern in N lines\n",
    "\n",
    "### Constraints\n",
    "    0 <= N <= 13\n",
    "\n",
    "### Sample Input 1:\n",
    "    5\n",
    "\n",
    "### Sample Output 1:\n",
    "    A\n",
    "    BC\n",
    "    CDE\n",
    "    DEFG\n",
    "    EFGHI\n",
    "\n",
    "### Sample Input 2:\n",
    "    6\n",
    "\n",
    "### Sample Output 2:\n",
    "    A\n",
    "    BC\n",
    "    CDE\n",
    "    DEFG\n",
    "    EFGHI\n",
    "    FGHIJK"
   ]
  },
  {
   "cell_type": "code",
   "execution_count": 1,
   "id": "2d3419cc-ecbc-41bf-9c73-52270870607e",
   "metadata": {},
   "outputs": [
    {
     "name": "stdin",
     "output_type": "stream",
     "text": [
      " 5\n"
     ]
    },
    {
     "name": "stdout",
     "output_type": "stream",
     "text": [
      "A\n",
      "BC\n",
      "CDE\n",
      "DEFG\n",
      "EFGHI\n"
     ]
    }
   ],
   "source": [
    "import string\n",
    "\n",
    "n = int(input())\n",
    "upper_case = string.ascii_uppercase[:]\n",
    "\n",
    "\n",
    "for i in range(n):\n",
    "    phrase = \"\"\n",
    "    for j in range(i+1):\n",
    "        if j == 0:\n",
    "            phrase += upper_case[i]\n",
    "        else:\n",
    "            phrase += upper_case[i+j]\n",
    "    print(phrase)"
   ]
  },
  {
   "cell_type": "code",
   "execution_count": null,
   "id": "23bedeb8-bf5c-49e0-a630-06da5ac66af7",
   "metadata": {},
   "outputs": [],
   "source": []
  }
 ],
 "metadata": {
  "kernelspec": {
   "display_name": "Python 3 (ipykernel)",
   "language": "python",
   "name": "python3"
  },
  "language_info": {
   "codemirror_mode": {
    "name": "ipython",
    "version": 3
   },
   "file_extension": ".py",
   "mimetype": "text/x-python",
   "name": "python",
   "nbconvert_exporter": "python",
   "pygments_lexer": "ipython3",
   "version": "3.9.2"
  }
 },
 "nbformat": 4,
 "nbformat_minor": 5
}
