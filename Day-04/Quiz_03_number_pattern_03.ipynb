{
 "cells": [
  {
   "cell_type": "markdown",
   "id": "1301d87c-4be8-4543-8d3f-a79310f3240e",
   "metadata": {},
   "source": [
    "# Number Pattern 3\n",
    "\n",
    "Print the following pattern for the given N number of rows.\n",
    "\n",
    "### Pattern for N = 4\n",
    "    1\n",
    "    11\n",
    "    121\n",
    "    1221\n",
    "    \n",
    "### Input format :\n",
    "    Integer N (Total no. of rows)\n",
    "\n",
    "### Output format :\n",
    "    Pattern in N lines\n",
    "\n",
    "### Sample Input :\n",
    "    5\n",
    "\n",
    "### Sample Output :\n",
    "    1\n",
    "    11\n",
    "    121\n",
    "    1221\n",
    "    12221\n"
   ]
  },
  {
   "cell_type": "code",
   "execution_count": 3,
   "id": "f3439ca1-3824-472e-a83a-882770d96bf1",
   "metadata": {},
   "outputs": [
    {
     "name": "stdin",
     "output_type": "stream",
     "text": [
      " 5\n"
     ]
    },
    {
     "name": "stdout",
     "output_type": "stream",
     "text": [
      "1\n",
      "11\n",
      "121\n",
      "1221\n",
      "12221\n"
     ]
    }
   ],
   "source": [
    "n = int(input())\n",
    "for i in range(1, n+1):\n",
    "    for j in range(1, i+1):\n",
    "        if i >= 3:\n",
    "            if j == 1 or j == i:\n",
    "                print(1, end=\"\")\n",
    "            else:\n",
    "                print(2, end=\"\")\n",
    "        else:\n",
    "            print(1, end=\"\")\n",
    "    print()"
   ]
  },
  {
   "cell_type": "code",
   "execution_count": null,
   "id": "a6427502-5211-4c4f-b895-01a2d1eabd3b",
   "metadata": {},
   "outputs": [],
   "source": []
  },
  {
   "cell_type": "code",
   "execution_count": null,
   "id": "60b0282f-cc5c-4dbd-bd89-52708d455f86",
   "metadata": {},
   "outputs": [],
   "source": []
  }
 ],
 "metadata": {
  "kernelspec": {
   "display_name": "Python 3 (ipykernel)",
   "language": "python",
   "name": "python3"
  },
  "language_info": {
   "codemirror_mode": {
    "name": "ipython",
    "version": 3
   },
   "file_extension": ".py",
   "mimetype": "text/x-python",
   "name": "python",
   "nbconvert_exporter": "python",
   "pygments_lexer": "ipython3",
   "version": "3.9.2"
  }
 },
 "nbformat": 4,
 "nbformat_minor": 5
}
