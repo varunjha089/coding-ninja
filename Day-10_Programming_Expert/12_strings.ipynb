{
 "cells": [
  {
   "cell_type": "code",
   "execution_count": 4,
   "id": "0c78a451-4b28-49ae-9a3e-bf5358c2e473",
   "metadata": {},
   "outputs": [],
   "source": [
    "s = \"Hello, World\""
   ]
  },
  {
   "cell_type": "markdown",
   "id": "0af5727e-bc11-4c0a-98a2-f5a4197dfc4e",
   "metadata": {},
   "source": [
    "## .count()"
   ]
  },
  {
   "cell_type": "code",
   "execution_count": 5,
   "id": "d8a1a0ff-eed3-4b2c-928a-0c769393b167",
   "metadata": {},
   "outputs": [
    {
     "data": {
      "text/plain": [
       "1"
      ]
     },
     "execution_count": 5,
     "metadata": {},
     "output_type": "execute_result"
    }
   ],
   "source": [
    "s.count(\"H\")"
   ]
  },
  {
   "cell_type": "markdown",
   "id": "003ba293-b459-4144-971f-b9085debbf07",
   "metadata": {},
   "source": [
    "## .find()"
   ]
  },
  {
   "cell_type": "code",
   "execution_count": 7,
   "id": "f5807d8d-b7f6-4e12-8746-05d2bf42406d",
   "metadata": {},
   "outputs": [
    {
     "data": {
      "text/plain": [
       "7"
      ]
     },
     "execution_count": 7,
     "metadata": {},
     "output_type": "execute_result"
    }
   ],
   "source": [
    "s.find(\"W\")"
   ]
  },
  {
   "cell_type": "markdown",
   "id": "08563d22-6c77-4787-b5e8-6e2fa06c159c",
   "metadata": {},
   "source": [
    "## .upper()"
   ]
  },
  {
   "cell_type": "code",
   "execution_count": 9,
   "id": "ccb5f05f-6d28-4af1-8fdd-2fb729bfa7fb",
   "metadata": {},
   "outputs": [
    {
     "data": {
      "text/plain": [
       "'HELLO, WORLD'"
      ]
     },
     "execution_count": 9,
     "metadata": {},
     "output_type": "execute_result"
    }
   ],
   "source": [
    "s.upper()"
   ]
  },
  {
   "cell_type": "markdown",
   "id": "f20fb1a3-ce40-4a12-b037-19d08356749d",
   "metadata": {},
   "source": [
    "## .lower()"
   ]
  },
  {
   "cell_type": "code",
   "execution_count": 10,
   "id": "5e20dc29-bfe0-4133-b58b-acdcf83a600a",
   "metadata": {},
   "outputs": [
    {
     "data": {
      "text/plain": [
       "'hello, world'"
      ]
     },
     "execution_count": 10,
     "metadata": {},
     "output_type": "execute_result"
    }
   ],
   "source": [
    "caps = s.upper()\n",
    "caps.lower()"
   ]
  },
  {
   "cell_type": "markdown",
   "id": "13802b78-2123-49ad-add7-c7f4118d93b3",
   "metadata": {},
   "source": [
    "## .capitalize()"
   ]
  },
  {
   "cell_type": "code",
   "execution_count": 11,
   "id": "b1c28396-7b60-4598-979c-ac464992528e",
   "metadata": {},
   "outputs": [
    {
     "data": {
      "text/plain": [
       "'Hello, world'"
      ]
     },
     "execution_count": 11,
     "metadata": {},
     "output_type": "execute_result"
    }
   ],
   "source": [
    "caps.capitalize()"
   ]
  },
  {
   "cell_type": "markdown",
   "id": "09fa5cc7-58e2-4e46-8905-739b3c0ad85a",
   "metadata": {},
   "source": [
    "## 'in' operator"
   ]
  },
  {
   "cell_type": "code",
   "execution_count": 12,
   "id": "a24d968b-91e2-4e42-a6de-f32948f0cf6f",
   "metadata": {},
   "outputs": [
    {
     "data": {
      "text/plain": [
       "False"
      ]
     },
     "execution_count": 12,
     "metadata": {},
     "output_type": "execute_result"
    }
   ],
   "source": [
    "'hello' in caps"
   ]
  },
  {
   "cell_type": "code",
   "execution_count": 13,
   "id": "14873b46-fac1-4edc-9b6d-073b4054e39f",
   "metadata": {},
   "outputs": [
    {
     "data": {
      "text/plain": [
       "False"
      ]
     },
     "execution_count": 13,
     "metadata": {},
     "output_type": "execute_result"
    }
   ],
   "source": [
    "'hello' in s"
   ]
  },
  {
   "cell_type": "code",
   "execution_count": 14,
   "id": "f08d996f-1ca8-4658-bced-78226593fcbd",
   "metadata": {},
   "outputs": [
    {
     "data": {
      "text/plain": [
       "True"
      ]
     },
     "execution_count": 14,
     "metadata": {},
     "output_type": "execute_result"
    }
   ],
   "source": [
    "'Hello' in s"
   ]
  },
  {
   "cell_type": "markdown",
   "id": "445ced86-ead3-4c29-bd55-f1114af2298f",
   "metadata": {},
   "source": [
    "## .isdigit()"
   ]
  },
  {
   "cell_type": "code",
   "execution_count": 16,
   "id": "062a6314-eb98-444e-9dff-a193055d750b",
   "metadata": {},
   "outputs": [
    {
     "data": {
      "text/plain": [
       "True"
      ]
     },
     "execution_count": 16,
     "metadata": {},
     "output_type": "execute_result"
    }
   ],
   "source": [
    "n = '1'\n",
    "n.isdigit()"
   ]
  },
  {
   "cell_type": "markdown",
   "id": "ae9e1b3b-f372-4c19-91ba-7ace8a08f51b",
   "metadata": {},
   "source": [
    "## .split()"
   ]
  },
  {
   "cell_type": "code",
   "execution_count": 18,
   "id": "f4abf52e-79b0-4dd1-ab54-3a0961c8bafa",
   "metadata": {},
   "outputs": [
    {
     "data": {
      "text/plain": [
       "['Hello,', 'World']"
      ]
     },
     "execution_count": 18,
     "metadata": {},
     "output_type": "execute_result"
    }
   ],
   "source": [
    "# splitting by space\n",
    "s.split(\" \")"
   ]
  },
  {
   "cell_type": "code",
   "execution_count": 20,
   "id": "2a7dbb6c-df55-4201-97be-326ceb1bb6f0",
   "metadata": {},
   "outputs": [
    {
     "data": {
      "text/plain": [
       "['Hello', ' World']"
      ]
     },
     "execution_count": 20,
     "metadata": {},
     "output_type": "execute_result"
    }
   ],
   "source": [
    "# splitting by comma ','\n",
    "s.split(',')"
   ]
  },
  {
   "cell_type": "markdown",
   "id": "9e438223-6ca6-42cc-b006-3f22a8889f81",
   "metadata": {},
   "source": [
    "## .replace()"
   ]
  },
  {
   "cell_type": "code",
   "execution_count": 21,
   "id": "c3d3e542-92c6-48b4-b801-fa3f63d18a59",
   "metadata": {},
   "outputs": [
    {
     "data": {
      "text/plain": [
       "'Hello, Varun Kumar'"
      ]
     },
     "execution_count": 21,
     "metadata": {},
     "output_type": "execute_result"
    }
   ],
   "source": [
    "s.replace(\"World\", \"Varun Kumar\")"
   ]
  },
  {
   "cell_type": "code",
   "execution_count": 22,
   "id": "d41a9c98-115e-4a1d-852c-75f5b12285c9",
   "metadata": {},
   "outputs": [
    {
     "data": {
      "text/plain": [
       "'Hello, World'"
      ]
     },
     "execution_count": 22,
     "metadata": {},
     "output_type": "execute_result"
    }
   ],
   "source": [
    "s"
   ]
  },
  {
   "cell_type": "markdown",
   "id": "84a4c3a6-88d6-4958-8c3b-b4daef2d0023",
   "metadata": {},
   "source": [
    "## 'f' string"
   ]
  },
  {
   "cell_type": "code",
   "execution_count": 23,
   "id": "665377c5-8375-4978-8687-62557cf230da",
   "metadata": {},
   "outputs": [],
   "source": [
    "f = f\"{s}. This is Varun Kumar\""
   ]
  },
  {
   "cell_type": "code",
   "execution_count": 24,
   "id": "7a41507e-110c-4d99-aa55-5c73cd5163e0",
   "metadata": {},
   "outputs": [
    {
     "data": {
      "text/plain": [
       "'Hello, World. This is Varun Kumar'"
      ]
     },
     "execution_count": 24,
     "metadata": {},
     "output_type": "execute_result"
    }
   ],
   "source": [
    "f"
   ]
  },
  {
   "cell_type": "markdown",
   "id": "9cf82eb3-d0ec-4c5b-8d34-7e5a2781d46f",
   "metadata": {},
   "source": [
    "## Multi Line String"
   ]
  },
  {
   "cell_type": "code",
   "execution_count": 25,
   "id": "88a35070-9a5f-4a6b-bf45-958a9a730502",
   "metadata": {},
   "outputs": [],
   "source": [
    "multi_line = \"\"\"\n",
    "This is Varun Kumar,\n",
    "I am a programmer,\n",
    "Big fan of Linus Torvalds.\n",
    "\"\"\""
   ]
  },
  {
   "cell_type": "code",
   "execution_count": 27,
   "id": "48081d6e-e278-44a2-ac62-83a132d3f7c9",
   "metadata": {},
   "outputs": [
    {
     "name": "stdout",
     "output_type": "stream",
     "text": [
      "\n",
      "This is Varun Kumar,\n",
      "I am a programmer,\n",
      "Big fan of Linus Torvalds.\n",
      "\n"
     ]
    }
   ],
   "source": [
    "print(multi_line)"
   ]
  },
  {
   "cell_type": "markdown",
   "id": "4a732c0d-431f-46fe-8e72-5399ef31eb4d",
   "metadata": {},
   "source": [
    "## Escape Character"
   ]
  },
  {
   "cell_type": "code",
   "execution_count": 29,
   "id": "cf6a9854-ac76-4129-afb8-3201f7404f13",
   "metadata": {},
   "outputs": [],
   "source": [
    "ec = f\"This is VARUN\\tKUMAR, \\nI am a progrmmer, \\nBig fan of Linux Torvalds\""
   ]
  },
  {
   "cell_type": "code",
   "execution_count": 30,
   "id": "0e67a872-9972-41aa-b771-504d99259ac0",
   "metadata": {},
   "outputs": [
    {
     "data": {
      "text/plain": [
       "'This is VARUN\\tKUMAR, \\nI am a progrmmer, \\nBig fan of Linux Torvalds'"
      ]
     },
     "execution_count": 30,
     "metadata": {},
     "output_type": "execute_result"
    }
   ],
   "source": [
    "ec"
   ]
  },
  {
   "cell_type": "code",
   "execution_count": 31,
   "id": "fbff43cd-dfed-4e6d-8163-18a6ad0a82b8",
   "metadata": {},
   "outputs": [
    {
     "name": "stdout",
     "output_type": "stream",
     "text": [
      "This is VARUN\tKUMAR, \n",
      "I am a progrmmer, \n",
      "Big fan of Linux Torvalds\n"
     ]
    }
   ],
   "source": [
    "print(ec)"
   ]
  },
  {
   "cell_type": "markdown",
   "id": "81d0e8cb-bc1e-4dd5-9b13-a3e287af36b9",
   "metadata": {},
   "source": [
    "## .join()"
   ]
  },
  {
   "cell_type": "code",
   "execution_count": 33,
   "id": "5e061c44-c1f6-4ab1-a4a6-ee906a44878a",
   "metadata": {},
   "outputs": [],
   "source": [
    "name = ['V', 'a', 'r', 'u', 'n', ' ', 'K', 'u', 'm', 'a', 'r']\n",
    "strng = \"\".join(name)"
   ]
  },
  {
   "cell_type": "code",
   "execution_count": 34,
   "id": "61de0c56-2385-47cd-84b9-80472b24312a",
   "metadata": {},
   "outputs": [
    {
     "data": {
      "text/plain": [
       "'Varun Kumar'"
      ]
     },
     "execution_count": 34,
     "metadata": {},
     "output_type": "execute_result"
    }
   ],
   "source": [
    "strng"
   ]
  },
  {
   "cell_type": "code",
   "execution_count": 35,
   "id": "624ca098-d0bc-4777-9350-e72391793716",
   "metadata": {},
   "outputs": [
    {
     "data": {
      "text/plain": [
       "'V-a-r-u-n- -K-u-m-a-r'"
      ]
     },
     "execution_count": 35,
     "metadata": {},
     "output_type": "execute_result"
    }
   ],
   "source": [
    "\"-\".join(name)"
   ]
  },
  {
   "cell_type": "code",
   "execution_count": 36,
   "id": "3f342fac-5ab2-4742-939e-09da65463d1c",
   "metadata": {},
   "outputs": [
    {
     "data": {
      "text/plain": [
       "'V|a|r|u|n| |K|u|m|a|r'"
      ]
     },
     "execution_count": 36,
     "metadata": {},
     "output_type": "execute_result"
    }
   ],
   "source": [
    "\"|\".join(name)"
   ]
  },
  {
   "cell_type": "code",
   "execution_count": 37,
   "id": "9f643fd2-cdae-470e-9448-ee8a94b50e2a",
   "metadata": {},
   "outputs": [
    {
     "data": {
      "text/plain": [
       "'V[]a[]r[]u[]n[] []K[]u[]m[]a[]r'"
      ]
     },
     "execution_count": 37,
     "metadata": {},
     "output_type": "execute_result"
    }
   ],
   "source": [
    "\"[]\".join(name)"
   ]
  },
  {
   "cell_type": "code",
   "execution_count": 38,
   "id": "da58306f-fc87-4e61-af3f-4229c20bd6b4",
   "metadata": {},
   "outputs": [
    {
     "name": "stdout",
     "output_type": "stream",
     "text": [
      "[V][a][r][u][n][ ][K][u][m][a][r]"
     ]
    }
   ],
   "source": [
    "for i in name:\n",
    "    print(\"[\", end=\"\")\n",
    "    print(i, end=\"\")\n",
    "    print(\"]\", end=\"\")"
   ]
  },
  {
   "cell_type": "code",
   "execution_count": 40,
   "id": "af0c4541-1b68-4dbe-b6f2-cd8bd31b9fd4",
   "metadata": {},
   "outputs": [
    {
     "name": "stdout",
     "output_type": "stream",
     "text": [
      "[V][a][r][u][n] [K][u][m][a][r]"
     ]
    }
   ],
   "source": [
    "for i in name:\n",
    "    if i == \" \":\n",
    "        print(\" \", end=\"\")\n",
    "        continue\n",
    "    print(\"[\", end=\"\")\n",
    "    print(i, end=\"\")\n",
    "    print(\"]\", end=\"\")"
   ]
  },
  {
   "cell_type": "code",
   "execution_count": 43,
   "id": "a135a412-062d-4933-b343-10d6ea684fac",
   "metadata": {},
   "outputs": [
    {
     "name": "stdout",
     "output_type": "stream",
     "text": [
      "[V][A][R][U][N] [K][U][M][A][R]"
     ]
    }
   ],
   "source": [
    "for i in name:\n",
    "    if i == \" \":\n",
    "        print(\" \", end=\"\")\n",
    "        continue\n",
    "    print(\"[\", end=\"\")\n",
    "    print(i.capitalize(), end=\"\")\n",
    "    print(\"]\", end=\"\")"
   ]
  },
  {
   "cell_type": "code",
   "execution_count": null,
   "id": "7cc7a781-9e5a-46ac-adf4-50a177191310",
   "metadata": {},
   "outputs": [],
   "source": []
  }
 ],
 "metadata": {
  "kernelspec": {
   "display_name": "Python 3 (ipykernel)",
   "language": "python",
   "name": "python3"
  },
  "language_info": {
   "codemirror_mode": {
    "name": "ipython",
    "version": 3
   },
   "file_extension": ".py",
   "mimetype": "text/x-python",
   "name": "python",
   "nbconvert_exporter": "python",
   "pygments_lexer": "ipython3",
   "version": "3.9.2"
  }
 },
 "nbformat": 4,
 "nbformat_minor": 5
}
