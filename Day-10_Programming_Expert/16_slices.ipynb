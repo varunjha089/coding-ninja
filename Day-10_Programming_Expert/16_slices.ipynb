{
 "cells": [
  {
   "cell_type": "markdown",
   "id": "5dec57a5-df6a-4a36-9cc9-27759d1205de",
   "metadata": {},
   "source": [
    "## What are Slices?"
   ]
  },
  {
   "cell_type": "code",
   "execution_count": null,
   "id": "d0fea780-0fd6-4ee3-adf9-1d9fb5ab2bf2",
   "metadata": {},
   "outputs": [],
   "source": []
  },
  {
   "cell_type": "markdown",
   "id": "a4482b00-419a-4c47-875a-aa0b41db21dd",
   "metadata": {},
   "source": [
    "## Slices Syntax"
   ]
  },
  {
   "cell_type": "code",
   "execution_count": null,
   "id": "b8e714f4-2ebd-4d77-b9dd-ff20b384738d",
   "metadata": {},
   "outputs": [],
   "source": []
  },
  {
   "cell_type": "markdown",
   "id": "2e978838-f678-4b30-81a9-60043fbb4058",
   "metadata": {},
   "source": [
    "## Negative Index Slicing"
   ]
  },
  {
   "cell_type": "code",
   "execution_count": null,
   "id": "29ceaa4f-08d4-4807-ba18-38892ef868e0",
   "metadata": {},
   "outputs": [],
   "source": []
  },
  {
   "cell_type": "markdown",
   "id": "2edb10b1-c0e0-4666-993c-09f69b03c702",
   "metadata": {},
   "source": [
    "## Copying with slice"
   ]
  },
  {
   "cell_type": "code",
   "execution_count": null,
   "id": "8b0c811d-23f0-415d-94f0-6927953a068f",
   "metadata": {},
   "outputs": [],
   "source": []
  },
  {
   "cell_type": "markdown",
   "id": "74c66aae-e425-4067-a04f-639bdcd9887f",
   "metadata": {},
   "source": [
    "## Reversing With slice"
   ]
  },
  {
   "cell_type": "code",
   "execution_count": null,
   "id": "4eeed710-e393-48e1-99da-c2ca77768ddd",
   "metadata": {},
   "outputs": [],
   "source": []
  },
  {
   "cell_type": "markdown",
   "id": "0d2423a4-e71d-4c7a-a27e-0712807267bd",
   "metadata": {},
   "source": [
    "## Slicing String"
   ]
  },
  {
   "cell_type": "code",
   "execution_count": null,
   "id": "33a4f7f0-780b-423f-bf53-77102edd28dd",
   "metadata": {},
   "outputs": [],
   "source": []
  },
  {
   "cell_type": "markdown",
   "id": "114990cf-3c26-4077-800f-e58b0a90ec7d",
   "metadata": {},
   "source": [
    "## Slicing Tuples"
   ]
  },
  {
   "cell_type": "code",
   "execution_count": null,
   "id": "b51de336-1bfa-4492-9443-8b44df505e45",
   "metadata": {},
   "outputs": [],
   "source": []
  },
  {
   "cell_type": "markdown",
   "id": "a8793b33-b783-4290-ac49-2fa207ff9aa3",
   "metadata": {},
   "source": []
  }
 ],
 "metadata": {
  "kernelspec": {
   "display_name": "Python 3 (ipykernel)",
   "language": "python",
   "name": "python3"
  },
  "language_info": {
   "codemirror_mode": {
    "name": "ipython",
    "version": 3
   },
   "file_extension": ".py",
   "mimetype": "text/x-python",
   "name": "python",
   "nbconvert_exporter": "python",
   "pygments_lexer": "ipython3",
   "version": "3.9.2"
  }
 },
 "nbformat": 4,
 "nbformat_minor": 5
}
