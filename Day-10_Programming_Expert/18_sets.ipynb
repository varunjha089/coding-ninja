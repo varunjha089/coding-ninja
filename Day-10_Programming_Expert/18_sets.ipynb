{
 "cells": [
  {
   "cell_type": "code",
   "execution_count": null,
   "id": "5b6a701a-a65c-4568-8ab6-d8a60c24bbb2",
   "metadata": {},
   "outputs": [],
   "source": []
  },
  {
   "cell_type": "code",
   "execution_count": null,
   "id": "320f1e1b-ae95-4403-b58c-9e77cee3181d",
   "metadata": {},
   "outputs": [],
   "source": []
  },
  {
   "cell_type": "markdown",
   "id": "a2db8352-c4ae-47e3-ace2-848a459636a5",
   "metadata": {},
   "source": [
    "## Exercise"
   ]
  },
  {
   "cell_type": "code",
   "execution_count": 1,
   "id": "82d751e8-2c61-487b-936f-d0fce49fac13",
   "metadata": {},
   "outputs": [
    {
     "data": {
      "text/plain": [
       "{' ', 'H', 'W', 'd', 'e', 'l', 'o', 'r'}"
      ]
     },
     "execution_count": 1,
     "metadata": {},
     "output_type": "execute_result"
    }
   ],
   "source": [
    "set(\"Hello World\")"
   ]
  },
  {
   "cell_type": "code",
   "execution_count": 3,
   "id": "b58f9f09-9282-4be6-a427-77baaa1d9b40",
   "metadata": {},
   "outputs": [
    {
     "data": {
      "text/plain": [
       "{1, 3}"
      ]
     },
     "execution_count": 3,
     "metadata": {},
     "output_type": "execute_result"
    }
   ],
   "source": [
    "set1 = {1, 2, 3, 4, 5, 6}\n",
    "set2 = {2, 4, 5, 6, 7}\n",
    "x = set1 - set2\n",
    "\n",
    "x"
   ]
  },
  {
   "cell_type": "code",
   "execution_count": 8,
   "id": "e3adbf9f-adbb-4f81-8d1a-94e54e60d17f",
   "metadata": {},
   "outputs": [
    {
     "data": {
      "text/plain": [
       "{1, 3, 7}"
      ]
     },
     "execution_count": 8,
     "metadata": {},
     "output_type": "execute_result"
    }
   ],
   "source": [
    "set1 = {1, 2, 3, 4, 5, 6}\n",
    "set2 = {2, 4, 5, 6, 7}\n",
    "x = set1 ^ set2\n",
    "x"
   ]
  },
  {
   "cell_type": "code",
   "execution_count": 9,
   "id": "08508a75-e52e-4c9b-b533-2f14945d5a8c",
   "metadata": {},
   "outputs": [
    {
     "data": {
      "text/plain": [
       "{1, 2, 3, 4, 5, 6, 7}"
      ]
     },
     "execution_count": 9,
     "metadata": {},
     "output_type": "execute_result"
    }
   ],
   "source": [
    "set1 = {1, 2, 3, 4, 5, 6}\n",
    "set2 = {2, 4, 5, 6, 7}\n",
    "x = set1 | set2\n",
    "x"
   ]
  },
  {
   "cell_type": "code",
   "execution_count": 5,
   "id": "e4010e87-b82e-4ce1-9953-841f9159b631",
   "metadata": {},
   "outputs": [
    {
     "name": "stdout",
     "output_type": "stream",
     "text": [
      "['This', 'is', 'a', 'regular', 'sentence', 'with', 'words', 'inside.', 'Some', 'words', 'are', 'unique', 'within', 'the', 'sentence,', 'while', 'some', 'are', 'duplicates.']\n",
      "{'are', 'within', 'This', 'while', 'a', 'is', 'the', 'some', 'regular', 'unique', 'words', 'duplicates.', 'with', 'Some', 'inside.', 'sentence', 'sentence,'}\n",
      "The sentence contains 17 unique words, but 19 words total.\n"
     ]
    }
   ],
   "source": [
    "# Welcome to our Python playground!\n",
    "\n",
    "sentence = (\n",
    "    \"This is a regular sentence with words inside. Some words are unique within the sentence, \"\n",
    "    + \"while some are duplicates.\"\n",
    ")\n",
    "words_with_duplicates = sentence.split(\" \")\n",
    "unique_words = set(words_with_duplicates)\n",
    "\n",
    "print(words_with_duplicates)\n",
    "print(unique_words)\n",
    "print(f\"The sentence contains {len(unique_words)} unique words, but {len(words_with_duplicates)} words total.\")"
   ]
  },
  {
   "cell_type": "code",
   "execution_count": 9,
   "id": "b32453b9-33d2-4cbc-874d-57e8e6fa18a1",
   "metadata": {},
   "outputs": [
    {
     "name": "stdin",
     "output_type": "stream",
     "text": [
      "Enter a character:  a\n"
     ]
    }
   ],
   "source": [
    "arr = []\n",
    "st = list(set(arr))\n",
    "charc = ''\n",
    "while charc not in arr:\n",
    "    charc = input(\"Enter a character: \")\n",
    "    if len(charc) >= 1:\n",
    "        break\n",
    "    arr.append(charc)"
   ]
  },
  {
   "cell_type": "code",
   "execution_count": null,
   "id": "85c0b6be-8b95-4db8-87c7-753d4f689380",
   "metadata": {},
   "outputs": [],
   "source": []
  }
 ],
 "metadata": {
  "kernelspec": {
   "display_name": "Python 3 (ipykernel)",
   "language": "python",
   "name": "python3"
  },
  "language_info": {
   "codemirror_mode": {
    "name": "ipython",
    "version": 3
   },
   "file_extension": ".py",
   "mimetype": "text/x-python",
   "name": "python",
   "nbconvert_exporter": "python",
   "pygments_lexer": "ipython3",
   "version": "3.9.2"
  }
 },
 "nbformat": 4,
 "nbformat_minor": 5
}
