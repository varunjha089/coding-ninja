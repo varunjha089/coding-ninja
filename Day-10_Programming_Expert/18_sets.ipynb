{
 "cells": [
  {
   "cell_type": "markdown",
   "id": "2e8a7de9-5ec4-411a-96cb-77e79e5194fe",
   "metadata": {},
   "source": [
    "## set and createing set"
   ]
  },
  {
   "cell_type": "code",
   "execution_count": 9,
   "id": "5a21c117-aa3c-426c-9ff6-3ed416621810",
   "metadata": {},
   "outputs": [
    {
     "name": "stdout",
     "output_type": "stream",
     "text": [
      "set()\n"
     ]
    }
   ],
   "source": [
    "x = set()\n",
    "print(x)"
   ]
  },
  {
   "cell_type": "code",
   "execution_count": null,
   "id": "4291aa47-1556-4131-903a-dd7e1d7c60e3",
   "metadata": {},
   "outputs": [],
   "source": []
  },
  {
   "cell_type": "markdown",
   "id": "76823775-c4ea-4573-aa39-d46b968ccfc4",
   "metadata": {},
   "source": [
    "## .add() method"
   ]
  },
  {
   "cell_type": "code",
   "execution_count": 10,
   "id": "4e77e27a-0c92-47c5-8761-e49ad0d9c911",
   "metadata": {},
   "outputs": [
    {
     "name": "stdout",
     "output_type": "stream",
     "text": [
      "{1, 2, 3, 4, 5}\n"
     ]
    }
   ],
   "source": [
    "for i in range(1, 6):\n",
    "    x.add(i)\n",
    "    \n",
    "print(x)"
   ]
  },
  {
   "cell_type": "code",
   "execution_count": null,
   "id": "7fddc41d-5dbe-46a8-b8f5-934d0c83b91e",
   "metadata": {},
   "outputs": [],
   "source": []
  },
  {
   "cell_type": "markdown",
   "id": "16c925a6-e232-4c26-a801-7e758a978761",
   "metadata": {},
   "source": [
    "## .remove() method"
   ]
  },
  {
   "cell_type": "code",
   "execution_count": 11,
   "id": "f5e682b2-d2b2-4904-83d9-c13c606d2799",
   "metadata": {},
   "outputs": [
    {
     "name": "stdout",
     "output_type": "stream",
     "text": [
      "{1, 2, 3, 5}\n"
     ]
    }
   ],
   "source": [
    "x.remove(4)\n",
    "print(x)"
   ]
  },
  {
   "cell_type": "markdown",
   "id": "2e4b7574-ae31-49d4-a06c-2278d835ea57",
   "metadata": {},
   "source": [
    "## .clear() method"
   ]
  },
  {
   "cell_type": "code",
   "execution_count": 12,
   "id": "b36cec54-d514-436a-895b-adad972c5411",
   "metadata": {},
   "outputs": [
    {
     "name": "stdout",
     "output_type": "stream",
     "text": [
      "{1, 2, 3, 4, 5}\n",
      "<class 'set'>\n"
     ]
    }
   ],
   "source": [
    "y = set()\n",
    "\n",
    "for i in range(1, 6):\n",
    "    y.add(i)\n",
    "    \n",
    "print(y)\n",
    "print(type(y))"
   ]
  },
  {
   "cell_type": "code",
   "execution_count": 13,
   "id": "0e01f4c3-f2df-4796-b07d-736db7f8eebf",
   "metadata": {},
   "outputs": [],
   "source": [
    "y.clear()"
   ]
  },
  {
   "cell_type": "code",
   "execution_count": 14,
   "id": "35e91071-f7d5-4813-b10d-918e4f45a7e8",
   "metadata": {},
   "outputs": [
    {
     "data": {
      "text/plain": [
       "set()"
      ]
     },
     "execution_count": 14,
     "metadata": {},
     "output_type": "execute_result"
    }
   ],
   "source": [
    "y"
   ]
  },
  {
   "cell_type": "code",
   "execution_count": null,
   "id": "dd4bfeda-3e8b-4bca-b445-62b680a110b3",
   "metadata": {},
   "outputs": [],
   "source": []
  },
  {
   "cell_type": "markdown",
   "id": "ebdbbcaa-e5a1-40a5-bcc0-263e70c55525",
   "metadata": {},
   "source": [
    "## len() function"
   ]
  },
  {
   "cell_type": "code",
   "execution_count": 15,
   "id": "0222f914-11be-4e82-99de-5b8f53a2cf22",
   "metadata": {},
   "outputs": [
    {
     "name": "stdout",
     "output_type": "stream",
     "text": [
      "5\n"
     ]
    }
   ],
   "source": [
    "y = set()\n",
    "\n",
    "for i in range(1, 6):\n",
    "    y.add(i)\n",
    "    \n",
    "print(len(y))"
   ]
  },
  {
   "cell_type": "code",
   "execution_count": null,
   "id": "9af6df74-e8db-4eee-9df8-fc56a1b1fae3",
   "metadata": {},
   "outputs": [],
   "source": []
  },
  {
   "cell_type": "markdown",
   "id": "6a4c37cf-f772-443d-ac2c-71e395dfc9b9",
   "metadata": {},
   "source": [
    "## in operator"
   ]
  },
  {
   "cell_type": "code",
   "execution_count": 16,
   "id": "5cad0458-421d-407e-ab1b-87a8fa6a0602",
   "metadata": {},
   "outputs": [
    {
     "data": {
      "text/plain": [
       "True"
      ]
     },
     "execution_count": 16,
     "metadata": {},
     "output_type": "execute_result"
    }
   ],
   "source": [
    "5 in y"
   ]
  },
  {
   "cell_type": "code",
   "execution_count": null,
   "id": "4edcb55e-fbc0-4791-b685-cb331b6ddfae",
   "metadata": {},
   "outputs": [],
   "source": []
  },
  {
   "cell_type": "markdown",
   "id": "e6d290b2-847b-4b4b-b919-b25f6d68ed0e",
   "metadata": {},
   "source": [
    "## .union() method\n",
    "\n",
    "A `union` allows us to combine two sets."
   ]
  },
  {
   "cell_type": "code",
   "execution_count": 19,
   "id": "84ada8e2-35d9-4424-99ff-55838aee50d3",
   "metadata": {},
   "outputs": [
    {
     "name": "stdout",
     "output_type": "stream",
     "text": [
      "{0, 1, 2, 3, 4, 5}\n",
      "{6, 7, 8, 9, 10}\n"
     ]
    }
   ],
   "source": [
    "x = set()\n",
    "y = set()\n",
    "for i in range(11):\n",
    "    if i < 6:\n",
    "        x.add(i)\n",
    "    else:\n",
    "        y.add(i)\n",
    "print(x)\n",
    "print(y)"
   ]
  },
  {
   "cell_type": "code",
   "execution_count": 20,
   "id": "bb933300-519b-465b-8af4-01f783da55d3",
   "metadata": {},
   "outputs": [
    {
     "data": {
      "text/plain": [
       "{0, 1, 2, 3, 4, 5, 6, 7, 8, 9, 10}"
      ]
     },
     "execution_count": 20,
     "metadata": {},
     "output_type": "execute_result"
    }
   ],
   "source": [
    "x.union(y)"
   ]
  },
  {
   "cell_type": "code",
   "execution_count": null,
   "id": "8b501066-2eee-4b38-a456-6b1d567456e7",
   "metadata": {},
   "outputs": [],
   "source": []
  },
  {
   "cell_type": "markdown",
   "id": "99ddad22-b13f-4dd3-a629-25abede0e7a4",
   "metadata": {},
   "source": [
    "## .intersection() method\n",
    "\n",
    "A `intersection` gives us common in two sets."
   ]
  },
  {
   "cell_type": "code",
   "execution_count": 22,
   "id": "41bcaa1d-94a1-478d-bb14-c4e1d9b51ddb",
   "metadata": {},
   "outputs": [
    {
     "name": "stdout",
     "output_type": "stream",
     "text": [
      "{0, 1, 2, 3, 4, 5, 6}\n",
      "{6, 7, 8, 9, 10}\n"
     ]
    }
   ],
   "source": [
    "x = set()\n",
    "y = set()\n",
    "for i in range(11):\n",
    "    if i <= 5:\n",
    "        x.add(i)\n",
    "    elif i == 6:\n",
    "        x.add(i)\n",
    "        y.add(i)\n",
    "    else:\n",
    "        y.add(i)\n",
    "print(x)\n",
    "print(y)"
   ]
  },
  {
   "cell_type": "code",
   "execution_count": 23,
   "id": "31c68ea3-434e-437a-acad-0dd11983920f",
   "metadata": {},
   "outputs": [
    {
     "data": {
      "text/plain": [
       "{6}"
      ]
     },
     "execution_count": 23,
     "metadata": {},
     "output_type": "execute_result"
    }
   ],
   "source": [
    "x.intersection(y)"
   ]
  },
  {
   "cell_type": "code",
   "execution_count": null,
   "id": "2ba8138f-5ecd-48f9-ae25-677ff923ae46",
   "metadata": {},
   "outputs": [],
   "source": []
  },
  {
   "cell_type": "markdown",
   "id": "8919002c-3e50-4bbc-bfbd-bbed91b50285",
   "metadata": {},
   "source": [
    "## .difference() method\n",
    "\n",
    "A `difference` gives us the unique elements of firse set w.r.t other."
   ]
  },
  {
   "cell_type": "code",
   "execution_count": 24,
   "id": "5a46efe5-defc-4579-8b65-32d40ab19ae6",
   "metadata": {},
   "outputs": [
    {
     "data": {
      "text/plain": [
       "{0, 1, 2, 3, 4, 5}"
      ]
     },
     "execution_count": 24,
     "metadata": {},
     "output_type": "execute_result"
    }
   ],
   "source": [
    "x.difference(y)"
   ]
  },
  {
   "cell_type": "code",
   "execution_count": 25,
   "id": "b06678fc-8241-494b-9584-66be5e2d1b83",
   "metadata": {},
   "outputs": [
    {
     "data": {
      "text/plain": [
       "{7, 8, 9, 10}"
      ]
     },
     "execution_count": 25,
     "metadata": {},
     "output_type": "execute_result"
    }
   ],
   "source": [
    "y.difference(x)"
   ]
  },
  {
   "cell_type": "code",
   "execution_count": null,
   "id": "fe1b763d-d69c-4316-aaab-9fb7fb99dc73",
   "metadata": {},
   "outputs": [],
   "source": []
  },
  {
   "cell_type": "markdown",
   "id": "4e1a1f4d-5662-4694-99d7-ed8feed45440",
   "metadata": {},
   "source": [
    "## .symmetric_difference() method\n",
    "\n",
    "it will combine no-common elements in both sets."
   ]
  },
  {
   "cell_type": "code",
   "execution_count": 30,
   "id": "18317a66-6f46-4d12-b2ec-09d985b03720",
   "metadata": {},
   "outputs": [
    {
     "name": "stdout",
     "output_type": "stream",
     "text": [
      "{0, 1, 2, 3, 4, 5, 6}\n",
      "{6, 7, 8, 9, 10}\n"
     ]
    }
   ],
   "source": [
    "print(x)\n",
    "print(y)"
   ]
  },
  {
   "cell_type": "code",
   "execution_count": 26,
   "id": "585669a8-1898-4cb8-b5b7-3f59bd9a6866",
   "metadata": {},
   "outputs": [
    {
     "data": {
      "text/plain": [
       "{0, 1, 2, 3, 4, 5, 7, 8, 9, 10}"
      ]
     },
     "execution_count": 26,
     "metadata": {},
     "output_type": "execute_result"
    }
   ],
   "source": [
    "x.symmetric_difference(y)"
   ]
  },
  {
   "cell_type": "code",
   "execution_count": 27,
   "id": "463cb5e0-2c90-47c3-a67c-c3d89798f874",
   "metadata": {},
   "outputs": [
    {
     "data": {
      "text/plain": [
       "{0, 1, 2, 3, 4, 5, 7, 8, 9, 10}"
      ]
     },
     "execution_count": 27,
     "metadata": {},
     "output_type": "execute_result"
    }
   ],
   "source": [
    "y.symmetric_difference(x)"
   ]
  },
  {
   "cell_type": "markdown",
   "id": "524d20e0-4ad6-4561-ba94-2e401ef41403",
   "metadata": {},
   "source": [
    "## .update() method"
   ]
  },
  {
   "cell_type": "code",
   "execution_count": null,
   "id": "b6ffe19c-915b-4c30-baba-ebaa471e871c",
   "metadata": {},
   "outputs": [],
   "source": []
  },
  {
   "cell_type": "markdown",
   "id": "1e167f66-a19f-4df7-8b7f-d156584158bd",
   "metadata": {},
   "source": [
    "## .difference_update() method"
   ]
  },
  {
   "cell_type": "code",
   "execution_count": null,
   "id": "423ef563-fbb3-44fb-8297-e24aceba343b",
   "metadata": {},
   "outputs": [],
   "source": []
  },
  {
   "cell_type": "markdown",
   "id": "f05a6e59-0c71-4ad3-9dda-d1d9a5fa84e3",
   "metadata": {},
   "source": [
    "## .symmetric_difference_update() method"
   ]
  },
  {
   "cell_type": "code",
   "execution_count": null,
   "id": "fae4302f-e80b-4edc-814b-6370eef61b9e",
   "metadata": {},
   "outputs": [],
   "source": []
  },
  {
   "cell_type": "markdown",
   "id": "bd659e32-806d-4ec6-9662-f4d75ab519a9",
   "metadata": {},
   "source": [
    "## subset and superset examples"
   ]
  },
  {
   "cell_type": "code",
   "execution_count": null,
   "id": "da0103dc-97f7-4d3d-9653-39f7154fa515",
   "metadata": {},
   "outputs": [],
   "source": []
  },
  {
   "cell_type": "markdown",
   "id": "a2db8352-c4ae-47e3-ace2-848a459636a5",
   "metadata": {},
   "source": [
    "## Exercise"
   ]
  },
  {
   "cell_type": "code",
   "execution_count": 1,
   "id": "82d751e8-2c61-487b-936f-d0fce49fac13",
   "metadata": {},
   "outputs": [
    {
     "data": {
      "text/plain": [
       "{' ', 'H', 'W', 'd', 'e', 'l', 'o', 'r'}"
      ]
     },
     "execution_count": 1,
     "metadata": {},
     "output_type": "execute_result"
    }
   ],
   "source": [
    "set(\"Hello World\")"
   ]
  },
  {
   "cell_type": "code",
   "execution_count": 3,
   "id": "b58f9f09-9282-4be6-a427-77baaa1d9b40",
   "metadata": {},
   "outputs": [
    {
     "data": {
      "text/plain": [
       "{1, 3}"
      ]
     },
     "execution_count": 3,
     "metadata": {},
     "output_type": "execute_result"
    }
   ],
   "source": [
    "set1 = {1, 2, 3, 4, 5, 6}\n",
    "set2 = {2, 4, 5, 6, 7}\n",
    "x = set1 - set2\n",
    "\n",
    "x"
   ]
  },
  {
   "cell_type": "code",
   "execution_count": 8,
   "id": "e3adbf9f-adbb-4f81-8d1a-94e54e60d17f",
   "metadata": {},
   "outputs": [
    {
     "data": {
      "text/plain": [
       "{1, 3, 7}"
      ]
     },
     "execution_count": 8,
     "metadata": {},
     "output_type": "execute_result"
    }
   ],
   "source": [
    "set1 = {1, 2, 3, 4, 5, 6}\n",
    "set2 = {2, 4, 5, 6, 7}\n",
    "x = set1 ^ set2\n",
    "x"
   ]
  },
  {
   "cell_type": "code",
   "execution_count": 9,
   "id": "08508a75-e52e-4c9b-b533-2f14945d5a8c",
   "metadata": {},
   "outputs": [
    {
     "data": {
      "text/plain": [
       "{1, 2, 3, 4, 5, 6, 7}"
      ]
     },
     "execution_count": 9,
     "metadata": {},
     "output_type": "execute_result"
    }
   ],
   "source": [
    "set1 = {1, 2, 3, 4, 5, 6}\n",
    "set2 = {2, 4, 5, 6, 7}\n",
    "x = set1 | set2\n",
    "x"
   ]
  },
  {
   "cell_type": "code",
   "execution_count": 5,
   "id": "e4010e87-b82e-4ce1-9953-841f9159b631",
   "metadata": {},
   "outputs": [
    {
     "name": "stdout",
     "output_type": "stream",
     "text": [
      "['This', 'is', 'a', 'regular', 'sentence', 'with', 'words', 'inside.', 'Some', 'words', 'are', 'unique', 'within', 'the', 'sentence,', 'while', 'some', 'are', 'duplicates.']\n",
      "{'are', 'within', 'This', 'while', 'a', 'is', 'the', 'some', 'regular', 'unique', 'words', 'duplicates.', 'with', 'Some', 'inside.', 'sentence', 'sentence,'}\n",
      "The sentence contains 17 unique words, but 19 words total.\n"
     ]
    }
   ],
   "source": [
    "# Welcome to our Python playground!\n",
    "\n",
    "sentence = (\n",
    "    \"This is a regular sentence with words inside. Some words are unique within the sentence, \"\n",
    "    + \"while some are duplicates.\"\n",
    ")\n",
    "words_with_duplicates = sentence.split(\" \")\n",
    "unique_words = set(words_with_duplicates)\n",
    "\n",
    "print(words_with_duplicates)\n",
    "print(unique_words)\n",
    "print(f\"The sentence contains {len(unique_words)} unique words, but {len(words_with_duplicates)} words total.\")"
   ]
  },
  {
   "cell_type": "code",
   "execution_count": 9,
   "id": "b32453b9-33d2-4cbc-874d-57e8e6fa18a1",
   "metadata": {},
   "outputs": [
    {
     "name": "stdin",
     "output_type": "stream",
     "text": [
      "Enter a character:  a\n"
     ]
    }
   ],
   "source": [
    "arr = []\n",
    "st = list(set(arr))\n",
    "charc = ''\n",
    "while charc not in arr:\n",
    "    charc = input(\"Enter a character: \")\n",
    "    if len(charc) >= 1:\n",
    "        break\n",
    "    arr.append(charc)"
   ]
  },
  {
   "cell_type": "code",
   "execution_count": null,
   "id": "85c0b6be-8b95-4db8-87c7-753d4f689380",
   "metadata": {},
   "outputs": [],
   "source": []
  }
 ],
 "metadata": {
  "kernelspec": {
   "display_name": "Python 3 (ipykernel)",
   "language": "python",
   "name": "python3"
  },
  "language_info": {
   "codemirror_mode": {
    "name": "ipython",
    "version": 3
   },
   "file_extension": ".py",
   "mimetype": "text/x-python",
   "name": "python",
   "nbconvert_exporter": "python",
   "pygments_lexer": "ipython3",
   "version": "3.9.2"
  }
 },
 "nbformat": 4,
 "nbformat_minor": 5
}
