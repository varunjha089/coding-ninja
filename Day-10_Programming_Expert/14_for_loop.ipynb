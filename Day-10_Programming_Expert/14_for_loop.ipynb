{
 "cells": [
  {
   "cell_type": "markdown",
   "id": "0b5255c9-fc53-49a1-8819-81a1df068e93",
   "metadata": {
    "tags": []
   },
   "source": [
    "## What are 'for' loop"
   ]
  },
  {
   "cell_type": "code",
   "execution_count": 20,
   "id": "66038a3b-d8e6-456f-b616-19047a756ea6",
   "metadata": {},
   "outputs": [
    {
     "name": "stdout",
     "output_type": "stream",
     "text": [
      "1 2 3 4 5 6 7 8 9 10 "
     ]
    }
   ],
   "source": [
    "for i in range(1, 11):\n",
    "    print(i, end=\" \")"
   ]
  },
  {
   "cell_type": "code",
   "execution_count": null,
   "id": "72168be2-60b5-4865-9890-517ab7b5361d",
   "metadata": {},
   "outputs": [],
   "source": []
  },
  {
   "cell_type": "markdown",
   "id": "e7945be8-fbe3-4dc6-8e18-04045c712372",
   "metadata": {},
   "source": [
    "## range() function "
   ]
  },
  {
   "cell_type": "code",
   "execution_count": 31,
   "id": "202b79b6-bb52-48fc-be37-dd04a088c0dd",
   "metadata": {},
   "outputs": [
    {
     "name": "stdout",
     "output_type": "stream",
     "text": [
      "\n",
      "    for i in range(start, stop, step):\n",
      "        print(i)\n",
      "    \n",
      "    start -> start of range\n",
      "    stop -> stop before this\n",
      "    step -> no. of step to skip\n",
      "\n"
     ]
    }
   ],
   "source": [
    "what_is_range = \"\"\"\n",
    "    for i in range(start, stop, step):\n",
    "        print(i)\n",
    "    \n",
    "    start -> start of range\n",
    "    stop -> stop before this\n",
    "    step -> no. of step to skip\n",
    "\"\"\"\n",
    "print(what_is_range)"
   ]
  },
  {
   "cell_type": "code",
   "execution_count": 22,
   "id": "1a9083c3-7275-433f-953e-fcd82505a8d4",
   "metadata": {},
   "outputs": [
    {
     "name": "stdout",
     "output_type": "stream",
     "text": [
      "1 2 3 4 5 6 7 8 9 10 "
     ]
    }
   ],
   "source": [
    "for i in range(1, 11):\n",
    "    print(i, end=\" \")"
   ]
  },
  {
   "cell_type": "code",
   "execution_count": 25,
   "id": "b0995bc6-f20d-4118-bee4-6d41a0840f4a",
   "metadata": {},
   "outputs": [
    {
     "name": "stdout",
     "output_type": "stream",
     "text": [
      "1 4 7 10 13 16 19 22 25 28 31 34 37 40 43 46 49 "
     ]
    }
   ],
   "source": [
    "for i in range(1, 51, 3):\n",
    "    print(i, end=\" \")"
   ]
  },
  {
   "cell_type": "code",
   "execution_count": 28,
   "id": "9655b105-a6ad-447a-825d-a7c7687e1729",
   "metadata": {},
   "outputs": [
    {
     "name": "stdout",
     "output_type": "stream",
     "text": [
      "10 9 8 7 6 5 4 3 2 1 "
     ]
    }
   ],
   "source": [
    "for i in range(10, 0, -1):\n",
    "    print(i, end=\" \")"
   ]
  },
  {
   "cell_type": "code",
   "execution_count": null,
   "id": "92256fd4-80f3-4b85-9e85-1e439282f5d5",
   "metadata": {},
   "outputs": [],
   "source": []
  },
  {
   "cell_type": "markdown",
   "id": "540683aa-16e5-4343-85de-d23503918f38",
   "metadata": {},
   "source": [
    "## Looping through list"
   ]
  },
  {
   "cell_type": "code",
   "execution_count": 43,
   "id": "c5bdf8d4-4dc7-45c6-ab9c-a954e9c78e5b",
   "metadata": {},
   "outputs": [
    {
     "data": {
      "text/plain": [
       "[0, 5, 10, 15, 20]"
      ]
     },
     "execution_count": 43,
     "metadata": {},
     "output_type": "execute_result"
    }
   ],
   "source": [
    "# Creating the list\n",
    "ls = [i*5 for i in range(5)]\n",
    "ls"
   ]
  },
  {
   "cell_type": "markdown",
   "id": "2e68fabe-2d27-42e6-93aa-b34e5a3f30bc",
   "metadata": {},
   "source": [
    "<b> Iterating over elements list </b>"
   ]
  },
  {
   "cell_type": "code",
   "execution_count": 44,
   "id": "4cc5a98b-6cf0-4906-98da-87cc636951a4",
   "metadata": {},
   "outputs": [
    {
     "name": "stdout",
     "output_type": "stream",
     "text": [
      "0 5 10 15 20 "
     ]
    }
   ],
   "source": [
    "for i in ls:\n",
    "    print(i, end=\" \")"
   ]
  },
  {
   "cell_type": "markdown",
   "id": "1ba3fb26-0861-49a0-a7a3-5aee9e3fa5fe",
   "metadata": {},
   "source": [
    "<b> Iterating over elements of list using index position</b>"
   ]
  },
  {
   "cell_type": "code",
   "execution_count": 45,
   "id": "6825bd70-b2b9-438b-9fa3-15d6b6324355",
   "metadata": {},
   "outputs": [
    {
     "name": "stdout",
     "output_type": "stream",
     "text": [
      "The index of 0 is 0\n",
      "The index of 5 is 1\n",
      "The index of 10 is 2\n",
      "The index of 15 is 3\n",
      "The index of 20 is 4\n"
     ]
    }
   ],
   "source": [
    "for i in range(len(ls)):\n",
    "    print(f\"The index of {ls[i]} is {i}\")"
   ]
  },
  {
   "cell_type": "code",
   "execution_count": null,
   "id": "33477b92-d956-41c0-b311-431703800279",
   "metadata": {},
   "outputs": [],
   "source": []
  },
  {
   "cell_type": "markdown",
   "id": "de640f22-e6dd-4c9d-8533-d5bbee37c63c",
   "metadata": {},
   "source": [
    "## enumerate() function\n",
    "\n",
    "`enumerate()` function gives access to both element and it's index position."
   ]
  },
  {
   "cell_type": "code",
   "execution_count": 47,
   "id": "02d67b82-9665-4749-8e31-a3ebf5ab6c13",
   "metadata": {},
   "outputs": [
    {
     "data": {
      "text/plain": [
       "[0, 5, 10, 15, 20]"
      ]
     },
     "execution_count": 47,
     "metadata": {},
     "output_type": "execute_result"
    }
   ],
   "source": [
    "ls"
   ]
  },
  {
   "cell_type": "code",
   "execution_count": 46,
   "id": "dbb81d6a-38f7-435d-a546-67ae4e7ad6a2",
   "metadata": {},
   "outputs": [
    {
     "name": "stdout",
     "output_type": "stream",
     "text": [
      "i: 0 and element: 0\n",
      "i: 1 and element: 5\n",
      "i: 2 and element: 10\n",
      "i: 3 and element: 15\n",
      "i: 4 and element: 20\n"
     ]
    }
   ],
   "source": [
    "for i, element in enumerate(ls):\n",
    "    print(f\"i: {i} and element: {element}\")"
   ]
  },
  {
   "cell_type": "code",
   "execution_count": null,
   "id": "54289a57-7312-4e2b-a110-82835cbedf9f",
   "metadata": {},
   "outputs": [],
   "source": []
  },
  {
   "cell_type": "markdown",
   "id": "56b8acd9-38cf-46eb-9f37-b077f3bd3c1b",
   "metadata": {},
   "source": [
    "## Looping through tuples"
   ]
  },
  {
   "cell_type": "code",
   "execution_count": 48,
   "id": "755fa18c-c129-4921-95aa-665fbeea48f0",
   "metadata": {},
   "outputs": [],
   "source": [
    "tup = (1, 3, 5, 7, 9)"
   ]
  },
  {
   "cell_type": "code",
   "execution_count": 49,
   "id": "0beb1ece-307c-412c-907f-e487774d3669",
   "metadata": {},
   "outputs": [
    {
     "name": "stdout",
     "output_type": "stream",
     "text": [
      "1\n",
      "3\n",
      "5\n",
      "7\n",
      "9\n"
     ]
    }
   ],
   "source": [
    "for i in tup:\n",
    "    print(i)"
   ]
  },
  {
   "cell_type": "code",
   "execution_count": 51,
   "id": "f13349dc-5881-4893-930e-b1f1456b698a",
   "metadata": {},
   "outputs": [
    {
     "name": "stdout",
     "output_type": "stream",
     "text": [
      "the element 1 is at index 0 in tuple (1, 3, 5, 7, 9)\n",
      "the element 3 is at index 1 in tuple (1, 3, 5, 7, 9)\n",
      "the element 5 is at index 2 in tuple (1, 3, 5, 7, 9)\n",
      "the element 7 is at index 3 in tuple (1, 3, 5, 7, 9)\n",
      "the element 9 is at index 4 in tuple (1, 3, 5, 7, 9)\n"
     ]
    }
   ],
   "source": [
    "for i in range(len(tup)):\n",
    "    print(f\"the element {tup[i]} is at index {i} in tuple {tup}\")"
   ]
  },
  {
   "cell_type": "code",
   "execution_count": 52,
   "id": "d3853bd4-c0e0-43f4-ad55-3da104941bbc",
   "metadata": {},
   "outputs": [
    {
     "name": "stdout",
     "output_type": "stream",
     "text": [
      "the element 1 is at index 0\n",
      "the element 3 is at index 1\n",
      "the element 5 is at index 2\n",
      "the element 7 is at index 3\n",
      "the element 9 is at index 4\n"
     ]
    }
   ],
   "source": [
    "for i, element in enumerate(tup):\n",
    "    print(f\"the element {element} is at index {i}\")"
   ]
  },
  {
   "cell_type": "markdown",
   "id": "1d698bed-9b63-46b9-ac82-d7ccd0edec10",
   "metadata": {},
   "source": [
    "## Looping through Strings"
   ]
  },
  {
   "cell_type": "code",
   "execution_count": 54,
   "id": "3f39158f-2c39-4001-b0c3-86a19db6fa55",
   "metadata": {},
   "outputs": [],
   "source": [
    "string = \"Varun Kumar\""
   ]
  },
  {
   "cell_type": "code",
   "execution_count": 56,
   "id": "9ab63891-f368-40a3-b8ff-a69d23098032",
   "metadata": {},
   "outputs": [
    {
     "name": "stdout",
     "output_type": "stream",
     "text": [
      "V a r u n   K u m a r "
     ]
    }
   ],
   "source": [
    "for i in string:\n",
    "    print(i, end=\" \")"
   ]
  },
  {
   "cell_type": "code",
   "execution_count": null,
   "id": "bcb1fc7c-5ed1-4bef-9f3b-b6f0429021ca",
   "metadata": {},
   "outputs": [],
   "source": []
  },
  {
   "cell_type": "markdown",
   "id": "eae1be11-10b4-4a64-b77c-0a0652139c7c",
   "metadata": {},
   "source": [
    "## break keyword"
   ]
  },
  {
   "cell_type": "code",
   "execution_count": 58,
   "id": "dd456d49-fc27-43cb-819e-1973faea6d3b",
   "metadata": {},
   "outputs": [
    {
     "data": {
      "text/plain": [
       "[0, 1, 2, 3, 4, 5, 6, 7, 8, 9, 10, 11, 12, 13, 14]"
      ]
     },
     "execution_count": 58,
     "metadata": {},
     "output_type": "execute_result"
    }
   ],
   "source": [
    "ls = [i for i in range(15)]\n",
    "ls"
   ]
  },
  {
   "cell_type": "code",
   "execution_count": 59,
   "id": "48557b8e-d584-4faf-9370-fbbed3704330",
   "metadata": {},
   "outputs": [
    {
     "name": "stdout",
     "output_type": "stream",
     "text": [
      "0 1 2 3 4 5 6 7 8 "
     ]
    }
   ],
   "source": [
    "for i in ls:\n",
    "    if i == 9:\n",
    "        break\n",
    "    print(i, end=\" \")"
   ]
  },
  {
   "cell_type": "code",
   "execution_count": null,
   "id": "f60d4c5d-3d7b-47bb-98cc-421b749bc17a",
   "metadata": {},
   "outputs": [],
   "source": []
  },
  {
   "cell_type": "markdown",
   "id": "cbf002ba-8456-4fc9-be2e-97f13e4b7a23",
   "metadata": {},
   "source": [
    "## continue keyword"
   ]
  },
  {
   "cell_type": "code",
   "execution_count": 60,
   "id": "1fa342db-9378-4e82-af65-fcb8f9a3560d",
   "metadata": {},
   "outputs": [
    {
     "name": "stdout",
     "output_type": "stream",
     "text": [
      "1 3 5 7 9 11 13 "
     ]
    }
   ],
   "source": [
    "for i in ls:\n",
    "    if i % 2 == 0:\n",
    "        continue\n",
    "    print(i, end=\" \")"
   ]
  },
  {
   "cell_type": "code",
   "execution_count": null,
   "id": "54cdf2a4-2bec-4b2b-af94-353288529346",
   "metadata": {},
   "outputs": [],
   "source": []
  },
  {
   "cell_type": "markdown",
   "id": "0f733821-6c10-4937-89fd-0a6419ac330b",
   "metadata": {},
   "source": [
    "## Nested for loop"
   ]
  },
  {
   "cell_type": "code",
   "execution_count": 62,
   "id": "d28b1b2d-9cfe-4b1d-9f53-bac33605fb54",
   "metadata": {},
   "outputs": [
    {
     "name": "stdout",
     "output_type": "stream",
     "text": [
      "0 1 2 3 4 5 6 7 8 9 10 11 12 13 14 \n",
      "0 1 2 3 4 5 6 7 8 9 10 11 12 13 14 \n",
      "0 1 2 3 4 5 6 7 8 9 10 11 12 13 14 \n",
      "0 1 2 3 4 5 6 7 8 9 10 11 12 13 14 \n",
      "0 1 2 3 4 5 6 7 8 9 10 11 12 13 14 \n",
      "0 1 2 3 4 5 6 7 8 9 10 11 12 13 14 \n",
      "0 1 2 3 4 5 6 7 8 9 10 11 12 13 14 \n"
     ]
    }
   ],
   "source": [
    "for i in range(len(ls)//2):\n",
    "    for i in ls:\n",
    "        print(i, end=\" \")\n",
    "    print()"
   ]
  },
  {
   "cell_type": "code",
   "execution_count": null,
   "id": "a37224b5-762f-4bb5-8c6b-bff970633e03",
   "metadata": {},
   "outputs": [],
   "source": []
  },
  {
   "cell_type": "markdown",
   "id": "62753828-593f-4348-9383-858cc62273e8",
   "metadata": {},
   "source": [
    "## pass keyword"
   ]
  },
  {
   "cell_type": "code",
   "execution_count": 63,
   "id": "05f43284-4d4a-4e71-af44-94cc0b0aa2d0",
   "metadata": {},
   "outputs": [],
   "source": [
    "for i in range(5):\n",
    "    pass"
   ]
  },
  {
   "cell_type": "markdown",
   "id": "e5bc29a4-ce3f-42d0-a0e7-5900ed8dc022",
   "metadata": {},
   "source": [
    "## For-Else statement"
   ]
  },
  {
   "cell_type": "code",
   "execution_count": 65,
   "id": "96034272-0d9d-41bf-8e07-e0546e39ae53",
   "metadata": {},
   "outputs": [
    {
     "name": "stdout",
     "output_type": "stream",
     "text": [
      "0 1 2 3 4 \n",
      "In the for-else\n"
     ]
    }
   ],
   "source": [
    "for i in range(5):\n",
    "    print(i, end=\" \")\n",
    "else:\n",
    "    print()\n",
    "    print(\"In the for-else\")"
   ]
  },
  {
   "cell_type": "code",
   "execution_count": null,
   "id": "8f762d84-0d78-4909-a7c4-26753c4304f3",
   "metadata": {},
   "outputs": [],
   "source": []
  }
 ],
 "metadata": {
  "kernelspec": {
   "display_name": "Python 3 (ipykernel)",
   "language": "python",
   "name": "python3"
  },
  "language_info": {
   "codemirror_mode": {
    "name": "ipython",
    "version": 3
   },
   "file_extension": ".py",
   "mimetype": "text/x-python",
   "name": "python",
   "nbconvert_exporter": "python",
   "pygments_lexer": "ipython3",
   "version": "3.9.2"
  }
 },
 "nbformat": 4,
 "nbformat_minor": 5
}
