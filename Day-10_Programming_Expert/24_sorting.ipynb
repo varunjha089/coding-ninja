{
 "cells": [
  {
   "cell_type": "code",
   "execution_count": null,
   "id": "87c05e33-72f8-4f51-b81c-df5ed00a1af8",
   "metadata": {},
   "outputs": [],
   "source": []
  },
  {
   "cell_type": "code",
   "execution_count": null,
   "id": "6e253d43-6577-44a0-8c1b-6860d083832c",
   "metadata": {},
   "outputs": [],
   "source": []
  },
  {
   "cell_type": "markdown",
   "id": "fa8ed477-f288-4434-ab1e-1290d991b2e5",
   "metadata": {},
   "source": [
    "## Exercise"
   ]
  },
  {
   "cell_type": "code",
   "execution_count": 1,
   "id": "33a805a7-7e29-45c3-bf57-9d23bc6368ed",
   "metadata": {},
   "outputs": [
    {
     "name": "stdout",
     "output_type": "stream",
     "text": [
      "None\n"
     ]
    }
   ],
   "source": [
    "lst = [3, 4, 2, -1, 2] \n",
    "\n",
    "print(lst.sort())"
   ]
  },
  {
   "cell_type": "code",
   "execution_count": 2,
   "id": "ac4bf5d4-90d7-42ca-8fa7-c0c17e763afd",
   "metadata": {},
   "outputs": [
    {
     "name": "stdout",
     "output_type": "stream",
     "text": [
      "[4, 3, 2, 2, -1]\n"
     ]
    }
   ],
   "source": [
    "lst = [3, 4, 2, -1, 2] \n",
    "\n",
    "lst.sort(reverse=True)\n",
    "print(lst)"
   ]
  },
  {
   "cell_type": "code",
   "execution_count": 3,
   "id": "32ba5c43-055d-4be3-8c59-9d55e6f56142",
   "metadata": {},
   "outputs": [
    {
     "name": "stdout",
     "output_type": "stream",
     "text": [
      "[3, 4, 5, 0.1, 2]\n"
     ]
    }
   ],
   "source": [
    "lst = [3, 4, 5, 0.1, 2]\n",
    "\n",
    "sorted(lst, reverse=True)\n",
    "print(lst)"
   ]
  },
  {
   "cell_type": "code",
   "execution_count": 4,
   "id": "110f6440-4065-4962-a58f-91df58474b5b",
   "metadata": {},
   "outputs": [
    {
     "name": "stdout",
     "output_type": "stream",
     "text": [
      "['Joe', 'Tim', 'Sarah', 'Jennie', 'Bill']\n"
     ]
    }
   ],
   "source": [
    "people = {\"Tim\": 21, \"Joe\": 18, \"Sarah\": 25, \"Jennie\": 26, \"Bill\": 34}\n",
    "\n",
    "result = sorted(people, key=people.get)\n",
    "print(result)"
   ]
  },
  {
   "cell_type": "code",
   "execution_count": null,
   "id": "3cd6faa3-5452-4927-a92f-115bbf65243e",
   "metadata": {},
   "outputs": [],
   "source": []
  }
 ],
 "metadata": {
  "kernelspec": {
   "display_name": "Python 3 (ipykernel)",
   "language": "python",
   "name": "python3"
  },
  "language_info": {
   "codemirror_mode": {
    "name": "ipython",
    "version": 3
   },
   "file_extension": ".py",
   "mimetype": "text/x-python",
   "name": "python",
   "nbconvert_exporter": "python",
   "pygments_lexer": "ipython3",
   "version": "3.9.2"
  }
 },
 "nbformat": 4,
 "nbformat_minor": 5
}
