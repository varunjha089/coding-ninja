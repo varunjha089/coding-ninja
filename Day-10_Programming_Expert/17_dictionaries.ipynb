{
 "cells": [
  {
   "cell_type": "markdown",
   "id": "7c380b10-ac54-4ab2-8f6f-c8f19ff6cdbe",
   "metadata": {},
   "source": [
    "# What is dictionary"
   ]
  },
  {
   "cell_type": "code",
   "execution_count": null,
   "id": "3770f812-2107-4f6c-8122-14e0eec35bb9",
   "metadata": {},
   "outputs": [],
   "source": []
  },
  {
   "cell_type": "markdown",
   "id": "78c67f07-f5d9-4df9-b626-8ce0e4cd4e14",
   "metadata": {},
   "source": [
    "## Creating and Accessing Dictionary"
   ]
  },
  {
   "cell_type": "code",
   "execution_count": null,
   "id": "b44ff788-6f0a-4e68-a1a2-fda4be29164c",
   "metadata": {},
   "outputs": [],
   "source": []
  },
  {
   "cell_type": "markdown",
   "id": "6e7eb6fb-e8e1-4b3c-bd31-c34aa0df04e1",
   "metadata": {},
   "source": [
    "## Adding and Deleting Keys"
   ]
  },
  {
   "cell_type": "code",
   "execution_count": null,
   "id": "dc658919-96f0-4df9-b6fc-cb7f3b876258",
   "metadata": {},
   "outputs": [],
   "source": []
  },
  {
   "cell_type": "markdown",
   "id": "5c91ba61-6bfe-4d94-a5c4-99c34ec898a3",
   "metadata": {},
   "source": [
    "## 'in' operator"
   ]
  },
  {
   "cell_type": "code",
   "execution_count": null,
   "id": "02f6626f-f042-438e-9bd2-a2cb99f9595e",
   "metadata": {},
   "outputs": [],
   "source": []
  },
  {
   "cell_type": "markdown",
   "id": "88a5466f-ce75-4275-90d6-1d5e6ed54a04",
   "metadata": {},
   "source": [
    "## '.value()' operator"
   ]
  },
  {
   "cell_type": "code",
   "execution_count": null,
   "id": "11a58e05-e195-4f2c-9f10-1b2da7c113dc",
   "metadata": {},
   "outputs": [],
   "source": []
  },
  {
   "cell_type": "markdown",
   "id": "535ee608-ddbf-4e8b-83f0-a61438139c50",
   "metadata": {},
   "source": [
    "## '.keys()' operator"
   ]
  },
  {
   "cell_type": "code",
   "execution_count": null,
   "id": "01dcd58a-774a-4c02-b159-b74c76b5daed",
   "metadata": {},
   "outputs": [],
   "source": []
  },
  {
   "cell_type": "markdown",
   "id": "d36e8b9f-027b-41aa-8b03-7faf38295532",
   "metadata": {},
   "source": [
    "## '.item()' operator"
   ]
  },
  {
   "cell_type": "code",
   "execution_count": null,
   "id": "ab6ae1f4-2751-437f-9cc0-6ef810e8d10a",
   "metadata": {},
   "outputs": [],
   "source": []
  },
  {
   "cell_type": "markdown",
   "id": "ce588479-fe38-46ad-b920-4d25868c9bd7",
   "metadata": {},
   "source": [
    "## looping through dictionary"
   ]
  },
  {
   "cell_type": "code",
   "execution_count": null,
   "id": "016d3125-fd3e-4d6c-b3b1-023fbf09a3e6",
   "metadata": {},
   "outputs": [],
   "source": []
  },
  {
   "cell_type": "markdown",
   "id": "95a88253-aca5-4c84-80a2-8939c119d89e",
   "metadata": {},
   "source": [
    "## '.get()' method"
   ]
  },
  {
   "cell_type": "code",
   "execution_count": null,
   "id": "c79f58db-532e-4c89-b756-e69609914f23",
   "metadata": {},
   "outputs": [],
   "source": []
  },
  {
   "cell_type": "markdown",
   "id": "8d7c8ff3-fc83-4b1d-8b76-e916fdb39e39",
   "metadata": {},
   "source": [
    "### Exercise"
   ]
  },
  {
   "cell_type": "code",
   "execution_count": 4,
   "id": "c90c09e8-7f45-428b-8c33-0f35592571ce",
   "metadata": {},
   "outputs": [
    {
     "name": "stdout",
     "output_type": "stream",
     "text": [
      "Brad makes $10 an hour\n",
      "Lucy makes $12 an hour\n",
      "John makes $6.5 an hour\n",
      "Brad makes $400 an week\n",
      "Lucy makes $480 an week\n",
      "John makes $260.0 an week\n"
     ]
    }
   ],
   "source": [
    "# Welcome to our Python playground!\n",
    "\n",
    "salaries = {\n",
    "    \"Brad\": 10,\n",
    "    \"Lucy\": 12,\n",
    "    \"John\": 6.5,\n",
    "}\n",
    "\n",
    "for name in salaries:\n",
    "    salary = salaries[name]\n",
    "    print(f\"{name} makes ${salary} an hour\")\n",
    "\n",
    "\n",
    "for name, salary in salaries.items():\n",
    "    weekly_salary = salary * 40\n",
    "    print(f\"{name} makes ${weekly_salary} an week\")"
   ]
  },
  {
   "cell_type": "code",
   "execution_count": 9,
   "id": "62d81cfc-773b-47a0-a0b0-5b4fa2bab27c",
   "metadata": {},
   "outputs": [
    {
     "name": "stdin",
     "output_type": "stream",
     "text": [
      "Enter a string:  VarunKumar\n"
     ]
    }
   ],
   "source": [
    "n = input(\"Enter a string: \")\n",
    "chk = list(set(n))\n",
    "di = {}\n",
    "\n",
    "for i in chk:\n",
    "    m = n.count(i)\n",
    "    di[i] = m"
   ]
  },
  {
   "cell_type": "code",
   "execution_count": 10,
   "id": "5bec0f55-82f2-461c-b039-91885d904c8b",
   "metadata": {},
   "outputs": [
    {
     "data": {
      "text/plain": [
       "{'K': 1, 'n': 1, 'm': 1, 'u': 2, 'V': 1, 'r': 2, 'a': 2}"
      ]
     },
     "execution_count": 10,
     "metadata": {},
     "output_type": "execute_result"
    }
   ],
   "source": [
    "di"
   ]
  },
  {
   "cell_type": "code",
   "execution_count": null,
   "id": "f3d51c3b-12ba-40b3-8b7e-036542c82300",
   "metadata": {},
   "outputs": [],
   "source": []
  }
 ],
 "metadata": {
  "kernelspec": {
   "display_name": "Python 3 (ipykernel)",
   "language": "python",
   "name": "python3"
  },
  "language_info": {
   "codemirror_mode": {
    "name": "ipython",
    "version": 3
   },
   "file_extension": ".py",
   "mimetype": "text/x-python",
   "name": "python",
   "nbconvert_exporter": "python",
   "pygments_lexer": "ipython3",
   "version": "3.9.2"
  }
 },
 "nbformat": 4,
 "nbformat_minor": 5
}
