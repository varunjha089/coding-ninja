{
 "cells": [
  {
   "cell_type": "markdown",
   "id": "78c67f07-f5d9-4df9-b626-8ce0e4cd4e14",
   "metadata": {},
   "source": [
    "## Creating and Accessing Dictionary"
   ]
  },
  {
   "cell_type": "code",
   "execution_count": 20,
   "id": "b44ff788-6f0a-4e68-a1a2-fda4be29164c",
   "metadata": {},
   "outputs": [],
   "source": [
    "salaries = {\n",
    "    \"Brad\": 10,\n",
    "    \"Lucy\": 12,\n",
    "    \"John\": 6.5,\n",
    "}"
   ]
  },
  {
   "cell_type": "code",
   "execution_count": 22,
   "id": "17ffae05-03dd-477c-8834-15504018252c",
   "metadata": {},
   "outputs": [
    {
     "data": {
      "text/plain": [
       "10"
      ]
     },
     "execution_count": 22,
     "metadata": {},
     "output_type": "execute_result"
    }
   ],
   "source": [
    "salaries[\"Brad\"]"
   ]
  },
  {
   "cell_type": "code",
   "execution_count": 23,
   "id": "977fdd72-92d0-41ca-8895-9b67f989eb2e",
   "metadata": {},
   "outputs": [
    {
     "data": {
      "text/plain": [
       "12"
      ]
     },
     "execution_count": 23,
     "metadata": {},
     "output_type": "execute_result"
    }
   ],
   "source": [
    "salaries[\"Lucy\"]"
   ]
  },
  {
   "cell_type": "code",
   "execution_count": 24,
   "id": "abfdc11c-1d49-4758-9fc7-5c76fe76dd2d",
   "metadata": {},
   "outputs": [
    {
     "data": {
      "text/plain": [
       "6.5"
      ]
     },
     "execution_count": 24,
     "metadata": {},
     "output_type": "execute_result"
    }
   ],
   "source": [
    "salaries[\"John\"]"
   ]
  },
  {
   "cell_type": "markdown",
   "id": "6e7eb6fb-e8e1-4b3c-bd31-c34aa0df04e1",
   "metadata": {},
   "source": [
    "## Adding and Deleting Keys"
   ]
  },
  {
   "cell_type": "code",
   "execution_count": 25,
   "id": "dc658919-96f0-4df9-b6fc-cb7f3b876258",
   "metadata": {},
   "outputs": [],
   "source": [
    "salaries[\"Varun\"] = 15"
   ]
  },
  {
   "cell_type": "code",
   "execution_count": 26,
   "id": "23b76390-f7bc-436c-8c33-33068871ea64",
   "metadata": {},
   "outputs": [
    {
     "data": {
      "text/plain": [
       "15"
      ]
     },
     "execution_count": 26,
     "metadata": {},
     "output_type": "execute_result"
    }
   ],
   "source": [
    "salaries[\"Varun\"]"
   ]
  },
  {
   "cell_type": "code",
   "execution_count": 27,
   "id": "8509786d-1b4b-4ec7-a87e-9d2dc13d9a0f",
   "metadata": {},
   "outputs": [
    {
     "data": {
      "text/plain": [
       "{'Brad': 10, 'Lucy': 12, 'John': 6.5, 'Varun': 15}"
      ]
     },
     "execution_count": 27,
     "metadata": {},
     "output_type": "execute_result"
    }
   ],
   "source": [
    "salaries"
   ]
  },
  {
   "cell_type": "code",
   "execution_count": 28,
   "id": "fff740e6-1ffa-493a-9c67-8d6fcd98d90f",
   "metadata": {},
   "outputs": [
    {
     "name": "stdout",
     "output_type": "stream",
     "text": [
      "10\n",
      "12\n",
      "6.5\n",
      "15\n"
     ]
    }
   ],
   "source": [
    "for i in salaries:\n",
    "    print(salaries[i])"
   ]
  },
  {
   "cell_type": "code",
   "execution_count": 33,
   "id": "0a6ceb64-04a9-4c71-84e0-5d3b4e803e81",
   "metadata": {},
   "outputs": [
    {
     "name": "stdout",
     "output_type": "stream",
     "text": [
      "The salarie of Brad is 10\n",
      "The salarie of Lucy is 12\n",
      "The salarie of John is 6.5\n",
      "The salarie of Varun is 15\n"
     ]
    }
   ],
   "source": [
    "for i in salaries:\n",
    "    print(f\"The salarie of {i} is {salaries[i]}\")"
   ]
  },
  {
   "cell_type": "markdown",
   "id": "5e77350d-4a07-44dd-b2ea-905f64aec0b7",
   "metadata": {},
   "source": [
    "## empty dictionary"
   ]
  },
  {
   "cell_type": "code",
   "execution_count": 35,
   "id": "93f41466-ed74-4cd5-a35d-3e4746f46829",
   "metadata": {},
   "outputs": [
    {
     "name": "stdin",
     "output_type": "stream",
     "text": [
      " VarunKumar\n"
     ]
    },
    {
     "name": "stdout",
     "output_type": "stream",
     "text": [
      "{'K': 1, 'n': 1, 'm': 1, 'u': 2, 'V': 1, 'r': 2, 'a': 2}\n"
     ]
    }
   ],
   "source": [
    "x = dict()\n",
    "n = input()\n",
    "\n",
    "for i in list(set(n)):\n",
    "    x[i] = n.count(i)\n",
    "print(x)"
   ]
  },
  {
   "cell_type": "code",
   "execution_count": 36,
   "id": "ba687a90-7934-4465-9009-561ee63f3468",
   "metadata": {},
   "outputs": [
    {
     "name": "stdout",
     "output_type": "stream",
     "text": [
      "K: 1\n",
      "n: 1\n",
      "m: 1\n",
      "u: 2\n",
      "V: 1\n",
      "r: 2\n",
      "a: 2\n"
     ]
    }
   ],
   "source": [
    "for i in x:\n",
    "    print(f\"{i}: {x[i]}\")"
   ]
  },
  {
   "cell_type": "markdown",
   "id": "ed6fde48-deba-4ddf-9f0c-44c69708b269",
   "metadata": {},
   "source": [
    "### deleting"
   ]
  },
  {
   "cell_type": "code",
   "execution_count": 37,
   "id": "bdfbc5fa-83ed-444a-a38b-f16fd8fc7ac1",
   "metadata": {},
   "outputs": [
    {
     "data": {
      "text/plain": [
       "{'K': 1, 'n': 1, 'm': 1, 'u': 2, 'V': 1, 'r': 2, 'a': 2}"
      ]
     },
     "execution_count": 37,
     "metadata": {},
     "output_type": "execute_result"
    }
   ],
   "source": [
    "x"
   ]
  },
  {
   "cell_type": "code",
   "execution_count": 39,
   "id": "50798cc9-a15a-422e-9ba0-b57866eedd63",
   "metadata": {},
   "outputs": [],
   "source": [
    "del x['K']"
   ]
  },
  {
   "cell_type": "code",
   "execution_count": 40,
   "id": "be289916-5bd9-4120-9b84-254440e956c5",
   "metadata": {},
   "outputs": [
    {
     "data": {
      "text/plain": [
       "{'n': 1, 'm': 1, 'u': 2, 'V': 1, 'r': 2, 'a': 2}"
      ]
     },
     "execution_count": 40,
     "metadata": {},
     "output_type": "execute_result"
    }
   ],
   "source": [
    "x"
   ]
  },
  {
   "cell_type": "code",
   "execution_count": null,
   "id": "eb3620cb-ae01-4120-b6a3-a4ab74a29e8f",
   "metadata": {},
   "outputs": [],
   "source": []
  },
  {
   "cell_type": "markdown",
   "id": "5c91ba61-6bfe-4d94-a5c4-99c34ec898a3",
   "metadata": {},
   "source": [
    "## 'in' operator\n",
    "\n",
    "it only check's for the `keys` not the `values`"
   ]
  },
  {
   "cell_type": "code",
   "execution_count": 34,
   "id": "02f6626f-f042-438e-9bd2-a2cb99f9595e",
   "metadata": {},
   "outputs": [
    {
     "data": {
      "text/plain": [
       "True"
      ]
     },
     "execution_count": 34,
     "metadata": {},
     "output_type": "execute_result"
    }
   ],
   "source": [
    "\"Varun\" in salaries"
   ]
  },
  {
   "cell_type": "code",
   "execution_count": 41,
   "id": "26855d4b-ca39-4d13-9c5e-60414f5c266b",
   "metadata": {},
   "outputs": [
    {
     "data": {
      "text/plain": [
       "False"
      ]
     },
     "execution_count": 41,
     "metadata": {},
     "output_type": "execute_result"
    }
   ],
   "source": [
    "\"Tarun\" in salaries"
   ]
  },
  {
   "cell_type": "code",
   "execution_count": null,
   "id": "04faa28f-9493-4146-b20d-c916208c10ac",
   "metadata": {},
   "outputs": [],
   "source": []
  },
  {
   "cell_type": "markdown",
   "id": "88a5466f-ce75-4275-90d6-1d5e6ed54a04",
   "metadata": {},
   "source": [
    "## '.values()' operator\n",
    "\n",
    "it only **returns** the `value` of the *tuple*"
   ]
  },
  {
   "cell_type": "code",
   "execution_count": 42,
   "id": "11a58e05-e195-4f2c-9f10-1b2da7c113dc",
   "metadata": {},
   "outputs": [
    {
     "data": {
      "text/plain": [
       "dict_values([10, 12, 6.5, 15])"
      ]
     },
     "execution_count": 42,
     "metadata": {},
     "output_type": "execute_result"
    }
   ],
   "source": [
    "salaries.values()"
   ]
  },
  {
   "cell_type": "code",
   "execution_count": 43,
   "id": "1dada834-9eb5-48f7-a02d-da4d7f413644",
   "metadata": {},
   "outputs": [
    {
     "data": {
      "text/plain": [
       "dict_values"
      ]
     },
     "execution_count": 43,
     "metadata": {},
     "output_type": "execute_result"
    }
   ],
   "source": [
    "type(salaries.values())"
   ]
  },
  {
   "cell_type": "code",
   "execution_count": 44,
   "id": "3ca4025a-5459-4ad2-8e27-7725c4114120",
   "metadata": {},
   "outputs": [
    {
     "name": "stdout",
     "output_type": "stream",
     "text": [
      "10\n",
      "12\n",
      "6.5\n",
      "15\n"
     ]
    }
   ],
   "source": [
    "for i in salaries.values():\n",
    "    print(i)"
   ]
  },
  {
   "cell_type": "code",
   "execution_count": null,
   "id": "1019bdc4-4dc1-4198-b291-9b037b58a6fa",
   "metadata": {},
   "outputs": [],
   "source": []
  },
  {
   "cell_type": "markdown",
   "id": "535ee608-ddbf-4e8b-83f0-a61438139c50",
   "metadata": {},
   "source": [
    "## '.keys()' operator\n",
    "\n",
    "it only **returns** the `keys` of the *dictionary*"
   ]
  },
  {
   "cell_type": "code",
   "execution_count": 45,
   "id": "01dcd58a-774a-4c02-b159-b74c76b5daed",
   "metadata": {},
   "outputs": [
    {
     "data": {
      "text/plain": [
       "dict_keys(['Brad', 'Lucy', 'John', 'Varun'])"
      ]
     },
     "execution_count": 45,
     "metadata": {},
     "output_type": "execute_result"
    }
   ],
   "source": [
    "salaries.keys()"
   ]
  },
  {
   "cell_type": "code",
   "execution_count": 47,
   "id": "7814abe9-5115-419f-89ab-ce2ec14a52e0",
   "metadata": {},
   "outputs": [
    {
     "data": {
      "text/plain": [
       "list"
      ]
     },
     "execution_count": 47,
     "metadata": {},
     "output_type": "execute_result"
    }
   ],
   "source": [
    "type(list(salaries.keys()))"
   ]
  },
  {
   "cell_type": "code",
   "execution_count": 48,
   "id": "d7b4e90f-c368-41d9-a4e0-c4124fa4899c",
   "metadata": {},
   "outputs": [
    {
     "data": {
      "text/plain": [
       "dict_keys"
      ]
     },
     "execution_count": 48,
     "metadata": {},
     "output_type": "execute_result"
    }
   ],
   "source": [
    "type(salaries.keys())"
   ]
  },
  {
   "cell_type": "code",
   "execution_count": 49,
   "id": "77f5fbd0-b264-4d06-bf82-e7288c156cb0",
   "metadata": {},
   "outputs": [
    {
     "name": "stdout",
     "output_type": "stream",
     "text": [
      "Brad\n",
      "Lucy\n",
      "John\n",
      "Varun\n"
     ]
    }
   ],
   "source": [
    "for i in salaries.keys():\n",
    "    print(i)"
   ]
  },
  {
   "cell_type": "code",
   "execution_count": null,
   "id": "2c54d83c-7ffc-4fe2-b18e-249b7e08b645",
   "metadata": {},
   "outputs": [],
   "source": []
  },
  {
   "cell_type": "markdown",
   "id": "d36e8b9f-027b-41aa-8b03-7faf38295532",
   "metadata": {},
   "source": [
    "## '.item()' operator\n",
    "\n",
    "it **returns** the `items` in the form *tuple*"
   ]
  },
  {
   "cell_type": "code",
   "execution_count": 50,
   "id": "ab6ae1f4-2751-437f-9cc0-6ef810e8d10a",
   "metadata": {},
   "outputs": [
    {
     "data": {
      "text/plain": [
       "dict_items([('Brad', 10), ('Lucy', 12), ('John', 6.5), ('Varun', 15)])"
      ]
     },
     "execution_count": 50,
     "metadata": {},
     "output_type": "execute_result"
    }
   ],
   "source": [
    "salaries.items()"
   ]
  },
  {
   "cell_type": "code",
   "execution_count": 51,
   "id": "e1af8106-65d6-4409-b6e6-d19a44965886",
   "metadata": {},
   "outputs": [
    {
     "name": "stdout",
     "output_type": "stream",
     "text": [
      "('Brad', 10)\n",
      "('Lucy', 12)\n",
      "('John', 6.5)\n",
      "('Varun', 15)\n"
     ]
    }
   ],
   "source": [
    "for i in salaries.items():\n",
    "    print(i)"
   ]
  },
  {
   "cell_type": "code",
   "execution_count": 52,
   "id": "a88fc50b-e745-49bf-9315-20f38480e4b9",
   "metadata": {},
   "outputs": [
    {
     "name": "stdout",
     "output_type": "stream",
     "text": [
      "<class 'tuple'>\n"
     ]
    }
   ],
   "source": [
    "for i in salaries.items():\n",
    "    print(type(i))\n",
    "    break"
   ]
  },
  {
   "cell_type": "code",
   "execution_count": null,
   "id": "ca19d127-3f49-42b4-a642-a287562e9ca9",
   "metadata": {},
   "outputs": [],
   "source": []
  },
  {
   "cell_type": "markdown",
   "id": "ce588479-fe38-46ad-b920-4d25868c9bd7",
   "metadata": {},
   "source": [
    "## looping through dictionary"
   ]
  },
  {
   "cell_type": "code",
   "execution_count": 53,
   "id": "016d3125-fd3e-4d6c-b3b1-023fbf09a3e6",
   "metadata": {},
   "outputs": [
    {
     "name": "stdout",
     "output_type": "stream",
     "text": [
      "Brad\n",
      "Lucy\n",
      "John\n",
      "Varun\n"
     ]
    }
   ],
   "source": [
    "for keys in salaries:\n",
    "    print(keys)"
   ]
  },
  {
   "cell_type": "code",
   "execution_count": 55,
   "id": "1b459046-8a78-433b-8ff4-50e8b4e8d151",
   "metadata": {},
   "outputs": [
    {
     "name": "stdout",
     "output_type": "stream",
     "text": [
      "Brad 10\n",
      "Lucy 12\n",
      "John 6.5\n",
      "Varun 15\n"
     ]
    }
   ],
   "source": [
    "for keys in salaries:\n",
    "    print(keys, salaries[keys])"
   ]
  },
  {
   "cell_type": "markdown",
   "id": "feab1887-2310-44e7-b217-f724d2e6c880",
   "metadata": {},
   "source": [
    "### looping using .items()"
   ]
  },
  {
   "cell_type": "code",
   "execution_count": 56,
   "id": "f505d054-e992-49be-beab-37c53010c399",
   "metadata": {},
   "outputs": [
    {
     "name": "stdout",
     "output_type": "stream",
     "text": [
      "Brad 10\n",
      "Lucy 12\n",
      "John 6.5\n",
      "Varun 15\n"
     ]
    }
   ],
   "source": [
    "for keys, values in salaries.items():\n",
    "    print(keys, values)"
   ]
  },
  {
   "cell_type": "markdown",
   "id": "95a88253-aca5-4c84-80a2-8939c119d89e",
   "metadata": {},
   "source": [
    "## '.get()' method"
   ]
  },
  {
   "cell_type": "code",
   "execution_count": null,
   "id": "c79f58db-532e-4c89-b756-e69609914f23",
   "metadata": {},
   "outputs": [],
   "source": []
  },
  {
   "cell_type": "markdown",
   "id": "8d7c8ff3-fc83-4b1d-8b76-e916fdb39e39",
   "metadata": {},
   "source": [
    "### Exercise"
   ]
  },
  {
   "cell_type": "code",
   "execution_count": 4,
   "id": "c90c09e8-7f45-428b-8c33-0f35592571ce",
   "metadata": {},
   "outputs": [
    {
     "name": "stdout",
     "output_type": "stream",
     "text": [
      "Brad makes $10 an hour\n",
      "Lucy makes $12 an hour\n",
      "John makes $6.5 an hour\n",
      "Brad makes $400 an week\n",
      "Lucy makes $480 an week\n",
      "John makes $260.0 an week\n"
     ]
    }
   ],
   "source": [
    "# Welcome to our Python playground!\n",
    "\n",
    "salaries = {\n",
    "    \"Brad\": 10,\n",
    "    \"Lucy\": 12,\n",
    "    \"John\": 6.5,\n",
    "}\n",
    "\n",
    "for name in salaries:\n",
    "    salary = salaries[name]\n",
    "    print(f\"{name} makes ${salary} an hour\")\n",
    "\n",
    "\n",
    "for name, salary in salaries.items():\n",
    "    weekly_salary = salary * 40\n",
    "    print(f\"{name} makes ${weekly_salary} an week\")"
   ]
  },
  {
   "cell_type": "code",
   "execution_count": 9,
   "id": "62d81cfc-773b-47a0-a0b0-5b4fa2bab27c",
   "metadata": {},
   "outputs": [
    {
     "name": "stdin",
     "output_type": "stream",
     "text": [
      "Enter a string:  VarunKumar\n"
     ]
    }
   ],
   "source": [
    "n = input(\"Enter a string: \")\n",
    "chk = list(set(n))\n",
    "di = {}\n",
    "\n",
    "for i in chk:\n",
    "    m = n.count(i)\n",
    "    di[i] = m"
   ]
  },
  {
   "cell_type": "code",
   "execution_count": 10,
   "id": "5bec0f55-82f2-461c-b039-91885d904c8b",
   "metadata": {},
   "outputs": [
    {
     "data": {
      "text/plain": [
       "{'K': 1, 'n': 1, 'm': 1, 'u': 2, 'V': 1, 'r': 2, 'a': 2}"
      ]
     },
     "execution_count": 10,
     "metadata": {},
     "output_type": "execute_result"
    }
   ],
   "source": [
    "di"
   ]
  },
  {
   "cell_type": "code",
   "execution_count": null,
   "id": "f3d51c3b-12ba-40b3-8b7e-036542c82300",
   "metadata": {},
   "outputs": [],
   "source": []
  }
 ],
 "metadata": {
  "kernelspec": {
   "display_name": "Python 3 (ipykernel)",
   "language": "python",
   "name": "python3"
  },
  "language_info": {
   "codemirror_mode": {
    "name": "ipython",
    "version": 3
   },
   "file_extension": ".py",
   "mimetype": "text/x-python",
   "name": "python",
   "nbconvert_exporter": "python",
   "pygments_lexer": "ipython3",
   "version": "3.9.2"
  }
 },
 "nbformat": 4,
 "nbformat_minor": 5
}
