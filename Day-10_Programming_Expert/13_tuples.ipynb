{
 "cells": [
  {
   "cell_type": "markdown",
   "id": "cb401bdb-6393-4f2e-9568-ae8989a86c50",
   "metadata": {},
   "source": [
    "# Tuples"
   ]
  },
  {
   "cell_type": "code",
   "execution_count": 2,
   "id": "73b43147-d665-4715-9bc5-dcbb61ff34f8",
   "metadata": {},
   "outputs": [
    {
     "name": "stdout",
     "output_type": "stream",
     "text": [
      "2 4\n",
      "0\n",
      "2\n",
      "1\n",
      "1\n"
     ]
    }
   ],
   "source": [
    "# Welcome to our Python playground!\n",
    "\n",
    "t1 = (1, 2)\n",
    "t2 = (3, 4, 5, 3)\n",
    "\n",
    "print(len(t1), len(t2))\n",
    "\n",
    "print(t1.count(3))\n",
    "print(t2.count(3))\n",
    "\n",
    "print(t1.index(2))\n",
    "\n",
    "print(t1[0])"
   ]
  },
  {
   "cell_type": "code",
   "execution_count": 3,
   "id": "571b265e-5877-4f08-97c5-d28aa348e912",
   "metadata": {},
   "outputs": [
    {
     "data": {
      "text/plain": [
       "(1, 2, 1, 2, 1, 2)"
      ]
     },
     "execution_count": 3,
     "metadata": {},
     "output_type": "execute_result"
    }
   ],
   "source": [
    "(1, 2)*3"
   ]
  },
  {
   "cell_type": "markdown",
   "id": "9ad3bddc-7ded-4c90-b0ce-c80f6ffc8f3a",
   "metadata": {},
   "source": [
    "## Tuple indexing"
   ]
  },
  {
   "cell_type": "code",
   "execution_count": 9,
   "id": "14329764-b02f-409b-b5c9-3cb002cc347c",
   "metadata": {},
   "outputs": [
    {
     "name": "stdout",
     "output_type": "stream",
     "text": [
      "3\n",
      "4\n",
      "5\n",
      "3\n"
     ]
    }
   ],
   "source": [
    "for i in range(len(t2)):\n",
    "    print(t2[i])"
   ]
  },
  {
   "cell_type": "code",
   "execution_count": null,
   "id": "085d1b42-9fb3-4756-940d-c8c08384daec",
   "metadata": {},
   "outputs": [],
   "source": []
  },
  {
   "cell_type": "markdown",
   "id": "e2726a08-e182-4f6e-92f5-820a7293483b",
   "metadata": {},
   "source": [
    "## len() function"
   ]
  },
  {
   "cell_type": "code",
   "execution_count": null,
   "id": "ef692567-7383-406a-ba0d-4becb83eafde",
   "metadata": {},
   "outputs": [],
   "source": []
  },
  {
   "cell_type": "markdown",
   "id": "bab9c7c5-cfaf-4aad-9983-108bcc72885d",
   "metadata": {},
   "source": [
    "## .count() method"
   ]
  },
  {
   "cell_type": "code",
   "execution_count": null,
   "id": "6dcd9678-3648-4269-b074-46faec8b4567",
   "metadata": {},
   "outputs": [],
   "source": []
  },
  {
   "cell_type": "markdown",
   "id": "8e161aa7-9c7f-4393-a308-f97797ff0f18",
   "metadata": {},
   "source": [
    "## .index() Method"
   ]
  },
  {
   "cell_type": "code",
   "execution_count": null,
   "id": "96383ab3-1449-4e1d-aab3-717d3ca5aaee",
   "metadata": {},
   "outputs": [],
   "source": []
  },
  {
   "cell_type": "markdown",
   "id": "dc7665a4-bd9f-465d-b0e0-bb84729e2c58",
   "metadata": {},
   "source": [
    "## 'in' operator"
   ]
  },
  {
   "cell_type": "code",
   "execution_count": null,
   "id": "c419bc9c-ada6-4f16-8d45-458cc6b21800",
   "metadata": {},
   "outputs": [],
   "source": []
  },
  {
   "cell_type": "markdown",
   "id": "7e5937f5-0f49-4381-bd4d-342a85d25686",
   "metadata": {},
   "source": [
    "## Nested Tuples"
   ]
  },
  {
   "cell_type": "code",
   "execution_count": null,
   "id": "7f43b9c7-c92b-4076-ab1e-c5d5cd0af7cc",
   "metadata": {},
   "outputs": [],
   "source": []
  },
  {
   "cell_type": "markdown",
   "id": "1a17ae2e-df9e-49d7-81ec-0a39884c72bb",
   "metadata": {},
   "source": [
    "## Multiplying and Adding Tuples"
   ]
  },
  {
   "cell_type": "code",
   "execution_count": null,
   "id": "0889ab66-9efe-460b-a4fe-09f000aa0ccc",
   "metadata": {},
   "outputs": [],
   "source": []
  },
  {
   "cell_type": "markdown",
   "id": "b8d2d43e-b3a4-4533-b166-a68038843890",
   "metadata": {},
   "source": [
    "## Creating Tuples"
   ]
  },
  {
   "cell_type": "code",
   "execution_count": null,
   "id": "550def9b-7104-415d-a8d6-3c5e4410f708",
   "metadata": {},
   "outputs": [],
   "source": []
  },
  {
   "cell_type": "markdown",
   "id": "9818fb5d-83a8-4c89-abf1-73b419a9c997",
   "metadata": {},
   "source": [
    "## Modifying Tuples"
   ]
  },
  {
   "cell_type": "code",
   "execution_count": null,
   "id": "371814aa-35a2-4711-a94f-10178e3ddde3",
   "metadata": {},
   "outputs": [],
   "source": []
  }
 ],
 "metadata": {
  "kernelspec": {
   "display_name": "Python 3 (ipykernel)",
   "language": "python",
   "name": "python3"
  },
  "language_info": {
   "codemirror_mode": {
    "name": "ipython",
    "version": 3
   },
   "file_extension": ".py",
   "mimetype": "text/x-python",
   "name": "python",
   "nbconvert_exporter": "python",
   "pygments_lexer": "ipython3",
   "version": "3.9.2"
  }
 },
 "nbformat": 4,
 "nbformat_minor": 5
}
