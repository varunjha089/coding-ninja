{
 "cells": [
  {
   "cell_type": "code",
   "execution_count": null,
   "id": "a939dbaa-a8a9-4a98-8f75-e155fab31274",
   "metadata": {},
   "outputs": [],
   "source": []
  },
  {
   "cell_type": "code",
   "execution_count": null,
   "id": "656e3059-ce54-473b-bb70-43046e4b2cb4",
   "metadata": {},
   "outputs": [],
   "source": []
  },
  {
   "cell_type": "markdown",
   "id": "b2fee4f9-2762-4540-b320-1c65e49891fe",
   "metadata": {},
   "source": [
    "## Exercise"
   ]
  },
  {
   "cell_type": "code",
   "execution_count": 2,
   "id": "901c69d1-f560-4432-b8d8-bd87e1662488",
   "metadata": {},
   "outputs": [
    {
     "name": "stdout",
     "output_type": "stream",
     "text": [
      "9\n"
     ]
    }
   ],
   "source": [
    "x = abs(-9)\n",
    "print(x)"
   ]
  },
  {
   "cell_type": "code",
   "execution_count": 3,
   "id": "b954385a-f6af-4f41-b528-0a7305532ed9",
   "metadata": {},
   "outputs": [
    {
     "name": "stdout",
     "output_type": "stream",
     "text": [
      "1\n"
     ]
    }
   ],
   "source": [
    "lst = [3, 4, 1, 3, 4, 1]\n",
    "\n",
    "print(min(lst))"
   ]
  },
  {
   "cell_type": "code",
   "execution_count": 4,
   "id": "1a98727c-a6e6-498d-a1b3-cc34a9ca1fb6",
   "metadata": {},
   "outputs": [
    {
     "name": "stdout",
     "output_type": "stream",
     "text": [
      "w\n"
     ]
    }
   ],
   "source": [
    "string = \"hello world\"\n",
    "\n",
    "print(max(string))"
   ]
  },
  {
   "cell_type": "code",
   "execution_count": 5,
   "id": "a81b1e8d-641e-41eb-b1d8-efe3e7cd9588",
   "metadata": {},
   "outputs": [
    {
     "name": "stdout",
     "output_type": "stream",
     "text": [
      "2\n"
     ]
    }
   ],
   "source": [
    "numbers = [-3, 4, 2, 1, -2]\n",
    "    \n",
    "print(sum(numbers))"
   ]
  },
  {
   "cell_type": "code",
   "execution_count": 6,
   "id": "696e9a7e-3148-4261-b987-bd5f214ec4d3",
   "metadata": {},
   "outputs": [
    {
     "name": "stdout",
     "output_type": "stream",
     "text": [
      "-2.77\n"
     ]
    }
   ],
   "source": [
    "number = -2.765261\n",
    "\n",
    "print(round(number, 2))"
   ]
  },
  {
   "cell_type": "code",
   "execution_count": null,
   "id": "7b8494a7-7759-44dd-9028-77cbe5b484be",
   "metadata": {},
   "outputs": [],
   "source": []
  }
 ],
 "metadata": {
  "kernelspec": {
   "display_name": "Python 3 (ipykernel)",
   "language": "python",
   "name": "python3"
  },
  "language_info": {
   "codemirror_mode": {
    "name": "ipython",
    "version": 3
   },
   "file_extension": ".py",
   "mimetype": "text/x-python",
   "name": "python",
   "nbconvert_exporter": "python",
   "pygments_lexer": "ipython3",
   "version": "3.9.2"
  }
 },
 "nbformat": 4,
 "nbformat_minor": 5
}
