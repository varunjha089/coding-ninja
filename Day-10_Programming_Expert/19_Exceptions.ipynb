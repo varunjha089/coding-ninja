{
 "cells": [
  {
   "cell_type": "code",
   "execution_count": null,
   "id": "4fd19e01-2d23-4771-91dc-4dc5917a86b8",
   "metadata": {},
   "outputs": [],
   "source": []
  },
  {
   "cell_type": "code",
   "execution_count": null,
   "id": "4a3f4824-21a7-4c8d-83d1-4851cd29eed2",
   "metadata": {},
   "outputs": [],
   "source": []
  },
  {
   "cell_type": "markdown",
   "id": "8defec88-20cc-4b38-805d-10fd578ffa44",
   "metadata": {},
   "source": [
    "## Exercise"
   ]
  },
  {
   "cell_type": "code",
   "execution_count": 5,
   "id": "afbeb4db-1e94-4364-a9a1-0fd3548e8a6f",
   "metadata": {},
   "outputs": [
    {
     "name": "stdin",
     "output_type": "stream",
     "text": [
      "Enter the numerator:  hello\n",
      "Enter the denominator:  5\n"
     ]
    },
    {
     "name": "stdout",
     "output_type": "stream",
     "text": [
      "The numerator is not a number.\n",
      "This division cannot be performed.\n",
      "Goodbye!\n"
     ]
    }
   ],
   "source": [
    "# Write your code here.\n",
    "\n",
    "# You'll have to use the following strings:\n",
    "# 1) \"Enter the numerator: \"\n",
    "# 2) \"Enter the denominator: \"\n",
    "# 3) \"The numerator is not a number.\"\n",
    "# 4) \"The denominator is not a number.\"\n",
    "# 5) \"You cannot divide by 0.\"\n",
    "# 6) \"This division cannot be performed.\"\n",
    "# 7) \"The result of this division is _.\"\n",
    "# 8) \"Goodbye!\"\n",
    "numerator = input(\"Enter the numerator: \")\n",
    "denominator = input(\"Enter the denominator: \")\n",
    "\n",
    "try:\n",
    "    numerator = float(numerator)\n",
    "except Exception as e:\n",
    "    print(\"The numerator is not a number.\")\n",
    "    \n",
    "try:\n",
    "    denominator = float(denominator)\n",
    "except Exception as e:\n",
    "    print(\"The denominator is not a number.\")\n",
    "\n",
    "try:\n",
    "    final = numerator/denominator\n",
    "    print(f\"The result of this division is {final}.\")\n",
    "except ZeroDivisionError as e:\n",
    "    print(\"You cannot divide by 0.\")\n",
    "    print(\"This division cannot be performed.\")\n",
    "except Exception as e:\n",
    "    print(\"This division cannot be performed.\")\n",
    "finally:\n",
    "    print('Goodbye!')"
   ]
  },
  {
   "cell_type": "code",
   "execution_count": null,
   "id": "08e8ffbe-ae78-4122-8a59-1347e7f89b6f",
   "metadata": {},
   "outputs": [],
   "source": []
  }
 ],
 "metadata": {
  "kernelspec": {
   "display_name": "Python 3 (ipykernel)",
   "language": "python",
   "name": "python3"
  },
  "language_info": {
   "codemirror_mode": {
    "name": "ipython",
    "version": 3
   },
   "file_extension": ".py",
   "mimetype": "text/x-python",
   "name": "python",
   "nbconvert_exporter": "python",
   "pygments_lexer": "ipython3",
   "version": "3.9.2"
  }
 },
 "nbformat": 4,
 "nbformat_minor": 5
}
