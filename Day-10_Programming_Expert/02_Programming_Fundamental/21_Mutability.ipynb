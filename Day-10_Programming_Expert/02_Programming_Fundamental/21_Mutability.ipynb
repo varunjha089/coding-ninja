{
 "cells": [
  {
   "cell_type": "code",
   "execution_count": 2,
   "id": "7a8790d2-07fc-494f-9f2d-c4622803f8d9",
   "metadata": {},
   "outputs": [
    {
     "name": "stdout",
     "output_type": "stream",
     "text": [
      "[1, 2, 3, 4, 3]\n"
     ]
    }
   ],
   "source": [
    "x = [1, 2, 3, 4]\n",
    "y = x\n",
    "z = x[:]\n",
    "y.append(3)\n",
    "z.append(1)\n",
    "y = [1, 2]\n",
    "\n",
    "print(x)"
   ]
  },
  {
   "cell_type": "code",
   "execution_count": 1,
   "id": "bd1e6961-c29a-4187-a482-865b44e8ab1a",
   "metadata": {},
   "outputs": [
    {
     "name": "stdout",
     "output_type": "stream",
     "text": [
      "(1, 2, 3)\n"
     ]
    }
   ],
   "source": [
    "x = (1, 2, 3)\n",
    "y = x\n",
    "z = x\n",
    "y += (1, 2)\n",
    "z += (2, 3)\n",
    "\n",
    "print(x)"
   ]
  },
  {
   "cell_type": "code",
   "execution_count": 4,
   "id": "f1a17fb0-cb12-44e4-92a7-bb1729a024a8",
   "metadata": {},
   "outputs": [
    {
     "name": "stdout",
     "output_type": "stream",
     "text": [
      "['tim', 'hello', 'great']\n"
     ]
    }
   ],
   "source": [
    "def replace(lst, target, swap_value):\n",
    "    # Write your code here.\n",
    "    for i in range(len(lst)):\n",
    "        element = lst[i]\n",
    "\n",
    "        if lst[i] == target:\n",
    "            lst[i] = swap_value\n",
    "            \n",
    "lst = [\"tim\", \"is\", \"great\"]\n",
    "target = \"is\"\n",
    "swap_value = \"hello\"\n",
    "replace(lst, target, swap_value)\n",
    "\n",
    "print(lst)"
   ]
  },
  {
   "cell_type": "code",
   "execution_count": null,
   "id": "3873743a-96a5-40d2-8891-d6598efb1232",
   "metadata": {},
   "outputs": [],
   "source": []
  }
 ],
 "metadata": {
  "kernelspec": {
   "display_name": "Python 3 (ipykernel)",
   "language": "python",
   "name": "python3"
  },
  "language_info": {
   "codemirror_mode": {
    "name": "ipython",
    "version": 3
   },
   "file_extension": ".py",
   "mimetype": "text/x-python",
   "name": "python",
   "nbconvert_exporter": "python",
   "pygments_lexer": "ipython3",
   "version": "3.9.2"
  }
 },
 "nbformat": 4,
 "nbformat_minor": 5
}
