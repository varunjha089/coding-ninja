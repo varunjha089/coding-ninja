{
 "cells": [
  {
   "cell_type": "code",
   "execution_count": null,
   "id": "c9c4c498-e0e4-45e6-a711-88c5986596a3",
   "metadata": {},
   "outputs": [],
   "source": []
  },
  {
   "cell_type": "code",
   "execution_count": null,
   "id": "4ef3a759-ddb1-4216-8b79-bdac25993f91",
   "metadata": {},
   "outputs": [],
   "source": []
  },
  {
   "cell_type": "markdown",
   "id": "4d721092-558f-4858-b129-470abb1de48f",
   "metadata": {},
   "source": [
    "## Exercise"
   ]
  },
  {
   "cell_type": "code",
   "execution_count": 1,
   "id": "cf3fa224-ffa5-4276-8b1c-50c17eb54ab7",
   "metadata": {},
   "outputs": [],
   "source": [
    "# Write your code here.\n",
    "def add(a, b):\n",
    "    return a+b"
   ]
  },
  {
   "cell_type": "code",
   "execution_count": 2,
   "id": "57151ffa-8422-4780-8d37-7798ecfca5c8",
   "metadata": {},
   "outputs": [
    {
     "data": {
      "text/plain": [
       "9"
      ]
     },
     "execution_count": 2,
     "metadata": {},
     "output_type": "execute_result"
    }
   ],
   "source": [
    "add(5, 4)"
   ]
  },
  {
   "cell_type": "code",
   "execution_count": 3,
   "id": "c5cc4a04-6807-459f-9ea6-7f68fd689b9b",
   "metadata": {},
   "outputs": [
    {
     "data": {
      "text/plain": [
       "[1, 3, 5, 7, 9]"
      ]
     },
     "execution_count": 3,
     "metadata": {},
     "output_type": "execute_result"
    }
   ],
   "source": [
    "def find_all_odds(lst):\n",
    "    # Write your code here.\n",
    "    return [i for i in lst if i % 2 != 0]\n",
    "\n",
    "find_all_odds([i for i in range(10)])"
   ]
  },
  {
   "cell_type": "code",
   "execution_count": 4,
   "id": "e2727e22-09f8-44ae-8072-0eea93ab9f28",
   "metadata": {},
   "outputs": [
    {
     "data": {
      "text/plain": [
       "[5, 5, 2, 1, 10]"
      ]
     },
     "execution_count": 4,
     "metadata": {},
     "output_type": "execute_result"
    }
   ],
   "source": [
    "def string_lengths(strings):\n",
    "    # Write your code here.\n",
    "    return [len(i) for i in strings]\n",
    "\n",
    "string_lengths([\"varun\", \"kumar\", \"is\", \"a\", \"programmer\"])"
   ]
  },
  {
   "cell_type": "code",
   "execution_count": 5,
   "id": "3b72ebb6-e77c-40f2-91e4-e629399e92f9",
   "metadata": {},
   "outputs": [
    {
     "data": {
      "text/plain": [
       "1"
      ]
     },
     "execution_count": 5,
     "metadata": {},
     "output_type": "execute_result"
    }
   ],
   "source": [
    "def compare_lists(lst1=[], lst2=[]):\n",
    "    # Write your code here.\n",
    "    counter = 0\n",
    "    for i in set(lst1):\n",
    "        for j in set(lst2):\n",
    "            if i == j:\n",
    "                counter += 1\n",
    "    return counter\n",
    "\n",
    "compare_lists([1, 2, 3], [1, 1, 1])"
   ]
  },
  {
   "cell_type": "code",
   "execution_count": 10,
   "id": "5be86582-bf20-4808-98b3-6978199e6e71",
   "metadata": {},
   "outputs": [
    {
     "data": {
      "text/plain": [
       "[0, 1, 2, 3, 4]"
      ]
     },
     "execution_count": 10,
     "metadata": {},
     "output_type": "execute_result"
    }
   ],
   "source": [
    "def trim_list(lst, elements_to_trim):\n",
    "    # Write your code here.\n",
    "    return [lst[i] for i in range(len(lst) - elements_to_trim)]\n",
    "\n",
    "trim_list([i for i in range(10)], 5)"
   ]
  },
  {
   "cell_type": "code",
   "execution_count": 8,
   "id": "09dabd60-7fb1-4be2-bad9-4d01706ad4c1",
   "metadata": {},
   "outputs": [
    {
     "data": {
      "text/plain": [
       "[5, 9, 11, 12, 17, 23, 27]"
      ]
     },
     "execution_count": 8,
     "metadata": {},
     "output_type": "execute_result"
    }
   ],
   "source": [
    "def running_sums(numbers):\n",
    "    # Write your code here.\n",
    "    sum = 0\n",
    "    arr = []\n",
    "    for i in numbers:\n",
    "        sum += i\n",
    "        arr.append(sum)\n",
    "    return arr\n",
    "\n",
    "running_sums([5, 4, 2, 1, 5, 6, 4])"
   ]
  },
  {
   "cell_type": "code",
   "execution_count": null,
   "id": "254ef082-d7af-43ce-997a-221f09fc5a65",
   "metadata": {},
   "outputs": [],
   "source": []
  }
 ],
 "metadata": {
  "kernelspec": {
   "display_name": "Python 3 (ipykernel)",
   "language": "python",
   "name": "python3"
  },
  "language_info": {
   "codemirror_mode": {
    "name": "ipython",
    "version": 3
   },
   "file_extension": ".py",
   "mimetype": "text/x-python",
   "name": "python",
   "nbconvert_exporter": "python",
   "pygments_lexer": "ipython3",
   "version": "3.9.2"
  }
 },
 "nbformat": 4,
 "nbformat_minor": 5
}
