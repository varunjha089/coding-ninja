{
 "cells": [
  {
   "cell_type": "markdown",
   "id": "097eb85f-07f3-4d39-9250-7fc06bdc7a74",
   "metadata": {
    "tags": []
   },
   "source": [
    "## What is Exceptions\n",
    "\n",
    "An `Exceptions` in python is raised when something enexpected happens.\n",
    "\n",
    "The general syntax of exceptions in python is\n",
    "```python\n",
    "try:\n",
    "    pass\n",
    "except:\n",
    "    pass\n",
    "```"
   ]
  },
  {
   "cell_type": "code",
   "execution_count": 7,
   "id": "38fdc9fe-f05d-4da7-a341-9891e6baad60",
   "metadata": {},
   "outputs": [
    {
     "ename": "ValueError",
     "evalue": "invalid literal for int() with base 10: 'Hello World'",
     "output_type": "error",
     "traceback": [
      "\u001b[1;31m---------------------------------------------------------------------------\u001b[0m",
      "\u001b[1;31mValueError\u001b[0m                                Traceback (most recent call last)",
      "Input \u001b[1;32mIn [7]\u001b[0m, in \u001b[0;36m<module>\u001b[1;34m\u001b[0m\n\u001b[1;32m----> 1\u001b[0m \u001b[38;5;28;43mint\u001b[39;49m\u001b[43m(\u001b[49m\u001b[38;5;124;43m\"\u001b[39;49m\u001b[38;5;124;43mHello World\u001b[39;49m\u001b[38;5;124;43m\"\u001b[39;49m\u001b[43m)\u001b[49m\n",
      "\u001b[1;31mValueError\u001b[0m: invalid literal for int() with base 10: 'Hello World'"
     ]
    }
   ],
   "source": [
    "int(\"Hello World\")"
   ]
  },
  {
   "cell_type": "markdown",
   "id": "4578d44d-8eb2-4cc6-b76e-3278e464c6a9",
   "metadata": {},
   "source": [
    "## Handling Exceptions"
   ]
  },
  {
   "cell_type": "code",
   "execution_count": 10,
   "id": "0fc52b3e-ed4c-49fc-b9d5-247f46b34ecb",
   "metadata": {},
   "outputs": [
    {
     "name": "stdout",
     "output_type": "stream",
     "text": [
      "Invalid statement\n",
      "Done\n"
     ]
    }
   ],
   "source": [
    "try:\n",
    "    int(\"Hello, World!\")\n",
    "except:\n",
    "    print(f\"Invalid statement\")\n",
    "\n",
    "print(\"Done\")"
   ]
  },
  {
   "cell_type": "code",
   "execution_count": null,
   "id": "8d41ce81-d005-4821-88e1-6a2c2e269fa9",
   "metadata": {},
   "outputs": [],
   "source": []
  },
  {
   "cell_type": "markdown",
   "id": "8faf7b1f-c01d-477e-a44a-3728d4584859",
   "metadata": {},
   "source": [
    "## Handling Specific Exceptions"
   ]
  },
  {
   "cell_type": "code",
   "execution_count": 11,
   "id": "4c53a64b-92bf-4c2e-a1f7-c321f55cf6fa",
   "metadata": {},
   "outputs": [
    {
     "name": "stdout",
     "output_type": "stream",
     "text": [
      "Invalid statement: invalid literal for int() with base 10: 'Hello, World!'\n",
      "Done\n"
     ]
    }
   ],
   "source": [
    "try:\n",
    "    int(\"Hello, World!\")\n",
    "except ValueError as e:\n",
    "    print(f\"Invalid statement: {e}\")\n",
    "\n",
    "print(\"Done\")"
   ]
  },
  {
   "cell_type": "code",
   "execution_count": null,
   "id": "0ab691a7-59c1-49fe-8d57-b3ad76b65f49",
   "metadata": {},
   "outputs": [],
   "source": []
  },
  {
   "cell_type": "markdown",
   "id": "6231dfdf-61ef-4019-88ab-49777d1ad919",
   "metadata": {},
   "source": [
    "## Handling Multiple Exceptions"
   ]
  },
  {
   "cell_type": "code",
   "execution_count": null,
   "id": "f7014d72-4a54-41ea-8519-a5dd590bb37e",
   "metadata": {},
   "outputs": [],
   "source": []
  },
  {
   "cell_type": "markdown",
   "id": "6726f928-0355-4c97-927a-b15d1c695c81",
   "metadata": {},
   "source": [
    "## Handling General Exceptions"
   ]
  },
  {
   "cell_type": "code",
   "execution_count": null,
   "id": "ab471764-a61d-4fa3-8b5a-3549ad1e842f",
   "metadata": {},
   "outputs": [],
   "source": []
  },
  {
   "cell_type": "markdown",
   "id": "92b23c21-d866-4692-8697-1dd530676564",
   "metadata": {},
   "source": [
    "## Finally Block"
   ]
  },
  {
   "cell_type": "code",
   "execution_count": null,
   "id": "cad111bc-41ae-44cb-a02a-eaf73623883e",
   "metadata": {},
   "outputs": [],
   "source": []
  },
  {
   "cell_type": "markdown",
   "id": "95f2178e-3e28-4be1-a754-15f8db5ea2b3",
   "metadata": {},
   "source": [
    "## Raising Exceptions"
   ]
  },
  {
   "cell_type": "code",
   "execution_count": null,
   "id": "d033a53c-1e7e-44c6-a5c4-c20072602207",
   "metadata": {},
   "outputs": [],
   "source": []
  },
  {
   "cell_type": "markdown",
   "id": "e696d30c-fefb-46e2-b21c-81b1838fe05c",
   "metadata": {},
   "source": [
    "## Run-Time and Compile-Time"
   ]
  },
  {
   "cell_type": "code",
   "execution_count": null,
   "id": "735a8ff9-798f-42c6-aa37-cfb946147a1a",
   "metadata": {},
   "outputs": [],
   "source": []
  },
  {
   "cell_type": "markdown",
   "id": "8defec88-20cc-4b38-805d-10fd578ffa44",
   "metadata": {},
   "source": [
    "## Exercise"
   ]
  },
  {
   "cell_type": "code",
   "execution_count": 5,
   "id": "afbeb4db-1e94-4364-a9a1-0fd3548e8a6f",
   "metadata": {},
   "outputs": [
    {
     "name": "stdin",
     "output_type": "stream",
     "text": [
      "Enter the numerator:  hello\n",
      "Enter the denominator:  5\n"
     ]
    },
    {
     "name": "stdout",
     "output_type": "stream",
     "text": [
      "The numerator is not a number.\n",
      "This division cannot be performed.\n",
      "Goodbye!\n"
     ]
    }
   ],
   "source": [
    "# Write your code here.\n",
    "\n",
    "# You'll have to use the following strings:\n",
    "# 1) \"Enter the numerator: \"\n",
    "# 2) \"Enter the denominator: \"\n",
    "# 3) \"The numerator is not a number.\"\n",
    "# 4) \"The denominator is not a number.\"\n",
    "# 5) \"You cannot divide by 0.\"\n",
    "# 6) \"This division cannot be performed.\"\n",
    "# 7) \"The result of this division is _.\"\n",
    "# 8) \"Goodbye!\"\n",
    "numerator = input(\"Enter the numerator: \")\n",
    "denominator = input(\"Enter the denominator: \")\n",
    "\n",
    "try:\n",
    "    numerator = float(numerator)\n",
    "except Exception as e:\n",
    "    print(\"The numerator is not a number.\")\n",
    "    \n",
    "try:\n",
    "    denominator = float(denominator)\n",
    "except Exception as e:\n",
    "    print(\"The denominator is not a number.\")\n",
    "\n",
    "try:\n",
    "    final = numerator/denominator\n",
    "    print(f\"The result of this division is {final}.\")\n",
    "except ZeroDivisionError as e:\n",
    "    print(\"You cannot divide by 0.\")\n",
    "    print(\"This division cannot be performed.\")\n",
    "except Exception as e:\n",
    "    print(\"This division cannot be performed.\")\n",
    "finally:\n",
    "    print('Goodbye!')"
   ]
  },
  {
   "cell_type": "code",
   "execution_count": null,
   "id": "08e8ffbe-ae78-4122-8a59-1347e7f89b6f",
   "metadata": {},
   "outputs": [],
   "source": []
  }
 ],
 "metadata": {
  "kernelspec": {
   "display_name": "Python 3 (ipykernel)",
   "language": "python",
   "name": "python3"
  },
  "language_info": {
   "codemirror_mode": {
    "name": "ipython",
    "version": 3
   },
   "file_extension": ".py",
   "mimetype": "text/x-python",
   "name": "python",
   "nbconvert_exporter": "python",
   "pygments_lexer": "ipython3",
   "version": "3.9.2"
  }
 },
 "nbformat": 4,
 "nbformat_minor": 5
}
