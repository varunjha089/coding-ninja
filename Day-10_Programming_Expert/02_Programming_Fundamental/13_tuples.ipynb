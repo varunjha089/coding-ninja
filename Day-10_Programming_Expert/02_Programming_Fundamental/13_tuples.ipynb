{
 "cells": [
  {
   "cell_type": "markdown",
   "id": "cb401bdb-6393-4f2e-9568-ae8989a86c50",
   "metadata": {},
   "source": [
    "# Tuples"
   ]
  },
  {
   "cell_type": "code",
   "execution_count": 2,
   "id": "73b43147-d665-4715-9bc5-dcbb61ff34f8",
   "metadata": {},
   "outputs": [
    {
     "name": "stdout",
     "output_type": "stream",
     "text": [
      "2 4\n",
      "0\n",
      "2\n",
      "1\n",
      "1\n"
     ]
    }
   ],
   "source": [
    "# Welcome to our Python playground!\n",
    "\n",
    "t1 = (1, 2)\n",
    "t2 = (3, 4, 5, 3)\n",
    "\n",
    "print(len(t1), len(t2))\n",
    "\n",
    "print(t1.count(3))\n",
    "print(t2.count(3))\n",
    "\n",
    "print(t1.index(2))\n",
    "\n",
    "print(t1[0])"
   ]
  },
  {
   "cell_type": "code",
   "execution_count": 3,
   "id": "571b265e-5877-4f08-97c5-d28aa348e912",
   "metadata": {},
   "outputs": [
    {
     "data": {
      "text/plain": [
       "(1, 2, 1, 2, 1, 2)"
      ]
     },
     "execution_count": 3,
     "metadata": {},
     "output_type": "execute_result"
    }
   ],
   "source": [
    "(1, 2)*3"
   ]
  },
  {
   "cell_type": "markdown",
   "id": "9ad3bddc-7ded-4c90-b0ce-c80f6ffc8f3a",
   "metadata": {},
   "source": [
    "## Tuple indexing"
   ]
  },
  {
   "cell_type": "code",
   "execution_count": 9,
   "id": "14329764-b02f-409b-b5c9-3cb002cc347c",
   "metadata": {},
   "outputs": [
    {
     "name": "stdout",
     "output_type": "stream",
     "text": [
      "3\n",
      "4\n",
      "5\n",
      "3\n"
     ]
    }
   ],
   "source": [
    "for i in range(len(t2)):\n",
    "    print(t2[i])"
   ]
  },
  {
   "cell_type": "markdown",
   "id": "874f4ed2-aa57-43df-ac17-49f9aa011d4f",
   "metadata": {},
   "source": [
    "### Tuple negative Indexing"
   ]
  },
  {
   "cell_type": "code",
   "execution_count": 11,
   "id": "77f210a2-7f4f-485d-87b4-a4f462ee79b4",
   "metadata": {},
   "outputs": [
    {
     "data": {
      "text/plain": [
       "(3, 4, 5, 3)"
      ]
     },
     "execution_count": 11,
     "metadata": {},
     "output_type": "execute_result"
    }
   ],
   "source": [
    "t2"
   ]
  },
  {
   "cell_type": "code",
   "execution_count": 12,
   "id": "cb2596f3-957a-4ed9-b482-a3f411faa096",
   "metadata": {},
   "outputs": [
    {
     "data": {
      "text/plain": [
       "3"
      ]
     },
     "execution_count": 12,
     "metadata": {},
     "output_type": "execute_result"
    }
   ],
   "source": [
    "t2[-1]"
   ]
  },
  {
   "cell_type": "code",
   "execution_count": 13,
   "id": "80109f80-e86e-4123-a80b-4855e7081c7c",
   "metadata": {},
   "outputs": [
    {
     "data": {
      "text/plain": [
       "(3, 5, 4, 3)"
      ]
     },
     "execution_count": 13,
     "metadata": {},
     "output_type": "execute_result"
    }
   ],
   "source": [
    "t2[::-1]"
   ]
  },
  {
   "cell_type": "markdown",
   "id": "e2726a08-e182-4f6e-92f5-820a7293483b",
   "metadata": {},
   "source": [
    "## len() function"
   ]
  },
  {
   "cell_type": "code",
   "execution_count": 14,
   "id": "ef692567-7383-406a-ba0d-4becb83eafde",
   "metadata": {},
   "outputs": [
    {
     "data": {
      "text/plain": [
       "4"
      ]
     },
     "execution_count": 14,
     "metadata": {},
     "output_type": "execute_result"
    }
   ],
   "source": [
    "len(t2)"
   ]
  },
  {
   "cell_type": "markdown",
   "id": "bab9c7c5-cfaf-4aad-9983-108bcc72885d",
   "metadata": {},
   "source": [
    "## .count() method"
   ]
  },
  {
   "cell_type": "code",
   "execution_count": 16,
   "id": "6dcd9678-3648-4269-b074-46faec8b4567",
   "metadata": {},
   "outputs": [
    {
     "data": {
      "text/plain": [
       "(3, 4, 5, 3)"
      ]
     },
     "execution_count": 16,
     "metadata": {},
     "output_type": "execute_result"
    }
   ],
   "source": [
    "t2"
   ]
  },
  {
   "cell_type": "code",
   "execution_count": 17,
   "id": "170053da-f5c8-44a9-81bc-1c07e0b58c0a",
   "metadata": {},
   "outputs": [
    {
     "data": {
      "text/plain": [
       "2"
      ]
     },
     "execution_count": 17,
     "metadata": {},
     "output_type": "execute_result"
    }
   ],
   "source": [
    "t2.count(3)"
   ]
  },
  {
   "cell_type": "markdown",
   "id": "8e161aa7-9c7f-4393-a308-f97797ff0f18",
   "metadata": {},
   "source": [
    "## .index() Method"
   ]
  },
  {
   "cell_type": "code",
   "execution_count": 18,
   "id": "96383ab3-1449-4e1d-aab3-717d3ca5aaee",
   "metadata": {},
   "outputs": [
    {
     "data": {
      "text/plain": [
       "0"
      ]
     },
     "execution_count": 18,
     "metadata": {},
     "output_type": "execute_result"
    }
   ],
   "source": [
    "t2.index(3)"
   ]
  },
  {
   "cell_type": "code",
   "execution_count": 19,
   "id": "c1fe8b7a-182d-41b9-a829-9b2a0d7386a8",
   "metadata": {},
   "outputs": [
    {
     "data": {
      "text/plain": [
       "2"
      ]
     },
     "execution_count": 19,
     "metadata": {},
     "output_type": "execute_result"
    }
   ],
   "source": [
    "t2.index(5)"
   ]
  },
  {
   "cell_type": "markdown",
   "id": "dc7665a4-bd9f-465d-b0e0-bb84729e2c58",
   "metadata": {},
   "source": [
    "## 'in' operator"
   ]
  },
  {
   "cell_type": "code",
   "execution_count": 20,
   "id": "c419bc9c-ada6-4f16-8d45-458cc6b21800",
   "metadata": {},
   "outputs": [
    {
     "data": {
      "text/plain": [
       "True"
      ]
     },
     "execution_count": 20,
     "metadata": {},
     "output_type": "execute_result"
    }
   ],
   "source": [
    "5 in t2"
   ]
  },
  {
   "cell_type": "code",
   "execution_count": 21,
   "id": "2c275e9e-e105-4f22-9332-c979928dc119",
   "metadata": {},
   "outputs": [
    {
     "data": {
      "text/plain": [
       "False"
      ]
     },
     "execution_count": 21,
     "metadata": {},
     "output_type": "execute_result"
    }
   ],
   "source": [
    "2 in t2"
   ]
  },
  {
   "cell_type": "markdown",
   "id": "7e5937f5-0f49-4381-bd4d-342a85d25686",
   "metadata": {},
   "source": [
    "## Nested Tuples"
   ]
  },
  {
   "cell_type": "code",
   "execution_count": 22,
   "id": "7f43b9c7-c92b-4076-ab1e-c5d5cd0af7cc",
   "metadata": {},
   "outputs": [],
   "source": [
    "t3 = (1, 2, 4, [1, 2], (4, 5))"
   ]
  },
  {
   "cell_type": "code",
   "execution_count": 23,
   "id": "b6c8ebe6-2529-488a-94a4-ca48ed58b146",
   "metadata": {},
   "outputs": [
    {
     "data": {
      "text/plain": [
       "(1, 2, 4, [1, 2], (4, 5))"
      ]
     },
     "execution_count": 23,
     "metadata": {},
     "output_type": "execute_result"
    }
   ],
   "source": [
    "t3"
   ]
  },
  {
   "cell_type": "code",
   "execution_count": 24,
   "id": "a51c3ef0-c7a5-4521-aebb-ca63c36279f0",
   "metadata": {},
   "outputs": [
    {
     "name": "stdout",
     "output_type": "stream",
     "text": [
      "1 is of type <class 'int'>\n",
      "2 is of type <class 'int'>\n",
      "4 is of type <class 'int'>\n",
      "[1, 2] is of type <class 'list'>\n",
      "(4, 5) is of type <class 'tuple'>\n"
     ]
    }
   ],
   "source": [
    "for i in t3:\n",
    "    print(f\"{i} is of type {type(i)}\")"
   ]
  },
  {
   "cell_type": "markdown",
   "id": "1a17ae2e-df9e-49d7-81ec-0a39884c72bb",
   "metadata": {},
   "source": [
    "## Multiplying and Adding Tuples"
   ]
  },
  {
   "cell_type": "code",
   "execution_count": 26,
   "id": "0889ab66-9efe-460b-a4fe-09f000aa0ccc",
   "metadata": {},
   "outputs": [
    {
     "name": "stdout",
     "output_type": "stream",
     "text": [
      "Addition of t4 and t5 produces (4, 5, 6, 7, 8, 9)\n",
      "Multiplication of t4 by 2 produces (4, 5, 6, 4, 5, 6)\n",
      "Multiplication of t5 by 2 produces (7, 8, 9, 7, 8, 9)\n"
     ]
    }
   ],
   "source": [
    "t4 = (4, 5, 6)\n",
    "t5 = (7, 8, 9)\n",
    "\n",
    "print(f\"Addition of t4 and t5 produces {t4 + t5}\")\n",
    "print(f\"Multiplication of t4 by 2 produces {t4 * 2}\")\n",
    "print(f\"Multiplication of t5 by 2 produces {t5 * 2}\")"
   ]
  },
  {
   "cell_type": "markdown",
   "id": "b8d2d43e-b3a4-4533-b166-a68038843890",
   "metadata": {},
   "source": [
    "## Creating Tuples"
   ]
  },
  {
   "cell_type": "code",
   "execution_count": 27,
   "id": "38413a72-caba-45e8-9b74-c5bceca8f5e7",
   "metadata": {},
   "outputs": [
    {
     "name": "stdout",
     "output_type": "stream",
     "text": [
      "(1, 2, 3, 4)\n",
      "<class 'tuple'>\n"
     ]
    }
   ],
   "source": [
    "# something seperated by , is a tupple itself\n",
    "x = 1, 2, 3, 4\n",
    "print(x)\n",
    "print(type(x))"
   ]
  },
  {
   "cell_type": "code",
   "execution_count": null,
   "id": "371814aa-35a2-4711-a94f-10178e3ddde3",
   "metadata": {},
   "outputs": [],
   "source": []
  }
 ],
 "metadata": {
  "kernelspec": {
   "display_name": "Python 3 (ipykernel)",
   "language": "python",
   "name": "python3"
  },
  "language_info": {
   "codemirror_mode": {
    "name": "ipython",
    "version": 3
   },
   "file_extension": ".py",
   "mimetype": "text/x-python",
   "name": "python",
   "nbconvert_exporter": "python",
   "pygments_lexer": "ipython3",
   "version": "3.9.2"
  }
 },
 "nbformat": 4,
 "nbformat_minor": 5
}
