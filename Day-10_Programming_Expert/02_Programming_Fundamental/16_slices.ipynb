{
 "cells": [
  {
   "cell_type": "markdown",
   "id": "5dec57a5-df6a-4a36-9cc9-27759d1205de",
   "metadata": {},
   "source": [
    "## What are Slices?"
   ]
  },
  {
   "cell_type": "code",
   "execution_count": 11,
   "id": "d0fea780-0fd6-4ee3-adf9-1d9fb5ab2bf2",
   "metadata": {},
   "outputs": [
    {
     "name": "stdout",
     "output_type": "stream",
     "text": [
      "[1, 2, 3, 4, 5, 6]\n",
      "[2, 3, 4, 5, 6]\n",
      "[3, 4, 5, 6]\n",
      "[4, 5, 6]\n",
      "[5, 6]\n",
      "[6]\n"
     ]
    }
   ],
   "source": [
    "arr = [1, 2, 3, 4, 5, 6]\n",
    "\n",
    "for i in range(len(arr)):\n",
    "    print(arr[i:])\n"
   ]
  },
  {
   "cell_type": "markdown",
   "id": "a4482b00-419a-4c47-875a-aa0b41db21dd",
   "metadata": {},
   "source": [
    "## Slices Syntax"
   ]
  },
  {
   "cell_type": "markdown",
   "id": "2baea6c0-f358-4e20-8775-71560d6d73c5",
   "metadata": {},
   "source": [
    "- arr[start : stop : step]"
   ]
  },
  {
   "cell_type": "markdown",
   "id": "2e978838-f678-4b30-81a9-60043fbb4058",
   "metadata": {},
   "source": [
    "## Negative Index Slicing"
   ]
  },
  {
   "cell_type": "code",
   "execution_count": 12,
   "id": "29ceaa4f-08d4-4807-ba18-38892ef868e0",
   "metadata": {},
   "outputs": [
    {
     "data": {
      "text/plain": [
       "[6, 5, 4, 3, 2, 1]"
      ]
     },
     "execution_count": 12,
     "metadata": {},
     "output_type": "execute_result"
    }
   ],
   "source": [
    "arr[::-1]"
   ]
  },
  {
   "cell_type": "markdown",
   "id": "2edb10b1-c0e0-4666-993c-09f69b03c702",
   "metadata": {},
   "source": [
    "## Copying with slice"
   ]
  },
  {
   "cell_type": "code",
   "execution_count": 15,
   "id": "8b0c811d-23f0-415d-94f0-6927953a068f",
   "metadata": {},
   "outputs": [],
   "source": [
    "arv = arr[2:4]"
   ]
  },
  {
   "cell_type": "code",
   "execution_count": 16,
   "id": "a40dfecc-81b9-4235-aa30-64b720dc59b2",
   "metadata": {},
   "outputs": [
    {
     "data": {
      "text/plain": [
       "[3, 4]"
      ]
     },
     "execution_count": 16,
     "metadata": {},
     "output_type": "execute_result"
    }
   ],
   "source": [
    "arv"
   ]
  },
  {
   "cell_type": "markdown",
   "id": "74c66aae-e425-4067-a04f-639bdcd9887f",
   "metadata": {},
   "source": [
    "## Reversing With slice"
   ]
  },
  {
   "cell_type": "code",
   "execution_count": 17,
   "id": "4eeed710-e393-48e1-99da-c2ca77768ddd",
   "metadata": {},
   "outputs": [
    {
     "data": {
      "text/plain": [
       "[6, 5, 4, 3, 2, 1]"
      ]
     },
     "execution_count": 17,
     "metadata": {},
     "output_type": "execute_result"
    }
   ],
   "source": [
    "arr[::-1]"
   ]
  },
  {
   "cell_type": "markdown",
   "id": "0d2423a4-e71d-4c7a-a27e-0712807267bd",
   "metadata": {},
   "source": [
    "## Slicing String"
   ]
  },
  {
   "cell_type": "code",
   "execution_count": 18,
   "id": "33a4f7f0-780b-423f-bf53-77102edd28dd",
   "metadata": {},
   "outputs": [
    {
     "name": "stdout",
     "output_type": "stream",
     "text": [
      "ramuK nuraV\n",
      "Varun\n"
     ]
    }
   ],
   "source": [
    "arm = \"Varun Kumar\"\n",
    "print(arm[::-1])\n",
    "print(arm[:5])"
   ]
  },
  {
   "cell_type": "markdown",
   "id": "114990cf-3c26-4077-800f-e58b0a90ec7d",
   "metadata": {},
   "source": [
    "## Slicing Tuples"
   ]
  },
  {
   "cell_type": "code",
   "execution_count": 24,
   "id": "b51de336-1bfa-4492-9443-8b44df505e45",
   "metadata": {},
   "outputs": [
    {
     "name": "stdout",
     "output_type": "stream",
     "text": [
      "(9, 8, 7, 6, 5, 4, 3, 2, 1)\n",
      "(3, 4, 5, 6)\n",
      "(7, 6, 5, 4, 3, 2, 1)\n"
     ]
    }
   ],
   "source": [
    "tup = (1, 2, 3, 4, 5, 6, 7, 8, 9)\n",
    "print(tup[::-1])\n",
    "print(tup[2:6])\n",
    "print(tup[6::-1])"
   ]
  },
  {
   "cell_type": "markdown",
   "id": "a8793b33-b783-4290-ac49-2fa207ff9aa3",
   "metadata": {},
   "source": []
  }
 ],
 "metadata": {
  "kernelspec": {
   "display_name": "Python 3 (ipykernel)",
   "language": "python",
   "name": "python3"
  },
  "language_info": {
   "codemirror_mode": {
    "name": "ipython",
    "version": 3
   },
   "file_extension": ".py",
   "mimetype": "text/x-python",
   "name": "python",
   "nbconvert_exporter": "python",
   "pygments_lexer": "ipython3",
   "version": "3.9.2"
  }
 },
 "nbformat": 4,
 "nbformat_minor": 5
}
