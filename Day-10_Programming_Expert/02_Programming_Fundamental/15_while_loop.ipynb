{
 "cells": [
  {
   "cell_type": "markdown",
   "id": "ed164727-2839-4f65-9122-1671e273a6af",
   "metadata": {},
   "source": [
    "## What are 'while' loop"
   ]
  },
  {
   "cell_type": "markdown",
   "id": "d521c11b-455c-4d1d-8a24-d54a7d1d9540",
   "metadata": {},
   "source": [
    "\"While\" loop work's on the concept of working while a certain condition is true."
   ]
  },
  {
   "cell_type": "markdown",
   "id": "2d4423a0-fd1b-4332-a17a-8d0048ff9b1d",
   "metadata": {},
   "source": [
    "## While loop syntax"
   ]
  },
  {
   "cell_type": "code",
   "execution_count": 19,
   "id": "263b55e9-8b5b-4b28-aaea-9b9de9365706",
   "metadata": {},
   "outputs": [],
   "source": [
    "while True:\n",
    "    #statement\n",
    "    break"
   ]
  },
  {
   "cell_type": "markdown",
   "id": "77c7b4ee-e9b7-4a5d-8d1b-ed3ed90fe027",
   "metadata": {},
   "source": [
    "## 'break' keyword"
   ]
  },
  {
   "cell_type": "code",
   "execution_count": 11,
   "id": "d6bf1c0b-f91f-4ebf-ae57-7b0c8fd8462a",
   "metadata": {},
   "outputs": [
    {
     "name": "stdout",
     "output_type": "stream",
     "text": [
      "1\n",
      "2\n",
      "3\n",
      "Getting out of the loop\n"
     ]
    }
   ],
   "source": [
    "variable = 1\n",
    "something = 5\n",
    "while variable < something:\n",
    "    print(variable)\n",
    "    if variable % 3 == 0:\n",
    "        print(\"Getting out of the loop\")\n",
    "        break\n",
    "    variable += 1"
   ]
  },
  {
   "cell_type": "markdown",
   "id": "5ecfbb0e-7d5a-4123-a537-ac2265493545",
   "metadata": {},
   "source": [
    "## looping through a list"
   ]
  },
  {
   "cell_type": "code",
   "execution_count": 14,
   "id": "ac1dbc5a-f424-4792-b048-8cb8613c7d80",
   "metadata": {},
   "outputs": [
    {
     "name": "stdout",
     "output_type": "stream",
     "text": [
      "1 2 3 4 5 6 7 8 9 "
     ]
    }
   ],
   "source": [
    "arr = [int(i) for i in range(10) if i != 0]\n",
    "variable = 0\n",
    "while variable < len(arr):\n",
    "    print(arr[variable], end=\" \")\n",
    "    variable += 1"
   ]
  },
  {
   "cell_type": "markdown",
   "id": "6e313b83-9f05-4839-8f3b-c76f7921c116",
   "metadata": {},
   "source": [
    "## while else"
   ]
  },
  {
   "cell_type": "code",
   "execution_count": 16,
   "id": "6aae3e0a-2cda-494e-8529-8a2c5c844f9f",
   "metadata": {},
   "outputs": [
    {
     "name": "stdout",
     "output_type": "stream",
     "text": [
      "1 2 3 4 5 6 7 8 9 \n",
      "In the else part\n"
     ]
    }
   ],
   "source": [
    "arr = [int(i) for i in range(10) if i != 0]\n",
    "variable = 0\n",
    "while variable < len(arr):\n",
    "    print(arr[variable], end=\" \")\n",
    "    variable += 1\n",
    "else:\n",
    "    print()\n",
    "    print(\"In the else part\")"
   ]
  },
  {
   "cell_type": "code",
   "execution_count": null,
   "id": "9bd16820-c1d2-437f-93b8-b431d3e727ea",
   "metadata": {},
   "outputs": [],
   "source": []
  }
 ],
 "metadata": {
  "kernelspec": {
   "display_name": "Python 3 (ipykernel)",
   "language": "python",
   "name": "python3"
  },
  "language_info": {
   "codemirror_mode": {
    "name": "ipython",
    "version": 3
   },
   "file_extension": ".py",
   "mimetype": "text/x-python",
   "name": "python",
   "nbconvert_exporter": "python",
   "pygments_lexer": "ipython3",
   "version": "3.9.2"
  }
 },
 "nbformat": 4,
 "nbformat_minor": 5
}
