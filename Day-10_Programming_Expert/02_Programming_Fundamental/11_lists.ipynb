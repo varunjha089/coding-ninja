{
 "cells": [
  {
   "cell_type": "markdown",
   "id": "74ba11e8-bd40-4d9a-9f14-f02fb83cad1c",
   "metadata": {},
   "source": [
    "## .count()"
   ]
  },
  {
   "cell_type": "code",
   "execution_count": 1,
   "id": "8d521929-0972-4d01-b3a5-9b43238d009d",
   "metadata": {},
   "outputs": [],
   "source": [
    "x = [1, 2, 3, 4, 1, 1, 1, 5, 9, \"Hello\", \"World\"]"
   ]
  },
  {
   "cell_type": "code",
   "execution_count": 2,
   "id": "9b59d165-db5c-4d0d-ab16-32f444c5347a",
   "metadata": {},
   "outputs": [
    {
     "name": "stdout",
     "output_type": "stream",
     "text": [
      "1 appeared 4 times in the list [1, 2, 3, 4, 1, 1, 1, 5, 9, 'Hello', 'World'] at index 0\n",
      "1 appeared 3 times in the list [1, 1, 1, 5, 9, 'Hello', 'World'] at index 0\n",
      "1 appeared 2 times in the list [1, 1, 5, 9, 'Hello', 'World'] at index 0\n"
     ]
    }
   ],
   "source": [
    "# Repeating Element\n",
    "\"\"\"\n",
    "    -> print(f\"{i} appeared {x.count(i)} times in the list {x}\")\n",
    "    -> True appeared 5 times in the list [1, 2, 3, 4, 1, 1, 1, 5, 9, True, 'Hello', 'World']\n",
    "    \n",
    "    Why the x.count(i) is 5 for 'True'\n",
    "\"\"\"\n",
    "for i in range(len(x)):\n",
    "    if x[i:].count(x[i]) > 1:\n",
    "        print(f\"{x[i]} appeared {x[i:].count(x[i])} times in the list {x[i:]} at index {x[i:].index(x[i])}\")"
   ]
  },
  {
   "cell_type": "code",
   "execution_count": 3,
   "id": "c279f308-2ef6-4978-b2e9-0c23241ae388",
   "metadata": {},
   "outputs": [
    {
     "name": "stdout",
     "output_type": "stream",
     "text": [
      "2 appeared 1 times in the list [1, 2, 3, 4, 1, 1, 1, 5, 9, 'Hello', 'World'] at index 1\n",
      "3 appeared 1 times in the list [1, 2, 3, 4, 1, 1, 1, 5, 9, 'Hello', 'World'] at index 2\n",
      "4 appeared 1 times in the list [1, 2, 3, 4, 1, 1, 1, 5, 9, 'Hello', 'World'] at index 3\n",
      "5 appeared 1 times in the list [1, 2, 3, 4, 1, 1, 1, 5, 9, 'Hello', 'World'] at index 7\n",
      "9 appeared 1 times in the list [1, 2, 3, 4, 1, 1, 1, 5, 9, 'Hello', 'World'] at index 8\n",
      "Hello appeared 1 times in the list [1, 2, 3, 4, 1, 1, 1, 5, 9, 'Hello', 'World'] at index 9\n",
      "World appeared 1 times in the list [1, 2, 3, 4, 1, 1, 1, 5, 9, 'Hello', 'World'] at index 10\n"
     ]
    }
   ],
   "source": [
    "# Unique Element\n",
    "# y = [1, 1, 2, 3, 3, 4, 4, 5, 5, 5, 5]\n",
    "for i in x:\n",
    "    if x.count(i) == 1:\n",
    "        print(f\"{i} appeared {x.count(i)} times in the list {x} at index {x.index(i)}\")"
   ]
  },
  {
   "cell_type": "markdown",
   "id": "9a183a64-ec86-48a1-a209-4cd33fb2f5b1",
   "metadata": {},
   "source": [
    "## Negative Indexing"
   ]
  },
  {
   "cell_type": "code",
   "execution_count": 4,
   "id": "7bc33334-512a-449d-b7f3-955b5a2bc629",
   "metadata": {},
   "outputs": [
    {
     "data": {
      "text/plain": [
       "['World', 'Hello', 9, 5, 1, 1, 1, 4, 3, 2, 1]"
      ]
     },
     "execution_count": 4,
     "metadata": {},
     "output_type": "execute_result"
    }
   ],
   "source": [
    "x[::-1]"
   ]
  },
  {
   "cell_type": "code",
   "execution_count": null,
   "id": "b7b03b8b-ecfe-4734-bd4e-6671053fd6ff",
   "metadata": {},
   "outputs": [],
   "source": []
  }
 ],
 "metadata": {
  "kernelspec": {
   "display_name": "Python 3 (ipykernel)",
   "language": "python",
   "name": "python3"
  },
  "language_info": {
   "codemirror_mode": {
    "name": "ipython",
    "version": 3
   },
   "file_extension": ".py",
   "mimetype": "text/x-python",
   "name": "python",
   "nbconvert_exporter": "python",
   "pygments_lexer": "ipython3",
   "version": "3.9.2"
  }
 },
 "nbformat": 4,
 "nbformat_minor": 5
}
