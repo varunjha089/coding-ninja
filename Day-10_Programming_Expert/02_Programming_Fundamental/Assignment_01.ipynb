{
 "cells": [
  {
   "cell_type": "code",
   "execution_count": null,
   "id": "8fe1e12b-6164-41b5-8505-d20182264387",
   "metadata": {},
   "outputs": [],
   "source": [
    "import random\n",
    "\n",
    "# Write your code here.\n",
    "# Make sure to use `random.randint` to pick your random number.\n",
    "\n",
    "if __name__ == \"__main__\":\n",
    "\n",
    "    start = input(\"Enter the start of the range: \")\n",
    "    while not start.isdigit():\n",
    "        print(\"Please enter a valid number.\")\n",
    "        start = input(\"Enter the start of the range: \")\n",
    "\n",
    "\n",
    "    stop = input(\"Enter the end of the range: \")\n",
    "    while not stop.isdigit():\n",
    "        print(\"Please enter a valid number.\")\n",
    "        stop = int(input(\"Enter the end of the range: \"))\n",
    "\n",
    "    attempt = 0\n",
    "    rand_int = random.randint(int(start), int(stop))\n",
    "    guess = input(\"Guess a number\")\n",
    "\n",
    "    while not guess.isdigit():\n",
    "        print(\"Please enter a valid number.\")\n",
    "        guess = input(\"Guess a number\")\n",
    "        attempt += 1\n",
    "        if guess == rand_int:\n",
    "            break\n",
    "\n",
    "    print(f\"You guessed the number in {attempt} attempts\")\n",
    "    \n",
    "\n",
    "    \n",
    "\n"
   ]
  }
 ],
 "metadata": {
  "kernelspec": {
   "display_name": "Python 3 (ipykernel)",
   "language": "python",
   "name": "python3"
  },
  "language_info": {
   "codemirror_mode": {
    "name": "ipython",
    "version": 3
   },
   "file_extension": ".py",
   "mimetype": "text/x-python",
   "name": "python",
   "nbconvert_exporter": "python",
   "pygments_lexer": "ipython3",
   "version": "3.9.2"
  }
 },
 "nbformat": 4,
 "nbformat_minor": 5
}
