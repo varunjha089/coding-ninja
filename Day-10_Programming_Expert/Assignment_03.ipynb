{
 "cells": [
  {
   "cell_type": "code",
   "execution_count": null,
   "id": "fffd2fa2-d0ed-45a7-b6ba-0ffdd80cf0c6",
   "metadata": {},
   "outputs": [],
   "source": [
    "def sort_employees(employees, sort_by):\n",
    "    # Write your code here.\n",
    "    ret = []\n"
   ]
  }
 ],
 "metadata": {
  "kernelspec": {
   "display_name": "Python 3 (ipykernel)",
   "language": "python",
   "name": "python3"
  },
  "language_info": {
   "codemirror_mode": {
    "name": "ipython",
    "version": 3
   },
   "file_extension": ".py",
   "mimetype": "text/x-python",
   "name": "python",
   "nbconvert_exporter": "python",
   "pygments_lexer": "ipython3",
   "version": "3.9.2"
  }
 },
 "nbformat": 4,
 "nbformat_minor": 5
}
