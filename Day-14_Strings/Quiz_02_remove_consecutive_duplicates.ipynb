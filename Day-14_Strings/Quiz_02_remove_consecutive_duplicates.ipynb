{
 "cells": [
  {
   "cell_type": "markdown",
   "id": "4691ae92-3314-40e1-8f0f-b1f974c7d0aa",
   "metadata": {},
   "source": [
    "# Remove Consecutive Duplicates"
   ]
  },
  {
   "cell_type": "code",
   "execution_count": 1,
   "id": "4cac7495-c85f-4655-88b0-a40ab10c0e1a",
   "metadata": {},
   "outputs": [
    {
     "name": "stdout",
     "output_type": "stream",
     "text": [
      "a\n",
      "a\n",
      "a\n",
      "a\n"
     ]
    }
   ],
   "source": [
    "n = 'aaaa'\n",
    "for i in n:\n",
    "    print(i)"
   ]
  },
  {
   "cell_type": "code",
   "execution_count": 4,
   "id": "5f975355-010c-4878-8dc8-ed0c0b426bb8",
   "metadata": {},
   "outputs": [
    {
     "name": "stdout",
     "output_type": "stream",
     "text": [
      "['a', 'a', 'a', 'a']\n"
     ]
    }
   ],
   "source": [
    "arr = [i for i in n]\n",
    "# for i in n:\n",
    "#     arr.append(i)\n",
    "print(arr)"
   ]
  },
  {
   "cell_type": "code",
   "execution_count": 3,
   "id": "c8d481bf-dd4f-41d3-a122-b81f7bb5f102",
   "metadata": {},
   "outputs": [
    {
     "data": {
      "text/plain": [
       "{'a'}"
      ]
     },
     "execution_count": 3,
     "metadata": {},
     "output_type": "execute_result"
    }
   ],
   "source": [
    "set(arr)"
   ]
  },
  {
   "cell_type": "code",
   "execution_count": 14,
   "id": "f8988361-0c96-498c-bd37-0ae6c2f3cd38",
   "metadata": {},
   "outputs": [],
   "source": [
    "def removeConsecutiveDuplicates(string) :\n",
    "    # Your code goes here\n",
    "    passp = '' + string[0]\n",
    "    for i in range(1, len(string)):\n",
    "        if string[i] == string[i - 1]:\n",
    "            continue\n",
    "        passp += string[i]\n",
    "    return passp"
   ]
  },
  {
   "cell_type": "code",
   "execution_count": 15,
   "id": "15c15a65-5a7e-43cc-9c4b-6b923466cff7",
   "metadata": {},
   "outputs": [
    {
     "data": {
      "text/plain": [
       "'abcba'"
      ]
     },
     "execution_count": 15,
     "metadata": {},
     "output_type": "execute_result"
    }
   ],
   "source": [
    "removeConsecutiveDuplicates(\"aabccbaa\")"
   ]
  },
  {
   "cell_type": "code",
   "execution_count": null,
   "id": "482e27b0-05f8-47c6-81b5-c86b8bbc2bad",
   "metadata": {},
   "outputs": [],
   "source": []
  }
 ],
 "metadata": {
  "kernelspec": {
   "display_name": "Python 3 (ipykernel)",
   "language": "python",
   "name": "python3"
  },
  "language_info": {
   "codemirror_mode": {
    "name": "ipython",
    "version": 3
   },
   "file_extension": ".py",
   "mimetype": "text/x-python",
   "name": "python",
   "nbconvert_exporter": "python",
   "pygments_lexer": "ipython3",
   "version": "3.9.2"
  }
 },
 "nbformat": 4,
 "nbformat_minor": 5
}
