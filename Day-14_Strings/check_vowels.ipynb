{
 "cells": [
  {
   "cell_type": "code",
   "execution_count": 7,
   "id": "b29fb57b-0ced-4dab-913a-06863f0d50e4",
   "metadata": {},
   "outputs": [],
   "source": [
    "vowels = ['a', 'e', 'i', 'o', 'u']\n",
    "alphabet = [chr(i) for i in range(ord('a'), ord('z') + 1)]\n",
    "consonents = [i for i in alphabet if i not in vowels]"
   ]
  },
  {
   "cell_type": "code",
   "execution_count": 2,
   "id": "37c637fd-ac4c-4cf3-917a-61523ed525a5",
   "metadata": {},
   "outputs": [
    {
     "name": "stdout",
     "output_type": "stream",
     "text": [
      "['a', 'b', 'c', 'd', 'e', 'f', 'g', 'h', 'i', 'j', 'k', 'l', 'm', 'n', 'o', 'p', 'q', 'r', 's', 't', 'u', 'v', 'w', 'x', 'y', 'z']\n"
     ]
    }
   ],
   "source": [
    "print(alphabet)"
   ]
  },
  {
   "cell_type": "code",
   "execution_count": 6,
   "id": "7f0c72c4-5771-4fe0-890d-ef6ef999bbd0",
   "metadata": {},
   "outputs": [
    {
     "name": "stdout",
     "output_type": "stream",
     "text": [
      "b is a consonent.\n",
      "c is a consonent.\n",
      "d is a consonent.\n",
      "f is a consonent.\n",
      "g is a consonent.\n",
      "h is a consonent.\n",
      "j is a consonent.\n",
      "k is a consonent.\n",
      "l is a consonent.\n",
      "m is a consonent.\n",
      "n is a consonent.\n",
      "p is a consonent.\n",
      "q is a consonent.\n",
      "r is a consonent.\n",
      "s is a consonent.\n",
      "t is a consonent.\n",
      "v is a consonent.\n",
      "w is a consonent.\n",
      "x is a consonent.\n",
      "y is a consonent.\n",
      "z is a consonent.\n"
     ]
    }
   ],
   "source": [
    "for i in alphabet:\n",
    "    if i not in vowels:\n",
    "        print(f\"{i} is a consonent.\")"
   ]
  },
  {
   "cell_type": "code",
   "execution_count": 8,
   "id": "bd092cb4-e91d-48d8-a25b-b5cf435bdd48",
   "metadata": {},
   "outputs": [
    {
     "name": "stdout",
     "output_type": "stream",
     "text": [
      "['b', 'c', 'd', 'f', 'g', 'h', 'j', 'k', 'l', 'm', 'n', 'p', 'q', 'r', 's', 't', 'v', 'w', 'x', 'y', 'z']\n"
     ]
    }
   ],
   "source": [
    "print(consonents)"
   ]
  },
  {
   "cell_type": "code",
   "execution_count": null,
   "id": "03a2eb86-acc4-4c7a-917e-0b2a39c00613",
   "metadata": {},
   "outputs": [],
   "source": []
  }
 ],
 "metadata": {
  "kernelspec": {
   "display_name": "Python 3 (ipykernel)",
   "language": "python",
   "name": "python3"
  },
  "language_info": {
   "codemirror_mode": {
    "name": "ipython",
    "version": 3
   },
   "file_extension": ".py",
   "mimetype": "text/x-python",
   "name": "python",
   "nbconvert_exporter": "python",
   "pygments_lexer": "ipython3",
   "version": "3.9.2"
  }
 },
 "nbformat": 4,
 "nbformat_minor": 5
}
