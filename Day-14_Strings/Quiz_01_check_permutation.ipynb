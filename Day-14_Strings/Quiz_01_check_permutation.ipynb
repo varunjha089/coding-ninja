{
 "cells": [
  {
   "cell_type": "markdown",
   "id": "06cb1941-6e51-4ec8-9e78-f4353a448ddf",
   "metadata": {},
   "source": [
    "# Check Permutation"
   ]
  },
  {
   "cell_type": "code",
   "execution_count": 1,
   "id": "0cbf7246-6e41-4c35-b578-c331855aca53",
   "metadata": {},
   "outputs": [],
   "source": [
    "def isPermutation(string1, string2) :\n",
    "    #Your code goes here\n",
    "    n = ''.join(sorted(string1))\n",
    "    m = ''.join(sorted(string2))\n",
    "    \n",
    "    if n == m:\n",
    "        return True\n",
    "    return False\n"
   ]
  },
  {
   "cell_type": "code",
   "execution_count": 2,
   "id": "66ee6660-94a1-4410-b360-446446df2c8a",
   "metadata": {},
   "outputs": [
    {
     "data": {
      "text/plain": [
       "True"
      ]
     },
     "execution_count": 2,
     "metadata": {},
     "output_type": "execute_result"
    }
   ],
   "source": [
    "str1= \"sinrtg\" \n",
    "str2 = \"string\"\n",
    "isPermutation(str1, str2)"
   ]
  },
  {
   "cell_type": "code",
   "execution_count": null,
   "id": "67a48005-92a2-4ecd-8469-082341677b38",
   "metadata": {},
   "outputs": [],
   "source": []
  }
 ],
 "metadata": {
  "kernelspec": {
   "display_name": "Python 3 (ipykernel)",
   "language": "python",
   "name": "python3"
  },
  "language_info": {
   "codemirror_mode": {
    "name": "ipython",
    "version": 3
   },
   "file_extension": ".py",
   "mimetype": "text/x-python",
   "name": "python",
   "nbconvert_exporter": "python",
   "pygments_lexer": "ipython3",
   "version": "3.9.2"
  }
 },
 "nbformat": 4,
 "nbformat_minor": 5
}
