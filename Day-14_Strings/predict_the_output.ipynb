{
 "cells": [
  {
   "cell_type": "markdown",
   "id": "b183026f-d395-4119-ad52-dd5a509c0502",
   "metadata": {},
   "source": [
    "## Q. 01"
   ]
  },
  {
   "cell_type": "code",
   "execution_count": 1,
   "id": "c8a3434c-b12e-492f-9209-3171995fd2f0",
   "metadata": {},
   "outputs": [
    {
     "name": "stdout",
     "output_type": "stream",
     "text": [
      "c\n"
     ]
    }
   ],
   "source": [
    "s = \"abcd\"\n",
    "print(s[-2])"
   ]
  },
  {
   "cell_type": "markdown",
   "id": "7762c701-b274-406e-8d38-5c9480b65a14",
   "metadata": {},
   "source": [
    "## Q. 02"
   ]
  },
  {
   "cell_type": "code",
   "execution_count": 2,
   "id": "23a8937a-f977-4ad0-bfae-84755bb4e318",
   "metadata": {},
   "outputs": [
    {
     "ename": "TypeError",
     "evalue": "'str' object does not support item assignment",
     "output_type": "error",
     "traceback": [
      "\u001b[1;31m---------------------------------------------------------------------------\u001b[0m",
      "\u001b[1;31mTypeError\u001b[0m                                 Traceback (most recent call last)",
      "Input \u001b[1;32mIn [2]\u001b[0m, in \u001b[0;36m<module>\u001b[1;34m\u001b[0m\n\u001b[0;32m      1\u001b[0m s\u001b[38;5;241m=\u001b[39m\u001b[38;5;124m\"\u001b[39m\u001b[38;5;124mabcd\u001b[39m\u001b[38;5;124m\"\u001b[39m\n\u001b[1;32m----> 2\u001b[0m s[\u001b[38;5;241m0\u001b[39m]\u001b[38;5;241m=\u001b[39m\u001b[38;5;124m'\u001b[39m\u001b[38;5;124mc\u001b[39m\u001b[38;5;124m'\u001b[39m\n\u001b[0;32m      3\u001b[0m \u001b[38;5;28mprint\u001b[39m(s)\n",
      "\u001b[1;31mTypeError\u001b[0m: 'str' object does not support item assignment"
     ]
    }
   ],
   "source": [
    "s=\"abcd\"\n",
    "s[0]='c'\n",
    "print(s) "
   ]
  },
  {
   "cell_type": "markdown",
   "id": "4e99efe2-eec4-440e-b2e3-b5ef34b34deb",
   "metadata": {},
   "source": [
    "## Q. 03"
   ]
  },
  {
   "cell_type": "code",
   "execution_count": 4,
   "id": "7e9ab559-e233-47bd-9629-1886fd89d3bc",
   "metadata": {},
   "outputs": [
    {
     "name": "stdout",
     "output_type": "stream",
     "text": [
      "They are same\n"
     ]
    }
   ],
   "source": [
    "s = \"abcd\"\n",
    "a = \"abcd\"\n",
    "if id(s) == id(a):\n",
    "    print(\"They are same\")\n",
    "else:\n",
    "    print(\"They are not same\")"
   ]
  },
  {
   "cell_type": "markdown",
   "id": "bb1bd33e-c370-457e-ab2d-5a466516c559",
   "metadata": {},
   "source": [
    "## Q. 04"
   ]
  },
  {
   "cell_type": "code",
   "execution_count": 6,
   "id": "8489e386-de39-4936-b010-73c6bfa34958",
   "metadata": {},
   "outputs": [
    {
     "name": "stdout",
     "output_type": "stream",
     "text": [
      "abcd\n",
      "abcdef\n"
     ]
    }
   ],
   "source": [
    "s = \"abcd\"\n",
    "b = s + \"ef\"\n",
    "print(s)\n",
    "print(b)"
   ]
  },
  {
   "cell_type": "markdown",
   "id": "8da2e636-db88-47aa-abb0-9ff88bd46736",
   "metadata": {},
   "source": [
    "## Q. 05"
   ]
  },
  {
   "cell_type": "code",
   "execution_count": 7,
   "id": "91ff8001-b7c7-466a-bd12-3d6ea6cbbeb9",
   "metadata": {},
   "outputs": [
    {
     "ename": "TypeError",
     "evalue": "can only concatenate str (not \"int\") to str",
     "output_type": "error",
     "traceback": [
      "\u001b[1;31m---------------------------------------------------------------------------\u001b[0m",
      "\u001b[1;31mTypeError\u001b[0m                                 Traceback (most recent call last)",
      "Input \u001b[1;32mIn [7]\u001b[0m, in \u001b[0;36m<module>\u001b[1;34m\u001b[0m\n\u001b[0;32m      1\u001b[0m s \u001b[38;5;241m=\u001b[39m \u001b[38;5;124m\"\u001b[39m\u001b[38;5;124mabcd\u001b[39m\u001b[38;5;124m\"\u001b[39m\n\u001b[1;32m----> 2\u001b[0m b \u001b[38;5;241m=\u001b[39m \u001b[43ms\u001b[49m\u001b[43m \u001b[49m\u001b[38;5;241;43m+\u001b[39;49m\u001b[43m \u001b[49m\u001b[38;5;241;43m2\u001b[39;49m\n\u001b[0;32m      3\u001b[0m \u001b[38;5;28mprint\u001b[39m(b)\n",
      "\u001b[1;31mTypeError\u001b[0m: can only concatenate str (not \"int\") to str"
     ]
    }
   ],
   "source": [
    "s = \"abcd\"\n",
    "b = s + 2\n",
    "print(b)"
   ]
  },
  {
   "cell_type": "markdown",
   "id": "79b933a5-153e-460b-bf50-1506a76fd09a",
   "metadata": {},
   "source": [
    "## Q. 06"
   ]
  },
  {
   "cell_type": "code",
   "execution_count": 8,
   "id": "be737d6b-326d-4644-a7e4-a5b8b2e059a3",
   "metadata": {},
   "outputs": [
    {
     "name": "stdout",
     "output_type": "stream",
     "text": [
      "cdef\n"
     ]
    }
   ],
   "source": [
    "s = \"abcdef\"\n",
    "print (s[2:])"
   ]
  },
  {
   "cell_type": "markdown",
   "id": "f942ca39-768d-4807-831d-8bd652e7be5a",
   "metadata": {},
   "source": [
    "## Q. 07"
   ]
  },
  {
   "cell_type": "code",
   "execution_count": 9,
   "id": "28781d5c-2830-4a02-996b-5d1711d114c3",
   "metadata": {},
   "outputs": [
    {
     "name": "stdout",
     "output_type": "stream",
     "text": [
      "ed\n"
     ]
    }
   ],
   "source": [
    "s = \"abcdef\"\n",
    "print (s[4:2:-1])"
   ]
  },
  {
   "cell_type": "markdown",
   "id": "25e3bcea-d59a-4257-9fcc-5c70f46b9e10",
   "metadata": {},
   "source": [
    "## Q. 08"
   ]
  },
  {
   "cell_type": "code",
   "execution_count": 10,
   "id": "3c1b2f27-1c9d-4cc1-95bf-a7ac623b75b5",
   "metadata": {},
   "outputs": [
    {
     "name": "stdout",
     "output_type": "stream",
     "text": [
      "False\n"
     ]
    }
   ],
   "source": [
    "a = \"abcdef\" == \"abcd\"\n",
    "print(a)"
   ]
  },
  {
   "cell_type": "markdown",
   "id": "96b355dd-83e8-4cd8-8cc4-a9b76879f4fd",
   "metadata": {},
   "source": [
    "## Q. 08"
   ]
  },
  {
   "cell_type": "code",
   "execution_count": 11,
   "id": "c95a4e7a-599e-4cbb-a6a5-21764984ce31",
   "metadata": {},
   "outputs": [
    {
     "name": "stdout",
     "output_type": "stream",
     "text": [
      "True\n"
     ]
    }
   ],
   "source": [
    "a = \"abcdef\" >= \"abcd\"\n",
    "print(a)"
   ]
  },
  {
   "cell_type": "markdown",
   "id": "9889cb79-9f40-4210-9615-4e827d853dc5",
   "metadata": {},
   "source": [
    "## Q. 08"
   ]
  },
  {
   "cell_type": "code",
   "execution_count": 12,
   "id": "22c2493a-14c4-42f6-a256-f24cdd9d73a5",
   "metadata": {},
   "outputs": [
    {
     "name": "stdout",
     "output_type": "stream",
     "text": [
      "True\n"
     ]
    }
   ],
   "source": [
    "a = \"abce\" >= \"abcdef\"\n",
    "print(a)"
   ]
  }
 ],
 "metadata": {
  "kernelspec": {
   "display_name": "Python 3 (ipykernel)",
   "language": "python",
   "name": "python3"
  },
  "language_info": {
   "codemirror_mode": {
    "name": "ipython",
    "version": 3
   },
   "file_extension": ".py",
   "mimetype": "text/x-python",
   "name": "python",
   "nbconvert_exporter": "python",
   "pygments_lexer": "ipython3",
   "version": "3.9.2"
  }
 },
 "nbformat": 4,
 "nbformat_minor": 5
}
