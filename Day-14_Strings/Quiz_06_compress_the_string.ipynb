{
 "cells": [
  {
   "cell_type": "markdown",
   "id": "f70050a3-2aed-4ed5-bbe8-53c74709e695",
   "metadata": {},
   "source": [
    "# Compress the String"
   ]
  },
  {
   "cell_type": "code",
   "execution_count": 10,
   "id": "262bfd6f-ee4e-4f7b-8b4b-ace5c9545f4a",
   "metadata": {},
   "outputs": [
    {
     "name": "stdout",
     "output_type": "stream",
     "text": [
      "a3b2cd2e5\n"
     ]
    }
   ],
   "source": [
    "def getCompressedString(input) :\n",
    "    # Write your code here.\n",
    "    i = 0\n",
    "    x = ''\n",
    "    while(i<len(input)):\n",
    "        j = i+1\n",
    "        c = 1\n",
    "        while j<len(input) and (input[i]==input[j]):\n",
    "            j+=1\n",
    "            c+=1\n",
    "        if c==1:\n",
    "            x+=input[i]\n",
    "        else:\n",
    "            x+=input[i]+str(c)\n",
    "        i=j\n",
    "    return x\n",
    "    \n",
    "# Main.\n",
    "string = \"aaabbcddeeeee\"\n",
    "ans = getCompressedString(string)\n",
    "print(ans)"
   ]
  },
  {
   "cell_type": "code",
   "execution_count": null,
   "id": "e3170d98-c491-4f4f-80e0-01ebd9d23b1d",
   "metadata": {},
   "outputs": [],
   "source": []
  }
 ],
 "metadata": {
  "kernelspec": {
   "display_name": "Python 3 (ipykernel)",
   "language": "python",
   "name": "python3"
  },
  "language_info": {
   "codemirror_mode": {
    "name": "ipython",
    "version": 3
   },
   "file_extension": ".py",
   "mimetype": "text/x-python",
   "name": "python",
   "nbconvert_exporter": "python",
   "pygments_lexer": "ipython3",
   "version": "3.9.2"
  }
 },
 "nbformat": 4,
 "nbformat_minor": 5
}
