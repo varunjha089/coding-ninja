{
 "cells": [
  {
   "cell_type": "markdown",
   "id": "9f4ba11f-ea84-4bd9-8bc6-34ec6986c147",
   "metadata": {},
   "source": [
    "# Reverse Each Word"
   ]
  },
  {
   "cell_type": "code",
   "execution_count": 9,
   "id": "028c66fa-b264-4f4f-8327-8a0cb53a5c45",
   "metadata": {},
   "outputs": [],
   "source": [
    "def reverseEachWord(string) :\n",
    "    # Your code goes here\n",
    "    n = string.split(\" \")\n",
    "    s = \"\"\n",
    "    for i in range(len(n)):\n",
    "        s += n[i][::-1]\n",
    "        if i != len(n) - 1:\n",
    "            s += \" \"\n",
    "    print(s)"
   ]
  },
  {
   "cell_type": "code",
   "execution_count": 10,
   "id": "abb3f018-2b12-4d47-91ae-783eddbec7b4",
   "metadata": {},
   "outputs": [
    {
     "name": "stdout",
     "output_type": "stream",
     "text": [
      ",olleH I ma !lidaA\n"
     ]
    }
   ],
   "source": [
    "reverseEachWord(\"Hello, I am Aadil!\")"
   ]
  },
  {
   "cell_type": "code",
   "execution_count": null,
   "id": "bf7f7f08-785a-4d11-8e77-7d7b9b433bed",
   "metadata": {},
   "outputs": [],
   "source": []
  }
 ],
 "metadata": {
  "kernelspec": {
   "display_name": "Python 3 (ipykernel)",
   "language": "python",
   "name": "python3"
  },
  "language_info": {
   "codemirror_mode": {
    "name": "ipython",
    "version": 3
   },
   "file_extension": ".py",
   "mimetype": "text/x-python",
   "name": "python",
   "nbconvert_exporter": "python",
   "pygments_lexer": "ipython3",
   "version": "3.9.2"
  }
 },
 "nbformat": 4,
 "nbformat_minor": 5
}
