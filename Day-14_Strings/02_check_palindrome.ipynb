{
 "cells": [
  {
   "cell_type": "markdown",
   "id": "0980c933-559e-4a91-89a0-d34d27123f22",
   "metadata": {},
   "source": [
    "# Check Palindrome\n"
   ]
  },
  {
   "cell_type": "code",
   "execution_count": 2,
   "id": "e25efb84-a30f-4d99-9d6a-4682a6676f7b",
   "metadata": {},
   "outputs": [],
   "source": [
    "def isPalindrome(string) :\n",
    "    # Your code goes here\n",
    "    if string == string[::-1]:\n",
    "        return True\n",
    "    return False"
   ]
  },
  {
   "cell_type": "code",
   "execution_count": 6,
   "id": "1fe95d81-905f-48c2-a80c-0171ca91f14a",
   "metadata": {},
   "outputs": [
    {
     "data": {
      "text/plain": [
       "'false'"
      ]
     },
     "execution_count": 6,
     "metadata": {},
     "output_type": "execute_result"
    }
   ],
   "source": [
    "isPalindrome(\"ab\")"
   ]
  },
  {
   "cell_type": "code",
   "execution_count": null,
   "id": "04c738d3-1d35-463a-aaaf-991d0e4dd3d9",
   "metadata": {},
   "outputs": [],
   "source": []
  }
 ],
 "metadata": {
  "kernelspec": {
   "display_name": "Python 3 (ipykernel)",
   "language": "python",
   "name": "python3"
  },
  "language_info": {
   "codemirror_mode": {
    "name": "ipython",
    "version": 3
   },
   "file_extension": ".py",
   "mimetype": "text/x-python",
   "name": "python",
   "nbconvert_exporter": "python",
   "pygments_lexer": "ipython3",
   "version": "3.9.2"
  }
 },
 "nbformat": 4,
 "nbformat_minor": 5
}
