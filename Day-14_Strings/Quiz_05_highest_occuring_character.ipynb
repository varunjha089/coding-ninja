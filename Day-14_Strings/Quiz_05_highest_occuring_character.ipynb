{
 "cells": [
  {
   "cell_type": "markdown",
   "id": "5e847051-565c-46b1-816a-ec6a9adc6fb5",
   "metadata": {},
   "source": [
    "# Highest Occuring Character"
   ]
  },
  {
   "cell_type": "code",
   "execution_count": 1,
   "id": "27ce1aa7-7af1-4797-a3c6-c77385b6e9f6",
   "metadata": {},
   "outputs": [],
   "source": [
    "def highestOccuringChar(string) :\n",
    "    #Your code goes here\n",
    "    ret = 0\n",
    "    chrc = ''\n",
    "    for i in string:\n",
    "        count = string.count(i)\n",
    "        if count > ret:\n",
    "            ret = count\n",
    "            chrc = i\n",
    "    return chrc"
   ]
  },
  {
   "cell_type": "code",
   "execution_count": 2,
   "id": "1e71f6fb-c15a-47a3-a5db-bcc8acac709f",
   "metadata": {},
   "outputs": [
    {
     "data": {
      "text/plain": [
       "'b'"
      ]
     },
     "execution_count": 2,
     "metadata": {},
     "output_type": "execute_result"
    }
   ],
   "source": [
    "highestOccuringChar(\"abdefgbabfba\")"
   ]
  },
  {
   "cell_type": "code",
   "execution_count": 11,
   "id": "93dfde1f-c791-42ac-b7e9-aaba78f3bc48",
   "metadata": {},
   "outputs": [],
   "source": [
    "def highestOccuringChar(string) :\n",
    "    #Your code goes here\n",
    "    arr = list(set(string))\n",
    "    k = []\n",
    "    for i in arr:\n",
    "        k.append(string.count(i))\n",
    "    return arr[k.index(max(k))]"
   ]
  },
  {
   "cell_type": "code",
   "execution_count": 12,
   "id": "6bb92aaa-155a-415c-80b9-a6c9452d87d4",
   "metadata": {},
   "outputs": [
    {
     "data": {
      "text/plain": [
       "'b'"
      ]
     },
     "execution_count": 12,
     "metadata": {},
     "output_type": "execute_result"
    }
   ],
   "source": [
    "highestOccuringChar(\"abdefgbabfba\")"
   ]
  },
  {
   "cell_type": "code",
   "execution_count": null,
   "id": "f231f6c5-e463-451a-b051-ea5f2235ac24",
   "metadata": {},
   "outputs": [],
   "source": []
  }
 ],
 "metadata": {
  "kernelspec": {
   "display_name": "Python 3 (ipykernel)",
   "language": "python",
   "name": "python3"
  },
  "language_info": {
   "codemirror_mode": {
    "name": "ipython",
    "version": 3
   },
   "file_extension": ".py",
   "mimetype": "text/x-python",
   "name": "python",
   "nbconvert_exporter": "python",
   "pygments_lexer": "ipython3",
   "version": "3.9.2"
  }
 },
 "nbformat": 4,
 "nbformat_minor": 5
}
