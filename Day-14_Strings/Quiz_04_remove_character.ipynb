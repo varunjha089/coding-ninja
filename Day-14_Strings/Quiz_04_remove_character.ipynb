{
 "cells": [
  {
   "cell_type": "markdown",
   "id": "8f57f13a-1185-4b14-a041-b775cf0de01a",
   "metadata": {},
   "source": [
    "# Remove character"
   ]
  },
  {
   "cell_type": "code",
   "execution_count": 1,
   "id": "afdcf643-ac84-4f20-ad29-3377165bd149",
   "metadata": {},
   "outputs": [],
   "source": [
    "def removeAllOccurrencesOfChar(string, ch) :\n",
    "    # Your code goes here\n",
    "    s = \"\"\n",
    "    for i in string:\n",
    "        if i != ch:\n",
    "            s += i\n",
    "            \n",
    "    return s"
   ]
  },
  {
   "cell_type": "code",
   "execution_count": 2,
   "id": "faa95120-51d2-43d3-81c0-1a42ec50dcf6",
   "metadata": {},
   "outputs": [
    {
     "data": {
      "text/plain": [
       "'vrun'"
      ]
     },
     "execution_count": 2,
     "metadata": {},
     "output_type": "execute_result"
    }
   ],
   "source": [
    "removeAllOccurrencesOfChar(\"varunaaa\", \"a\")"
   ]
  },
  {
   "cell_type": "code",
   "execution_count": null,
   "id": "8235682c-0f6c-4d9a-b046-1535ba99cf4a",
   "metadata": {},
   "outputs": [],
   "source": []
  }
 ],
 "metadata": {
  "kernelspec": {
   "display_name": "Python 3 (ipykernel)",
   "language": "python",
   "name": "python3"
  },
  "language_info": {
   "codemirror_mode": {
    "name": "ipython",
    "version": 3
   },
   "file_extension": ".py",
   "mimetype": "text/x-python",
   "name": "python",
   "nbconvert_exporter": "python",
   "pygments_lexer": "ipython3",
   "version": "3.9.2"
  }
 },
 "nbformat": 4,
 "nbformat_minor": 5
}
