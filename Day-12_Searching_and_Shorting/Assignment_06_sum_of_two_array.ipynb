{
 "cells": [
  {
   "cell_type": "code",
   "execution_count": 6,
   "id": "606e81ee-c399-47a4-b626-2072332be858",
   "metadata": {},
   "outputs": [
    {
     "name": "stdout",
     "output_type": "stream",
     "text": [
      "\n",
      "6 9 1 2\n"
     ]
    }
   ],
   "source": [
    "arr1 = [i for i in range(1, 5)]\n",
    "arr2 = [i for i in range(5, 9)]\n",
    "# print(arr1)\n",
    "# print(arr2)\n",
    "print()\n",
    "str1 = ''\n",
    "str2 = ''\n",
    "for i in arr1:\n",
    "    str1 += str(i)\n",
    "        \n",
    "for i in arr2:\n",
    "    str2 += str(i)\n",
    "        \n",
    "total = int(str1) + int(str2)\n",
    "# print(total)\n",
    "art = []\n",
    "for i in str(total):\n",
    "    art.append(int(i))\n",
    "\n",
    "print(*art)"
   ]
  },
  {
   "cell_type": "code",
   "execution_count": null,
   "id": "be4bdff0-09d8-4a0b-b6ac-068fb8066a24",
   "metadata": {},
   "outputs": [],
   "source": [
    "def sumOfTwoArrays(arr1, n, arr2, m, output) :\n",
    "    #Your code goes here\n",
    "    str1 = ''\n",
    "    str2 = ''\n",
    "    for i in arr1:\n",
    "        str1 += str(i)\n",
    "        \n",
    "    for i in arr2:\n",
    "        str2 += str(i)\n",
    "        \n",
    "    total = sum(int(str1), int(str2))\n"
   ]
  }
 ],
 "metadata": {
  "kernelspec": {
   "display_name": "Python 3 (ipykernel)",
   "language": "python",
   "name": "python3"
  },
  "language_info": {
   "codemirror_mode": {
    "name": "ipython",
    "version": 3
   },
   "file_extension": ".py",
   "mimetype": "text/x-python",
   "name": "python",
   "nbconvert_exporter": "python",
   "pygments_lexer": "ipython3",
   "version": "3.9.2"
  }
 },
 "nbformat": 4,
 "nbformat_minor": 5
}
