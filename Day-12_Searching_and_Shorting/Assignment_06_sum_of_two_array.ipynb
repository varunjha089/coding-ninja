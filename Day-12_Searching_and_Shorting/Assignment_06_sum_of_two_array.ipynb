{
 "cells": [
  {
   "cell_type": "markdown",
   "id": "2f89cddf-63da-4b9a-93c8-56e8dda58dd8",
   "metadata": {},
   "source": [
    "# Sum of Two Arrays"
   ]
  },
  {
   "cell_type": "code",
   "execution_count": 1,
   "id": "be4bdff0-09d8-4a0b-b6ac-068fb8066a24",
   "metadata": {},
   "outputs": [
    {
     "name": "stdin",
     "output_type": "stream",
     "text": [
      " 1\n",
      " 3\n",
      " 6 9 8\n",
      " 3\n",
      " 5 9 2\n"
     ]
    },
    {
     "name": "stdout",
     "output_type": "stream",
     "text": [
      "0 2 9 0 \n"
     ]
    }
   ],
   "source": [
    "from sys import stdin\n",
    "def sumOfTwoArrays(arr1, n, arr2, m, output) :\n",
    "    i = n - 1\n",
    "    j = m - 1\n",
    "    carry = 0\n",
    "    k = max(n, m)\n",
    "    #k is the current index output array \n",
    "    while i >= 0 and j >= 0 :\n",
    "        SUM = arr1[i] + arr2[j] + carry \n",
    "        output[k] = SUM % 10\n",
    "        carry = SUM // 10 \n",
    "        i -= 1 \n",
    "        j -= 1\n",
    "        k -= 1 \n",
    "    while i >= 0 :\n",
    "        SUM = arr1[i] + carry \n",
    "        output[k] = SUM % 10 \n",
    "        carry = SUM // 10 \n",
    "        i -= 1 \n",
    "        k -= 1 \n",
    "    while j >= 0 : \n",
    "        SUM = arr2[j] + carry \n",
    "        output[k] = SUM % 10 \n",
    "        carry = SUM // 10 \n",
    "        j -= 1\n",
    "        k -= 1 \n",
    "        output[0] = carry \n",
    "\n",
    "def takeInput() :\n",
    "    n = int(input()) \n",
    "    if n == 0 : \n",
    "        return list(), 0 \n",
    "    arr = list(map(int, input().rstrip().split(\" \"))) \n",
    "    return arr, n \n",
    "def printList(arr, n) : \n",
    "    for i in range(n) : \n",
    "        print(arr[i], end = \" \") \n",
    "    print() \n",
    "    \n",
    "t = int(input().rstrip()) \n",
    "while t > 0 :\n",
    "    arr1, n = takeInput()\n",
    "    arr2, m = takeInput() \n",
    "    outputSize = (1 + max(n, m)) \n",
    "    output = outputSize * [0] \n",
    "    sumOfTwoArrays(arr1, n, arr2, m, output) \n",
    "    printList(output, outputSize) \n",
    "    \n",
    "    t -= 1\n"
   ]
  },
  {
   "cell_type": "code",
   "execution_count": null,
   "id": "862c4eff-b11e-4ea9-bd30-30a5d2b866f4",
   "metadata": {},
   "outputs": [],
   "source": []
  }
 ],
 "metadata": {
  "kernelspec": {
   "display_name": "Python 3 (ipykernel)",
   "language": "python",
   "name": "python3"
  },
  "language_info": {
   "codemirror_mode": {
    "name": "ipython",
    "version": 3
   },
   "file_extension": ".py",
   "mimetype": "text/x-python",
   "name": "python",
   "nbconvert_exporter": "python",
   "pygments_lexer": "ipython3",
   "version": "3.9.2"
  }
 },
 "nbformat": 4,
 "nbformat_minor": 5
}
