{
 "cells": [
  {
   "cell_type": "markdown",
   "id": "508c47f7-6900-48ce-8b0e-5645d604d628",
   "metadata": {},
   "source": [
    "Check the file for [question](./question_binary_search.pdf)"
   ]
  },
  {
   "cell_type": "code",
   "execution_count": 1,
   "id": "9cad8d7a-f585-4ed6-92ba-225120ef8466",
   "metadata": {},
   "outputs": [],
   "source": [
    "arr = [1, 2, 2, 3, 3, 3, 4, 8, 9, 19, 19, 19]"
   ]
  },
  {
   "cell_type": "code",
   "execution_count": 2,
   "id": "5defd752-672f-4fc4-84cb-a63ca2e699cf",
   "metadata": {},
   "outputs": [],
   "source": [
    "def binary_search(array, element):\n",
    "    start = 0\n",
    "    stop = len(array) - 1\n",
    "    \n",
    "    while start <= stop:\n",
    "        middle = (start + stop) // 2\n",
    "        if element == array[middle]:\n",
    "            return middle\n",
    "        elif element < array[middle]:\n",
    "            stop = middle -1\n",
    "        else:\n",
    "            start = middle + 1\n",
    "    else:\n",
    "        return -1\n",
    "            "
   ]
  },
  {
   "cell_type": "code",
   "execution_count": 3,
   "id": "37caaa70-db25-4b80-a780-814d73ca3c44",
   "metadata": {},
   "outputs": [
    {
     "data": {
      "text/plain": [
       "2"
      ]
     },
     "execution_count": 3,
     "metadata": {},
     "output_type": "execute_result"
    }
   ],
   "source": [
    "binary_search(arr, 2)"
   ]
  },
  {
   "cell_type": "code",
   "execution_count": null,
   "id": "b494e075-0f88-44dd-9e9b-b7fafc0faef1",
   "metadata": {},
   "outputs": [],
   "source": []
  }
 ],
 "metadata": {
  "kernelspec": {
   "display_name": "Python 3 (ipykernel)",
   "language": "python",
   "name": "python3"
  },
  "language_info": {
   "codemirror_mode": {
    "name": "ipython",
    "version": 3
   },
   "file_extension": ".py",
   "mimetype": "text/x-python",
   "name": "python",
   "nbconvert_exporter": "python",
   "pygments_lexer": "ipython3",
   "version": "3.9.2"
  }
 },
 "nbformat": 4,
 "nbformat_minor": 5
}
