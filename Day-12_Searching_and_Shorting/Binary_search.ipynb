{
 "cells": [
  {
   "cell_type": "code",
   "execution_count": 71,
   "id": "2e1a2d1a-6f2b-4223-b20d-7a9bf1028844",
   "metadata": {},
   "outputs": [],
   "source": [
    "def binary_search(arr, n):\n",
    "    start = 0\n",
    "    stop = len(arr)-1\n",
    "    middle = len(arr)//2\n",
    "    counter = 0\n",
    "    \n",
    "    while start <= stop:\n",
    "        # print(f\"The area of array is {arr[start: stop]}\")\n",
    "        # print(counter, end=\"_|_\")\n",
    "        ## Check the exact middle element\n",
    "        if arr[middle] == n: \n",
    "            return f\"The {n} lies at index {middle}\", counter\n",
    "        # else:\n",
    "        #     return -1\n",
    "    \n",
    "        if arr[middle] > n:\n",
    "            stop = middle\n",
    "            middle = stop // 2\n",
    "            \n",
    "        if arr[middle] < n:\n",
    "            start = middle\n",
    "            middle = (start + stop)//2\n",
    "            \n",
    "        counter += 1\n",
    "    else:\n",
    "        return -1\n",
    "            "
   ]
  },
  {
   "cell_type": "code",
   "execution_count": 72,
   "id": "7154af3b-824b-4ac9-9c7c-4056392a8b69",
   "metadata": {},
   "outputs": [
    {
     "data": {
      "text/plain": [
       "[0, 4, 8, 12, 16, 20, 24, 28, 32, 36, 40, 44, 48, 52, 56]"
      ]
     },
     "execution_count": 72,
     "metadata": {},
     "output_type": "execute_result"
    }
   ],
   "source": [
    "arr = [i for i in range(60) if i % 4 == 0]\n",
    "arr"
   ]
  },
  {
   "cell_type": "code",
   "execution_count": 73,
   "id": "2c4712e2-b15b-4919-a405-463ba9a6bab2",
   "metadata": {},
   "outputs": [
    {
     "name": "stdout",
     "output_type": "stream",
     "text": [
      "The 20 lies at index 5\n",
      "2\n"
     ]
    }
   ],
   "source": [
    "main, count = binary_search(arr, 20)\n",
    "print(main)\n",
    "print(count)"
   ]
  },
  {
   "cell_type": "code",
   "execution_count": 74,
   "id": "b08248a9-01b4-4d0b-a351-29197dfa4c39",
   "metadata": {},
   "outputs": [
    {
     "name": "stdout",
     "output_type": "stream",
     "text": [
      "The 56 lies at index 14\n",
      "3\n"
     ]
    }
   ],
   "source": [
    "# last element\n",
    "main, count = binary_search(arr, 56)\n",
    "print(main)\n",
    "print(count)"
   ]
  },
  {
   "cell_type": "code",
   "execution_count": 75,
   "id": "2e24f786-5757-4a8e-bbf6-64057ab9583a",
   "metadata": {},
   "outputs": [
    {
     "name": "stdout",
     "output_type": "stream",
     "text": [
      "The 586 lies at index 293\n",
      "16\n"
     ]
    }
   ],
   "source": [
    "afg = [i for i in range(10000) if i % 2 == 0]\n",
    "main, count = binary_search(afg, 586)\n",
    "print(main)\n",
    "print(count)"
   ]
  },
  {
   "cell_type": "code",
   "execution_count": 76,
   "id": "9a46bd3b-402c-4b50-91ca-39a275668186",
   "metadata": {},
   "outputs": [
    {
     "name": "stdout",
     "output_type": "stream",
     "text": [
      "The 9998 lies at index 4999\n",
      "12\n"
     ]
    }
   ],
   "source": [
    "afg = [i for i in range(10000) if i % 2 == 0]\n",
    "main, count = binary_search(afg, 9998)\n",
    "print(main)\n",
    "print(count)"
   ]
  },
  {
   "cell_type": "code",
   "execution_count": null,
   "id": "a9efbc6c-dbbb-4fe7-9251-f5ef45d18487",
   "metadata": {},
   "outputs": [],
   "source": []
  },
  {
   "cell_type": "code",
   "execution_count": null,
   "id": "bff8af87-b16d-4872-ab10-b5c823fa5f9d",
   "metadata": {},
   "outputs": [],
   "source": []
  }
 ],
 "metadata": {
  "kernelspec": {
   "display_name": "Python 3 (ipykernel)",
   "language": "python",
   "name": "python3"
  },
  "language_info": {
   "codemirror_mode": {
    "name": "ipython",
    "version": 3
   },
   "file_extension": ".py",
   "mimetype": "text/x-python",
   "name": "python",
   "nbconvert_exporter": "python",
   "pygments_lexer": "ipython3",
   "version": "3.9.2"
  }
 },
 "nbformat": 4,
 "nbformat_minor": 5
}
