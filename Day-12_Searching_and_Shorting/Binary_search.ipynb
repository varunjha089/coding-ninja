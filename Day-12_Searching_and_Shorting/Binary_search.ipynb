{
 "cells": [
  {
   "cell_type": "code",
   "execution_count": 1,
   "id": "2e1a2d1a-6f2b-4223-b20d-7a9bf1028844",
   "metadata": {},
   "outputs": [],
   "source": [
    "def binary_search(array, element):\n",
    "    start = 0\n",
    "    stop = len(array) - 1\n",
    "    \n",
    "    while start <= stop:\n",
    "        middle = (start + stop) // 2\n",
    "        if element == array[middle]:\n",
    "            return middle\n",
    "        elif element < array[middle]:\n",
    "            stop = middle -1\n",
    "        else:\n",
    "            start = middle + 1\n",
    "    else:\n",
    "        return -1\n",
    "            "
   ]
  },
  {
   "cell_type": "code",
   "execution_count": 2,
   "id": "7154af3b-824b-4ac9-9c7c-4056392a8b69",
   "metadata": {},
   "outputs": [
    {
     "data": {
      "text/plain": [
       "[0, 4, 8, 12, 16, 20, 24, 28, 32, 36, 40, 44, 48, 52, 56]"
      ]
     },
     "execution_count": 2,
     "metadata": {},
     "output_type": "execute_result"
    }
   ],
   "source": [
    "arr = [i for i in range(60) if i % 4 == 0]\n",
    "arr"
   ]
  },
  {
   "cell_type": "code",
   "execution_count": 4,
   "id": "2c4712e2-b15b-4919-a405-463ba9a6bab2",
   "metadata": {},
   "outputs": [
    {
     "data": {
      "text/plain": [
       "5"
      ]
     },
     "execution_count": 4,
     "metadata": {},
     "output_type": "execute_result"
    }
   ],
   "source": [
    "binary_search(arr, 20)"
   ]
  },
  {
   "cell_type": "code",
   "execution_count": 5,
   "id": "b08248a9-01b4-4d0b-a351-29197dfa4c39",
   "metadata": {},
   "outputs": [
    {
     "data": {
      "text/plain": [
       "14"
      ]
     },
     "execution_count": 5,
     "metadata": {},
     "output_type": "execute_result"
    }
   ],
   "source": [
    "# last element\n",
    "binary_search(arr, 56)"
   ]
  },
  {
   "cell_type": "code",
   "execution_count": 6,
   "id": "2e24f786-5757-4a8e-bbf6-64057ab9583a",
   "metadata": {},
   "outputs": [
    {
     "data": {
      "text/plain": [
       "293"
      ]
     },
     "execution_count": 6,
     "metadata": {},
     "output_type": "execute_result"
    }
   ],
   "source": [
    "afg = [i for i in range(10000) if i % 2 == 0]\n",
    "binary_search(afg, 586)"
   ]
  },
  {
   "cell_type": "code",
   "execution_count": 7,
   "id": "9a46bd3b-402c-4b50-91ca-39a275668186",
   "metadata": {},
   "outputs": [
    {
     "data": {
      "text/plain": [
       "4999"
      ]
     },
     "execution_count": 7,
     "metadata": {},
     "output_type": "execute_result"
    }
   ],
   "source": [
    "afg = [i for i in range(10000) if i % 2 == 0]\n",
    "binary_search(afg, 9998)"
   ]
  },
  {
   "cell_type": "code",
   "execution_count": null,
   "id": "a9efbc6c-dbbb-4fe7-9251-f5ef45d18487",
   "metadata": {},
   "outputs": [],
   "source": []
  }
 ],
 "metadata": {
  "kernelspec": {
   "display_name": "Python 3 (ipykernel)",
   "language": "python",
   "name": "python3"
  },
  "language_info": {
   "codemirror_mode": {
    "name": "ipython",
    "version": 3
   },
   "file_extension": ".py",
   "mimetype": "text/x-python",
   "name": "python",
   "nbconvert_exporter": "python",
   "pygments_lexer": "ipython3",
   "version": "3.9.2"
  }
 },
 "nbformat": 4,
 "nbformat_minor": 5
}
