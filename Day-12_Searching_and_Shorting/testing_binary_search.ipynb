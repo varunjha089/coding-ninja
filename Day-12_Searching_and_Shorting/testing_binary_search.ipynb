{
 "cells": [
  {
   "cell_type": "code",
   "execution_count": 1,
   "id": "0e8c9bf4-457b-48e7-9f02-2c92d8441bc7",
   "metadata": {},
   "outputs": [],
   "source": [
    "def binary_search(arr, num):\n",
    "    start = 0\n",
    "    stop = len(arr) - 1\n",
    "    \n",
    "    while start <= stop:\n",
    "        middle = (start + stop) // 2\n",
    "        if arr[middle] == num:\n",
    "            return middle\n",
    "        elif arr[middle] > num:\n",
    "            stop = middle - 1\n",
    "        else:\n",
    "            start = middle + 1\n",
    "    return -1"
   ]
  },
  {
   "cell_type": "code",
   "execution_count": 5,
   "id": "47818af0-d628-4959-95b2-b58185babe0b",
   "metadata": {},
   "outputs": [
    {
     "data": {
      "text/plain": [
       "-1"
      ]
     },
     "execution_count": 5,
     "metadata": {},
     "output_type": "execute_result"
    }
   ],
   "source": [
    "arr = [i for i in range(1000) if i % 2 == 0]\n",
    "binary_search(arr, 101)"
   ]
  },
  {
   "cell_type": "code",
   "execution_count": null,
   "id": "fe5d612a-208f-44c4-ac70-543e79d8ebb2",
   "metadata": {},
   "outputs": [],
   "source": []
  }
 ],
 "metadata": {
  "kernelspec": {
   "display_name": "Python 3 (ipykernel)",
   "language": "python",
   "name": "python3"
  },
  "language_info": {
   "codemirror_mode": {
    "name": "ipython",
    "version": 3
   },
   "file_extension": ".py",
   "mimetype": "text/x-python",
   "name": "python",
   "nbconvert_exporter": "python",
   "pygments_lexer": "ipython3",
   "version": "3.9.2"
  }
 },
 "nbformat": 4,
 "nbformat_minor": 5
}
