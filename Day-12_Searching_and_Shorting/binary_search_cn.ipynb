{
 "cells": [
  {
   "cell_type": "code",
   "execution_count": 2,
   "id": "cb05be25-80ef-42fa-bfd6-c4c874ac33e6",
   "metadata": {},
   "outputs": [
    {
     "data": {
      "text/plain": [
       "('Your Value is found at middle at index', 4)"
      ]
     },
     "execution_count": 2,
     "metadata": {},
     "output_type": "execute_result"
    }
   ],
   "source": [
    "def binary_search(array,element,debug=False):\n",
    "    lower_bound=0\n",
    "    upper_bound=len(array)-1\n",
    "    while lower_bound<=upper_bound:\n",
    "        middle=(lower_bound+upper_bound)//2 #integer\n",
    "        if debug:\n",
    "            print(\"Lower Bound\",lower_bound)\n",
    "            print(\"upper Bound\",upper_bound)\n",
    "            print(\"Middle\",middle)\n",
    "        if element==array[middle]:\n",
    "            return \"Your Value is found at middle at index\",middle\n",
    "        elif element<array[middle]: #Lesser condition\n",
    "            #no change in lower bound\n",
    "            upper_bound=middle-1\n",
    "        else:#greater condition\n",
    "            #upper bound remains same\n",
    "            lower_bound=middle+1 \n",
    "    return \"Your element isn't available in the array\"\n",
    "    \n",
    "\n",
    "array=[12,34,45,56,67,89]\n",
    "x1=56\n",
    "x2=57\n",
    "binary_search(array,x1)\n",
    "\n",
    "array=[12,34,45,56,56,56,56,56,67,89]\n",
    "x1=56\n",
    "x2=57\n",
    "binary_search(array,x1)"
   ]
  },
  {
   "cell_type": "code",
   "execution_count": null,
   "id": "77d51983-6a34-4423-852a-ea35730f35fa",
   "metadata": {},
   "outputs": [],
   "source": []
  }
 ],
 "metadata": {
  "kernelspec": {
   "display_name": "Python 3 (ipykernel)",
   "language": "python",
   "name": "python3"
  },
  "language_info": {
   "codemirror_mode": {
    "name": "ipython",
    "version": 3
   },
   "file_extension": ".py",
   "mimetype": "text/x-python",
   "name": "python",
   "nbconvert_exporter": "python",
   "pygments_lexer": "ipython3",
   "version": "3.9.2"
  }
 },
 "nbformat": 4,
 "nbformat_minor": 5
}
