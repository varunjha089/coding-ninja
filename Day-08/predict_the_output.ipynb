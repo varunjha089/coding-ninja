{
 "cells": [
  {
   "cell_type": "markdown",
   "id": "b183026f-d395-4119-ad52-dd5a509c0502",
   "metadata": {},
   "source": [
    "## Q. 01"
   ]
  },
  {
   "cell_type": "code",
   "execution_count": 2,
   "id": "c8a3434c-b12e-492f-9209-3171995fd2f0",
   "metadata": {},
   "outputs": [
    {
     "name": "stdout",
     "output_type": "stream",
     "text": [
      "['abcd', 'def', 5]\n"
     ]
    }
   ],
   "source": [
    "li =['abcd','def']\n",
    "li.insert(4,5)\n",
    "print(li)"
   ]
  },
  {
   "cell_type": "markdown",
   "id": "7762c701-b274-406e-8d38-5c9480b65a14",
   "metadata": {},
   "source": [
    "## Q. 02"
   ]
  },
  {
   "cell_type": "code",
   "execution_count": 3,
   "id": "23a8937a-f977-4ad0-bfae-84755bb4e318",
   "metadata": {},
   "outputs": [
    {
     "name": "stdout",
     "output_type": "stream",
     "text": [
      "['abcd', 'def', 5]\n"
     ]
    }
   ],
   "source": [
    "li = ['abcd', 5, 'def', 5]\n",
    "li.remove(5)\n",
    "print(li)"
   ]
  },
  {
   "cell_type": "markdown",
   "id": "4e99efe2-eec4-440e-b2e3-b5ef34b34deb",
   "metadata": {},
   "source": [
    "## Q. 03"
   ]
  },
  {
   "cell_type": "code",
   "execution_count": 4,
   "id": "7e9ab559-e233-47bd-9629-1886fd89d3bc",
   "metadata": {},
   "outputs": [
    {
     "name": "stdout",
     "output_type": "stream",
     "text": [
      "[5, 2, 8]\n"
     ]
    }
   ],
   "source": [
    "li = [5,2,6,8]\n",
    "li.pop(2)\n",
    "print(li)"
   ]
  },
  {
   "cell_type": "markdown",
   "id": "bb1bd33e-c370-457e-ab2d-5a466516c559",
   "metadata": {},
   "source": [
    "## Q. 04"
   ]
  },
  {
   "cell_type": "code",
   "execution_count": 5,
   "id": "8489e386-de39-4936-b010-73c6bfa34958",
   "metadata": {},
   "outputs": [
    {
     "name": "stdout",
     "output_type": "stream",
     "text": [
      "2 3 4 "
     ]
    }
   ],
   "source": [
    "li = [1,2,3,4,5]\n",
    "for i in li[1:4]:\n",
    "    print(i,end=\" \")"
   ]
  },
  {
   "cell_type": "markdown",
   "id": "8da2e636-db88-47aa-abb0-9ff88bd46736",
   "metadata": {},
   "source": [
    "## Q. 05"
   ]
  },
  {
   "cell_type": "code",
   "execution_count": 6,
   "id": "91ff8001-b7c7-466a-bd12-3d6ea6cbbeb9",
   "metadata": {},
   "outputs": [
    {
     "name": "stdin",
     "output_type": "stream",
     "text": [
      " 2\n",
      " 1\n",
      " 2\n"
     ]
    },
    {
     "name": "stdout",
     "output_type": "stream",
     "text": [
      "['1', '2']\n"
     ]
    }
   ],
   "source": [
    "n = int(input())\n",
    "li = []\n",
    "for i in range(n):\n",
    "    li.append(input())\n",
    "print(li)"
   ]
  },
  {
   "cell_type": "markdown",
   "id": "79b933a5-153e-460b-bf50-1506a76fd09a",
   "metadata": {},
   "source": [
    "## Q. 06"
   ]
  },
  {
   "cell_type": "code",
   "execution_count": 7,
   "id": "be737d6b-326d-4644-a7e4-a5b8b2e059a3",
   "metadata": {},
   "outputs": [
    {
     "name": "stdin",
     "output_type": "stream",
     "text": [
      " 1 3 6 8 9\n"
     ]
    },
    {
     "name": "stdout",
     "output_type": "stream",
     "text": [
      "['1', '3', '6', '8', '9']\n"
     ]
    }
   ],
   "source": [
    "li = [x for x in input().split()]\n",
    "print(li)"
   ]
  },
  {
   "cell_type": "markdown",
   "id": "f942ca39-768d-4807-831d-8bd652e7be5a",
   "metadata": {},
   "source": [
    "## Q. 07"
   ]
  },
  {
   "cell_type": "code",
   "execution_count": 8,
   "id": "28781d5c-2830-4a02-996b-5d1711d114c3",
   "metadata": {},
   "outputs": [
    {
     "name": "stdout",
     "output_type": "stream",
     "text": [
      "[1, 4, 3, 4, 5]\n"
     ]
    }
   ],
   "source": [
    "def change(li):\n",
    "    li[1] = li[1] + 2\n",
    "li = [1,2,3,4,5]\n",
    "change(li)\n",
    "print(li)"
   ]
  },
  {
   "cell_type": "markdown",
   "id": "25e3bcea-d59a-4257-9fcc-5c70f46b9e10",
   "metadata": {},
   "source": [
    "## Q. 08"
   ]
  },
  {
   "cell_type": "code",
   "execution_count": 9,
   "id": "3c1b2f27-1c9d-4cc1-95bf-a7ac623b75b5",
   "metadata": {},
   "outputs": [
    {
     "name": "stdout",
     "output_type": "stream",
     "text": [
      "[1, 4, 3, 4, 5]\n"
     ]
    }
   ],
   "source": [
    "def change(li):\n",
    "    li[1] = li[1] + 2\n",
    "    li = [3,3,3,4,5]\n",
    "li = [1,2,3,4,5]\n",
    "change(li)\n",
    "print(li)"
   ]
  },
  {
   "cell_type": "code",
   "execution_count": null,
   "id": "fa10cb25-d60b-48e7-a3f2-177792ff6947",
   "metadata": {},
   "outputs": [],
   "source": []
  }
 ],
 "metadata": {
  "kernelspec": {
   "display_name": "Python 3 (ipykernel)",
   "language": "python",
   "name": "python3"
  },
  "language_info": {
   "codemirror_mode": {
    "name": "ipython",
    "version": 3
   },
   "file_extension": ".py",
   "mimetype": "text/x-python",
   "name": "python",
   "nbconvert_exporter": "python",
   "pygments_lexer": "ipython3",
   "version": "3.9.2"
  }
 },
 "nbformat": 4,
 "nbformat_minor": 5
}
