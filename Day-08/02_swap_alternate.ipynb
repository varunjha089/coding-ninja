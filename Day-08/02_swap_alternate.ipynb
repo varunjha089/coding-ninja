{
 "cells": [
  {
   "cell_type": "markdown",
   "id": "f3dd11f7-cd18-4ee3-97bf-dc6e573253a1",
   "metadata": {},
   "source": []
  },
  {
   "cell_type": "code",
   "execution_count": 6,
   "id": "97b3541f-ae86-4e62-a71c-eee4934dacf8",
   "metadata": {},
   "outputs": [
    {
     "name": "stdout",
     "output_type": "stream",
     "text": [
      "0\n",
      "2\n",
      "4\n",
      "6\n",
      "8\n"
     ]
    }
   ],
   "source": [
    "for i in range(0, 8, 2):\n",
    "    print(i)"
   ]
  },
  {
   "cell_type": "code",
   "execution_count": 5,
   "id": "f967f9bf-b525-4eb1-8cbc-f80fef8cc980",
   "metadata": {},
   "outputs": [
    {
     "data": {
      "text/plain": [
       "5"
      ]
     },
     "execution_count": 5,
     "metadata": {},
     "output_type": "execute_result"
    }
   ],
   "source": [
    "arr = [1, 2, 3, 4, 5]\n",
    "arr[-1]"
   ]
  },
  {
   "cell_type": "code",
   "execution_count": 63,
   "id": "62748b24-36b6-4a4b-8d49-82efb93fc1b0",
   "metadata": {},
   "outputs": [],
   "source": [
    "def swapAlternate(arr, n) :\n",
    "    #Your code goes here\n",
    "    ary = []\n",
    "    # when length of arr is even\n",
    "    if len(arr) % 2 == 0:\n",
    "        for i in range(0, n, 2):\n",
    "            ary.append(arr[i+1])\n",
    "            ary.append(arr[i])\n",
    "    # when length of arr is odd\n",
    "    else:\n",
    "        for i in range(0, n-1, 2):\n",
    "            ary.append(arr[i+1])\n",
    "            ary.append(arr[i])\n",
    "        ary.append(arr[-1])\n",
    "    \n",
    "    for i in range(n):\n",
    "        arr.pop(0)\n",
    "        arr.append(ary[i])"
   ]
  },
  {
   "cell_type": "code",
   "execution_count": 64,
   "id": "271f746e-37af-4968-8aa2-9bbc45673ca5",
   "metadata": {},
   "outputs": [
    {
     "name": "stdout",
     "output_type": "stream",
     "text": [
      "None\n",
      "False\n",
      "[9, 3, 6, 12, 4, 32, 6]\n"
     ]
    }
   ],
   "source": [
    "arr = [9, 3, 6, 12, 4, 32, 6]\n",
    "print(swapAlternate(arr, len(arr)))\n",
    "print(swapAlternate(arr, len(arr)) == [3, 9, 12, 6, 32, 4, 6])\n",
    "print(arr)"
   ]
  },
  {
   "cell_type": "code",
   "execution_count": 60,
   "id": "00e7d8c9-042f-4599-9657-bbf9f326c5bf",
   "metadata": {},
   "outputs": [
    {
     "name": "stdout",
     "output_type": "stream",
     "text": [
      "[3, 9, 12, 6, 32, 4]\n"
     ]
    },
    {
     "data": {
      "text/plain": [
       "True"
      ]
     },
     "execution_count": 60,
     "metadata": {},
     "output_type": "execute_result"
    }
   ],
   "source": [
    "even_arr = [9, 3, 6, 12, 4, 32]\n",
    "print(swapAlternate(even_arr, len(even_arr)))\n",
    "swapAlternate(even_arr, len(even_arr)) == [3, 9, 12, 6, 32, 4]"
   ]
  },
  {
   "cell_type": "code",
   "execution_count": 61,
   "id": "4b6c0030-63b2-4df3-8ef1-0724726b872b",
   "metadata": {},
   "outputs": [
    {
     "name": "stdout",
     "output_type": "stream",
     "text": [
      "[3, 9, 12, 6, 32, 4, 6]\n"
     ]
    },
    {
     "data": {
      "text/plain": [
       "True"
      ]
     },
     "execution_count": 61,
     "metadata": {},
     "output_type": "execute_result"
    }
   ],
   "source": [
    "odd_arr = [9, 3, 6, 12, 4, 32, 6]\n",
    "print(swapAlternate(odd_arr, len(odd_arr)))\n",
    "swapAlternate(odd_arr, len(odd_arr)) == [3, 9, 12, 6, 32, 4, 6]"
   ]
  },
  {
   "cell_type": "code",
   "execution_count": null,
   "id": "366374a5-23ca-4a1d-8bfe-eaddf3231f34",
   "metadata": {},
   "outputs": [],
   "source": []
  }
 ],
 "metadata": {
  "kernelspec": {
   "display_name": "Python 3 (ipykernel)",
   "language": "python",
   "name": "python3"
  },
  "language_info": {
   "codemirror_mode": {
    "name": "ipython",
    "version": 3
   },
   "file_extension": ".py",
   "mimetype": "text/x-python",
   "name": "python",
   "nbconvert_exporter": "python",
   "pygments_lexer": "ipython3",
   "version": "3.9.2"
  }
 },
 "nbformat": 4,
 "nbformat_minor": 5
}
