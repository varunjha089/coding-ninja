{
 "cells": [
  {
   "cell_type": "markdown",
   "id": "3fa2f644-07bf-4287-b156-d1917b15ec57",
   "metadata": {},
   "source": [
    "# Find X raised to power N\n",
    "\n",
    "You are given two integers: X and N. You have to calculate X raised to power N and print it.\n",
    "\n",
    "### Input format:\n",
    "\n",
    "    The first line of input contains an integer X (1 <= X <= 100)\n",
    "    The second line of input contains an integer N (1 <= N <= 10) \n",
    "\n",
    "### Constraints:\n",
    "    Time Limit: 1 second\n",
    "\n",
    "### Output format:\n",
    "\n",
    "    The first and only line of output contains the result.  \n",
    "\n",
    "### Sample Input:\n",
    "    10\n",
    "    4\n",
    "\n",
    "### Sample Output:\n",
    "    10000"
   ]
  },
  {
   "cell_type": "code",
   "execution_count": null,
   "id": "87f7fd9b-f30a-4210-8739-51d6c4af4b78",
   "metadata": {},
   "outputs": [],
   "source": []
  },
  {
   "cell_type": "code",
   "execution_count": 1,
   "id": "f3634780-ee8a-4d0c-b62e-553276daf66d",
   "metadata": {},
   "outputs": [
    {
     "name": "stdin",
     "output_type": "stream",
     "text": [
      " 10\n",
      " 4\n"
     ]
    },
    {
     "name": "stdout",
     "output_type": "stream",
     "text": [
      "10000\n"
     ]
    }
   ],
   "source": [
    "# Write your code here\n",
    "x = int(input())\n",
    "y = int(input())\n",
    "\n",
    "print(x**y)"
   ]
  },
  {
   "cell_type": "code",
   "execution_count": null,
   "id": "906beceb-676f-41e4-b532-fedb40eee0df",
   "metadata": {},
   "outputs": [],
   "source": []
  }
 ],
 "metadata": {
  "kernelspec": {
   "display_name": "Python 3 (ipykernel)",
   "language": "python",
   "name": "python3"
  },
  "language_info": {
   "codemirror_mode": {
    "name": "ipython",
    "version": 3
   },
   "file_extension": ".py",
   "mimetype": "text/x-python",
   "name": "python",
   "nbconvert_exporter": "python",
   "pygments_lexer": "ipython3",
   "version": "3.9.2"
  }
 },
 "nbformat": 4,
 "nbformat_minor": 5
}
