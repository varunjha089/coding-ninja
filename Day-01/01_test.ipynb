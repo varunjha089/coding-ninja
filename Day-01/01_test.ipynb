{
 "cells": [
  {
   "cell_type": "code",
   "execution_count": 1,
   "id": "12392e49-6a1c-4dd5-9f83-fde78ed9b01f",
   "metadata": {},
   "outputs": [],
   "source": [
    "#This is first day"
   ]
  },
  {
   "cell_type": "code",
   "execution_count": 2,
   "id": "bb97ac62-a7f9-4b0f-8c39-c5eb49356b2b",
   "metadata": {},
   "outputs": [
    {
     "name": "stdout",
     "output_type": "stream",
     "text": [
      "Hello, World!\n"
     ]
    }
   ],
   "source": [
    "print(\"Hello, World!\")"
   ]
  },
  {
   "cell_type": "code",
   "execution_count": 4,
   "id": "84036dff-7e0b-4e6c-8663-f64ab1465c47",
   "metadata": {},
   "outputs": [
    {
     "name": "stdout",
     "output_type": "stream",
     "text": [
      "Career\n",
      "Labs\n"
     ]
    }
   ],
   "source": [
    "print(\"Career\")\n",
    "print(\"Labs\")"
   ]
  },
  {
   "cell_type": "code",
   "execution_count": null,
   "id": "1ce831d6-c15a-4632-8844-5bf7bc38bd70",
   "metadata": {},
   "outputs": [],
   "source": []
  },
  {
   "cell_type": "code",
   "execution_count": null,
   "id": "f39b5aa6-fd28-40ca-ab68-9aff1d84ac6b",
   "metadata": {},
   "outputs": [],
   "source": []
  }
 ],
 "metadata": {
  "kernelspec": {
   "display_name": "Python 3 (ipykernel)",
   "language": "python",
   "name": "python3"
  },
  "language_info": {
   "codemirror_mode": {
    "name": "ipython",
    "version": 3
   },
   "file_extension": ".py",
   "mimetype": "text/x-python",
   "name": "python",
   "nbconvert_exporter": "python",
   "pygments_lexer": "ipython3",
   "version": "3.9.2"
  }
 },
 "nbformat": 4,
 "nbformat_minor": 5
}
