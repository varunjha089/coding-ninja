{
 "cells": [
  {
   "cell_type": "markdown",
   "id": "09b87350-ecde-42b4-849d-5c95ca64f6dd",
   "metadata": {},
   "source": [
    "# Arithmetic Progression\n",
    "\n",
    "You are given first three entries of an arithmetic progression. You have to calculate the common difference and print it.\n",
    "\n",
    "### Input format:\n",
    "\n",
    "    The first line of input contains an integer a (1 <= a <= 100)\n",
    "    The second line of input contains an integer b (1 <= b <= 100) \n",
    "    The third line of input contains an integer c (1 <= c <= 100) \n",
    "\n",
    "### Constraints:\n",
    "    Time Limit: 1 second\n",
    "\n",
    "### Output format:\n",
    "    The first and only line of output contains the result.  \n",
    "\n",
    "### Sample Input:\n",
    "    1\n",
    "    3\n",
    "    5\n",
    "### Sample Output:\n",
    "    2"
   ]
  },
  {
   "cell_type": "code",
   "execution_count": 2,
   "id": "aba88a3c-0bb2-4108-8774-ff423e9da023",
   "metadata": {},
   "outputs": [
    {
     "name": "stdin",
     "output_type": "stream",
     "text": [
      " 1\n",
      " 3\n",
      " 5\n"
     ]
    },
    {
     "name": "stdout",
     "output_type": "stream",
     "text": [
      "2\n"
     ]
    }
   ],
   "source": [
    "# Write your code here\n",
    "x = int(input())\n",
    "y = int(input())\n",
    "z = int(input())\n",
    "\n",
    "if (z-y) == (y-x):\n",
    "    print(z-y)"
   ]
  },
  {
   "cell_type": "code",
   "execution_count": null,
   "id": "fc9e7982-ed8b-451b-b3f4-a52d618a8ada",
   "metadata": {},
   "outputs": [],
   "source": []
  }
 ],
 "metadata": {
  "kernelspec": {
   "display_name": "Python 3 (ipykernel)",
   "language": "python",
   "name": "python3"
  },
  "language_info": {
   "codemirror_mode": {
    "name": "ipython",
    "version": 3
   },
   "file_extension": ".py",
   "mimetype": "text/x-python",
   "name": "python",
   "nbconvert_exporter": "python",
   "pygments_lexer": "ipython3",
   "version": "3.9.2"
  }
 },
 "nbformat": 4,
 "nbformat_minor": 5
}
