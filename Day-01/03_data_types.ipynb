{
 "cells": [
  {
   "cell_type": "markdown",
   "id": "d2fbccfa-2ca2-4afa-987f-1b832a604149",
   "metadata": {},
   "source": [
    "# Data Types"
   ]
  },
  {
   "cell_type": "markdown",
   "id": "fce4cbe2-cfdc-4856-86c8-418410892c13",
   "metadata": {},
   "source": [
    "## Correct Variables Name\n",
    "\n",
    "- var1\n",
    "- var_1\n",
    "- _var"
   ]
  },
  {
   "cell_type": "markdown",
   "id": "2ecce4df-9494-44e8-823b-16790c14d74d",
   "metadata": {},
   "source": [
    "## In-Correct Variables Name\n",
    "\n",
    "- 1var\n",
    "- 123"
   ]
  },
  {
   "cell_type": "code",
   "execution_count": 1,
   "id": "372463fc-d5f3-41b7-8a52-05ea978131d7",
   "metadata": {},
   "outputs": [
    {
     "name": "stdout",
     "output_type": "stream",
     "text": [
      "abc\n"
     ]
    }
   ],
   "source": [
    "\"\"\"\n",
    "Q. Find the x?\n",
    "\"\"\"\n",
    "\n",
    "x = 10\n",
    "x = \"abc\"\n",
    "\n",
    "print(x)"
   ]
  },
  {
   "cell_type": "code",
   "execution_count": 2,
   "id": "19b454b3-5e87-4ba1-aaa1-0f98462df83f",
   "metadata": {},
   "outputs": [
    {
     "name": "stdout",
     "output_type": "stream",
     "text": [
      "<class 'int'>\n"
     ]
    }
   ],
   "source": [
    "\"\"\"\n",
    "Q. Find the type of x?\n",
    "\"\"\"\n",
    "\n",
    "x = \"abcd\"\n",
    "x = 10\n",
    "\n",
    "print(type(x))"
   ]
  },
  {
   "cell_type": "code",
   "execution_count": 4,
   "id": "81f67ebe-782d-4fa7-80d2-a42a7b8b2f40",
   "metadata": {},
   "outputs": [
    {
     "data": {
      "text/plain": [
       "'id1 is 2228571761232 and id2 is 2228571761232'"
      ]
     },
     "execution_count": 4,
     "metadata": {},
     "output_type": "execute_result"
    }
   ],
   "source": [
    "\"\"\"\n",
    "Will id1 and id2 have same value?\n",
    "\"\"\"\n",
    "a = 10\n",
    "id1 = id(a)\n",
    "b = a + 2-2\n",
    "id2 = id(b)\n",
    "\n",
    "f\"id1 is {id1} and id2 is {id2}\""
   ]
  },
  {
   "cell_type": "code",
   "execution_count": 5,
   "id": "587c925c-25c6-4ce8-881a-4755e2d00c77",
   "metadata": {},
   "outputs": [
    {
     "name": "stdout",
     "output_type": "stream",
     "text": [
      "True\n"
     ]
    }
   ],
   "source": [
    "print(id1 == id2)"
   ]
  },
  {
   "cell_type": "code",
   "execution_count": null,
   "id": "b1a945c8-56ad-4fef-86b3-44c0aee76e46",
   "metadata": {},
   "outputs": [],
   "source": []
  },
  {
   "cell_type": "code",
   "execution_count": null,
   "id": "a617e934-6048-46f6-aa2d-936a5de75c78",
   "metadata": {},
   "outputs": [],
   "source": []
  },
  {
   "cell_type": "code",
   "execution_count": null,
   "id": "aa696d26-3da7-4148-8eb5-d3ace5c6cfef",
   "metadata": {},
   "outputs": [],
   "source": []
  },
  {
   "cell_type": "code",
   "execution_count": 8,
   "id": "1254b85f-2070-4ada-bab7-a158cca06a90",
   "metadata": {},
   "outputs": [
    {
     "name": "stdout",
     "output_type": "stream",
     "text": [
      "1\n"
     ]
    }
   ],
   "source": [
    "\"\"\"\n",
    "What will be the output of the following statement?\n",
    "\"\"\"\n",
    "\n",
    "print(17//10)"
   ]
  },
  {
   "cell_type": "code",
   "execution_count": 9,
   "id": "5df95f31-39d1-4f41-826d-97ab4c1eada0",
   "metadata": {},
   "outputs": [
    {
     "name": "stdout",
     "output_type": "stream",
     "text": [
      "1.7\n"
     ]
    }
   ],
   "source": [
    "\"\"\"\n",
    "What will be the output of the following statement?\n",
    "\"\"\"\n",
    "\n",
    "print(17/10)"
   ]
  },
  {
   "cell_type": "code",
   "execution_count": null,
   "id": "00285a52-ef6b-4994-8447-8c3b4bbf3b7f",
   "metadata": {},
   "outputs": [],
   "source": []
  },
  {
   "cell_type": "code",
   "execution_count": null,
   "id": "6229e600-1bd8-4733-b782-4747f408d1cc",
   "metadata": {},
   "outputs": [],
   "source": []
  },
  {
   "cell_type": "code",
   "execution_count": 10,
   "id": "ab8c709f-84bb-4bf9-8313-84ad05b5c55d",
   "metadata": {},
   "outputs": [
    {
     "name": "stdin",
     "output_type": "stream",
     "text": [
      " 40\n",
      " 57\n"
     ]
    },
    {
     "name": "stdout",
     "output_type": "stream",
     "text": [
      "4057\n"
     ]
    }
   ],
   "source": [
    "\"\"\"\n",
    "What will be the output of the code if the input provided is 40 and 57 ?\n",
    "\"\"\"\n",
    "a = input()\n",
    "b = input()\n",
    "C = a+b\n",
    "print(C)"
   ]
  },
  {
   "cell_type": "code",
   "execution_count": 11,
   "id": "4c8f26f4-b9ff-444b-a5d1-6ad6041e3d26",
   "metadata": {},
   "outputs": [
    {
     "name": "stdin",
     "output_type": "stream",
     "text": [
      " 40\n",
      " 57\n"
     ]
    },
    {
     "name": "stdout",
     "output_type": "stream",
     "text": [
      "97\n"
     ]
    }
   ],
   "source": [
    "\"\"\"\n",
    "What will be the output of the code if input provided is 40 and 57 ?\n",
    "\"\"\"\n",
    "a =int (input())\n",
    "b= int (input())\n",
    "C = a+b\n",
    "print(C)"
   ]
  },
  {
   "cell_type": "code",
   "execution_count": 12,
   "id": "498e7cd7-2edd-4c35-90ca-acc02125fc12",
   "metadata": {},
   "outputs": [
    {
     "name": "stdin",
     "output_type": "stream",
     "text": [
      " abc\n"
     ]
    },
    {
     "ename": "ValueError",
     "evalue": "invalid literal for int() with base 10: 'abc'",
     "output_type": "error",
     "traceback": [
      "\u001b[1;31m---------------------------------------------------------------------------\u001b[0m",
      "\u001b[1;31mValueError\u001b[0m                                Traceback (most recent call last)",
      "Input \u001b[1;32mIn [12]\u001b[0m, in \u001b[0;36m<module>\u001b[1;34m\u001b[0m\n\u001b[0;32m      1\u001b[0m \u001b[38;5;124;03m\"\"\"\u001b[39;00m\n\u001b[0;32m      2\u001b[0m \u001b[38;5;124;03mWhat will be the output of the code if input provided is “abc” and “def”?\u001b[39;00m\n\u001b[0;32m      3\u001b[0m \u001b[38;5;124;03m\"\"\"\u001b[39;00m\n\u001b[1;32m----> 4\u001b[0m a \u001b[38;5;241m=\u001b[39m \u001b[38;5;28;43mint\u001b[39;49m\u001b[43m(\u001b[49m\u001b[38;5;28;43minput\u001b[39;49m\u001b[43m(\u001b[49m\u001b[43m)\u001b[49m\u001b[43m)\u001b[49m\n\u001b[0;32m      5\u001b[0m b\u001b[38;5;241m=\u001b[39m\u001b[38;5;28mint\u001b[39m(\u001b[38;5;28minput\u001b[39m())\n\u001b[0;32m      6\u001b[0m C \u001b[38;5;241m=\u001b[39m a\u001b[38;5;241m+\u001b[39mb\n",
      "\u001b[1;31mValueError\u001b[0m: invalid literal for int() with base 10: 'abc'"
     ]
    }
   ],
   "source": [
    "\"\"\"\n",
    "What will be the output of the code if input provided is “abc” and “def”?\n",
    "\"\"\"\n",
    "a = int(input())\n",
    "b=int(input())\n",
    "C = a+b\n",
    "print(C)"
   ]
  },
  {
   "cell_type": "code",
   "execution_count": null,
   "id": "f6b3bbba-55e9-4344-991d-f4e0af434fb6",
   "metadata": {},
   "outputs": [],
   "source": []
  }
 ],
 "metadata": {
  "kernelspec": {
   "display_name": "Python 3 (ipykernel)",
   "language": "python",
   "name": "python3"
  },
  "language_info": {
   "codemirror_mode": {
    "name": "ipython",
    "version": 3
   },
   "file_extension": ".py",
   "mimetype": "text/x-python",
   "name": "python",
   "nbconvert_exporter": "python",
   "pygments_lexer": "ipython3",
   "version": "3.9.2"
  }
 },
 "nbformat": 4,
 "nbformat_minor": 5
}
