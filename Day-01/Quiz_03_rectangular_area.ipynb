{
 "cells": [
  {
   "cell_type": "markdown",
   "id": "7f9c0d70-09b5-4836-b0d4-69bc81b8f707",
   "metadata": {},
   "source": [
    "# Rectangular Area\n",
    "\n",
    "You are given a rectangle in a plane. The coordinates of one of its diagonals are provided to you. You have to print the total area of the rectangle.\n",
    "The coordinates of the rectangle are provided as four integral values: x1, y1, x2, y2. It is given that x1 < x2 and y1 < y2.\n",
    "\n",
    "### Input format:\n",
    "    The first line of input contains an integer x1 \n",
    "    The second line of input contains an integer y1  \n",
    "    The third line of input contains an integer x2 \n",
    "    The fourth line of input contains an integer y2 \n",
    "\n",
    "### Constraints:\n",
    "    1 <= x1 <= 10\n",
    "    1 <= y1 <= 10\n",
    "    1 <= x2 <= 10\n",
    "    1 <= y2 <= 10 \n",
    "    Time Limit: 1 second\n",
    "\n",
    "### Output format:\n",
    "    The first and only line of output contains the result.  \n",
    "\n",
    "### Sample Input:\n",
    "    1\n",
    "    1\n",
    "    3\n",
    "    3\n",
    "\n",
    "### Sample Output:\n",
    "    4\n",
    "\n",
    "### Explanation:\n",
    "    The given coordinates of the diagonal are (x1,y1) = (1,1) and (x2,y2) = (3, 3). \n",
    "    The area of the rectangle can then easily be calculated as: \n",
    "    (3 – 1) * ( 3 – 1) = 2 * 2 = 4 \n",
    "    \n",
    "<img src=\"https://files.codingninjas.in/3094-10862.png\" height=\"50%\" width=\"50%\">"
   ]
  },
  {
   "cell_type": "code",
   "execution_count": 1,
   "id": "cab13984-efe9-40ca-9d7e-fd7335ffe5dc",
   "metadata": {},
   "outputs": [
    {
     "name": "stdin",
     "output_type": "stream",
     "text": [
      " 1\n",
      " 1\n",
      " 3\n",
      " 3\n"
     ]
    },
    {
     "name": "stdout",
     "output_type": "stream",
     "text": [
      "4\n"
     ]
    }
   ],
   "source": [
    "x1 = int(input())\n",
    "y1 = int(input())\n",
    "x2 = int(input())\n",
    "y2 = int(input())\n",
    "\n",
    "area = (x2 - x1)*(y2-y1)\n",
    "print(area)"
   ]
  },
  {
   "cell_type": "code",
   "execution_count": null,
   "id": "dd0e24c3-c412-4262-82aa-133376d2ec2e",
   "metadata": {},
   "outputs": [],
   "source": []
  }
 ],
 "metadata": {
  "kernelspec": {
   "display_name": "Python 3 (ipykernel)",
   "language": "python",
   "name": "python3"
  },
  "language_info": {
   "codemirror_mode": {
    "name": "ipython",
    "version": 3
   },
   "file_extension": ".py",
   "mimetype": "text/x-python",
   "name": "python",
   "nbconvert_exporter": "python",
   "pygments_lexer": "ipython3",
   "version": "3.9.2"
  }
 },
 "nbformat": 4,
 "nbformat_minor": 5
}
