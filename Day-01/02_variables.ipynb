{
 "cells": [
  {
   "cell_type": "markdown",
   "id": "440ae1ba-1dba-4a08-ae53-d8e186a34d7d",
   "metadata": {},
   "source": [
    "# Variables"
   ]
  },
  {
   "cell_type": "code",
   "execution_count": 1,
   "id": "9f247577-2514-4699-849a-545128aa25fe",
   "metadata": {},
   "outputs": [
    {
     "data": {
      "text/plain": [
       "'Hello, World'"
      ]
     },
     "execution_count": 1,
     "metadata": {},
     "output_type": "execute_result"
    }
   ],
   "source": [
    "\"Hello, World\""
   ]
  },
  {
   "cell_type": "markdown",
   "id": "5ce5be3f-fa31-47a5-9417-1852b525c167",
   "metadata": {
    "tags": []
   },
   "source": [
    "## Sum of two numbers"
   ]
  },
  {
   "cell_type": "code",
   "execution_count": 5,
   "id": "912db405-00f4-4e39-892b-0309a88256f4",
   "metadata": {},
   "outputs": [
    {
     "data": {
      "text/plain": [
       "'Sum of 20 + 30 is 50'"
      ]
     },
     "execution_count": 5,
     "metadata": {},
     "output_type": "execute_result"
    }
   ],
   "source": [
    "a = 20\n",
    "b = 30 \n",
    "\n",
    "f\"Sum of {a} + {b} is {a + b}\""
   ]
  },
  {
   "cell_type": "code",
   "execution_count": null,
   "id": "ae29cad2-645c-41e8-a258-b6596fa161e3",
   "metadata": {},
   "outputs": [],
   "source": []
  }
 ],
 "metadata": {
  "kernelspec": {
   "display_name": "Python 3 (ipykernel)",
   "language": "python",
   "name": "python3"
  },
  "language_info": {
   "codemirror_mode": {
    "name": "ipython",
    "version": 3
   },
   "file_extension": ".py",
   "mimetype": "text/x-python",
   "name": "python",
   "nbconvert_exporter": "python",
   "pygments_lexer": "ipython3",
   "version": "3.9.2"
  }
 },
 "nbformat": 4,
 "nbformat_minor": 5
}
