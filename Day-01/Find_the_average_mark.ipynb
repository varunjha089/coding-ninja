{
 "cells": [
  {
   "cell_type": "markdown",
   "id": "5f78d728-2487-4040-8767-c67e5cf0d529",
   "metadata": {},
   "source": [
    "# Find average Marks\n",
    "\n",
    "Write a program to input marks of three tests of a student (all integers). Then calculate and print the average of all test marks.\n",
    "\n",
    "### Input format :\n",
    "    3 Test marks (in different lines)\n",
    "    \n",
    "### Output format :\n",
    "    Average \n",
    "    \n",
    "### Sample Input 1 :\n",
    "    3 \n",
    "    4 \n",
    "    6\n",
    "\n",
    "### Sample Output 1 :\n",
    "    4.333333333333333\n",
    "    \n",
    "### Sample Input 2 :\n",
    "    5 \n",
    "    10 \n",
    "    5\n",
    "### Sample Output 2 :\n",
    "    6.666666666666667"
   ]
  },
  {
   "cell_type": "code",
   "execution_count": 7,
   "id": "a294d7a0-93fa-4555-b158-05f8b867fb04",
   "metadata": {},
   "outputs": [
    {
     "name": "stdin",
     "output_type": "stream",
     "text": [
      "Enter the 1 value:  3\n",
      "Enter the 2 value:  4\n",
      "Enter the 3 value:  6\n"
     ]
    },
    {
     "name": "stdout",
     "output_type": "stream",
     "text": [
      "4.333333333333333\n"
     ]
    }
   ],
   "source": [
    "# Read input as sepcified in the question\n",
    "# Print output as specified in the question\n",
    "def average(arr):\n",
    "    total = 0\n",
    "    for i in arr:\n",
    "        total += i\n",
    "    return total/3\n",
    "\n",
    "if __name__ == \"__main__\":\n",
    "    arr=[]\n",
    "    for i in range(3):\n",
    "        ipt = int(input(f\"Enter the {i+1} value: \"))\n",
    "        arr.append(ipt)\n",
    "        \n",
    "    print(average(arr))"
   ]
  },
  {
   "cell_type": "code",
   "execution_count": null,
   "id": "63557a76-64cc-4731-be89-d348fff5a9b1",
   "metadata": {},
   "outputs": [],
   "source": []
  }
 ],
 "metadata": {
  "kernelspec": {
   "display_name": "Python 3 (ipykernel)",
   "language": "python",
   "name": "python3"
  },
  "language_info": {
   "codemirror_mode": {
    "name": "ipython",
    "version": 3
   },
   "file_extension": ".py",
   "mimetype": "text/x-python",
   "name": "python",
   "nbconvert_exporter": "python",
   "pygments_lexer": "ipython3",
   "version": "3.9.2"
  }
 },
 "nbformat": 4,
 "nbformat_minor": 5
}
