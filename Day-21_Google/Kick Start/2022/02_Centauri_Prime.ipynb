{
 "cells": [
  {
   "cell_type": "markdown",
   "id": "08840f3d-1f8a-45c8-8cc4-832438ea6d21",
   "metadata": {},
   "source": [
    "**Problem**\n",
    "\n",
    "Alice and Bob are playing the game called Centauri Prime. Centauri Prime represents a planet which is split into several independent kingdoms. Before they start playing the game, they have to choose rulers for each kingdom. Alice and Bob mutually decided to distribute kingdoms based on the letter the kingdom's name ended with. Alice loves vowels and decided to rule kingdoms whose names ended in a vowel. Bob loves consonants and decided to rule kingdoms whose names ended in a consonant. Both of them do not like the letter 'y'(case insensitive) and thus, all kingdoms whose names ended in the letter 'y' are left without a ruler. Can you write a program that will determine the rulers of several kingdoms, given the kingdoms' names?\n",
    "\n",
    "**Input**\n",
    "\n",
    "The first line of the input gives the number of test cases, T. T lines follow, each one containing the name of one kingdom. Kingdom names will consist of only lower case English letters, starting with a capital letter. There will be no other characters on any line, and no empty lines.\n",
    "List of vowels for this problem is ['A', 'E', 'I', 'O', 'U', 'a', 'e', 'i', 'o', 'u'].\n",
    "\n",
    "**Output**\n",
    "\n",
    "For each test case, output one line containing Case #x: K is ruled by Y., where x is the case number (starting from 1), K is the kingdom name, and Y is either Alice, Bob or nobody.\n",
    "\n",
    "Be careful with capitalization and the terminating period. Your output must be in exactly this format. See the examples below.\n",
    "\n",
    "**Limits**\n",
    "- Time limit: 30 seconds.\n",
    "- Memory limit: 1 GB.\n",
    "- 1≤T≤300.\n",
    "\n",
    "**Test Set 1**\n",
    "- Each kingdom name will have between 3 and 20 letters.\n",
    "\n",
    "**Test Set 2\n",
    "- Each kingdom name will have at most 100 letters.\n",
    "\n",
    "**Sample Input**\n",
    "- 3\n",
    "- Mollaristan\n",
    "- Auritania\n",
    "- Zizily\n",
    "\n",
    "**Sample Output**\n",
    "- Case #1: Mollaristan is ruled by Bob.\n",
    "- Case #2: Auritania is ruled by Alice.\n",
    "- Case #3: Zizily is ruled by nobody.\n",
    "\n",
    "In Sample Case #1, the name of the kingdom ends with 'n' which is a consonant and thus, it is ruled by Bob.\n",
    "\n",
    "In Sample Case #2, the name of the kingdom ends with an 'a' which is a vowel and thus, it is ruled by Alice.\n",
    "\n",
    "In Sample Case #3, the name of the kingdom ends with 'y' which is not liked by both of them and thus, it is ruled by nobody."
   ]
  },
  {
   "cell_type": "code",
   "execution_count": 5,
   "id": "385e0700-6f4b-431d-8add-eaca27470003",
   "metadata": {},
   "outputs": [
    {
     "name": "stdin",
     "output_type": "stream",
     "text": [
      " 3\n",
      " Zizily\n"
     ]
    },
    {
     "name": "stdout",
     "output_type": "stream",
     "text": [
      "Case #1: Zizily is ruled by nobody.\n"
     ]
    },
    {
     "name": "stdin",
     "output_type": "stream",
     "text": [
      " Mollaristan\n"
     ]
    },
    {
     "name": "stdout",
     "output_type": "stream",
     "text": [
      "Case #2: Mollaristan is ruled by Bob.\n"
     ]
    },
    {
     "name": "stdin",
     "output_type": "stream",
     "text": [
      " Auritania\n"
     ]
    },
    {
     "name": "stdout",
     "output_type": "stream",
     "text": [
      "Case #3: Auritania is ruled by Alice.\n"
     ]
    }
   ],
   "source": [
    "# TODO: Complete the get_ruler function\n",
    "def get_ruler(kingdom):\n",
    "    vowels = ['A', 'E', 'I', 'O', 'U', 'a', 'e', 'i', 'o', 'u']\n",
    "    ruler = ''\n",
    "    # TODO: Add logic to determine the ruler of the kingdom\n",
    "    # It should be either 'Alice', 'Bob' or 'nobody'.\n",
    "    y = ['y', 'Y']\n",
    "    if kingdom[-1] in y: \n",
    "        ruler = \"nobody\"\n",
    "    elif kingdom[-1] in vowels:\n",
    "        ruler = \"Alice\"\n",
    "    else:\n",
    "        ruler = \"Bob\"\n",
    "    return ruler\n",
    "\n",
    "def main():\n",
    "    # Get the number of test cases\n",
    "    T = int(input())\n",
    "    for t in range(T):\n",
    "        # Get the kingdom\n",
    "        kingdom = input()\n",
    "        print('Case #%d: %s is ruled by %s.' % (t + 1, kingdom, get_ruler(kingdom)))\n",
    "\n",
    "if __name__ == '__main__':\n",
    "    main()\n"
   ]
  },
  {
   "cell_type": "code",
   "execution_count": null,
   "id": "9d3db908-e57a-41a2-ad5e-ac1478c36f46",
   "metadata": {},
   "outputs": [],
   "source": []
  }
 ],
 "metadata": {
  "kernelspec": {
   "display_name": "Python 3 (ipykernel)",
   "language": "python",
   "name": "python3"
  },
  "language_info": {
   "codemirror_mode": {
    "name": "ipython",
    "version": 3
   },
   "file_extension": ".py",
   "mimetype": "text/x-python",
   "name": "python",
   "nbconvert_exporter": "python",
   "pygments_lexer": "ipython3",
   "version": "3.9.2"
  }
 },
 "nbformat": 4,
 "nbformat_minor": 5
}
