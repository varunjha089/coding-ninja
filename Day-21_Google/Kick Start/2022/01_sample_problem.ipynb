{
 "cells": [
  {
   "cell_type": "markdown",
   "id": "eba4c1a2-34f2-4f14-8e13-456d0e59dbda",
   "metadata": {},
   "source": [
    "**Problem**\n",
    "\n",
    "You have gathered N bags of candy and you want to distribute the candy amongst M kids. The i-th bag contains Ci pieces of candy. You want to make sure that every kid get the same amount of candy and that the number of pieces of candy they receive is the greatest possible. You can open each bag and mix all pieces of candy before distributing them to the kids.\n",
    "\n",
    "How many pieces of candy will remain after you share the candy amongst kids, based on the rules described above?\n",
    "\n",
    "**Input**\n",
    "\n",
    "The first line of the input gives the number of test cases, T. T test cases follow.\n",
    "\n",
    "Each test case consists of two lines. The first line of each test case contains two integers: integer N, the number of candy bags, and M, the number of kids.\n",
    "\n",
    "The next line contains N non-negative integers C1,C2,…,CN representing array C, where the i-th integer represents the number of candies in the i-th bag.\n",
    "\n",
    "**Output**\n",
    "\n",
    "For each test case, output one line containing Case #x: y, where x is the test case number (starting from 1) and y is the number of candies that will remain if you divide candies between kids according to the rules described above.\n",
    "\n",
    "**Limits**\n",
    "- Time limit: 40 seconds.\n",
    "- Memory limit: 1 GB.\n",
    "\n",
    "**Test Set 1**\n",
    "- 1≤T≤100.\n",
    "- 1≤N≤105.\n",
    "- 1≤M≤104.\n",
    "- 0≤Ci≤1000, for all i from 1 to N.\n",
    "\n",
    "**Sample Input**\n",
    "\n",
    "    2\n",
    "    7 3\n",
    "    1 2 3 4 5 6 7\n",
    "    5 10\n",
    "    7 7 7 7 7\n",
    "    \n",
    "**Sample Output**\n",
    "\n",
    "    Case #1: 1\n",
    "    Case #2: 5\n",
    "\n",
    "In Sample Case #1, we have N=7 bags of candy. In total we have 1+2+3+4+5+6+7=28 candies that we want to divide between M=3 kids. Every kid can get 9 pieces of candy, so 28−3×9=1 pieces of candy will remain.\n",
    "\n",
    "In Sample Case #2, we have N=5 bags of candy. In total we have 7+7+7+7+7=35 candies that we want to divide between M=10 kids. Every kid can get 3 pieces of candy, so 35−10×3=5 pieces of candy will remain."
   ]
  },
  {
   "cell_type": "code",
   "execution_count": 2,
   "id": "680dff51-9256-4e36-8bba-54ade5e0e170",
   "metadata": {},
   "outputs": [
    {
     "name": "stdin",
     "output_type": "stream",
     "text": [
      " 2\n",
      " 7 3\n",
      " 1 2 3 4 5 6 7\n"
     ]
    },
    {
     "name": "stdout",
     "output_type": "stream",
     "text": [
      "Case #1: 1\n"
     ]
    },
    {
     "name": "stdin",
     "output_type": "stream",
     "text": [
      " 5 10\n",
      " 7 7 7 7 7\n"
     ]
    },
    {
     "name": "stdout",
     "output_type": "stream",
     "text": [
      "Case #2: 5\n"
     ]
    }
   ],
   "source": [
    "def remaining(m, n):\n",
    "    \"\"\"\n",
    "    m -> is a array of lenght 2, containing no. of candy bags at index 0 and no. of candy at index 1.\n",
    "    n -> is an array of candy in in ith bag.\n",
    "    \"\"\"\n",
    "    total_candy = sum(n)\n",
    "    counter = 0\n",
    "    for i in range(total_candy, 0, -1):\n",
    "        if i % m[1] == 0:\n",
    "            return counter\n",
    "        counter += 1\n",
    "    return counter\n",
    "    \n",
    "\n",
    "\n",
    "if __name__ == \"__main__\":\n",
    "    t = int(input())\n",
    "    for i in range(t):\n",
    "        m = list(map(int,input().split()))\n",
    "        n = list(map(int,input().split()))\n",
    "        # print(m)\n",
    "        # print(n)\n",
    "        print(f\"Case #{i+1}: {remaining(m, n)}\")"
   ]
  },
  {
   "cell_type": "code",
   "execution_count": null,
   "id": "922299d1-01e7-4034-a8c4-c8dfd1f0edd3",
   "metadata": {},
   "outputs": [],
   "source": []
  }
 ],
 "metadata": {
  "kernelspec": {
   "display_name": "Python 3 (ipykernel)",
   "language": "python",
   "name": "python3"
  },
  "language_info": {
   "codemirror_mode": {
    "name": "ipython",
    "version": 3
   },
   "file_extension": ".py",
   "mimetype": "text/x-python",
   "name": "python",
   "nbconvert_exporter": "python",
   "pygments_lexer": "ipython3",
   "version": "3.9.2"
  }
 },
 "nbformat": 4,
 "nbformat_minor": 5
}
