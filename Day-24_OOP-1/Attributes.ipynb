{
 "cells": [
  {
   "cell_type": "code",
   "execution_count": 1,
   "id": "109cca23-56df-40f8-a30d-c075bf036a1a",
   "metadata": {},
   "outputs": [],
   "source": [
    "class ExpenseTracker:\n",
    "    #class attribute\n",
    "    expense_tracker_version=0.1\n",
    "    \n",
    "    def __init__(self,tracker_category,opening_balance,budget):\n",
    "        self.tracker_category=tracker_category\n",
    "        self.opening_balance=opening_balance\n",
    "        self.budget=budget"
   ]
  },
  {
   "cell_type": "code",
   "execution_count": 2,
   "id": "1e497506-a162-4ef1-90c7-812baceba4ff",
   "metadata": {},
   "outputs": [
    {
     "data": {
      "text/plain": [
       "{'tracker_category': 'home', 'budget': 10000}"
      ]
     },
     "execution_count": 2,
     "metadata": {},
     "output_type": "execute_result"
    }
   ],
   "source": [
    "home_tracker=ExpenseTracker(\"home\",3000,10000)\n",
    "home_tracker.tracker_category\n",
    "shopping_tracker=ExpenseTracker(\"shopping\",1000,5000)\n",
    "shopping_tracker.tracker_category\n",
    "home_tracker.__dict__\n",
    "shopping_tracker.__dict__\n",
    "getattr(home_tracker,'opening_balance')\n",
    "getattr(shopping_tracker,'opening_balance')\n",
    "hasattr(shopping_tracker,'opening')\n",
    "hasattr(shopping_tracker,'opening_balance')\n",
    "home_tracker.__dict__\n",
    "delattr(home_tracker,'opening_balance')\n",
    "home_tracker.__dict__"
   ]
  },
  {
   "cell_type": "code",
   "execution_count": null,
   "id": "a667cd48-1c4b-4380-9e7f-3f87f35cb41a",
   "metadata": {},
   "outputs": [],
   "source": []
  }
 ],
 "metadata": {
  "kernelspec": {
   "display_name": "Python 3 (ipykernel)",
   "language": "python",
   "name": "python3"
  },
  "language_info": {
   "codemirror_mode": {
    "name": "ipython",
    "version": 3
   },
   "file_extension": ".py",
   "mimetype": "text/x-python",
   "name": "python",
   "nbconvert_exporter": "python",
   "pygments_lexer": "ipython3",
   "version": "3.9.2"
  }
 },
 "nbformat": 4,
 "nbformat_minor": 5
}
