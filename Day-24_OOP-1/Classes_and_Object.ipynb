{
 "cells": [
  {
   "cell_type": "code",
   "execution_count": 2,
   "id": "7576c353-0e92-4773-9e88-4829079b983e",
   "metadata": {},
   "outputs": [],
   "source": [
    "class ExpenseTracker:\n",
    "    \"\"\"this is a class to do expense tracking\"\"\"\n",
    "    def __init__(self):\n",
    "        pass"
   ]
  },
  {
   "cell_type": "code",
   "execution_count": 3,
   "id": "2642d2e6-74d4-4b2c-8661-a6c53128e764",
   "metadata": {},
   "outputs": [],
   "source": [
    "obj1=ExpenseTracker()"
   ]
  },
  {
   "cell_type": "code",
   "execution_count": 4,
   "id": "eb7da89a-3be0-474b-93d1-6e2fd5216e2d",
   "metadata": {},
   "outputs": [
    {
     "data": {
      "text/plain": [
       "'30000'"
      ]
     },
     "execution_count": 4,
     "metadata": {},
     "output_type": "execute_result"
    }
   ],
   "source": [
    "class ExpenseTracker:\n",
    "    \"\"\"this is a class to do expense tracking\"\"\"\n",
    "    def __init__(self,date,description,transaction_type,amount):\n",
    "        self.date=date\n",
    "        self.description=description\n",
    "        self.transaction_type=transaction_type\n",
    "        self.amount=amount\n",
    "obj2=ExpenseTracker(\"12Jan\",\"Dinner with Friends\",\"Debit\",\"500\")\n",
    "obj3=ExpenseTracker(\"1Jan\",\"Salary Credited\",\"Credit\",\"30000\")\n",
    "obj2.date\n",
    "obj2.amount\n",
    "obj3.date\n",
    "obj3.amount"
   ]
  },
  {
   "cell_type": "code",
   "execution_count": null,
   "id": "1a227d69-4d7a-46c2-a474-0ed2d62fe2e9",
   "metadata": {},
   "outputs": [],
   "source": []
  }
 ],
 "metadata": {
  "kernelspec": {
   "display_name": "Python 3 (ipykernel)",
   "language": "python",
   "name": "python3"
  },
  "language_info": {
   "codemirror_mode": {
    "name": "ipython",
    "version": 3
   },
   "file_extension": ".py",
   "mimetype": "text/x-python",
   "name": "python",
   "nbconvert_exporter": "python",
   "pygments_lexer": "ipython3",
   "version": "3.9.2"
  }
 },
 "nbformat": 4,
 "nbformat_minor": 5
}
