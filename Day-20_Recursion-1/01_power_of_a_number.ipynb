{
 "cells": [
  {
   "cell_type": "markdown",
   "id": "7d133183-0dba-48ec-8d92-fc7642101a43",
   "metadata": {},
   "source": [
    "# Power Of A Number"
   ]
  },
  {
   "cell_type": "code",
   "execution_count": 1,
   "id": "653bfe00-76b0-46a3-9750-6d0b84102113",
   "metadata": {},
   "outputs": [
    {
     "name": "stdin",
     "output_type": "stream",
     "text": [
      " 5 6\n"
     ]
    },
    {
     "name": "stdout",
     "output_type": "stream",
     "text": [
      "15625\n"
     ]
    }
   ],
   "source": [
    "## Write your code here\n",
    "## To take space separated input for two variables, we use the following syntax (3 lines)\n",
    "def power_of_a_number(a, b):\n",
    "    return a**b\n",
    "\n",
    "a, b = input().split()\n",
    "a = int(a)\n",
    "b = int(b)\n",
    "print(power_of_a_number(a, b))\n"
   ]
  },
  {
   "cell_type": "code",
   "execution_count": null,
   "id": "ec660b25-cd69-484f-aeaf-825df0798a9d",
   "metadata": {},
   "outputs": [],
   "source": []
  }
 ],
 "metadata": {
  "kernelspec": {
   "display_name": "Python 3 (ipykernel)",
   "language": "python",
   "name": "python3"
  },
  "language_info": {
   "codemirror_mode": {
    "name": "ipython",
    "version": 3
   },
   "file_extension": ".py",
   "mimetype": "text/x-python",
   "name": "python",
   "nbconvert_exporter": "python",
   "pygments_lexer": "ipython3",
   "version": "3.9.2"
  }
 },
 "nbformat": 4,
 "nbformat_minor": 5
}
