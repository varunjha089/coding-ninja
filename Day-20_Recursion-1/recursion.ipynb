{
 "cells": [
  {
   "cell_type": "code",
   "execution_count": 1,
   "id": "1290f974-ba97-40af-b501-3a21d19c96a8",
   "metadata": {},
   "outputs": [],
   "source": [
    "def fact(n):\n",
    "    if n==0:\n",
    "        return 1\n",
    "    return n*fact(n-1)"
   ]
  },
  {
   "cell_type": "code",
   "execution_count": 2,
   "id": "3e65db01-bcbd-41ce-8b81-fae4de2d6c9a",
   "metadata": {},
   "outputs": [
    {
     "name": "stdin",
     "output_type": "stream",
     "text": [
      " 5\n"
     ]
    },
    {
     "data": {
      "text/plain": [
       "120"
      ]
     },
     "execution_count": 2,
     "metadata": {},
     "output_type": "execute_result"
    }
   ],
   "source": [
    "n=int(input())\n",
    "fact(n)"
   ]
  },
  {
   "cell_type": "code",
   "execution_count": 3,
   "id": "f9bb4dc3-8f16-4889-99ec-7c9276b4d046",
   "metadata": {},
   "outputs": [],
   "source": [
    "def fact1(n):\n",
    "    if n==0:\n",
    "        return 1\n",
    "    smalloutput=fact(n-1)\n",
    "    return n*smalloutput"
   ]
  },
  {
   "cell_type": "code",
   "execution_count": 5,
   "id": "0ae98315-d4c8-4255-9780-51d58300e180",
   "metadata": {},
   "outputs": [
    {
     "name": "stdin",
     "output_type": "stream",
     "text": [
      " 16\n"
     ]
    },
    {
     "data": {
      "text/plain": [
       "20922789888000"
      ]
     },
     "execution_count": 5,
     "metadata": {},
     "output_type": "execute_result"
    }
   ],
   "source": [
    "n=int(input())\n",
    "fact(n)"
   ]
  },
  {
   "cell_type": "code",
   "execution_count": null,
   "id": "b57ab061-3424-4df8-85e1-98cf77555af1",
   "metadata": {},
   "outputs": [],
   "source": []
  }
 ],
 "metadata": {
  "kernelspec": {
   "display_name": "Python 3 (ipykernel)",
   "language": "python",
   "name": "python3"
  },
  "language_info": {
   "codemirror_mode": {
    "name": "ipython",
    "version": 3
   },
   "file_extension": ".py",
   "mimetype": "text/x-python",
   "name": "python",
   "nbconvert_exporter": "python",
   "pygments_lexer": "ipython3",
   "version": "3.9.2"
  }
 },
 "nbformat": 4,
 "nbformat_minor": 5
}
