{
 "cells": [
  {
   "cell_type": "markdown",
   "id": "cbdd550b-53f5-46a0-96ee-11eae9358e6f",
   "metadata": {},
   "source": [
    "## Last Index Of Number Question"
   ]
  },
  {
   "cell_type": "code",
   "execution_count": 21,
   "id": "bf5cf525-88a2-455e-8049-8fe9b54c8263",
   "metadata": {},
   "outputs": [
    {
     "name": "stdin",
     "output_type": "stream",
     "text": [
      " 26\n",
      " 15 24 58 61 79 3 97 81 81 45 62 21 72 72 68 45 11 50 87 20 28 77 51 89 58 66 \n",
      " 23\n"
     ]
    },
    {
     "name": "stdout",
     "output_type": "stream",
     "text": [
      "-1\n"
     ]
    }
   ],
   "source": [
    "## Read input as specified in the question.\n",
    "## Print output as specified in the question.\n",
    "def lastIndex(arr, x):\n",
    "    # Please add your code here\n",
    "    for i in range(len(arr)-1, -1, -1):\n",
    "        if arr[i] == x:\n",
    "            return i\n",
    "        \n",
    "    return -1\n",
    "\n",
    "# Main\n",
    "from sys import setrecursionlimit\n",
    "setrecursionlimit(11000)\n",
    "n=int(input())\n",
    "arr=list(int(i) for i in input().strip().split(' '))\n",
    "x=int(input())\n",
    "print(lastIndex(arr, x))\n"
   ]
  },
  {
   "cell_type": "code",
   "execution_count": null,
   "id": "fefb7158-92d3-4e21-b67b-4d814311d180",
   "metadata": {},
   "outputs": [],
   "source": []
  }
 ],
 "metadata": {
  "kernelspec": {
   "display_name": "Python 3 (ipykernel)",
   "language": "python",
   "name": "python3"
  },
  "language_info": {
   "codemirror_mode": {
    "name": "ipython",
    "version": 3
   },
   "file_extension": ".py",
   "mimetype": "text/x-python",
   "name": "python",
   "nbconvert_exporter": "python",
   "pygments_lexer": "ipython3",
   "version": "3.9.2"
  }
 },
 "nbformat": 4,
 "nbformat_minor": 5
}
