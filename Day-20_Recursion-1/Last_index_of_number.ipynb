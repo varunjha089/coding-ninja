{
 "cells": [
  {
   "cell_type": "code",
   "execution_count": 1,
   "id": "f2164cf7-9cc6-4dfc-b3ed-8aae7f1ac67f",
   "metadata": {},
   "outputs": [],
   "source": [
    "def lastIndex(a,x):\n",
    "    l=len(a)\n",
    "    if l==0:\n",
    "        return -1\n",
    "    smallerList=a[1:]\n",
    "    smallerListOutput=lastIndex(smallerList,x)\n",
    "    if smallerListOutput!=-1:\n",
    "        return smallerListOutput+1\n",
    "    else:\n",
    "        if a[0]==x:\n",
    "            return 0\n",
    "        else:\n",
    "            return -1"
   ]
  },
  {
   "cell_type": "code",
   "execution_count": 3,
   "id": "e18ccbb2-fb3b-4ea3-8a27-aaf861f7d2e8",
   "metadata": {},
   "outputs": [],
   "source": [
    "def lastIndexB(a,x,si):\n",
    "    l=len(a)\n",
    "    if si==l:\n",
    "        return -1\n",
    "    smallerListOutput=lastIndexB(a,x,si+1)\n",
    "    if smallerListOutput!=-1:\n",
    "        return smallerListOutput\n",
    "    else:\n",
    "        if a[si]==x:\n",
    "            return si\n",
    "        else:\n",
    "            return -1"
   ]
  },
  {
   "cell_type": "code",
   "execution_count": 4,
   "id": "300372d0-9e38-47c1-898d-0b1bb9b3a2fd",
   "metadata": {},
   "outputs": [
    {
     "name": "stdout",
     "output_type": "stream",
     "text": [
      "3\n",
      "3\n"
     ]
    }
   ],
   "source": [
    "a=[1,4,5,4,8]\n",
    "x=4\n",
    "print(lastIndex(a,x))\n",
    "print(lastIndexB(a,x,0))"
   ]
  },
  {
   "cell_type": "code",
   "execution_count": null,
   "id": "ac89b368-e533-47db-b87e-a0aa877a6263",
   "metadata": {},
   "outputs": [],
   "source": []
  }
 ],
 "metadata": {
  "kernelspec": {
   "display_name": "Python 3 (ipykernel)",
   "language": "python",
   "name": "python3"
  },
  "language_info": {
   "codemirror_mode": {
    "name": "ipython",
    "version": 3
   },
   "file_extension": ".py",
   "mimetype": "text/x-python",
   "name": "python",
   "nbconvert_exporter": "python",
   "pygments_lexer": "ipython3",
   "version": "3.9.2"
  }
 },
 "nbformat": 4,
 "nbformat_minor": 5
}
