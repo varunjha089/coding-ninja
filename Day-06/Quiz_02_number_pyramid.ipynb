{
 "cells": [
  {
   "cell_type": "markdown",
   "id": "082ff94a-affc-4725-b512-27d09b4b1158",
   "metadata": {},
   "source": [
    "# Print Number Pyramid\n",
    "\n",
    "Print the following pattern for a given n.\n",
    "\n",
    "**For eg. N = 6**\n",
    "\n",
    "    123456\n",
    "     23456\n",
    "      3456\n",
    "       456\n",
    "        56\n",
    "         6\n",
    "        56\n",
    "       456\n",
    "      3456\n",
    "     23456\n",
    "    123456\n",
    "\n",
    "### Sample Input 1 :\n",
    "    4\n",
    "\n",
    "### Sample Output 1 :\n",
    "    1234\n",
    "     234\n",
    "      34\n",
    "       4\n",
    "      34\n",
    "     234\n",
    "    1234"
   ]
  },
  {
   "cell_type": "code",
   "execution_count": 8,
   "id": "70d4af77-446e-4082-b2a7-06aeaeb54959",
   "metadata": {},
   "outputs": [
    {
     "name": "stdin",
     "output_type": "stream",
     "text": [
      " 6\n"
     ]
    },
    {
     "name": "stdout",
     "output_type": "stream",
     "text": [
      "123456\n",
      " 23456\n",
      "  3456\n",
      "   456\n",
      "    56\n",
      "     6\n",
      "    56\n",
      "   456\n",
      "  3456\n",
      " 23456\n",
      "123456\n"
     ]
    }
   ],
   "source": [
    "n = int(input())\n",
    "\n",
    "for i in range(n):\n",
    "    for j in range(i):\n",
    "        print(\" \", end=\"\")\n",
    "    for j in range(i+1, n+1):\n",
    "        print(j, end=\"\")\n",
    "    print()\n",
    "\n",
    "for i in range(n-1, 0, -1):\n",
    "    num = 1\n",
    "    for j in range(1, i):\n",
    "        print(\" \", end=\"\")\n",
    "        num += 1\n",
    "    con = i\n",
    "    for j in range(num, n+1):\n",
    "        print(con, end=\"\")\n",
    "        con += 1\n",
    "    print()"
   ]
  },
  {
   "cell_type": "code",
   "execution_count": null,
   "id": "a7c582b4-1456-4051-892f-384dc14978dc",
   "metadata": {},
   "outputs": [],
   "source": []
  },
  {
   "cell_type": "code",
   "execution_count": null,
   "id": "be46ff4c-e42f-4712-ada0-aaad81aea3d6",
   "metadata": {},
   "outputs": [],
   "source": []
  },
  {
   "cell_type": "code",
   "execution_count": null,
   "id": "52e5ad52-b0c9-4b48-bc43-a21a1cbb780b",
   "metadata": {},
   "outputs": [],
   "source": []
  }
 ],
 "metadata": {
  "kernelspec": {
   "display_name": "Python 3 (ipykernel)",
   "language": "python",
   "name": "python3"
  },
  "language_info": {
   "codemirror_mode": {
    "name": "ipython",
    "version": 3
   },
   "file_extension": ".py",
   "mimetype": "text/x-python",
   "name": "python",
   "nbconvert_exporter": "python",
   "pygments_lexer": "ipython3",
   "version": "3.9.2"
  }
 },
 "nbformat": 4,
 "nbformat_minor": 5
}
