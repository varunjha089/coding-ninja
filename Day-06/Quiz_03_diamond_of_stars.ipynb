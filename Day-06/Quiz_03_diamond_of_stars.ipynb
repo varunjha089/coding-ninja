{
 "cells": [
  {
   "cell_type": "markdown",
   "id": "d0f09769-5f72-441a-ab90-0bd763d132c7",
   "metadata": {},
   "source": [
    "# Diamond of Stars\n",
    "\n",
    "Print the following pattern for the given number of rows.\n",
    "\n",
    "**Note: N is always odd.**\n",
    "\n",
    "**Pattern for N = 5**\n",
    "\n",
    "      *\n",
    "     ***\n",
    "    *****\n",
    "     ***\n",
    "      *\n",
    "\n",
    "The dots represent spaces.\n",
    "\n",
    "### Input format :\n",
    "    N (Total no. of rows and can only be odd)\n",
    "\n",
    "### Output format :\n",
    "    Pattern in N lines\n",
    "\n",
    "### Constraints :\n",
    "    1 <= N <= 49\n",
    "\n",
    "### Sample Input 1:\n",
    "    5\n",
    "\n",
    "### Sample Output 1:\n",
    "      *\n",
    "     ***\n",
    "    *****\n",
    "     ***\n",
    "      *\n",
    "\n",
    "### Sample Input 2:\n",
    "    3\n",
    "### Sample Output 2:\n",
    "      *\n",
    "     ***\n",
    "      *"
   ]
  },
  {
   "cell_type": "code",
   "execution_count": 21,
   "id": "d0a02669-bffd-49c4-98e7-8a60b084be44",
   "metadata": {},
   "outputs": [
    {
     "name": "stdin",
     "output_type": "stream",
     "text": [
      " 5\n"
     ]
    },
    {
     "name": "stdout",
     "output_type": "stream",
     "text": [
      "  *\n",
      " ***\n",
      "*****\n",
      " ***\n",
      "  *\n"
     ]
    }
   ],
   "source": [
    "n = int(input())\n",
    "\n",
    "# for upper part\n",
    "upper = (n//2) + 1\n",
    "\n",
    "for i in range(1, upper + 1):\n",
    "    for j in range(1, upper - i + 1):\n",
    "        print(\" \", end=\"\")\n",
    "    for j in range(1, 2*i):\n",
    "        print(\"*\", end=\"\")\n",
    "    print()\n",
    "    \n",
    "# for lower part\n",
    "lower = n - upper\n",
    "for i in range(lower, 0, -1):\n",
    "    for j in range(1, upper - i + 1):\n",
    "        print(\" \", end=\"\")\n",
    "    for j in range(1, 2*i):\n",
    "        print(\"*\", end=\"\")\n",
    "    print()"
   ]
  },
  {
   "cell_type": "code",
   "execution_count": null,
   "id": "edfb9da0-9c2b-440e-aa6e-d985a90d7c39",
   "metadata": {},
   "outputs": [],
   "source": []
  }
 ],
 "metadata": {
  "kernelspec": {
   "display_name": "Python 3 (ipykernel)",
   "language": "python",
   "name": "python3"
  },
  "language_info": {
   "codemirror_mode": {
    "name": "ipython",
    "version": 3
   },
   "file_extension": ".py",
   "mimetype": "text/x-python",
   "name": "python",
   "nbconvert_exporter": "python",
   "pygments_lexer": "ipython3",
   "version": "3.9.2"
  }
 },
 "nbformat": 4,
 "nbformat_minor": 5
}
