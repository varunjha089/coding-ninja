{
 "cells": [
  {
   "cell_type": "markdown",
   "id": "e388a813-2994-428c-bf4d-ffec1f517bc8",
   "metadata": {},
   "source": [
    "# Rectangular numbers\n",
    "\n",
    "Print the following pattern for the given number of rows.\n",
    "\n",
    "### Pattern for N = 4\n",
    "\n",
    "    4444444\n",
    "    4333334\n",
    "    4322234\n",
    "    4321234\n",
    "    4322234\n",
    "    4333334  \n",
    "    4444444\n",
    "\n",
    "### Input format : \n",
    "    N (Total no. of rows)\n",
    "\n",
    "### Output format : \n",
    "    Pattern in N lines\n",
    "\n",
    "### Sample Input :\n",
    "    3\n",
    "\n",
    "### Sample Output :\n",
    "\n",
    "    33333\n",
    "    32223\n",
    "    32123\n",
    "    32223\n",
    "    33333"
   ]
  },
  {
   "cell_type": "code",
   "execution_count": 4,
   "id": "4b3d13de-5256-45c1-96bd-538e5d80a388",
   "metadata": {},
   "outputs": [
    {
     "name": "stdin",
     "output_type": "stream",
     "text": [
      " 4\n"
     ]
    },
    {
     "data": {
      "text/plain": [
       "7"
      ]
     },
     "execution_count": 4,
     "metadata": {},
     "output_type": "execute_result"
    }
   ],
   "source": [
    "n = int(input())\n",
    "\n",
    "# for upper half 'n' column will be printed\n",
    "\n",
    "\n",
    "# for lower half 'n - 1' column will be printed\n"
   ]
  },
  {
   "cell_type": "code",
   "execution_count": null,
   "id": "0d85e52b-2ef8-4b5b-900d-b5f96ceb95b3",
   "metadata": {},
   "outputs": [],
   "source": []
  }
 ],
 "metadata": {
  "kernelspec": {
   "display_name": "Python 3 (ipykernel)",
   "language": "python",
   "name": "python3"
  },
  "language_info": {
   "codemirror_mode": {
    "name": "ipython",
    "version": 3
   },
   "file_extension": ".py",
   "mimetype": "text/x-python",
   "name": "python",
   "nbconvert_exporter": "python",
   "pygments_lexer": "ipython3",
   "version": "3.9.2"
  }
 },
 "nbformat": 4,
 "nbformat_minor": 5
}
