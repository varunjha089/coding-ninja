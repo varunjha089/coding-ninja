{
 "cells": [
  {
   "cell_type": "markdown",
   "id": "17f38be4-ad2c-4f72-873c-37df077c1e8f",
   "metadata": {},
   "source": [
    "## Q. 01"
   ]
  },
  {
   "cell_type": "code",
   "execution_count": 1,
   "id": "17252c3f-d62e-4549-99b7-6d05d44a4cad",
   "metadata": {},
   "outputs": [
    {
     "name": "stdout",
     "output_type": "stream",
     "text": [
      "1 3 "
     ]
    }
   ],
   "source": [
    "for i in range(1,5,2):\n",
    "    print(i,end=' ')"
   ]
  },
  {
   "cell_type": "markdown",
   "id": "a1b5a40e-b62a-4d40-b3bb-249d1b002330",
   "metadata": {},
   "source": [
    "## Q. 02"
   ]
  },
  {
   "cell_type": "code",
   "execution_count": 2,
   "id": "5054b8be-e030-4bee-bf64-b1a1fd4617da",
   "metadata": {},
   "outputs": [
    {
     "name": "stdout",
     "output_type": "stream",
     "text": [
      "0 1 2 3 4 "
     ]
    }
   ],
   "source": [
    "for i in range(5):\n",
    "    print(i,end= ' ')"
   ]
  },
  {
   "cell_type": "markdown",
   "id": "5539b0cb-d535-4a25-9b76-d675711e921b",
   "metadata": {},
   "source": [
    "## Q. 03"
   ]
  },
  {
   "cell_type": "code",
   "execution_count": 3,
   "id": "8ca1296b-c5bb-4251-a6ca-c347977af243",
   "metadata": {},
   "outputs": [
    {
     "name": "stdout",
     "output_type": "stream",
     "text": [
      "1 2 "
     ]
    }
   ],
   "source": [
    "i=1\n",
    "while i<5:\n",
    "    if i==3:\n",
    "        break\n",
    "    print(i,end=\" \")\n",
    "    i = i +1"
   ]
  },
  {
   "cell_type": "markdown",
   "id": "0350fb6b-4beb-44c2-8c25-24127cf11514",
   "metadata": {},
   "source": [
    "## Q. 04"
   ]
  },
  {
   "cell_type": "code",
   "execution_count": 6,
   "id": "cfe3741a-a5c5-4dbe-90e7-7c1853d98736",
   "metadata": {},
   "outputs": [
    {
     "name": "stdout",
     "output_type": "stream",
     "text": [
      "1 2 1 2 "
     ]
    }
   ],
   "source": [
    "i=1\n",
    "while i<3:\n",
    "    j=1\n",
    "    while j<5:\n",
    "        if j==3:\n",
    "            break\n",
    "        print(j,end=\" \")\n",
    "        j = j + 1\n",
    "    i = i + 1"
   ]
  },
  {
   "cell_type": "markdown",
   "id": "ad98819e-29b2-4881-a7a4-7cc7e468d510",
   "metadata": {},
   "source": [
    "## Q. 05"
   ]
  },
  {
   "cell_type": "code",
   "execution_count": 8,
   "id": "40f9af99-59d0-40fc-9f0d-aa861b757b07",
   "metadata": {},
   "outputs": [
    {
     "name": "stdout",
     "output_type": "stream",
     "text": [
      "1 2 3 4 Else is also printed\n"
     ]
    }
   ],
   "source": [
    "i=1\n",
    "while i<5:\n",
    "    if i == 6:\n",
    "        break\n",
    "    print(i,end=\" \")\n",
    "    i = i + 1\n",
    "else:\n",
    "    print(\"Else is also printed\")"
   ]
  },
  {
   "cell_type": "markdown",
   "id": "d39d7cdc-5047-4180-9893-c6b6bea2a242",
   "metadata": {},
   "source": [
    "## Q. 06"
   ]
  },
  {
   "cell_type": "code",
   "execution_count": null,
   "id": "650e56d7-1b9c-4905-8a3c-89f2c95657a4",
   "metadata": {},
   "outputs": [],
   "source": [
    "i = 1\n",
    "while i<5:\n",
    "    if i == 3:\n",
    "            continue\n",
    "    print(i, end=\" \")\n",
    "    i += 1"
   ]
  },
  {
   "cell_type": "markdown",
   "id": "24087b73-4ead-40d0-a6fb-80ceddc9ab7e",
   "metadata": {},
   "source": [
    "## Q. 07"
   ]
  },
  {
   "cell_type": "code",
   "execution_count": 12,
   "id": "13da749a-331a-4fa6-b4a9-b1f7261c32a8",
   "metadata": {},
   "outputs": [
    {
     "name": "stdout",
     "output_type": "stream",
     "text": [
      "1 2 4 5 1 2 4 5 "
     ]
    }
   ],
   "source": [
    "i=1\n",
    "while i<3:\n",
    "    j=0\n",
    "    while j<5:\n",
    "        j = j +1\n",
    "        if j==3:\n",
    "            continue\n",
    "        print(j,end=\" \")\n",
    "    i = i +1"
   ]
  },
  {
   "cell_type": "markdown",
   "id": "f375ecce-c3c4-4223-b80d-3c66cb9aaf7c",
   "metadata": {},
   "source": [
    "## Q. 08"
   ]
  },
  {
   "cell_type": "code",
   "execution_count": 13,
   "id": "b36c9dba-ac67-4a7a-8dfe-809fd0742b3e",
   "metadata": {},
   "outputs": [
    {
     "name": "stdout",
     "output_type": "stream",
     "text": [
      "1 2 "
     ]
    }
   ],
   "source": [
    "i=1\n",
    "while i<5:\n",
    "    if i == 3:\n",
    "        break\n",
    "    print(i,end=\" \")\n",
    "    i = i + 1\n",
    "else:\n",
    "    print(\"Else is also printed\")"
   ]
  },
  {
   "cell_type": "code",
   "execution_count": null,
   "id": "e779cb53-9b0f-49bd-8169-478004b1a073",
   "metadata": {},
   "outputs": [],
   "source": []
  }
 ],
 "metadata": {
  "kernelspec": {
   "display_name": "Python 3 (ipykernel)",
   "language": "python",
   "name": "python3"
  },
  "language_info": {
   "codemirror_mode": {
    "name": "ipython",
    "version": 3
   },
   "file_extension": ".py",
   "mimetype": "text/x-python",
   "name": "python",
   "nbconvert_exporter": "python",
   "pygments_lexer": "ipython3",
   "version": "3.9.2"
  }
 },
 "nbformat": 4,
 "nbformat_minor": 5
}
