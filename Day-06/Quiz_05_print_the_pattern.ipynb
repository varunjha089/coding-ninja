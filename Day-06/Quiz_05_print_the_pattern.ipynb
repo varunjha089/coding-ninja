{
 "cells": [
  {
   "cell_type": "markdown",
   "id": "0c231fa7-6e96-40b4-8702-8036285c5056",
   "metadata": {},
   "source": [
    "# Print the pattern\n",
    "\n",
    "Print the following pattern for the given number of rows.\n",
    "\n",
    "### Pattern for N = 5\n",
    "\n",
    "     1    2   3    4   5\n",
    "     11   12  13   14  15\n",
    "     21   22  23   24  25\n",
    "     16   17  18   19  20\n",
    "     6    7    8   9   10\n",
    "\n",
    "### Input format : \n",
    "    N (Total no. of rows)\n",
    "\n",
    "### Output format : \n",
    "    Pattern in N lines\n",
    "\n",
    "### Sample Input :\n",
    "    4\n",
    "\n",
    "### Sample Output :\n",
    "     1  2  3  4\n",
    "     9 10 11 12\n",
    "    13 14 15 16\n",
    "     5  6  7  8"
   ]
  },
  {
   "cell_type": "code",
   "execution_count": null,
   "id": "a0ee771d-bff9-4c38-b300-b30d3c27333b",
   "metadata": {},
   "outputs": [],
   "source": []
  }
 ],
 "metadata": {
  "kernelspec": {
   "display_name": "Python 3 (ipykernel)",
   "language": "python",
   "name": "python3"
  },
  "language_info": {
   "codemirror_mode": {
    "name": "ipython",
    "version": 3
   },
   "file_extension": ".py",
   "mimetype": "text/x-python",
   "name": "python",
   "nbconvert_exporter": "python",
   "pygments_lexer": "ipython3",
   "version": "3.9.2"
  }
 },
 "nbformat": 4,
 "nbformat_minor": 5
}
