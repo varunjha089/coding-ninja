{
 "cells": [
  {
   "cell_type": "markdown",
   "id": "1da5d429-c683-495b-91f6-f457d5bdba03",
   "metadata": {},
   "source": [
    "# Binary Pattern\n",
    "\n",
    "Print the following pattern for the given number of rows.\n",
    "\n",
    "### Pattern for N = 4\n",
    "    1111\n",
    "    000\n",
    "    11\n",
    "    0\n",
    "\n",
    "### Input format : \n",
    "    N (Total no. of rows)\n",
    "\n",
    "### Output format : \n",
    "    Pattern in N lines\n",
    "\n",
    "### Sample Input :\n",
    "    5\n",
    "### Sample Output :\n",
    "    11111\n",
    "    0000\n",
    "    111\n",
    "    00\n",
    "    1"
   ]
  },
  {
   "cell_type": "code",
   "execution_count": 2,
   "id": "ab772ddc-2069-4a89-8aca-7a6d4416d917",
   "metadata": {},
   "outputs": [
    {
     "name": "stdin",
     "output_type": "stream",
     "text": [
      " 5\n"
     ]
    },
    {
     "name": "stdout",
     "output_type": "stream",
     "text": [
      "11111\n",
      "0000\n",
      "111\n",
      "00\n",
      "1\n"
     ]
    }
   ],
   "source": [
    "n = int(input())\n",
    "\n",
    "for i in range(n):\n",
    "    if i % 2 == 0:\n",
    "        for j in range(n-i):\n",
    "            print(1, end=\"\")\n",
    "    else:\n",
    "        for j in range(n-i):\n",
    "            print(0, end=\"\")\n",
    "    print()"
   ]
  },
  {
   "cell_type": "code",
   "execution_count": null,
   "id": "03a09dd1-235c-42b4-9462-19a2b2cd02f2",
   "metadata": {},
   "outputs": [],
   "source": []
  }
 ],
 "metadata": {
  "kernelspec": {
   "display_name": "Python 3 (ipykernel)",
   "language": "python",
   "name": "python3"
  },
  "language_info": {
   "codemirror_mode": {
    "name": "ipython",
    "version": 3
   },
   "file_extension": ".py",
   "mimetype": "text/x-python",
   "name": "python",
   "nbconvert_exporter": "python",
   "pygments_lexer": "ipython3",
   "version": "3.9.2"
  }
 },
 "nbformat": 4,
 "nbformat_minor": 5
}
