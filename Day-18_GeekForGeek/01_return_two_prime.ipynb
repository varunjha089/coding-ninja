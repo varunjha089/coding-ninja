{
 "cells": [
  {
   "cell_type": "code",
   "execution_count": 41,
   "id": "28b3c102-c595-438a-978f-d460644afbd9",
   "metadata": {},
   "outputs": [
    {
     "name": "stdin",
     "output_type": "stream",
     "text": [
      " 15\n"
     ]
    },
    {
     "ename": "TypeError",
     "evalue": "cannot unpack non-iterable NoneType object",
     "output_type": "error",
     "traceback": [
      "\u001b[1;31m---------------------------------------------------------------------------\u001b[0m",
      "\u001b[1;31mTypeError\u001b[0m                                 Traceback (most recent call last)",
      "Input \u001b[1;32mIn [41]\u001b[0m, in \u001b[0;36m<module>\u001b[1;34m\u001b[0m\n\u001b[0;32m     30\u001b[0m N \u001b[38;5;241m=\u001b[39m \u001b[38;5;28mint\u001b[39m(\u001b[38;5;28minput\u001b[39m())\n\u001b[0;32m     32\u001b[0m ob \u001b[38;5;241m=\u001b[39m Solution()\n\u001b[1;32m---> 33\u001b[0m p1, p2 \u001b[38;5;241m=\u001b[39m ob\u001b[38;5;241m.\u001b[39mprimeDivision(N)\n\u001b[0;32m     34\u001b[0m \u001b[38;5;28mprint\u001b[39m(p1,end\u001b[38;5;241m=\u001b[39m\u001b[38;5;124m\"\u001b[39m\u001b[38;5;124m \u001b[39m\u001b[38;5;124m\"\u001b[39m)\n\u001b[0;32m     35\u001b[0m \u001b[38;5;28mprint\u001b[39m(p2)\n",
      "\u001b[1;31mTypeError\u001b[0m: cannot unpack non-iterable NoneType object"
     ]
    }
   ],
   "source": [
    "#User function Template for python3\n",
    "\n",
    "class Solution:\n",
    "    def primeDivision(self, N):\n",
    "        # code here\n",
    "        arr = []\n",
    "        for num in range(N):\n",
    "            if num > 1:\n",
    "                for i in range(2, num):\n",
    "                    if (num % i) == 0:\n",
    "                        break\n",
    "                    else:\n",
    "                        arr.append(num)\n",
    "                        arr = list(set(arr))\n",
    "        # print(arr)\n",
    "        for i in arr:\n",
    "            for j in arr[::-1]:\n",
    "                if i + j == N:\n",
    "                    return i, j\n",
    "            \n",
    "\n",
    "#{ \n",
    "#  Driver Code Starts\n",
    "#Initial Template for Python 3\n",
    "\n",
    "if __name__ == '__main__':\n",
    "    # t = int(input())\n",
    "    t = 1\n",
    "    for _ in range(t):\n",
    "        N = int(input())\n",
    "        \n",
    "        ob = Solution()\n",
    "        p1, p2 = ob.primeDivision(N)\n",
    "        print(p1,end=\" \")\n",
    "        print(p2)\n",
    "# } Driver Code Ends"
   ]
  },
  {
   "cell_type": "code",
   "execution_count": null,
   "id": "d4588f70-020c-4893-92d1-7aadc48f82c7",
   "metadata": {},
   "outputs": [],
   "source": []
  }
 ],
 "metadata": {
  "kernelspec": {
   "display_name": "Python 3 (ipykernel)",
   "language": "python",
   "name": "python3"
  },
  "language_info": {
   "codemirror_mode": {
    "name": "ipython",
    "version": 3
   },
   "file_extension": ".py",
   "mimetype": "text/x-python",
   "name": "python",
   "nbconvert_exporter": "python",
   "pygments_lexer": "ipython3",
   "version": "3.9.2"
  }
 },
 "nbformat": 4,
 "nbformat_minor": 5
}
