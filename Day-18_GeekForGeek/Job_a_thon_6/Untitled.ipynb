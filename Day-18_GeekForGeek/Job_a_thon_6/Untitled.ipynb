{
 "cells": [
  {
   "cell_type": "code",
   "execution_count": 16,
   "id": "a8799b57-e02d-499e-bf58-425b4ac85f21",
   "metadata": {},
   "outputs": [
    {
     "name": "stdin",
     "output_type": "stream",
     "text": [
      " 0\n"
     ]
    },
    {
     "name": "stdout",
     "output_type": "stream",
     "text": [
      "[]\n",
      "['0']\n",
      "1\n"
     ]
    }
   ],
   "source": [
    "#User function Template for python3\n",
    "def sub_set(l):\n",
    "    lists = [[]]\n",
    "    for i in range(len(l) + 1):\n",
    "        for j in range(i):\n",
    "            lists.append(l[j: i])\n",
    "    return lists\n",
    "    \n",
    "def countPalindrome(S): \n",
    "    #code here\n",
    "    arr = [i for i in S]\n",
    "    subsets = sub_set(arr)\n",
    "    counter = -1\n",
    "    for i in subsets:\n",
    "        if i == i[::-1]:\n",
    "            counter += 1\n",
    "            print(i)\n",
    "        \n",
    "    return counter\n",
    "\n",
    "#{ \n",
    "#Driver Code Starts.\n",
    "if __name__ == '__main__': \n",
    "    # t = int(input())\n",
    "    t = 1\n",
    "    for _ in range(t):\n",
    "        S = input()\n",
    "        # ob = Solution()\n",
    "        # ans = ob.countPalindrome(S)\n",
    "        # print(ans)\n",
    "        ans = countPalindrome(S)\n",
    "        print(ans)\n",
    "#} Driver Code Ends"
   ]
  },
  {
   "cell_type": "code",
   "execution_count": null,
   "id": "08d589a9-a261-40f7-a705-49f385f6de79",
   "metadata": {},
   "outputs": [],
   "source": []
  }
 ],
 "metadata": {
  "kernelspec": {
   "display_name": "Python 3 (ipykernel)",
   "language": "python",
   "name": "python3"
  },
  "language_info": {
   "codemirror_mode": {
    "name": "ipython",
    "version": 3
   },
   "file_extension": ".py",
   "mimetype": "text/x-python",
   "name": "python",
   "nbconvert_exporter": "python",
   "pygments_lexer": "ipython3",
   "version": "3.9.2"
  }
 },
 "nbformat": 4,
 "nbformat_minor": 5
}
