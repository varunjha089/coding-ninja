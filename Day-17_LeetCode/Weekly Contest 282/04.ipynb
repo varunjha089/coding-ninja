{
 "cells": [
  {
   "cell_type": "markdown",
   "id": "d1a69599-2b89-4f16-8ca2-78f80b5499d2",
   "metadata": {},
   "source": [
    "# Minimum Time to Finish the Race\n",
    "\n",
    "You are given a 0-indexed 2D integer array tires where `tires[i] = [fi, ri]` indicates that the ith tire can finish its xth successive lap in `fi * ri(x-1)` seconds.\n",
    "- For example, if `fi = 3` and `ri = 2`, then the tire would finish its 1st lap in 3 seconds, its 2nd lap in `3 * 2 = 6` seconds, its 3rd lap in `3 * 2^2 = 12` seconds, etc.\n",
    "\n",
    "You are also given an integer changeTime and an integer numLaps.\n",
    "\n",
    "The race consists of numLaps laps and you may start the race with any tire. You have an unlimited supply of each tire and after every lap, you may change to any given tire (including the current tire type) if you wait changeTime seconds.\n",
    "\n",
    "Return the minimum time to finish the race.\n",
    "\n",
    "**Example 1:**\n",
    "\n",
    "```Input: tires = [[2,3],[3,4]], changeTime = 5, numLaps = 4\n",
    "Output: 21\n",
    "Explanation: \n",
    "Lap 1: Start with tire 0 and finish the lap in 2 seconds.\n",
    "Lap 2: Continue with tire 0 and finish the lap in 2 * 3 = 6 seconds.\n",
    "Lap 3: Change tires to a new tire 0 for 5 seconds and then finish the lap in another 2 seconds.\n",
    "Lap 4: Continue with tire 0 and finish the lap in 2 * 3 = 6 seconds.\n",
    "Total time = 2 + 6 + 5 + 2 + 6 = 21 seconds.\n",
    "The minimum time to complete the race is 21 seconds.\n",
    "```\n",
    "\n",
    "**Example 2:**\n",
    "\n",
    "```\n",
    "Input: tires = [[1,10],[2,2],[3,4]], changeTime = 6, numLaps = 5\n",
    "Output: 25\n",
    "Explanation: \n",
    "Lap 1: Start with tire 1 and finish the lap in 2 seconds.\n",
    "Lap 2: Continue with tire 1 and finish the lap in 2 * 2 = 4 seconds.\n",
    "Lap 3: Change tires to a new tire 1 for 6 seconds and then finish the lap in another 2 seconds.\n",
    "Lap 4: Continue with tire 1 and finish the lap in 2 * 2 = 4 seconds.\n",
    "Lap 5: Change tires to tire 0 for 6 seconds then finish the lap in another 1 second.\n",
    "Total time = 2 + 4 + 6 + 2 + 4 + 6 + 1 = 25 seconds.\n",
    "The minimum time to complete the race is 25 seconds. \n",
    "```\n",
    "\n",
    "Constraints:\n",
    "\n",
    "- 1 <= tires.length <= 105\n",
    "- tires[i].length == 2\n",
    "- 1 <= fi, changeTime <= 105\n",
    "- 2 <= ri <= 105\n",
    "- 1 <= numLaps <= 1000"
   ]
  },
  {
   "cell_type": "code",
   "execution_count": 1,
   "id": "70622e35-9d3f-4196-93cb-3e198eb0ea0d",
   "metadata": {},
   "outputs": [],
   "source": [
    "def minimumFinishTime(tires, changeTime, numLaps):\n",
    "    pass"
   ]
  },
  {
   "cell_type": "code",
   "execution_count": null,
   "id": "ef094c00-cd14-4cb1-9dad-c925b92f180e",
   "metadata": {},
   "outputs": [],
   "source": []
  }
 ],
 "metadata": {
  "kernelspec": {
   "display_name": "Python 3 (ipykernel)",
   "language": "python",
   "name": "python3"
  },
  "language_info": {
   "codemirror_mode": {
    "name": "ipython",
    "version": 3
   },
   "file_extension": ".py",
   "mimetype": "text/x-python",
   "name": "python",
   "nbconvert_exporter": "python",
   "pygments_lexer": "ipython3",
   "version": "3.9.2"
  }
 },
 "nbformat": 4,
 "nbformat_minor": 5
}
