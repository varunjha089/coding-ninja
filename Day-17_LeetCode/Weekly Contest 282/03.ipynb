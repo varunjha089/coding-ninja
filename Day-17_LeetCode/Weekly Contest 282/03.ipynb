{
 "cells": [
  {
   "cell_type": "markdown",
   "id": "1195114f-48b5-4d95-9462-14574b87923d",
   "metadata": {},
   "source": [
    "# Minimum Time to Complete Trips\n",
    "\n",
    "You are given an array time where time[i] denotes the time taken by the ith bus to complete one trip.\n",
    "\n",
    "Each bus can make multiple trips successively; that is, the next trip can start immediately after completing the current trip. Also, each bus operates independently; that is, the trips of one bus do not influence the trips of any other bus.\n",
    "\n",
    "You are also given an integer totalTrips, which denotes the number of trips all buses should make in total. Return the minimum time required for all buses to complete at least totalTrips trips.\n",
    "\n",
    " \n",
    "\n",
    "**Example 1:**\n",
    "\n",
    "```\n",
    "Input: time = [1,2,3], totalTrips = 5\n",
    "Output: 3\n",
    "Explanation:\n",
    "- At time t = 1, the number of trips completed by each bus are [1,0,0]. \n",
    "  The total number of trips completed is 1 + 0 + 0 = 1.\n",
    "- At time t = 2, the number of trips completed by each bus are [2,1,0]. \n",
    "  The total number of trips completed is 2 + 1 + 0 = 3.\n",
    "- At time t = 3, the number of trips completed by each bus are [3,1,1]. \n",
    "  The total number of trips completed is 3 + 1 + 1 = 5.\n",
    "So the minimum time needed for all buses to complete at least 5 trips is 3.\n",
    "```\n",
    "\n",
    "**Example 2:**\n",
    "\n",
    "```\n",
    "Input: time = [2], totalTrips = 1\n",
    "Output: 2\n",
    "Explanation:\n",
    "There is only one bus, and it will complete its first trip at t = 2.\n",
    "So the minimum time needed to complete 1 trip is 2.\n",
    "```\n",
    " \n",
    "\n",
    "**Constraints:**\n",
    "\n",
    "- 1 <= time.length <= 105\n",
    "- 1 <= time[i], totalTrips <= 107"
   ]
  },
  {
   "cell_type": "code",
   "execution_count": 1,
   "id": "50feff9e-e0e4-4393-a4b0-03e27974225d",
   "metadata": {},
   "outputs": [],
   "source": [
    "def minimumTime(time, totalTrips):\n",
    "    pass"
   ]
  },
  {
   "cell_type": "code",
   "execution_count": null,
   "id": "0d00c609-1d45-4ecd-a971-f4c4a99356cf",
   "metadata": {},
   "outputs": [],
   "source": []
  }
 ],
 "metadata": {
  "kernelspec": {
   "display_name": "Python 3 (ipykernel)",
   "language": "python",
   "name": "python3"
  },
  "language_info": {
   "codemirror_mode": {
    "name": "ipython",
    "version": 3
   },
   "file_extension": ".py",
   "mimetype": "text/x-python",
   "name": "python",
   "nbconvert_exporter": "python",
   "pygments_lexer": "ipython3",
   "version": "3.9.2"
  }
 },
 "nbformat": 4,
 "nbformat_minor": 5
}
