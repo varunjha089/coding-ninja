{
 "cells": [
  {
   "cell_type": "markdown",
   "id": "0235d9e6-6804-423c-9b95-19e1729c4fb0",
   "metadata": {},
   "source": [
    "# Counting Words With a Given Prefix\n",
    "\n",
    "You are given an array of strings words and a string pref.\n",
    "\n",
    "Return the number of strings in words that contain pref as a prefix.\n",
    "\n",
    "A prefix of a string s is any leading contiguous substring of s.\n",
    "\n",
    "\n",
    "**Example 1:**\n",
    "\n",
    "```Input: words = [\"pay\",\"attention\",\"practice\",\"attend\"], pref = \"at\"\n",
    "Output: 2\n",
    "Explanation: The 2 strings that contain \"at\" as a prefix are: \"attention\" and \"attend\".\n",
    "```\n",
    "\n",
    "**Example 2:**\n",
    "\n",
    "```\n",
    "Input: words = [\"leetcode\",\"win\",\"loops\",\"success\"], pref = \"code\"\n",
    "Output: 0\n",
    "Explanation: There are no strings that contain \"code\" as a prefix.\n",
    "```\n",
    " \n",
    "\n",
    "**Constraints:**\n",
    "\n",
    "- 1 <= words.length <= 100\n",
    "- 1 <= words[i].length, pref.length <= 100\n",
    "- words[i] and pref consist of lowercase English letters."
   ]
  },
  {
   "cell_type": "code",
   "execution_count": 6,
   "id": "5e32cd47-8894-456d-8bec-48da766627b4",
   "metadata": {},
   "outputs": [],
   "source": [
    "def prefix(words, pref):\n",
    "    count = 0\n",
    "    for i in words:\n",
    "        if pref in i[:len(pref)]:\n",
    "            count += 1\n",
    "    return count"
   ]
  },
  {
   "cell_type": "code",
   "execution_count": 3,
   "id": "30912cec-ee4d-423e-a051-29f0c9c8f4c3",
   "metadata": {},
   "outputs": [],
   "source": [
    "words = [\"pay\", \"attention\", \"practice\", \"attend\"]\n",
    "pref = \"at\""
   ]
  },
  {
   "cell_type": "code",
   "execution_count": 7,
   "id": "70d0a286-46c5-4d1d-9548-2c76b2dec8b6",
   "metadata": {},
   "outputs": [
    {
     "data": {
      "text/plain": [
       "2"
      ]
     },
     "execution_count": 7,
     "metadata": {},
     "output_type": "execute_result"
    }
   ],
   "source": [
    "prefix(words, pref)"
   ]
  }
 ],
 "metadata": {
  "kernelspec": {
   "display_name": "Python 3 (ipykernel)",
   "language": "python",
   "name": "python3"
  },
  "language_info": {
   "codemirror_mode": {
    "name": "ipython",
    "version": 3
   },
   "file_extension": ".py",
   "mimetype": "text/x-python",
   "name": "python",
   "nbconvert_exporter": "python",
   "pygments_lexer": "ipython3",
   "version": "3.9.2"
  }
 },
 "nbformat": 4,
 "nbformat_minor": 5
}
