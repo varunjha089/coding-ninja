{
 "cells": [
  {
   "cell_type": "markdown",
   "id": "ad672d58-eb8d-495d-af40-a39e0771b352",
   "metadata": {},
   "source": [
    "# Minimum Number of Steps to Make Two Strings Anagram II\n",
    "\n",
    "You are given two strings s and t. In one step, you can append any character to either s or t.\n",
    "\n",
    "Return the minimum number of steps to make s and t anagrams of each other.\n",
    "\n",
    "An anagram of a string is a string that contains the same characters with a different (or the same) ordering.\n",
    "\n",
    " \n",
    "\n",
    "**Example 1:**\n",
    "\n",
    "```Input: s = \"leetcode\", t = \"coats\"\n",
    "Output: 7\n",
    "Explanation: \n",
    "- In 2 steps, we can append the letters in \"as\" onto s = \"leetcode\", forming s = \"leetcodeas\".\n",
    "- In 5 steps, we can append the letters in \"leede\" onto t = \"coats\", forming t = \"coatsleede\".\n",
    "\"leetcodeas\" and \"coatsleede\" are now anagrams of each other.\n",
    "We used a total of 2 + 5 = 7 steps.\n",
    "It can be shown that there is no way to make them anagrams of each other with less than 7 steps.\n",
    "```\n",
    "\n",
    "**Example 2:**\n",
    "\n",
    "```\n",
    "Input: s = \"night\", t = \"thing\"\n",
    "Output: 0\n",
    "Explanation: The given strings are already anagrams of each other. Thus, we do not need any further steps.\n",
    "```\n",
    "\n",
    "**Constraints:**\n",
    "\n",
    "- 1 <= s.length, t.length <= 2 * 105\n",
    "- s and t consist of lowercase English letters."
   ]
  },
  {
   "cell_type": "code",
   "execution_count": 1,
   "id": "edc91957-54f6-4e78-a194-b1cd1138e15a",
   "metadata": {},
   "outputs": [],
   "source": [
    "def minSteps(s, t):\n",
    "    pass"
   ]
  },
  {
   "cell_type": "code",
   "execution_count": null,
   "id": "c47f9afa-a54b-4f46-9c56-446917cccb01",
   "metadata": {},
   "outputs": [],
   "source": []
  }
 ],
 "metadata": {
  "kernelspec": {
   "display_name": "Python 3 (ipykernel)",
   "language": "python",
   "name": "python3"
  },
  "language_info": {
   "codemirror_mode": {
    "name": "ipython",
    "version": 3
   },
   "file_extension": ".py",
   "mimetype": "text/x-python",
   "name": "python",
   "nbconvert_exporter": "python",
   "pygments_lexer": "ipython3",
   "version": "3.9.2"
  }
 },
 "nbformat": 4,
 "nbformat_minor": 5
}
