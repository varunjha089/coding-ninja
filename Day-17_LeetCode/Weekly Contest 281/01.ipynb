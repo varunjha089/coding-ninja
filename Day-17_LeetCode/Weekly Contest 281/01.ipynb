{
 "cells": [
  {
   "cell_type": "markdown",
   "id": "c3763bfd-0f6c-4560-8757-60e60df84a6b",
   "metadata": {},
   "source": [
    "# Count Integers With Even Digit Sum\n",
    "\n",
    "Given a positive integer `num`, return the number of positive integers **less than or equal to** `num` whose digit sums are **even**.\n",
    "\n",
    "The **digit sum** of a positive integer is the sum of all its digits.\n",
    "\n",
    "**Example 1:**\n",
    "```\n",
    "Input: num = 4\n",
    "Output: 2\n",
    "Explanation:\n",
    "The only integers less than or equal to 4 whose digit sums are even are 2 and 4.    \n",
    "```\n",
    "\n",
    "**Example 2:**\n",
    "```\n",
    "Input: num = 30\n",
    "Output: 14\n",
    "Explanation:\n",
    "The 14 integers less than or equal to 30 whose digit sums are even are\n",
    "2, 4, 6, 8, 11, 13, 15, 17, 19, 20, 22, 24, 26, and 28.\n",
    "```\n",
    "\n",
    "**Constraints:**\n",
    "- 1 <= num <= 1000"
   ]
  },
  {
   "cell_type": "code",
   "execution_count": 3,
   "id": "4226c5fa-f57c-40a6-a8ca-0e54ad649de4",
   "metadata": {},
   "outputs": [
    {
     "name": "stdin",
     "output_type": "stream",
     "text": [
      " 4\n"
     ]
    },
    {
     "name": "stdout",
     "output_type": "stream",
     "text": [
      "2\n"
     ]
    }
   ],
   "source": [
    "n = int(input())\n",
    "counter = 0\n",
    "for i in range(1, n+1):\n",
    "    arr = [int(j) for j in str(i)]\n",
    "    sum = 0\n",
    "    for m in arr:\n",
    "        sum += m\n",
    "    if sum % 2 == 0:\n",
    "        counter += 1\n",
    "print(counter)\n",
    "    "
   ]
  },
  {
   "cell_type": "code",
   "execution_count": null,
   "id": "e2f8757d-f7d0-49bf-847d-e75c27534f50",
   "metadata": {},
   "outputs": [],
   "source": []
  }
 ],
 "metadata": {
  "kernelspec": {
   "display_name": "Python 3 (ipykernel)",
   "language": "python",
   "name": "python3"
  },
  "language_info": {
   "codemirror_mode": {
    "name": "ipython",
    "version": 3
   },
   "file_extension": ".py",
   "mimetype": "text/x-python",
   "name": "python",
   "nbconvert_exporter": "python",
   "pygments_lexer": "ipython3",
   "version": "3.9.2"
  }
 },
 "nbformat": 4,
 "nbformat_minor": 5
}
