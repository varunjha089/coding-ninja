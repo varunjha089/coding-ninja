{
 "cells": [
  {
   "cell_type": "markdown",
   "id": "1d88e9bf-4ab6-48a4-a114-0b6eb492eaec",
   "metadata": {},
   "source": [
    "# Merge Nodes in Between Zeros\n",
    "\n",
    "You are given the `head` of a linked list, which contains a series of integers **separated** by `0`'s. The **beginning** and **end** of the linked list will have `Node.val == 0.`\n",
    "\n",
    "For **every** two consecutive `0`'s, **merge** all the nodes lying in between them into a single node whose value is the **sum** of all the merged nodes. The modified list should not contain any `0`'s.\n",
    "\n",
    "Return the `head` of the modified linked list.\n",
    "\n",
    "**Example 1:**\n",
    "![image](./assets/ex1-1.png)\n",
    "```\n",
    "Input: head = [0,3,1,0,4,5,2,0]\n",
    "Output: [4,11]\n",
    "Explanation: \n",
    "The above figure represents the given linked list. The modified list contains\n",
    "- The sum of the nodes marked in green: 3 + 1 = 4.\n",
    "- The sum of the nodes marked in red: 4 + 5 + 2 = 11.\n",
    "```\n",
    "**Example 2:**\n",
    "![image](./assets/ex2-1.png)\n",
    "```\n",
    "Input: head = [0,1,0,3,0,2,2,0]\n",
    "Output: [1,3,4]\n",
    "Explanation: \n",
    "The above figure represents the given linked list. The modified list contains\n",
    "- The sum of the nodes marked in green: 1 = 1.\n",
    "- The sum of the nodes marked in red: 3 = 3.\n",
    "- The sum of the nodes marked in yellow: 2 + 2 = 4.\n",
    "```"
   ]
  },
  {
   "cell_type": "code",
   "execution_count": 6,
   "id": "06835426-fe22-48ba-beb6-3900c07d05f4",
   "metadata": {},
   "outputs": [],
   "source": [
    "head = [0,1,0,3,0,2,2,0]"
   ]
  },
  {
   "cell_type": "code",
   "execution_count": 9,
   "id": "e13d1e14-5dd1-43f4-8324-3476b92650fa",
   "metadata": {},
   "outputs": [],
   "source": [
    "counter = 0\n",
    "arr = []\n",
    "for i in head:\n",
    "    if i == 0:\n",
    "        if counter != 0:\n",
    "            arr.append(counter)\n",
    "        counter = 0\n",
    "        continue\n",
    "    counter += i"
   ]
  },
  {
   "cell_type": "code",
   "execution_count": 10,
   "id": "e0808398-cec0-4d0a-988c-9e0ea953f610",
   "metadata": {},
   "outputs": [
    {
     "name": "stdout",
     "output_type": "stream",
     "text": [
      "[1, 3, 4]\n"
     ]
    }
   ],
   "source": [
    "print(arr)"
   ]
  },
  {
   "cell_type": "code",
   "execution_count": null,
   "id": "7099ea39-05e6-4ee3-9481-ea72e6757b42",
   "metadata": {},
   "outputs": [],
   "source": []
  }
 ],
 "metadata": {
  "kernelspec": {
   "display_name": "Python 3 (ipykernel)",
   "language": "python",
   "name": "python3"
  },
  "language_info": {
   "codemirror_mode": {
    "name": "ipython",
    "version": 3
   },
   "file_extension": ".py",
   "mimetype": "text/x-python",
   "name": "python",
   "nbconvert_exporter": "python",
   "pygments_lexer": "ipython3",
   "version": "3.9.2"
  }
 },
 "nbformat": 4,
 "nbformat_minor": 5
}
