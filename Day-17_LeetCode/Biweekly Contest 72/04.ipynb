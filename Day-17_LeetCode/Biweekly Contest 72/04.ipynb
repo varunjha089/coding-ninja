{
 "cells": [
  {
   "cell_type": "markdown",
   "id": "c895d8a1-1e3c-42a3-84aa-e891661587e8",
   "metadata": {},
   "source": [
    "# Count Good Triplets in an Array\n",
    "\n",
    "You are given two **0-indexed** arrays `nums1` and `nums2` of length `n`, both of which are **permutations** of `[0, 1, ..., n - 1]`.\n",
    "\n",
    "A **good triplet** is a set of `3` **distinct** values which are present in **increasing order** by position both in `nums1` and `nums2`. In other words, if we consider `pos1v` as the index of the value `v` in `nums1` and `pos2v` as the index of the value `v` in `nums2`, then a good triplet will be a set `(x, y, z)` where `0 <= x, y, z <= n - 1`, such that `pos1x < pos1y < pos1z` and `pos2x < pos2y < pos2z`.\n",
    "\n",
    "Return the **total number** of good triplets.\n",
    "\n",
    "**Difficulty** :- Medium"
   ]
  },
  {
   "cell_type": "markdown",
   "id": "84501210-290f-4d96-85c3-805560684128",
   "metadata": {},
   "source": [
    "**Example 1:**\n",
    "```\n",
    "Input: nums1 = [2,0,1,3], nums2 = [0,1,2,3]\n",
    "Output: 1\n",
    "Explanation: \n",
    "There are 4 triplets (x,y,z) such that pos1x < pos1y < pos1z. They are (2,0,1), (2,0,3), (2,1,3), and (0,1,3). \n",
    "Out of those triplets, only the triplet (0,1,3) satisfies pos2x < pos2y < pos2z. Hence, there is only 1 good triplet.\n",
    "```\n",
    "\n",
    "**Example 2:**\n",
    "\n",
    "```\n",
    "Input: nums1 = [4,0,1,3,2], nums2 = [4,1,0,2,3]\n",
    "Output: 4\n",
    "Explanation: The 4 good triplets are (4,0,3), (4,0,2), (4,1,3), and (4,1,2).\n",
    "```"
   ]
  },
  {
   "cell_type": "markdown",
   "id": "3687a28c-c76f-4b3f-8836-b430993dd739",
   "metadata": {},
   "source": [
    "**Constraints:**\n",
    "```\n",
    "n == nums1.length == nums2.length\n",
    "3 <= n <= 105\n",
    "0 <= nums1[i], nums2[i] <= n - 1\n",
    "nums1 and nums2 are permutations of [0, 1, ..., n - 1].\n",
    "```"
   ]
  },
  {
   "cell_type": "code",
   "execution_count": null,
   "id": "8c1479f9-9431-4391-8ff5-c9c291acbfc1",
   "metadata": {},
   "outputs": [],
   "source": []
  }
 ],
 "metadata": {
  "kernelspec": {
   "display_name": "Python 3 (ipykernel)",
   "language": "python",
   "name": "python3"
  },
  "language_info": {
   "codemirror_mode": {
    "name": "ipython",
    "version": 3
   },
   "file_extension": ".py",
   "mimetype": "text/x-python",
   "name": "python",
   "nbconvert_exporter": "python",
   "pygments_lexer": "ipython3",
   "version": "3.9.2"
  }
 },
 "nbformat": 4,
 "nbformat_minor": 5
}
