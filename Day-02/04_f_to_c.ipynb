{
 "cells": [
  {
   "cell_type": "markdown",
   "id": "36fd92ec-3f33-4538-85f2-08bd85315c44",
   "metadata": {},
   "source": [
    "# Fahrenheit to Celsius\n",
    "\n",
    "Given three values - Start Fahrenheit Value (S), End Fahrenheit value (E) and Step Size (W), you need to convert all Fahrenheit values from Start to End at the gap of W, into their corresponding Celsius values and print the table.\n",
    "\n",
    "### Input Format :\n",
    "    3 integers - S, E and W respectively \n",
    "\n",
    "### Output Format :\n",
    "`Fahrenheit to Celsius conversion table. One line for every Fahrenheit and corresponding Celsius value. On Fahrenheit value and its corresponding Celsius value should be separate by tab (\"\\t\")`\n",
    "\n",
    "### Constraints :\n",
    "    0 <= S <= 80\n",
    "    S <= E <=  900\n",
    "    0 <= W <= 40 \n",
    "\n",
    "### Sample Input 1:\n",
    "    0 \n",
    "    100 \n",
    "    20\n",
    "\n",
    "### Sample Output 1:\n",
    "    0   -17\n",
    "    20  -6\n",
    "    40  4\n",
    "    60  15\n",
    "    80  26\n",
    "    100 37\n",
    "\n",
    "### Sample Input 2:\n",
    "    20\n",
    "    119\n",
    "    13\n",
    "\n",
    "### Sample Output 2:\n",
    "    20  -6\n",
    "    33  0 \n",
    "    46  7\n",
    "    59  15\n",
    "    72  22\n",
    "    85  29\n",
    "    98  36\n",
    "    111 43\n",
    "\n",
    "### Explanation For Input 2:\n",
    "`We need need to start calculating the Celsius values for each of the Fahrenheit Value which starts from 20. So starting from 20 which is the given Fahrenheit start value, we need to compute its corresponding Celsius value which computes to -6. We print this information as <Fahrenheit Value> a tab space\"\\t\" <Celsius Value> on each line for each step of 13 we take to get the next value of Fahrenheit and extend this idea till we reach the end that is till 119 in this case. You may or may not exactly land on the end value depending on the steps you are taking.`"
   ]
  },
  {
   "cell_type": "code",
   "execution_count": 5,
   "id": "dea5c2e1-7245-4fe2-a877-a52affed0762",
   "metadata": {},
   "outputs": [
    {
     "name": "stdin",
     "output_type": "stream",
     "text": [
      " 20\n",
      " 119\n",
      " 13\n"
     ]
    },
    {
     "name": "stdout",
     "output_type": "stream",
     "text": [
      "20\t-6\n",
      "33\t0\n",
      "46\t7\n",
      "59\t15\n",
      "72\t22\n",
      "85\t29\n",
      "98\t36\n",
      "111\t43\n"
     ]
    }
   ],
   "source": [
    "def f_to_c(start, end, step):\n",
    "    while(end > start):\n",
    "        # print(f\"{start}\\t{int((start-32)*(5/9))}\")\n",
    "        print(start, int((start-32)*(5/9)), sep='\\t')\n",
    "        start += step\n",
    "\n",
    "if __name__ == \"__main__\":\n",
    "    start = int(input())\n",
    "    end = int(input())\n",
    "    step = int(input())\n",
    "    f_to_c(start, end, step)"
   ]
  },
  {
   "cell_type": "code",
   "execution_count": null,
   "id": "834f77ec-1a24-4fa7-b5e4-b7985be08ceb",
   "metadata": {},
   "outputs": [],
   "source": []
  },
  {
   "cell_type": "code",
   "execution_count": null,
   "id": "8a0c584f-36e4-4d13-8e33-87a27d034a42",
   "metadata": {},
   "outputs": [],
   "source": []
  }
 ],
 "metadata": {
  "kernelspec": {
   "display_name": "Python 3 (ipykernel)",
   "language": "python",
   "name": "python3"
  },
  "language_info": {
   "codemirror_mode": {
    "name": "ipython",
    "version": 3
   },
   "file_extension": ".py",
   "mimetype": "text/x-python",
   "name": "python",
   "nbconvert_exporter": "python",
   "pygments_lexer": "ipython3",
   "version": "3.9.2"
  }
 },
 "nbformat": 4,
 "nbformat_minor": 5
}
