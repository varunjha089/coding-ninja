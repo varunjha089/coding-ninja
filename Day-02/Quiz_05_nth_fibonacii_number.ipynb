{
 "cells": [
  {
   "cell_type": "markdown",
   "id": "73ac9376-bdad-479f-ba65-a1cc9c1b7928",
   "metadata": {},
   "source": []
  },
  {
   "cell_type": "code",
   "execution_count": 5,
   "id": "f4ae78f8-e5b9-4b80-babd-e7ea9d4423f6",
   "metadata": {},
   "outputs": [
    {
     "name": "stdin",
     "output_type": "stream",
     "text": [
      " 15\n"
     ]
    },
    {
     "name": "stdout",
     "output_type": "stream",
     "text": [
      "610\n"
     ]
    }
   ],
   "source": [
    "def fibonacii(nth):\n",
    "    arr = [1, 1]\n",
    "    for i in range(nth-2):\n",
    "        total = arr[i] + arr[i+1]\n",
    "        arr.append(total)\n",
    "    return arr\n",
    "\n",
    "if __name__ == \"__main__\":\n",
    "    num = int(input())\n",
    "    print(fibonacii(num)[-1])"
   ]
  },
  {
   "cell_type": "code",
   "execution_count": null,
   "id": "1a4cf4f9-49b4-4c13-959f-23ecf286dc49",
   "metadata": {},
   "outputs": [],
   "source": []
  }
 ],
 "metadata": {
  "kernelspec": {
   "display_name": "Python 3 (ipykernel)",
   "language": "python",
   "name": "python3"
  },
  "language_info": {
   "codemirror_mode": {
    "name": "ipython",
    "version": 3
   },
   "file_extension": ".py",
   "mimetype": "text/x-python",
   "name": "python",
   "nbconvert_exporter": "python",
   "pygments_lexer": "ipython3",
   "version": "3.9.2"
  }
 },
 "nbformat": 4,
 "nbformat_minor": 5
}
