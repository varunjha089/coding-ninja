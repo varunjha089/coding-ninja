{
 "cells": [
  {
   "cell_type": "markdown",
   "id": "cc4784d2-ed31-41bd-ba1f-c481d9e57cb6",
   "metadata": {},
   "source": [
    "# Check number\n",
    "\n",
    "Given an integer n, find if n is positive, negative or 0.\n",
    "If n is positive, print \"Positive\"\n",
    "If n is negative, print \"Negative\"\n",
    "And if n is equal to 0, print \"Zero\".\n",
    "\n",
    "### Input Format :\n",
    "\n",
    "    Integer n\n",
    "\n",
    "### Output Format :\n",
    "\n",
    "    \"Positive\" or \"Negative\" or \"Zero\" (without double quotes)\n",
    "\n",
    "### Constraints :\n",
    "    -100 <= n <= 100\n",
    "\n",
    "### Sample Input 1 :\n",
    "\n",
    "    10\n",
    "\n",
    "### Sample Output 1 :\n",
    "\n",
    "    Positive\n",
    "\n",
    "### Sample Input 2 :\n",
    "\n",
    "    -10\n",
    "\n",
    "### Sample Output 2 :\n",
    "\n",
    "    Negative\n",
    "\n"
   ]
  },
  {
   "cell_type": "code",
   "execution_count": 1,
   "id": "e302ee85-216a-42d4-b7aa-1222c03f8ea9",
   "metadata": {},
   "outputs": [
    {
     "name": "stdin",
     "output_type": "stream",
     "text": [
      " 5\n"
     ]
    },
    {
     "name": "stdout",
     "output_type": "stream",
     "text": [
      "Positive\n"
     ]
    }
   ],
   "source": [
    "def check(number):\n",
    "    if number > 0:\n",
    "        return \"Positive\"\n",
    "    elif number < 0:\n",
    "        return \"Negative\"\n",
    "    else:\n",
    "        return \"Zero\"\n",
    "    \n",
    "if __name__ == \"__main__\":\n",
    "    integer = int(input())\n",
    "    print(check(integer))"
   ]
  },
  {
   "cell_type": "code",
   "execution_count": null,
   "id": "5a50bedf-ac87-4346-b2f6-fd6b51d08bb7",
   "metadata": {},
   "outputs": [],
   "source": []
  }
 ],
 "metadata": {
  "kernelspec": {
   "display_name": "Python 3 (ipykernel)",
   "language": "python",
   "name": "python3"
  },
  "language_info": {
   "codemirror_mode": {
    "name": "ipython",
    "version": 3
   },
   "file_extension": ".py",
   "mimetype": "text/x-python",
   "name": "python",
   "nbconvert_exporter": "python",
   "pygments_lexer": "ipython3",
   "version": "3.9.5"
  }
 },
 "nbformat": 4,
 "nbformat_minor": 5
}
