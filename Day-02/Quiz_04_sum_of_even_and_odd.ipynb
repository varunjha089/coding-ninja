{
 "cells": [
  {
   "cell_type": "markdown",
   "id": "8a7804a5-0e64-4f58-9507-053312e95f6e",
   "metadata": {},
   "source": []
  },
  {
   "cell_type": "code",
   "execution_count": 8,
   "id": "e9a36146-a6c3-4aa7-b7c3-96c2f7c1d4bf",
   "metadata": {},
   "outputs": [
    {
     "name": "stdin",
     "output_type": "stream",
     "text": [
      " 1234\n"
     ]
    },
    {
     "name": "stdout",
     "output_type": "stream",
     "text": [
      "6 4\n"
     ]
    }
   ],
   "source": [
    "def sum(number):\n",
    "    arr = []\n",
    "    even = 0\n",
    "    odd = 0\n",
    "    for i in number:\n",
    "        arr.append(int(i))\n",
    "    \n",
    "    for i in arr:\n",
    "        if i % 2 == 0:\n",
    "            even += i\n",
    "        else:\n",
    "            odd += i\n",
    "    return even, odd\n",
    "    \n",
    "num = input()\n",
    "x, y = sum(num)\n",
    "print(str(x) + \" \" + str(y))"
   ]
  },
  {
   "cell_type": "code",
   "execution_count": null,
   "id": "0e0cbed1-e519-4a1a-b5a1-539764caa18f",
   "metadata": {},
   "outputs": [],
   "source": []
  }
 ],
 "metadata": {
  "kernelspec": {
   "display_name": "Python 3 (ipykernel)",
   "language": "python",
   "name": "python3"
  },
  "language_info": {
   "codemirror_mode": {
    "name": "ipython",
    "version": 3
   },
   "file_extension": ".py",
   "mimetype": "text/x-python",
   "name": "python",
   "nbconvert_exporter": "python",
   "pygments_lexer": "ipython3",
   "version": "3.9.2"
  }
 },
 "nbformat": 4,
 "nbformat_minor": 5
}
