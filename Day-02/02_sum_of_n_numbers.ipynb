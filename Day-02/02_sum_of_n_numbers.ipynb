{
 "cells": [
  {
   "cell_type": "markdown",
   "id": "09a38f9d-805a-4946-a327-875f484040e9",
   "metadata": {},
   "source": [
    "# Sum of n numbers\n",
    "\n",
    "Given an integer n, find and print the sum of numbers from 1 to n.\n",
    "\n",
    "`Note : Use while loop only.`\n",
    "\n",
    "### Input Format :\n",
    "\n",
    "    Integer n\n",
    "\n",
    "### Output Format :\n",
    "\n",
    "    Sum\n",
    "\n",
    "### Constraints :\n",
    "\n",
    "    1 <= n <= 100\n",
    "\n",
    "### Sample Input :\n",
    "\n",
    "    10\n",
    "\n",
    "### Sample Output :\n",
    "\n",
    "    55\n",
    "\n"
   ]
  },
  {
   "cell_type": "code",
   "execution_count": 1,
   "id": "6be200e0-7dd3-4ddf-937e-f60e6d1e98bc",
   "metadata": {},
   "outputs": [
    {
     "name": "stdin",
     "output_type": "stream",
     "text": [
      " 50\n"
     ]
    },
    {
     "name": "stdout",
     "output_type": "stream",
     "text": [
      "1275\n"
     ]
    }
   ],
   "source": [
    "def cal(number):\n",
    "    total = 0\n",
    "    for i in range(1, number + 1):\n",
    "        total += i\n",
    "    \n",
    "    return total\n",
    "\n",
    "if __name__ == \"__main__\":\n",
    "    intg = int(input())\n",
    "    print(cal(intg))\n"
   ]
  },
  {
   "cell_type": "code",
   "execution_count": null,
   "id": "f7d2c7d0-cf54-4875-86e4-6b93e81066e4",
   "metadata": {},
   "outputs": [],
   "source": []
  }
 ],
 "metadata": {
  "kernelspec": {
   "display_name": "Python 3 (ipykernel)",
   "language": "python",
   "name": "python3"
  },
  "language_info": {
   "codemirror_mode": {
    "name": "ipython",
    "version": 3
   },
   "file_extension": ".py",
   "mimetype": "text/x-python",
   "name": "python",
   "nbconvert_exporter": "python",
   "pygments_lexer": "ipython3",
   "version": "3.9.2"
  }
 },
 "nbformat": 4,
 "nbformat_minor": 5
}
