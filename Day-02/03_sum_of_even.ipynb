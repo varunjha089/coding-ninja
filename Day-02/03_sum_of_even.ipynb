{
 "cells": [
  {
   "cell_type": "markdown",
   "id": "58e99431-4d7c-43be-aaab-ff1d58125352",
   "metadata": {},
   "source": [
    "# Sum of Even Numbers\n",
    "\n",
    "Given a number N, print sum of all even numbers from 1 to N.\n",
    "\n",
    "### Input Format :\n",
    "    Integer N\n",
    "\n",
    "### Output Format :\n",
    "    Required Sum \n",
    "\n",
    "### Sample Input 1 :\n",
    "    6\n",
    "\n",
    "### Sample Output 1 :\n",
    "    12"
   ]
  },
  {
   "cell_type": "code",
   "execution_count": 4,
   "id": "bc498315-a4b2-4ff4-9991-7ea41de6a287",
   "metadata": {},
   "outputs": [
    {
     "name": "stdin",
     "output_type": "stream",
     "text": [
      " 6\n"
     ]
    },
    {
     "name": "stdout",
     "output_type": "stream",
     "text": [
      "12\n"
     ]
    }
   ],
   "source": [
    "def sum_of_even_numbers(number):\n",
    "    total = 0\n",
    "    for i in range(1, number+1):\n",
    "        if i % 2 == 0:\n",
    "            total += i\n",
    "    return total\n",
    "\n",
    "if __name__ == \"__main__\":\n",
    "    number = int(input())\n",
    "    print(sum_of_even_numbers(number))"
   ]
  },
  {
   "cell_type": "code",
   "execution_count": null,
   "id": "b5a2fad8-1a7f-4375-ad83-2198d1134310",
   "metadata": {},
   "outputs": [],
   "source": []
  }
 ],
 "metadata": {
  "kernelspec": {
   "display_name": "Python 3 (ipykernel)",
   "language": "python",
   "name": "python3"
  },
  "language_info": {
   "codemirror_mode": {
    "name": "ipython",
    "version": 3
   },
   "file_extension": ".py",
   "mimetype": "text/x-python",
   "name": "python",
   "nbconvert_exporter": "python",
   "pygments_lexer": "ipython3",
   "version": "3.9.2"
  }
 },
 "nbformat": 4,
 "nbformat_minor": 5
}
