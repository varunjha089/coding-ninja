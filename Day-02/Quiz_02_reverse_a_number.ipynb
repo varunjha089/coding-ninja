{
 "cells": [
  {
   "cell_type": "markdown",
   "id": "e8934620-116f-4951-b803-a9760984eef9",
   "metadata": {},
   "source": []
  },
  {
   "cell_type": "code",
   "execution_count": 14,
   "id": "88cc4ca1-8f42-4022-a2fd-f5657c0df842",
   "metadata": {},
   "outputs": [
    {
     "name": "stdin",
     "output_type": "stream",
     "text": [
      " 1234\n"
     ]
    },
    {
     "name": "stdout",
     "output_type": "stream",
     "text": [
      "4321\n"
     ]
    }
   ],
   "source": [
    "def reverse(s):\n",
    "  str = \"\"\n",
    "  for i in s:\n",
    "    str = i + str\n",
    "  return int(str)\n",
    "\n",
    "if __name__ == \"__main__\":\n",
    "    z = input()\n",
    "    print(reverse(z))"
   ]
  },
  {
   "cell_type": "code",
   "execution_count": null,
   "id": "e40e330b-7425-4aa7-932d-b2a2f2f16154",
   "metadata": {},
   "outputs": [],
   "source": []
  }
 ],
 "metadata": {
  "kernelspec": {
   "display_name": "Python 3 (ipykernel)",
   "language": "python",
   "name": "python3"
  },
  "language_info": {
   "codemirror_mode": {
    "name": "ipython",
    "version": 3
   },
   "file_extension": ".py",
   "mimetype": "text/x-python",
   "name": "python",
   "nbconvert_exporter": "python",
   "pygments_lexer": "ipython3",
   "version": "3.9.2"
  }
 },
 "nbformat": 4,
 "nbformat_minor": 5
}
