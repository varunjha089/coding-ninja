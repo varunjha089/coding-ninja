{
 "cells": [
  {
   "cell_type": "markdown",
   "id": "be39b999-1313-4bf4-adc7-34ab5fa58ca4",
   "metadata": {},
   "source": [
    "## Letter 'B' using *\n",
    "\n",
    "Click on the image below to view the video\n",
    "\n",
    "[![IMAGE ALT TEXT HERE](https://img.youtube.com/vi/UhoUALWCsHg/0.jpg)](https://www.youtube.com/watch?v=UhoUALWCsHg)"
   ]
  },
  {
   "cell_type": "code",
   "execution_count": null,
   "id": "83e3d2c8-588c-4476-9e50-88149173be6b",
   "metadata": {},
   "outputs": [],
   "source": []
  }
 ],
 "metadata": {
  "kernelspec": {
   "display_name": "Python 3 (ipykernel)",
   "language": "python",
   "name": "python3"
  },
  "language_info": {
   "codemirror_mode": {
    "name": "ipython",
    "version": 3
   },
   "file_extension": ".py",
   "mimetype": "text/x-python",
   "name": "python",
   "nbconvert_exporter": "python",
   "pygments_lexer": "ipython3",
   "version": "3.9.2"
  }
 },
 "nbformat": 4,
 "nbformat_minor": 5
}
