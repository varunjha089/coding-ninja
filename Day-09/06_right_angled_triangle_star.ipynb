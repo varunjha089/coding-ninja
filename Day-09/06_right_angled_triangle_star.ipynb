{
 "cells": [
  {
   "cell_type": "markdown",
   "id": "4de6cad7-e381-42c5-91ee-642946bfe079",
   "metadata": {},
   "source": [
    "## Right Triangle using *\n",
    "\n",
    "Click on the image below to view the video\n",
    "\n",
    "\n",
    "[![IMAGE ALT TEXT HERE](https://img.youtube.com/vi/LbKip-g8fyI/0.jpg)](https://www.youtube.com/watch?v=LbKip-g8fyI)\n"
   ]
  },
  {
   "cell_type": "code",
   "execution_count": 3,
   "id": "009a292a-8996-4a33-8c93-1242487ca792",
   "metadata": {},
   "outputs": [],
   "source": [
    "def right_triangle(n):\n",
    "    for i in range(n):\n",
    "        for j in range(n-i):\n",
    "            print(\"*\", end=\" \")\n",
    "        print()"
   ]
  },
  {
   "cell_type": "code",
   "execution_count": 4,
   "id": "dd8d1ee6-5b97-4962-9a84-64f151dc8305",
   "metadata": {},
   "outputs": [
    {
     "name": "stdout",
     "output_type": "stream",
     "text": [
      "* * * * \n",
      "* * * \n",
      "* * \n",
      "* \n"
     ]
    }
   ],
   "source": [
    "right_triangle(4)"
   ]
  },
  {
   "cell_type": "code",
   "execution_count": null,
   "id": "49456540-1dbf-416b-a422-e5f067ac6c7e",
   "metadata": {},
   "outputs": [],
   "source": []
  }
 ],
 "metadata": {
  "kernelspec": {
   "display_name": "Python 3 (ipykernel)",
   "language": "python",
   "name": "python3"
  },
  "language_info": {
   "codemirror_mode": {
    "name": "ipython",
    "version": 3
   },
   "file_extension": ".py",
   "mimetype": "text/x-python",
   "name": "python",
   "nbconvert_exporter": "python",
   "pygments_lexer": "ipython3",
   "version": "3.9.2"
  }
 },
 "nbformat": 4,
 "nbformat_minor": 5
}
