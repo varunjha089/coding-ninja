{
 "cells": [
  {
   "cell_type": "markdown",
   "id": "a4260824-4045-4d7f-bc87-8d7e75821de1",
   "metadata": {},
   "source": [
    "## Diamond using *\n",
    "\n",
    "Click on the image below to view the video\n",
    "\n",
    "\n",
    "[![IMAGE ALT TEXT HERE](https://img.youtube.com/vi/toDmDjISW9U/0.jpg)](https://www.youtube.com/watch?v=toDmDjISW9U)\n"
   ]
  },
  {
   "cell_type": "code",
   "execution_count": null,
   "id": "9f6916bf-14a5-4837-95c8-2cb79263e881",
   "metadata": {},
   "outputs": [],
   "source": []
  }
 ],
 "metadata": {
  "kernelspec": {
   "display_name": "Python 3 (ipykernel)",
   "language": "python",
   "name": "python3"
  },
  "language_info": {
   "codemirror_mode": {
    "name": "ipython",
    "version": 3
   },
   "file_extension": ".py",
   "mimetype": "text/x-python",
   "name": "python",
   "nbconvert_exporter": "python",
   "pygments_lexer": "ipython3",
   "version": "3.9.2"
  }
 },
 "nbformat": 4,
 "nbformat_minor": 5
}
