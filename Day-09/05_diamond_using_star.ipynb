{
 "cells": [
  {
   "cell_type": "markdown",
   "id": "a4260824-4045-4d7f-bc87-8d7e75821de1",
   "metadata": {},
   "source": [
    "## Diamond using *\n",
    "\n",
    "Click on the image below to view the video\n",
    "\n",
    "\n",
    "[![IMAGE ALT TEXT HERE](https://img.youtube.com/vi/toDmDjISW9U/0.jpg)](https://www.youtube.com/watch?v=toDmDjISW9U)\n",
    "\n",
    "\n",
    "|  1 |  2 | 3  | 4  | 5  | 6  | 7  |\n",
    "|--- |--- |--- |--- |--- |--- |--- |\n",
    "| _  | _  | _  | <b>*</b>  |    |    |    |\n",
    "| _  | _  | <b>*</b>  | _  | <b>*</b>  |    |    |\n",
    "| _  |  <b>*</b> | _  | <b>*</b>  | _  |  <b>*</b> |    |\n",
    "|  <b>*</b> | _  | <b>*</b>  | _  |  <b>*</b> | _  | <b>*</b>  |\n",
    "| _  |  <b>*</b> | _  | <b>*</b>  | _  |  <b>*</b> |    |\n",
    "| _  | _  | <b>*</b>  | _  | <b>*</b>  |    |    |\n",
    "| _  | _  | _  | <b>*</b>  |    |    |    |"
   ]
  },
  {
   "cell_type": "code",
   "execution_count": 27,
   "id": "9f6916bf-14a5-4837-95c8-2cb79263e881",
   "metadata": {},
   "outputs": [],
   "source": [
    "def pyramid(n):\n",
    "    # for lower part\n",
    "    for i in range(1, n+1):\n",
    "        for j in range(n-i+1):\n",
    "            print(\" \", end=\"\")\n",
    "        for x in range(i):\n",
    "            print(\"*\", end=\" \")\n",
    "        print()\n",
    "        \n",
    "    # for lower part of diamond\n",
    "    for i in range(1, n):\n",
    "        for j in range(i+1):\n",
    "            print(\" \", end=\"\")\n",
    "        for x in range(n-i):\n",
    "            print(\"*\", end=\" \")\n",
    "        print()"
   ]
  },
  {
   "cell_type": "code",
   "execution_count": 28,
   "id": "8d783c56-e854-4a77-9ddd-396a467d9fa6",
   "metadata": {},
   "outputs": [
    {
     "name": "stdout",
     "output_type": "stream",
     "text": [
      "    * \n",
      "   * * \n",
      "  * * * \n",
      " * * * * \n",
      "  * * * \n",
      "   * * \n",
      "    * \n"
     ]
    }
   ],
   "source": [
    "pyramid(4)"
   ]
  },
  {
   "cell_type": "code",
   "execution_count": null,
   "id": "2d6404dd-835b-4ec2-8be0-464a114e4b89",
   "metadata": {},
   "outputs": [],
   "source": []
  }
 ],
 "metadata": {
  "kernelspec": {
   "display_name": "Python 3 (ipykernel)",
   "language": "python",
   "name": "python3"
  },
  "language_info": {
   "codemirror_mode": {
    "name": "ipython",
    "version": 3
   },
   "file_extension": ".py",
   "mimetype": "text/x-python",
   "name": "python",
   "nbconvert_exporter": "python",
   "pygments_lexer": "ipython3",
   "version": "3.9.2"
  }
 },
 "nbformat": 4,
 "nbformat_minor": 5
}
