{
 "cells": [
  {
   "cell_type": "code",
   "execution_count": 2,
   "id": "237d5d28-6c42-441d-bb28-0f44a0072e0e",
   "metadata": {},
   "outputs": [
    {
     "data": {
      "text/plain": [
       "98"
      ]
     },
     "execution_count": 2,
     "metadata": {},
     "output_type": "execute_result"
    }
   ],
   "source": [
    "ord('a') + 1"
   ]
  },
  {
   "cell_type": "code",
   "execution_count": 3,
   "id": "a412399b-5f69-47be-9e78-bb465f599343",
   "metadata": {},
   "outputs": [
    {
     "data": {
      "text/plain": [
       "'b'"
      ]
     },
     "execution_count": 3,
     "metadata": {},
     "output_type": "execute_result"
    }
   ],
   "source": [
    "chr(98)"
   ]
  },
  {
   "cell_type": "markdown",
   "id": "6263001a-5750-4cce-b8f8-3b3442b582f9",
   "metadata": {},
   "source": [
    "## e-commerce"
   ]
  },
  {
   "cell_type": "code",
   "execution_count": null,
   "id": "f1e7dabe-0bcb-4084-99b4-2609db65be47",
   "metadata": {},
   "outputs": [],
   "source": [
    "def tag(name):\n",
    "    smallCase = ['a', 'e', 'i', 'o', 'u']\n",
    "    upperCase = ['A', 'E', 'I', 'O', 'U']\n",
    "    \n",
    "    ret = ''\n",
    "    for i in name:\n",
    "        if (i in upperCase) or (i in smallCase):\n",
    "            print\n",
    "\n",
    "if __name__ == \"__main__\":\n",
    "    "
   ]
  },
  {
   "cell_type": "markdown",
   "id": "598e165e-54de-4eae-83c7-5a2e59f90751",
   "metadata": {},
   "source": [
    "## data transfer"
   ]
  },
  {
   "cell_type": "code",
   "execution_count": 64,
   "id": "1158be5d-fb87-475a-afec-8f967c87acaa",
   "metadata": {},
   "outputs": [
    {
     "name": "stdin",
     "output_type": "stream",
     "text": [
      " 10 9 5 3\n"
     ]
    },
    {
     "name": "stdout",
     "output_type": "stream",
     "text": [
      "[5, 6, 2, 0]\n"
     ]
    }
   ],
   "source": [
    "def dec_to_bin(num):\n",
    "    return bin(num).replace(\"0b\", \"\")\n",
    "\n",
    "def transform(bin):\n",
    "    ret = ''\n",
    "    \n",
    "    for i in bin:\n",
    "        if i == '0':\n",
    "            ret += '1'\n",
    "        if i == '1':\n",
    "            ret += '0'\n",
    "    return ret\n",
    "\n",
    "def bin_to_dec(bin):\n",
    "    return int(bin, 2)\n",
    "\n",
    "def convert(arr):\n",
    "    ret = []\n",
    "    for i in arr:\n",
    "        m = bin_to_dec(transform(dec_to_bin(int(i))))\n",
    "        ret.append(m)\n",
    "        \n",
    "    return ret\n",
    "        \n",
    "\n",
    "if __name__ == \"__main__\":\n",
    "    t = 1\n",
    "    for i in range(t):\n",
    "        n = [int(i) for i in input().split(\" \")]\n",
    "        print(convert(n))"
   ]
  },
  {
   "cell_type": "code",
   "execution_count": 59,
   "id": "0be1fd05-3c88-4393-b855-b4e680e304fa",
   "metadata": {},
   "outputs": [
    {
     "data": {
      "text/plain": [
       "'10101'"
      ]
     },
     "execution_count": 59,
     "metadata": {},
     "output_type": "execute_result"
    }
   ],
   "source": [
    "dec_to_bin(21)"
   ]
  },
  {
   "cell_type": "code",
   "execution_count": 60,
   "id": "ebd17c29-d5c0-4c36-8327-b7b1abbb545e",
   "metadata": {},
   "outputs": [
    {
     "data": {
      "text/plain": [
       "'01010'"
      ]
     },
     "execution_count": 60,
     "metadata": {},
     "output_type": "execute_result"
    }
   ],
   "source": [
    "transform(dec_to_bin(21))"
   ]
  },
  {
   "cell_type": "code",
   "execution_count": 62,
   "id": "c13c1873-3687-4b43-9c5f-7dde95113d4f",
   "metadata": {},
   "outputs": [
    {
     "name": "stdout",
     "output_type": "stream",
     "text": [
      "01010 is <class 'str'>\n"
     ]
    },
    {
     "data": {
      "text/plain": [
       "10"
      ]
     },
     "execution_count": 62,
     "metadata": {},
     "output_type": "execute_result"
    }
   ],
   "source": [
    "bin_to_dec(transform(dec_to_bin(21)))"
   ]
  },
  {
   "cell_type": "code",
   "execution_count": null,
   "id": "fe2f0759-3a62-43ab-8cb4-55931a7b8f12",
   "metadata": {},
   "outputs": [],
   "source": []
  }
 ],
 "metadata": {
  "kernelspec": {
   "display_name": "Python 3 (ipykernel)",
   "language": "python",
   "name": "python3"
  },
  "language_info": {
   "codemirror_mode": {
    "name": "ipython",
    "version": 3
   },
   "file_extension": ".py",
   "mimetype": "text/x-python",
   "name": "python",
   "nbconvert_exporter": "python",
   "pygments_lexer": "ipython3",
   "version": "3.9.2"
  }
 },
 "nbformat": 4,
 "nbformat_minor": 5
}
