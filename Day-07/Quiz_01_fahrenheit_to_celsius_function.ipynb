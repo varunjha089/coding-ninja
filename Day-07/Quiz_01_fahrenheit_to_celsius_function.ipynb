{
 "cells": [
  {
   "cell_type": "markdown",
   "id": "a6d611c1-152a-422a-a076-1f1b31c4ce77",
   "metadata": {},
   "source": [
    "# Fahrenheit to Celsius Function\n",
    "\n",
    "Given three values - Start Fahrenheit Value (S), End Fahrenheit value (E) and Step Size (W), you need to convert all Fahrenheit values from Start to End at the gap of W, into their corresponding Celsius values and print the table.\n",
    "\n",
    "### Input Format :\n",
    "    3 integers - S, E and W respectively\n",
    "\n",
    "### Output Format :\n",
    "`Fahrenheit to Celsius conversion table. One line for every Fahrenheit and Celsius Fahrenheit value. Fahrenheit value and its corresponding Celsius value should be separate by tab (\"\\t\")`\n",
    "\n",
    "### Constraints :\n",
    "    0 <= S <= 1000\n",
    "    0 <= E <= 1000\n",
    "    0 <= W <= 1000\n",
    "\n",
    "### Sample Input 1:\n",
    "    0 \n",
    "    100 \n",
    "    20\n",
    "\n",
    "### Sample Output 1:\n",
    "    0   -17\n",
    "    20  -6\n",
    "    40  4\n",
    "    60  15\n",
    "    80  26\n",
    "    100 37\n",
    "\n",
    "### Sample Input 2:\n",
    "    120 \n",
    "    200 \n",
    "    40\n",
    "\n",
    "### Sample Output 2:\n",
    "    120 48\n",
    "    160 71\n",
    "    200 93\n",
    "\n",
    "### Explanation for Sample Output 2 :\n",
    "`Start value is 120, end value is 200 and step size is 40. Therefore, the values we need to convert are 120, 120 + 40 = 160, and 160 + 40 = 200. \n",
    "The formula for converting Fahrenheit to Celsius is:\n",
    "Celsius Value = (5/9)*(Fahrenheit Value - 32)  \n",
    "Plugging 120 into the formula, the celsius value will be (5 / 9)*(120 - 32) => (5 / 9) * 88 => (5 * 88) / 9 => 440 / 9 => 48.88\n",
    "But we'll only print 48 because we are only interested in the integral part of the value.`"
   ]
  },
  {
   "cell_type": "code",
   "execution_count": 9,
   "id": "0ea68d22-1fc6-4354-b83f-a548d49fedb1",
   "metadata": {},
   "outputs": [
    {
     "name": "stdin",
     "output_type": "stream",
     "text": [
      " 120\n",
      " 200\n",
      " 40\n"
     ]
    },
    {
     "name": "stdout",
     "output_type": "stream",
     "text": [
      "120   48\n",
      "120   71\n",
      "120   93\n"
     ]
    }
   ],
   "source": [
    "def printTable(start,end,step):\n",
    "    #Implement Your Code Here\n",
    "    for i in range(start, end+1, step):\n",
    "        out = (5/9)*(i - 32)\n",
    "        # print(\"{}{}{}\".format(start, '\\t', int(out)))\n",
    "        print(start, \" \", int(out))\n",
    "\n",
    " \n",
    "s = int(input())\n",
    "e = int(input())\n",
    "step = int(input())\n",
    "printTable(s,e,step)\n"
   ]
  },
  {
   "cell_type": "code",
   "execution_count": 8,
   "id": "493dfa58-35cd-4de5-aa5a-00da26278d3c",
   "metadata": {},
   "outputs": [
    {
     "name": "stdin",
     "output_type": "stream",
     "text": [
      " 120\n",
      " 200\n",
      " 40\n"
     ]
    },
    {
     "name": "stdout",
     "output_type": "stream",
     "text": [
      "120   48\n",
      "160   71\n",
      "200   93\n"
     ]
    }
   ],
   "source": [
    "def printTable(start,end,step):\n",
    "    curr_temp = start\n",
    "\n",
    "    while curr_temp <= end:\n",
    "        c = 5/9 * (curr_temp-32)\n",
    "        print(curr_temp, \" \", int(c))\n",
    "        curr_temp = curr_temp+step\n",
    "        \n",
    "s = int(input())\n",
    "e = int(input())\n",
    "step = int(input())\n",
    "printTable(s,e,step)"
   ]
  },
  {
   "cell_type": "code",
   "execution_count": null,
   "id": "c1892d45-d1ba-4630-8b63-8b98dc66d17c",
   "metadata": {},
   "outputs": [],
   "source": []
  }
 ],
 "metadata": {
  "kernelspec": {
   "display_name": "Python 3 (ipykernel)",
   "language": "python",
   "name": "python3"
  },
  "language_info": {
   "codemirror_mode": {
    "name": "ipython",
    "version": 3
   },
   "file_extension": ".py",
   "mimetype": "text/x-python",
   "name": "python",
   "nbconvert_exporter": "python",
   "pygments_lexer": "ipython3",
   "version": "3.9.2"
  }
 },
 "nbformat": 4,
 "nbformat_minor": 5
}
