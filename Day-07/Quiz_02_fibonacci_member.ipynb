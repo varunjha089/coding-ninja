{
 "cells": [
  {
   "cell_type": "markdown",
   "id": "6a20f6b4-2c63-4d38-8b8f-2cd0723d9985",
   "metadata": {},
   "source": [
    "# Fibonacci Member\n",
    "\n",
    "Given a number N, figure out if it is a member of fibonacci series or not. Return true if the number is member of fibonacci series else false.\n",
    "\n",
    "Fibonacci Series is defined by the recurrence\n",
    "\n",
    "    F(n) = F(n-1) + F(n-2)\n",
    "\n",
    "where F(0) = 0 and F(1) = 1\n",
    "\n",
    "\n",
    "### Input Format :\n",
    "    Integer N\n",
    "\n",
    "### Output Format :\n",
    "    true or false\n",
    "\n",
    "### Constraints :\n",
    "    0 <= n <= 10^4\n",
    "\n",
    "### Sample Input 1 :\n",
    "    5\n",
    "\n",
    "### Sample Output 1 :\n",
    "    true\n",
    "\n",
    "### Sample Input 2 :\n",
    "    14\n",
    "\n",
    "### Sample Output 2 :\n",
    "    false    "
   ]
  },
  {
   "cell_type": "code",
   "execution_count": 2,
   "id": "1b3d9e6e-c0fc-4053-900c-797e04814dc4",
   "metadata": {},
   "outputs": [
    {
     "name": "stdin",
     "output_type": "stream",
     "text": [
      " 5\n"
     ]
    },
    {
     "name": "stdout",
     "output_type": "stream",
     "text": [
      "true\n"
     ]
    }
   ],
   "source": [
    "def fib(last):\n",
    "    arr = [0, 1]\n",
    "    for i in range(2, last+1):\n",
    "        mem = arr[i-1] + arr[i-2]\n",
    "        arr.append(mem)\n",
    "    return arr\n",
    "        \n",
    "def checkMember(n):\n",
    "#Implement Your Code Here\n",
    "    f = fib(n)\n",
    "    if n in f:\n",
    "        return True\n",
    "    return False\n",
    "\n",
    "n=int(input())\n",
    "if(checkMember(n)):\n",
    "    print(\"true\")\n",
    "else:\n",
    "    print(\"false\")"
   ]
  },
  {
   "cell_type": "code",
   "execution_count": null,
   "id": "bbf396f4-b6f2-4fb8-aa3b-7e23548ef7f0",
   "metadata": {},
   "outputs": [],
   "source": []
  }
 ],
 "metadata": {
  "kernelspec": {
   "display_name": "Python 3 (ipykernel)",
   "language": "python",
   "name": "python3"
  },
  "language_info": {
   "codemirror_mode": {
    "name": "ipython",
    "version": 3
   },
   "file_extension": ".py",
   "mimetype": "text/x-python",
   "name": "python",
   "nbconvert_exporter": "python",
   "pygments_lexer": "ipython3",
   "version": "3.9.2"
  }
 },
 "nbformat": 4,
 "nbformat_minor": 5
}
