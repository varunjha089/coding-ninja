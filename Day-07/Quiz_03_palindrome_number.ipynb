{
 "cells": [
  {
   "cell_type": "markdown",
   "id": "63a4e56c-e346-47fd-b121-aaac9feff794",
   "metadata": {},
   "source": [
    "# Palindrome number\n",
    "\n",
    "Write a program to determine if given number is palindrome or not. Print true if it is palindrome, false otherwise.\n",
    "\n",
    "**Palindrome are the numbers for which reverse is exactly same as the original one. For eg. 121**\n",
    "\n",
    "### Sample Input 1 :\n",
    "    121\n",
    "\n",
    "### Sample Output 1 :\n",
    "    true\n",
    "\n",
    "### Sample Input 2 :\n",
    "    1032\n",
    "\n",
    "### Sample Output 2 :\n",
    "    false"
   ]
  },
  {
   "cell_type": "code",
   "execution_count": 4,
   "id": "547227c0-b056-45da-9e3d-bac50b96a403",
   "metadata": {},
   "outputs": [
    {
     "name": "stdout",
     "output_type": "stream",
     "text": [
      "true\n"
     ]
    }
   ],
   "source": [
    "def checkPalindrome(num):\n",
    "    #Implement Your Code Here\n",
    "    z = str(num)\n",
    "    if z == z[::-1]:\n",
    "        return True\n",
    "    return False\n",
    "\n",
    "num = int(input())\n",
    "isPalindrome = checkPalindrome(num)\n",
    "if(isPalindrome):\n",
    "    print('true')\n",
    "else:\n",
    "    print('false')\n"
   ]
  },
  {
   "cell_type": "code",
   "execution_count": null,
   "id": "03b41cbb-8309-478b-b372-8d4e05e26a7e",
   "metadata": {},
   "outputs": [],
   "source": []
  }
 ],
 "metadata": {
  "kernelspec": {
   "display_name": "Python 3 (ipykernel)",
   "language": "python",
   "name": "python3"
  },
  "language_info": {
   "codemirror_mode": {
    "name": "ipython",
    "version": 3
   },
   "file_extension": ".py",
   "mimetype": "text/x-python",
   "name": "python",
   "nbconvert_exporter": "python",
   "pygments_lexer": "ipython3",
   "version": "3.9.2"
  }
 },
 "nbformat": 4,
 "nbformat_minor": 5
}
