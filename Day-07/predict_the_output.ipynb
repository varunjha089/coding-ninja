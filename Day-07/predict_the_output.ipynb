{
 "cells": [
  {
   "cell_type": "markdown",
   "id": "566eb5a3-3567-4a20-bbda-2350ea74f778",
   "metadata": {},
   "source": [
    "## Q. 01"
   ]
  },
  {
   "cell_type": "code",
   "execution_count": 1,
   "id": "be4faa97-5f81-47e7-8adb-570de1aabf23",
   "metadata": {},
   "outputs": [
    {
     "name": "stdout",
     "output_type": "stream",
     "text": [
      "5\n"
     ]
    }
   ],
   "source": [
    "def func(a):\n",
    "    a = a + 10\n",
    "    return a\n",
    "a = 5\n",
    "func(a)\n",
    "print(a)"
   ]
  },
  {
   "cell_type": "markdown",
   "id": "cb9fccd7-8fac-4ec9-b2f3-1b95be1f1584",
   "metadata": {},
   "source": [
    "## Q. 02"
   ]
  },
  {
   "cell_type": "code",
   "execution_count": 2,
   "id": "f8dbba9f-f694-40dd-b8c3-93741cf15b13",
   "metadata": {},
   "outputs": [
    {
     "name": "stdout",
     "output_type": "stream",
     "text": [
      "16\n"
     ]
    }
   ],
   "source": [
    "def square(a):\n",
    "    ans  = a*a\n",
    "    return  ans\n",
    "\n",
    "a = 4\n",
    "a = square(a)\n",
    "print(a)"
   ]
  },
  {
   "cell_type": "markdown",
   "id": "e4e6f7d1-95b7-4e2b-a18c-8f07aa325821",
   "metadata": {},
   "source": [
    "## Q. 03"
   ]
  },
  {
   "cell_type": "code",
   "execution_count": 3,
   "id": "63250893-28a8-4ece-9648-4f8515be041d",
   "metadata": {},
   "outputs": [
    {
     "name": "stdout",
     "output_type": "stream",
     "text": [
      "14\n"
     ]
    }
   ],
   "source": [
    "a = 14\n",
    "def f():\n",
    "    a=12\n",
    "f()\n",
    "print(a)"
   ]
  },
  {
   "cell_type": "markdown",
   "id": "5a573854-a373-4e44-a640-a4a347de1903",
   "metadata": {},
   "source": [
    "## Q. 04"
   ]
  },
  {
   "cell_type": "code",
   "execution_count": 4,
   "id": "84474380-8d69-4db1-99e0-9b0e03efb3cf",
   "metadata": {},
   "outputs": [
    {
     "name": "stdout",
     "output_type": "stream",
     "text": [
      "12\n"
     ]
    }
   ],
   "source": [
    "a=14\n",
    "def f():\n",
    "    global a\n",
    "    a=12\n",
    "f()\n",
    "print(a)"
   ]
  },
  {
   "cell_type": "markdown",
   "id": "22ed5f61-df12-4f17-ac8c-f596bfbc4bfa",
   "metadata": {},
   "source": [
    "## Q. 05"
   ]
  },
  {
   "cell_type": "code",
   "execution_count": 5,
   "id": "f1c55eb9-3bc3-471a-8a80-41cc50acfe79",
   "metadata": {},
   "outputs": [
    {
     "name": "stdout",
     "output_type": "stream",
     "text": [
      "12\n"
     ]
    }
   ],
   "source": [
    "a = 14\n",
    "def f():\n",
    "    a = 12\n",
    "    return a\n",
    "a = f()\n",
    "print(a)"
   ]
  },
  {
   "cell_type": "markdown",
   "id": "7e6570f8-dab4-49f6-92e1-509f75f570b0",
   "metadata": {},
   "source": [
    "## Q. 06"
   ]
  },
  {
   "cell_type": "code",
   "execution_count": 6,
   "id": "59cdb6b5-5140-4e9c-a76f-e5a9caf9445f",
   "metadata": {},
   "outputs": [
    {
     "name": "stdout",
     "output_type": "stream",
     "text": [
      "21\n"
     ]
    }
   ],
   "source": [
    "def function(a,b,c=1):\n",
    "    return a+b-c\n",
    "value = function(10,12)\n",
    "print(value)"
   ]
  },
  {
   "cell_type": "markdown",
   "id": "03582887-e1ad-427a-9c72-fbf673e74edf",
   "metadata": {},
   "source": [
    "## Q. 07"
   ]
  },
  {
   "cell_type": "code",
   "execution_count": 7,
   "id": "783ef902-9128-479e-b4ad-567104aa5f1b",
   "metadata": {},
   "outputs": [
    {
     "name": "stdout",
     "output_type": "stream",
     "text": [
      "17\n"
     ]
    }
   ],
   "source": [
    "def function(a,b,c=1):\n",
    "    return a+b-c\n",
    "value = function(10,12,5)\n",
    "print(value)"
   ]
  },
  {
   "cell_type": "markdown",
   "id": "6904e854-4a35-4de5-b763-ea03a5140695",
   "metadata": {},
   "source": [
    "## Q. 08"
   ]
  },
  {
   "cell_type": "code",
   "execution_count": 8,
   "id": "f898a6a8-9642-4218-a301-cae6be8639e4",
   "metadata": {},
   "outputs": [
    {
     "name": "stdout",
     "output_type": "stream",
     "text": [
      "11\n"
     ]
    }
   ],
   "source": [
    "def function(a,b,c=1,d=5):\n",
    "    return a+b+c+d\n",
    "value = function(1,2,d=7)\n",
    "print(value)"
   ]
  },
  {
   "cell_type": "code",
   "execution_count": null,
   "id": "7ae39254-08b6-4c3a-adbb-5a8b515361c9",
   "metadata": {},
   "outputs": [],
   "source": []
  }
 ],
 "metadata": {
  "kernelspec": {
   "display_name": "Python 3 (ipykernel)",
   "language": "python",
   "name": "python3"
  },
  "language_info": {
   "codemirror_mode": {
    "name": "ipython",
    "version": 3
   },
   "file_extension": ".py",
   "mimetype": "text/x-python",
   "name": "python",
   "nbconvert_exporter": "python",
   "pygments_lexer": "ipython3",
   "version": "3.9.2"
  }
 },
 "nbformat": 4,
 "nbformat_minor": 5
}
