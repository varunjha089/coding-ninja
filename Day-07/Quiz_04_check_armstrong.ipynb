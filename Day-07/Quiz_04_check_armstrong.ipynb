{
 "cells": [
  {
   "cell_type": "markdown",
   "id": "98b94939-7bbc-492c-a693-740c91850f93",
   "metadata": {},
   "source": [
    "# Check Armstrong\n",
    "\n",
    "Write a Program to determine if the given number is Armstrong number or not. Print true if number is armstrong, otherwise print false.\n",
    "\n",
    "**An Armstrong number is a number (with digits n) such that the sum of its digits raised to nth power is equal to the number itself.**\n",
    "\n",
    "For example,\n",
    "\n",
    "    371, as 3^3 + 7^3 + 1^3 = 371\n",
    "    1634, as 1^4 + 6^4 + 3^4 + 4^4 = 1634\n",
    "\n",
    "\n",
    "### Input Format :\n",
    "    Integer n\n",
    "\n",
    "### Output Format :\n",
    "    true or false\n",
    "\n",
    "### Sample Input 1 :\n",
    "    1\n",
    "\n",
    "### Sample Output 1 :\n",
    "    true\n",
    "\n",
    "### Sample Input 2 :\n",
    "    103\n",
    "\n",
    "### Sample Output 2 :\n",
    "    false"
   ]
  },
  {
   "cell_type": "code",
   "execution_count": 4,
   "id": "e5b74d0d-50b7-4be1-8546-8d8cb9e1b083",
   "metadata": {},
   "outputs": [
    {
     "name": "stdout",
     "output_type": "stream",
     "text": [
      "true\n"
     ]
    }
   ],
   "source": [
    "def armstrong(a):\n",
    "    arr = [int(i) for i in str(a)]\n",
    "    total = 0\n",
    "    for i in arr:\n",
    "        total += i**len(arr)\n",
    "    if total == a:\n",
    "        return True\n",
    "    return False\n",
    "\n",
    "n = int(input())\n",
    "f = armstrong(n)\n",
    "if(f):\n",
    "    print('true')\n",
    "else:\n",
    "    print('false')"
   ]
  },
  {
   "cell_type": "code",
   "execution_count": null,
   "id": "fde43b8c-ea72-4156-994c-f7e489335b95",
   "metadata": {},
   "outputs": [],
   "source": []
  }
 ],
 "metadata": {
  "kernelspec": {
   "display_name": "Python 3 (ipykernel)",
   "language": "python",
   "name": "python3"
  },
  "language_info": {
   "codemirror_mode": {
    "name": "ipython",
    "version": 3
   },
   "file_extension": ".py",
   "mimetype": "text/x-python",
   "name": "python",
   "nbconvert_exporter": "python",
   "pygments_lexer": "ipython3",
   "version": "3.9.2"
  }
 },
 "nbformat": 4,
 "nbformat_minor": 5
}
